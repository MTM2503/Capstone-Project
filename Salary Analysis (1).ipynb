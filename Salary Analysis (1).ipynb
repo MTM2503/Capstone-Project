{
 "cells": [
  {
   "cell_type": "code",
   "execution_count": 776,
   "id": "04472afc-dbc1-4990-92ba-554cf9159ebf",
   "metadata": {},
   "outputs": [],
   "source": [
    "import pandas as pd\n",
    "\n",
    "# Load the CSV files\n",
    "survey_2020 = pd.read_csv(\"survey_results_public_2020.csv\", encoding='latin1')\n",
    "survey_2021 = pd.read_csv(\"survey_results_public_2021.csv\", encoding='latin1')\n",
    "survey_2022 = pd.read_csv(\"survey_results_public_2022.csv\", encoding='latin1')\n",
    "survey_2023 = pd.read_csv(\"survey_results_public_2023.csv\", encoding='latin1')\n",
    "survey_2024 = pd.read_csv(\"survey_results_public_2024.csv\", encoding='latin1')"
   ]
  },
  {
   "cell_type": "code",
   "execution_count": 777,
   "id": "70c0b005-90e7-4ea1-847f-5b3ee156c77b",
   "metadata": {},
   "outputs": [],
   "source": [
    "exchange_rates = {\n",
    "    'EUR': {2020: 0.877, 2021: 0.846, 2022: 0.951, 2023: 0.924, 2024: 0.924},\n",
    "    'GBP': {2020: 0.745, 2021: 0.846, 2022: 0.951, 2023: 0.924, 2024: 0.924},\n",
    "    'INR': {2020: 74.102, 2021: 73.936, 2022: 78.598, 2023: 82.572, 2024: 83.677},\n",
    "    'USD': {2020: 1.0, 2021: 1.0, 2022: 1.0, 2023: 1.0, 2024: 1.0},\n",
    "    'CAD': {2020: 1.341, 2021: 1.254, 2022: 1.301, 2023: 1.350, 2024: 1.370},\n",
    "    'AUD': {2020: 1.452, 2021: 1.332, 2022: 1.442, 2023: 1.506, 2024: 1.516},\n",
    "    'NZD': {2020: 1.540, 2021: 1.415, 2022: 1.578, 2023: 1.630, 2024: 1.654},\n",
    "    'SEK': {2020: 9.205, 2021: 8.584, 2022: 10.122, 2023: 10.613, 2024: 10.577},\n",
    "    'DKK': {2020: 6.538, 2021: 6.290, 2022: 7.077, 2023: 6.890, 2024: 6.896},\n",
    "    'TRY': {2020: 7.025,  2021: 8.904,  2022: 16.572, 2023: 23.824, 2024: 32.867},\n",
    "    'SGD': {2020: 1.361,  2021: 1.346,  2022: 1.380,  2023: 1.365,  2024: 1.363},\n",
    "    'CHF': {2020: 0.984,  2021: 0.912,  2022: 0.951,  2023: 0.920,  2024: 0.942},\n",
    "    'RUB': {2020: 69.68,  2021: 72.42,  2022: 80.69,  2023: 91.17,  2024: 91.72},\n",
    "    'ILS': {2020: 3.438,  2021: 3.232,  2022: 3.361,  2023: 3.687,  2024: 3.701},\n",
    "    'BRL': {2020: 5.151,  2021: 5.395,  2022: 5.165,  2023: 4.994,  2024: 5.392},\n",
    "    'BGN': {2020: 1.758,  2021: 1.655,  2022: 1.829,  2023: 1.973,  2024: 1.989},\n",
    "    'AED': {2020: 3.673, 2021: 3.673, 2022: 3.673, 2023: 3.673, 2024: 3.673},\n",
    "    'PLN': {2020: 3.897, 2021: 3.862, 2022: 4.458, 2023: 4.119, 2024: 3.984},\n",
    "    'UZS': {2020: 10562, 2021: 10808, 2022: 11135, 2023: 11660, 2024: 11782},\n",
    "    'HUF': {2020: 307.77, 2021: 303.29, 2022: 372.78, 2023: 353.02, 2024: 365.60},\n",
    "    'PKR': {2020: 168.05, 2021: 169.71, 2022: 204.90, 2023: 284.45, 2024: 294.13},\n",
    "    'ZMW': {2020: 15.41, 2021: 23.18, 2022: 17.96, 2023: 22.27, 2024: 22.49},\n",
    "    'NGN': {2020: 389.95, 2021: 390.21, 2022: 415.53, 2023: 460.12, 2024: 470.45},\n",
    "    'ALL': {2020: 106.36, 2021: 104.30, 2022: 113.55, 2023: 110.11, 2024: 112.02},\n",
    "    'BDT': {2020: 84.86, 2021: 84.95, 2022: 103.57, 2023: 108.45, 2024: 109.88},\n",
    "    'IRR': {2020: 42105, 2021: 48980, 2022: 51220, 2023: 56500, 2024: 57800},\n",
    "    'RON': {2020: 4.087, 2021: 4.234, 2022: 4.971, 2023: 4.955, 2024: 4.712},\n",
    "    'HRK': {2020: 6.22, 2021: 6.47, 2022: 7.20, 2023: 7.11, 2024: 7.38},\n",
    "    'GEL': {2020: 3.30, 2021: 3.12, 2022: 2.96, 2023: 2.96, 2024: 3.06},\n",
    "    'AMD': {2020: 482.50, 2021: 472.80, 2022: 404.10, 2023: 387.10, 2024: 405.20},\n",
    "    'LBP': {2020: 1510.68, 2021: 1519.23, 2022: 1515.67, 2023: 13730.99, 2024: 78958.61},\n",
    "    'BHD': {2020: 0.377, 2021: 0.377, 2022: 0.377, 2023: 0.377, 2024: 0.377},\n",
    "    'EGP': {2020: 15.81, 2021: 15.70, 2022: 19.21, 2023: 30.65, 2024: 45.35},\n",
    "    'CLP': {2020: 797.49, 2021: 812.06, 2022: 865.68, 2023: 850.30, 2024: 800.00},\n",
    "    'IDR': {2020: 14108, 2021: 14348, 2022: 15135, 2023: 15750, 2024: 15860},\n",
    "    'RSD': {2020: 97.20, 2021: 100.45, 2022: 104.55, 2023: 107.88, 2024: 110.25},\n",
    "    'KRW': {2020: 1179.20, 2021: 1144.88, 2022: 1291.73, 2023: 1306.69, 2024: 1364.15},\n",
    "    'HKD': {2020: 7.756, 2021: 7.773, 2022: 7.831, 2023: 7.829, 2024: 7.803},\n",
    "    'NPR': {2020: 119.46, 2021: 118.89, 2022: 127.41, 2023: 129.98, 2024: 130.50},\n",
    "    'UAH': {2020: 27.32, 2021: 27.29, 2022: 29.42, 2023: 37.10, 2024: 38.70},\n",
    "    'JPY': {2020: 106.725, 2021: 109.817, 2022: 131.454, 2023: 140.511, 2024: 151.353},\n",
    "    'TZS': {2020: 2319.12, 2021: 2323.71, 2022: 2394.15, 2023: 2378.56, 2024: 2390.22},\n",
    "    'PEN': {2020: 3.513, 2021: 3.669, 2022: 4.064, 2023: 3.621, 2024: 3.600},\n",
    "    'BOB': {2020: 6.896, 2021: 6.902, 2022: 6.934, 2023: 7.026, 2024: 7.050},\n",
    "    'CZK': {2020: 23.538, 2021: 24.026, 2022: 24.456, 2023: 25.118, 2024: 25.400},\n",
    "    'ZAR': {2020: 16.458, 2021: 14.789, 2022: 16.377, 2023: 18.457, 2024: 18.326},\n",
    "    'ARS': {2020: 70.635, 2021: 95.098, 2022: 130.792, 2023: 296.154, 2024: 915.161},\n",
    "    'NOK': {2020: 9.413, 2021: 8.598, 2022: 9.619, 2023: 10.564, 2024: 10.756},\n",
    "    'VND': {2020: 23123.56, 2021: 22796.45, 2022: 23515.36, 2023: 23718.00, 2024: 24350.12},\n",
    "    'MYR': {2020: 4.010, 2021: 4.174, 2022: 4.386, 2023: 4.451, 2024: 4.602},\n",
    "    'MGA': {2020: 3661.25, 2021: 3892.14, 2022: 4125.50, 2023: 4310.75, 2024: 4500.10},\n",
    "    'KES': {2020: 106.30, 2021: 108.50, 2022: 113.89, 2023: 114.30, 2024: 118.20},\n",
    "    'LKR': {2020: 184.35, 2021: 200.67, 2022: 323.45, 2023: 369.75, 2024: 420.25},\n",
    "    'TND': {2020: 2.836, 2021: 2.778, 2022: 3.082, 2023: 3.103, 2024: 3.111},\n",
    "    'BYN': {2020: 2.543, 2021: 2.498, 2022: 2.531, 2023: 2.700, 2024: 2.751},\n",
    "    'COP': {2020: 3690.12, 2021: 3800.75, 2022: 4052.30, 2023: 4251.80, 2024: 4400.00},\n",
    "    'MKD': {2020: 50.86, 2021: 53.43, 2022: 55.16, 2023: 57.12, 2024: 58.70},\n",
    "    'BWP': {2020: 10.82, 2021: 11.01, 2022: 11.45, 2023: 11.87, 2024: 12.05},\n",
    "    'DZD': {2020: 125.70, 2021: 129.62, 2022: 134.12, 2023: 135.93, 2024: 134.12},\n",
    "    'BAM': {2020: 1.88, 2021: 1.86, 2022: 1.82, 2023: 1.85, 2024: 1.88},\n",
    "    'CNY': {2020: 6.900, 2021: 6.452, 2022: 6.730, 2023: 7.075, 2024: 7.189},\n",
    "    'MXN': {2020: 21.466, 2021: 20.284, 2022: 20.110, 2023: 17.733, 2024: 18.330},\n",
    "    'MAD': {2020: 9.495, 2021: 8.995, 2022: 10.275, 2023: 10.134, 2024: 9.937},\n",
    "    'JOD': {2020: 0.709, 2021: 0.709, 2022: 0.709, 2023: 0.709, 2024: 0.709},\n",
    "    'DOP': {2020: 58.51, 2021: 56.96, 2022: 57.72, 2023: 54.65, 2024: 54.27},\n",
    "    'THB': {2020: 30.44, 2021: 32.64, 2022: 35.00, 2023: 34.34, 2024: 34.59},\n",
    "    'ETB': {2020: 39.06, 2021: 51.48, 2022: 54.30, 2023: 57.62, 2024: 64.75},\n",
    "    'XOF': {2020: 577.50, 2021: 549.30, 2022: 584.06, 2023: 583.50, 2024: 569.12},\n",
    "    'PYG': {2020: 6830.40, 2021: 7021.55, 2022: 7247.37, 2023: 7286.12, 2024: 7352.10},\n",
    "    'ISK': {2020: 135.35, 2021: 126.99, 2022: 135.30, 2023: 137.86, 2024: 137.96},\n",
    "    'HTG': {2020: 87.60, 2021: 93.35, 2022: 102.80, 2023: 120.22, 2024: 125.45},\n",
    "    'TWD': {2020: 28.32, 2021: 28.25, 2022: 30.47, 2023: 31.50, 2024: 32.12},\n",
    "    'GTQ': {2020: 7.77, 2021: 7.71, 2022: 7.79, 2023: 7.92, 2024: 8.04},\n",
    "    'XAF': {2020: 576.89, 2021: 549.30, 2022: 584.06, 2023: 583.50, 2024: 569.12},\n",
    "    'KZT': {2020: 414.20, 2021: 425.51, 2022: 465.50, 2023: 449.30, 2024: 457.90},\n",
    "    'LYD': {2020: 1.36, 2021: 1.36, 2022: 1.36, 2023: 1.36, 2024: 1.36},\n",
    "    'CUP': {2020: 1.00, 2021: 1.00, 2022: 1.00, 2023: 1.00, 2024: 1.00}, \n",
    "    'SYP': {2020: 513.0, 2021: 513.0, 2022: 513.0, 2023: 2495.0, 2024: 5125.0},\n",
    "    'PHP': {2020: 49.90, 2021: 50.21, 2022: 56.06, 2023: 56.25, 2024: 56.90},\n",
    "    'XCD': {2020: 2.70, 2021: 2.70, 2022: 2.70, 2023: 2.70, 2024: 2.70}, \n",
    "    'LAK': {2020: 9513.0, 2021: 9550.0, 2022: 10125.0, 2023: 10390.0, 2024: 10700.0},\n",
    "    'YER': {2020: 250.62, 2021: 250.62, 2022: 250.62, 2023: 250.62, 2024: 250.62},\n",
    "    'TOP': {2020: 2.27, 2021: 2.27, 2022: 2.27, 2023: 2.27, 2024: 2.27},\n",
    "    'IQD': {2020: 1459.5, 2021: 1460.1, 2022: 1459.5, 2023: 1459.5, 2024: 1459.5},\n",
    "    'CRC': {2020: 619.89, 2021: 618.37, 2022: 617.10, 2023: 600.12, 2024: 610.50},\n",
    "    'MRU': {2020: 36.49, 2021: 36.49, 2022: 36.49, 2023: 36.49, 2024: 36.49}, \n",
    "    'AZN': {2020: 1.70, 2021: 1.70, 2022: 1.70, 2023: 1.70, 2024: 1.70},\n",
    "    'SAR': {2020: 3.75, 2021: 3.75, 2022: 3.75, 2023: 3.75, 2024: 3.75},\n",
    "    'AOA': {2020: 645.11, 2021: 648.79, 2022: 650.12, 2023: 630.50, 2024: 620.14},\n",
    "    'SDG': {2020: 55.30, 2021: 55.30, 2022: 55.30, 2023: 560.00, 2024: 570.00},\n",
    "    'GYD': {2020: 209.30, 2021: 209.30, 2022: 209.30, 2023: 209.30, 2024: 209.30},\n",
    "    'XPF': {2020: 109.34, 2021: 109.40, 2022: 109.64, 2023: 109.29, 2024: 109.10},\n",
    "    'UYU': {2020: 43.59, 2021: 44.00, 2022: 40.30, 2023: 39.50, 2024: 38.90},\n",
    "    'HNL': {2020: 24.32, 2021: 24.50, 2022: 24.15, 2023: 24.15, 2024: 24.15},\n",
    "    'NIO': {2020: 34.31, 2021: 35.31, 2022: 36.74, 2023: 37.20, 2024: 37.05},\n",
    "    'MZN': {2020: 72.35, 2021: 74.35, 2022: 63.35, 2023: 61.80, 2024: 62.10},\n",
    "    'TTD': {2020: 6.79, 2021: 6.78, 2022: 6.77, 2023: 6.77, 2024: 6.77},\n",
    "    'GHS': {2020: 5.78, 2021: 6.18, 2022: 9.34, 2023: 12.75, 2024: 15.10},\n",
    "    'BBD': {2020: 1.99, 2021: 2.01, 2022: 2.02, 2023: 2.01, 2024: 2.01},\n",
    "    'FJD': {2020: 2.14, 2021: 2.13, 2022: 2.11, 2023: 2.06, 2024: 2.05},\n",
    "    'VES': {2020: 248130, 2021: 248150, 2022: 248160, 2023: 248175, 2024: 248200}, \n",
    "    'UGX': {2020: 3654.63, 2021: 3670.25, 2022: 3798.50, 2023: 3843.00, 2024: 3880.00},\n",
    "    'KWD': {2020: 0.303, 2021: 0.303, 2022: 0.303, 2023: 0.303, 2024: 0.303},\n",
    "    'GMD': {2020: 51.20, 2021: 57.05, 2022: 61.25, 2023: 62.75, 2024: 64.10},\n",
    "    'LSL': {2020: 16.66, 2021: 17.26, 2022: 18.05, 2023: 18.66, 2024: 19.00},\n",
    "    'MMK': {2020: 1578.00, 2021: 1645.00, 2022: 1700.00, 2023: 1850.00, 2024: 1880.00},\n",
    "    'KGS': {2020: 84.80, 2021: 84.70, 2022: 84.00, 2023: 84.05, 2024: 84.20},\n",
    "    'AFN': {2020: 77.44, 2021: 79.16, 2022: 89.15, 2023: 89.50, 2024: 90.00},\n",
    "    'MUR': {2020: 39.75, 2021: 43.12, 2022: 44.50, 2023: 45.00, 2024: 45.50},\n",
    "    'SZL': {2020: 17.10, 2021: 18.05, 2022: 18.38, 2023: 19.18, 2024: 19.30},\n",
    "    'RWF': {2020: 945.50, 2021: 944.30, 2022: 1010.00, 2023: 1160.25, 2024: 1180.00},\n",
    "    'MDL': {2020: 17.50, 2021: 17.68, 2022: 18.37, 2023: 19.05, 2024: 19.20},\n",
    "    'TMT': {2020: 3.50, 2021: 3.50, 2022: 3.50, 2023: 3.50, 2024: 3.50}, \n",
    "    'KYD': {2020: 0.82, 2021: 0.82, 2022: 0.82, 2023: 0.82, 2024: 0.82},\n",
    "    'KHR': {2020: 4060.00, 2021: 4080.00, 2022: 4115.00, 2023: 4120.00, 2024: 4130.00},\n",
    "    'IMP': {2020: 0.745, 2021: 0.755, 2022: 0.760, 2023: 0.760, 2024: 0.760},\n",
    "    'QAR': {2020: 3.64, 2021: 3.64, 2022: 3.64, 2023: 3.64, 2024: 3.64},\n",
    "    'BZD': {2020: 2.018, 2021: 2.019, 2022: 2.020, 2023: 2.020, 2024: 2.020},\n",
    "    'ANG': {2020: 1.790, 2021: 1.790, 2022: 1.790, 2023: 1.790, 2024: 1.790},\n",
    "    'MNT': {2020: 2852.00, 2021: 2859.00, 2022: 2834.00, 2023: 2890.00, 2024: 2940.00},\n",
    "    'TJS': {2020: 9.274, 2021: 10.165, 2022: 11.338, 2023: 11.148, 2024: 11.050},\n",
    "    'OMR': {2020: 0.384, 2021: 0.384, 2022: 0.384, 2023: 0.384, 2024: 0.384},\n",
    "    'BIF': {2020: 1940, 2021: 1950, 2022: 1980, 2023: 2025, 2024: 2050},\n",
    "    'JMD': {2020: 145.41, 2021: 153.10, 2022: 156.40, 2023: 157.78, 2024: 158.20},\n",
    "    'NAD': {2020: 16.66, 2021: 17.26, 2022: 18.05, 2023: 18.66, 2024: 19.00},\n",
    "    'GNF': {2020: 9800, 2021: 9850, 2022: 10000, 2023: 10250, 2024: 10500},\n",
    "    'CDF': {2020: 1930, 2021: 1960, 2022: 2050, 2023: 2080, 2024: 2100},\n",
    "    'PGK': {2020: 3.502, 2021: 3.520, 2022: 3.540, 2023: 3.550, 2024: 3.570},\n",
    "    'LRD': {2020: 177.45, 2021: 173.15, 2022: 186.00, 2023: 194.30, 2024: 197.00},\n",
    "    'MVR': {2020: 15.45, 2021: 15.44, 2022: 15.35, 2023: 15.40, 2024: 15.45},\n",
    "    'GIP': {2020: 0.745, 2021: 0.755, 2022: 0.760, 2023: 0.760, 2024: 0.760},\n",
    "    'BSD': {2020: 1.000, 2021: 1.000, 2022: 1.000, 2023: 1.000, 2024: 1.000},\n",
    "    'AWG': {2020: 1.790, 2021: 1.790, 2022: 1.790, 2023: 1.790, 2024: 1.790},\n",
    "    'DJF': {2020: 177.72, 2021: 177.72, 2022: 177.72, 2023: 177.72, 2024: 177.72},\n",
    "    'SHP': {2020: 1.371, 2021: 1.372, 2022: 1.374, 2023: 1.375, 2024: 1.376},\n",
    "    'MWK': {2020: 738.50, 2021: 815.30, 2022: 820.10, 2023: 867.50, 2024: 880.00},\n",
    "    'BTN': {2020: 74.65, 2021: 73.80, 2022: 82.05, 2023: 83.50, 2024: 84.00},\n",
    "    'SRD': {2020: 7.46, 2021: 14.15, 2022: 20.12, 2023: 33.00, 2024: 38.00},\n",
    "    'VUV': {2020: 105.00, 2021: 105.00, 2022: 106.00, 2023: 106.50, 2024: 107.00},\n",
    "    'CVE': {2020: 93.04, 2021: 93.00, 2022: 94.00, 2023: 95.00, 2024: 96.00},\n",
    "    'BMD': {2020: 1.000, 2021: 1.000, 2022: 1.000, 2023: 1.000, 2024: 1.000},\n",
    "    'GGP': {2020: 0.745, 2021: 0.755, 2022: 0.760, 2023: 0.760, 2024: 0.760},\n",
    "    'KPW': {2020: 900.00, 2021: 900.00, 2022: 900.00, 2023: 900.00, 2024: 900.00},\n",
    "    'XDR': {2020: 0.709, 2021: 0.709, 2022: 0.709, 2023: 0.709, 2024: 0.709},\n",
    "    'ERN': {2020: 14.03, 2021: 14.03, 2022: 14.03, 2023: 14.03, 2024: 14.03},\n",
    "    'SCR': {2020: 16.53, 2021: 16.66, 2022: 16.70, 2023: 16.80, 2024: 16.90},\n",
    "    'BND': {2020: 1.357, 2021: 1.357, 2022: 1.357, 2023: 1.357, 2024: 1.357},\n",
    "    'SLL': {2020: 10200, 2021: 10200, 2022: 12000, 2023: 13500, 2024: 14000},\n",
    "    'SOS': {2020: 584, 2021: 585, 2022: 586, 2023: 590, 2024: 600},\n",
    "    'SBD': {2020: 8.05, 2021: 8.04, 2022: 8.01, 2023: 8.10, 2024: 8.15},\n",
    "    'JEP': {2020: 0.745, 2021: 0.755, 2022: 0.760, 2023: 0.760, 2024: 0.760},\n",
    "    'MOP': {2020: 8.02, 2021: 8.03, 2022: 8.07, 2023: 8.08, 2024: 8.10},\n",
    "    'FKP': {2020: 1.300, 2021: 1.300, 2022: 1.300, 2023: 1.300, 2024: 1.300},\n",
    "    'KMF': {2020: 414.00, 2021: 414.00, 2022: 414.00, 2023: 414.00, 2024: 414.00},\n",
    "    'SSP': {2020: 1300, 2021: 1300, 2022: 1300, 2023: 1300, 2024: 1300},\n",
    "    'WST': {2020: 2.46, 2021: 2.46, 2022: 2.46, 2023: 2.46, 2024: 2.46},\n",
    "}"
   ]
  },
  {
   "cell_type": "code",
   "execution_count": 778,
   "id": "f5640f5c-3009-4aa3-9971-9ec25fc178a8",
   "metadata": {},
   "outputs": [],
   "source": [
    "def get_exchange_rate(currency_code, year):\n",
    "    return exchange_rates.get(currency_code, {}).get(year, 1.0)"
   ]
  },
  {
   "cell_type": "code",
   "execution_count": 779,
   "id": "4d8ac04b-dc2e-4662-89d3-24ab7c79364a",
   "metadata": {},
   "outputs": [],
   "source": [
    "def process_with_freq(df, year, salary_col='CompTotal', freq_col='CompFreq', curr_col='Currency'):\n",
    "    df = df.copy()\n",
    "    \n",
    "    # Ensure necessary columns exist\n",
    "    if salary_col not in df.columns or freq_col not in df.columns:\n",
    "        print(f\"{year} is missing required columns. Skipping.\")\n",
    "        return pd.DataFrame()\n",
    "\n",
    "    df[salary_col] = pd.to_numeric(df[salary_col], errors='coerce')\n",
    "    df = df[df[salary_col].notna() & (df[salary_col] > 0)]\n",
    "\n",
    "    freq_map = {'Yearly':1, 'Monthly':12, 'Weekly':52, 'Daily':260}\n",
    "    df['freq_mult'] = df[freq_col].map(freq_map)\n",
    "    df = df[df['freq_mult'].notna()]\n",
    "\n",
    "    df[curr_col] = df[curr_col].astype(str).str.upper()\n",
    "    df['exchange_rate'] = df[curr_col].apply(lambda c: get_exchange_rate(c, year))\n",
    "\n",
    "    df['annual_salary_usd'] = df[salary_col] * df['freq_mult'] * df['exchange_rate']\n",
    "    df['Year'] = year\n",
    "    \n",
    "    print(f\"Processing year {year} with OrgSize column: {'OrgSize' in df.columns}\")\n",
    "    return df[['annual_salary_usd', 'Year', 'Employment', 'OrgSize', 'Country']]\n"
   ]
  },
  {
   "cell_type": "code",
   "execution_count": 780,
   "id": "614c21bb-14cc-4965-86c0-1e13581050ba",
   "metadata": {},
   "outputs": [
    {
     "data": {
      "text/plain": [
       "10"
      ]
     },
     "execution_count": 780,
     "metadata": {},
     "output_type": "execute_result"
    }
   ],
   "source": [
    "filtered_df['OrgSize'].nunique()"
   ]
  },
  {
   "cell_type": "code",
   "execution_count": 781,
   "id": "05832236-5bbf-4c60-91fc-5c5b4df3e776",
   "metadata": {},
   "outputs": [],
   "source": [
    "def process_without_freq(df, year, salary_col='ConvertedCompYearly', curr_col='Currency'):\n",
    "    df = df.copy()\n",
    "    \n",
    "    if salary_col not in df.columns:\n",
    "        print(f\"{year} missing salary column {salary_col}. Skipping.\")\n",
    "        return pd.DataFrame()\n",
    "\n",
    "    df[salary_col] = pd.to_numeric(df[salary_col], errors='coerce')\n",
    "    df = df[df[salary_col].notna() & (df[salary_col] > 0)]\n",
    "\n",
    "    if curr_col in df.columns:\n",
    "        df[curr_col] = df[curr_col].astype(str).str.upper()\n",
    "        df['exchange_rate'] = df[curr_col].apply(lambda c: get_exchange_rate(c, year))\n",
    "        df['annual_salary_usd'] = df[salary_col] * df['exchange_rate']\n",
    "    else:\n",
    "        df['annual_salary_usd'] = df[salary_col]  # Assume USD\n",
    "\n",
    "    df['Year'] = year\n",
    "    return df[['annual_salary_usd', 'Year', 'Employment', 'OrgSize', 'Country']]\n"
   ]
  },
  {
   "cell_type": "code",
   "execution_count": 782,
   "id": "c1a1ee2c-54eb-4a68-949f-fb91daa47226",
   "metadata": {},
   "outputs": [
    {
     "name": "stdout",
     "output_type": "stream",
     "text": [
      "Processing year 2020 with OrgSize column: True\n",
      "Processing year 2021 with OrgSize column: True\n",
      "Processing year 2022 with OrgSize column: True\n"
     ]
    }
   ],
   "source": [
    "survey_2020_clean = process_with_freq(survey_2020, 2020, salary_col='CompTotal', freq_col='CompFreq', curr_col='CurrencySymbol')\n",
    "survey_2021_clean = process_with_freq(survey_2021, 2021)\n",
    "survey_2022_clean = process_with_freq(survey_2022, 2022)\n",
    "survey_2023_clean = process_without_freq(survey_2023, 2023)\n",
    "survey_2024_clean = process_without_freq(survey_2024, 2024)\n"
   ]
  },
  {
   "cell_type": "code",
   "execution_count": 783,
   "id": "7a59cce2-b708-4705-a7d9-37b24c734d41",
   "metadata": {},
   "outputs": [],
   "source": [
    "all_cleaned = [\n",
    "    df for df in [\n",
    "        survey_2020_clean,\n",
    "        survey_2021_clean,\n",
    "        survey_2022_clean,\n",
    "        survey_2023_clean,\n",
    "        survey_2024_clean\n",
    "    ] if not df.empty\n",
    "]\n",
    "\n",
    "combined_df = pd.concat(all_cleaned, ignore_index=True)"
   ]
  },
  {
   "cell_type": "code",
   "execution_count": 784,
   "id": "15f4012b-7241-44d3-9530-de0bf210127c",
   "metadata": {},
   "outputs": [
    {
     "data": {
      "text/plain": [
       "5"
      ]
     },
     "execution_count": 784,
     "metadata": {},
     "output_type": "execute_result"
    }
   ],
   "source": [
    "combined_df['Year'].nunique()"
   ]
  },
  {
   "cell_type": "code",
   "execution_count": 785,
   "id": "6787d7da-177c-47ec-924e-c6cf1aa579b0",
   "metadata": {},
   "outputs": [],
   "source": [
    "filtered_df = combined_df[\n",
    "    (combined_df['annual_salary_usd'] >= 5000) |\n",
    "    (combined_df['annual_salary_usd'] <= 500000)\n",
    "].copy()\n",
    "\n",
    "# Optional: round and convert\n",
    "filtered_df['annual_salary_usd'] = filtered_df['annual_salary_usd'].round().astype('int64')"
   ]
  },
  {
   "cell_type": "code",
   "execution_count": 786,
   "id": "98983f77-4a7c-4499-80b8-1188f08fff3b",
   "metadata": {},
   "outputs": [
    {
     "data": {
      "text/plain": [
       "5"
      ]
     },
     "execution_count": 786,
     "metadata": {},
     "output_type": "execute_result"
    }
   ],
   "source": [
    "filtered_df['Year'].nunique()"
   ]
  },
  {
   "cell_type": "code",
   "execution_count": 787,
   "id": "54ff747e-e3ca-41fe-8dc4-cdeaea92d477",
   "metadata": {},
   "outputs": [
    {
     "name": "stdout",
     "output_type": "stream",
     "text": [
      "2020: 34672 valid salary entries\n",
      "2021: 46913 valid salary entries\n",
      "2022: 38269 valid salary entries\n",
      "2023: 48019 valid salary entries\n",
      "2024: 23435 valid salary entries\n"
     ]
    }
   ],
   "source": [
    "for year, df in zip([2020, 2021, 2022, 2023, 2024], [survey_2020_clean, survey_2021_clean, survey_2022_clean, survey_2023_clean, survey_2024_clean]):\n",
    "    print(f\"{year}: {len(df)} valid salary entries\")"
   ]
  },
  {
   "cell_type": "code",
   "execution_count": 788,
   "id": "85578728-17ed-4c13-bbfd-0a3a5d89e471",
   "metadata": {},
   "outputs": [
    {
     "ename": "SyntaxError",
     "evalue": "invalid syntax. Maybe you meant '==' or ':=' instead of '='? (2355221562.py, line 12)",
     "output_type": "error",
     "traceback": [
      "\u001b[1;36m  Cell \u001b[1;32mIn[788], line 12\u001b[1;36m\u001b[0m\n\u001b[1;33m    emp_valid = emp_bounds and emp_bounds[0] <= filtered_emp_df = filter_salary_by_employment_and_orgsize(filtered_df)salary <= emp_bounds[1]\u001b[0m\n\u001b[1;37m    ^\u001b[0m\n\u001b[1;31mSyntaxError\u001b[0m\u001b[1;31m:\u001b[0m invalid syntax. Maybe you meant '==' or ':=' instead of '='?\n"
     ]
    }
   ],
   "source": [
    "def filter_salary_by_employment_and_orgsize(df):\n",
    "    mask = pd.Series(False, index=df.index)\n",
    "\n",
    "    for idx, row in df.iterrows():\n",
    "        emp = row['Employment']\n",
    "        org = row['OrgSize']\n",
    "        salary = row['annual_salary_usd']\n",
    "\n",
    "        emp_bounds = employment_salary_bounds.get(emp)\n",
    "        org_bounds = orgsize_salary_bounds.get(org)\n",
    "\n",
    "        emp_valid = emp_bounds and emp_bounds[0] <= filtered_emp_df = filter_salary_by_employment_and_orgsize(filtered_df)salary <= emp_bounds[1]\n",
    "        org_valid = org_bounds and org_bounds[0] <= salary <= org_bounds[1]\n",
    "\n",
    "        if emp_valid and org_valid:\n",
    "            mask.at[idx] == True\n",
    "\n",
    "    return df[mask]"
   ]
  },
  {
   "cell_type": "code",
   "execution_count": 797,
   "id": "81505b2b-5760-4b3b-8711-637e227a6b5a",
   "metadata": {},
   "outputs": [],
   "source": [
    "filtered_emp_df = filter_salary_by_employment_and_orgsize(filtered_df)"
   ]
  },
  {
   "cell_type": "code",
   "execution_count": 798,
   "id": "17e7d43e-7619-432d-a5a2-60bd89347063",
   "metadata": {},
   "outputs": [
    {
     "name": "stdout",
     "output_type": "stream",
     "text": [
      "['annual_salary_usd', 'Year', 'Employment', 'OrgSize', 'Country']\n"
     ]
    }
   ],
   "source": [
    "print(filtered_df.columns.tolist())"
   ]
  },
  {
   "cell_type": "code",
   "execution_count": 799,
   "id": "5a579d55-0a8c-4c3a-834d-b61cf1cf5d1b",
   "metadata": {},
   "outputs": [
    {
     "data": {
      "text/plain": [
       "10"
      ]
     },
     "execution_count": 799,
     "metadata": {},
     "output_type": "execute_result"
    }
   ],
   "source": [
    "filtered_df['OrgSize'].nunique()"
   ]
  },
  {
   "cell_type": "code",
   "execution_count": 800,
   "id": "bbdb3e14-15a7-404e-bf93-4d1f52d05ce2",
   "metadata": {},
   "outputs": [
    {
     "name": "stdout",
     "output_type": "stream",
     "text": [
      "['Independent contractor, freelancer, or self-employed'\n",
      " 'I prefer not to say' 'Retired' 'Employed, full-time'\n",
      " 'Employed, part-time']\n"
     ]
    }
   ],
   "source": [
    "print(filtered_emp_df['Employment'].unique())\n",
    "salary_bounds_employment = {\n",
    "    'Employed, full-time': (1000, 1000000),\n",
    "    'Independent contractor, freelancer, or self-employed': (5000, 500000),\n",
    "    'Employed, part-time': (5000, 300000),\n",
    "    'Retired': (0, 200000),\n",
    "    'I prefer not to say': (0, 500000),\n",
    "}"
   ]
  },
  {
   "cell_type": "code",
   "execution_count": 801,
   "id": "f17db2b2-9318-4d11-b934-5a65c402b4ce",
   "metadata": {},
   "outputs": [],
   "source": [
    "salary_bounds_orgsize = {\n",
    "    'Just me - I am a freelancer, sole proprietor, etc.': (0, 500000),\n",
    "    '2 to 9 employees': (5000, 200000),\n",
    "    '5,000 to 9,999 employees': (5000, 1000000),\n",
    "    '10 to 19 employees': (5000, 300000),\n",
    "    '20 to 99 employees': (5000, 400000),\n",
    "    '100 to 499 employees': (10000, 500000),\n",
    "    '500 to 999 employees': (10000, 600000),\n",
    "    '1,000 to 4,999 employees': (20000, 700000),\n",
    "    '10,000 or more employees': (30000, 1000000),\n",
    "}"
   ]
  },
  {
   "cell_type": "code",
   "execution_count": 802,
   "id": "6ff45ec6-d5a6-49cc-b2a9-266b1c02ba45",
   "metadata": {},
   "outputs": [],
   "source": [
    "def filter_salary_bounds(row):\n",
    "    emp = row['Employment']\n",
    "    org = row['OrgSize']\n",
    "    salary = row['annual_salary_usd']\n",
    "\n",
    "    # Default to very wide range if no bound defined\n",
    "    emp_min, emp_max = salary_bounds_employment.get(emp, (0, float('inf')))\n",
    "    org_min, org_max = salary_bounds_orgsize.get(org, (0, float('inf')))\n",
    "\n",
    "    # Check if salary fits both bounds\n",
    "    if (emp_min <= salary <= emp_max) and (org_min <= salary <= org_max):\n",
    "        return True\n",
    "    return False\n",
    "\n",
    "filtered_df = filtered_df[filtered_df.apply(filter_salary_bounds, axis=1)]"
   ]
  },
  {
   "cell_type": "code",
   "execution_count": 803,
   "id": "57c63907-84e7-4cc5-8f7b-4eba25579045",
   "metadata": {},
   "outputs": [
    {
     "data": {
      "text/plain": [
       "10"
      ]
     },
     "execution_count": 803,
     "metadata": {},
     "output_type": "execute_result"
    }
   ],
   "source": [
    "filtered_df['OrgSize'].nunique()"
   ]
  },
  {
   "cell_type": "code",
   "execution_count": 804,
   "id": "cdcd533f-4b4f-4a8f-8c8e-6f6bedc83259",
   "metadata": {},
   "outputs": [
    {
     "data": {
      "text/plain": [
       "5"
      ]
     },
     "execution_count": 804,
     "metadata": {},
     "output_type": "execute_result"
    }
   ],
   "source": [
    "filtered_df['Year'].nunique()"
   ]
  },
  {
   "cell_type": "code",
   "execution_count": 805,
   "id": "4cf727e3-5b81-4ff0-866a-44b0290bc553",
   "metadata": {},
   "outputs": [
    {
     "name": "stdout",
     "output_type": "stream",
     "text": [
      "[2020 2021 2022 2023 2024]\n"
     ]
    }
   ],
   "source": [
    "print(filtered_df['Year'].unique())\n"
   ]
  },
  {
   "cell_type": "code",
   "execution_count": 806,
   "id": "ef6dabd7-2aa4-4e78-a644-2de88ca71511",
   "metadata": {},
   "outputs": [
    {
     "name": "stdout",
     "output_type": "stream",
     "text": [
      "    Year                                         Employment  Count\n",
      "0   2020                                 Employed full-time  20286\n",
      "1   2020                                 Employed part-time    718\n",
      "2   2020  Independent contractor, freelancer, or self-em...   1877\n",
      "3   2021                                 Employed full-time  30859\n",
      "4   2021                                 Employed part-time   1102\n",
      "..   ...                                                ...    ...\n",
      "81  2024  Student, full-time;Independent contractor, fre...      3\n",
      "82  2024  Student, full-time;Independent contractor, fre...      1\n",
      "83  2024  Student, full-time;Not employed, but looking f...      1\n",
      "84  2024  Student, full-time;Not employed, but looking f...     14\n",
      "85  2024             Student, part-time;Employed, part-time    176\n",
      "\n",
      "[86 rows x 3 columns]\n"
     ]
    }
   ],
   "source": [
    "print(\n",
    "    filtered_df.groupby(['Year', 'Employment']).size().reset_index(name='Count')\n",
    ")"
   ]
  },
  {
   "cell_type": "code",
   "execution_count": 807,
   "id": "dd79fdb1-d6f1-465a-a53e-b68fe1a1209c",
   "metadata": {},
   "outputs": [],
   "source": [
    "# Optional cleanup for inconsistent labels\n",
    "filtered_df['Employment'] = filtered_df['Employment'].replace({\n",
    "    'Full-time': 'Employed full-time',\n",
    "    'Part-time': 'Employed part-time'\n",
    "})\n"
   ]
  },
  {
   "cell_type": "code",
   "execution_count": 808,
   "id": "1af95c51-1129-4dda-a30d-7479262d7f15",
   "metadata": {},
   "outputs": [],
   "source": [
    "filtered_df['Employment'] = filtered_df['Employment'].replace({\n",
    "    'Full-time': 'Employed full-time',\n",
    "    'Part-time': 'Employed part-time',\n",
    "    'I am employed full-time': 'Employed full-time',\n",
    "    'I am employed part-time': 'Employed part-time'\n",
    "})\n"
   ]
  },
  {
   "cell_type": "code",
   "execution_count": 809,
   "id": "ff2a2bf8-fe9c-420f-8508-6c4dbec45c9c",
   "metadata": {},
   "outputs": [
    {
     "name": "stdout",
     "output_type": "stream",
     "text": [
      "                                          Employment  Count\n",
      "0                                 Employed full-time  51145\n",
      "1                                 Employed part-time   1820\n",
      "2                                I prefer not to say     21\n",
      "3  Independent contractor, freelancer, or self-em...   5351\n",
      "4                                            Retired     13\n"
     ]
    }
   ],
   "source": [
    "print(\n",
    "    filtered_df[filtered_df['Year'].isin([2020, 2021])]\n",
    "    .groupby('Employment')\n",
    "    .size()\n",
    "    .reset_index(name='Count')\n",
    ")\n"
   ]
  },
  {
   "cell_type": "code",
   "execution_count": 810,
   "id": "aa8397c6-8ad1-4e1f-82cd-e1ecd32e9f20",
   "metadata": {},
   "outputs": [
    {
     "name": "stdout",
     "output_type": "stream",
     "text": [
      "                                           Employment  Count\n",
      "0                                  Employed full-time  51145\n",
      "1                                  Employed part-time   1820\n",
      "2                                 Employed, full-time  77391\n",
      "3             Employed, full-time;Employed, part-time    306\n",
      "4   Employed, full-time;Independent contractor, fr...   6570\n",
      "5   Employed, full-time;Independent contractor, fr...    214\n",
      "6   Employed, full-time;Independent contractor, fr...      1\n",
      "7   Employed, full-time;Independent contractor, fr...      6\n",
      "8   Employed, full-time;Independent contractor, fr...     61\n",
      "9   Employed, full-time;Independent contractor, fr...      4\n",
      "10  Employed, full-time;Not employed, and not look...      1\n",
      "11  Employed, full-time;Not employed, but looking ...     20\n",
      "12  Employed, full-time;Not employed, but looking ...      4\n",
      "13  Employed, full-time;Not employed, but looking ...      1\n",
      "14  Employed, full-time;Not employed, but looking ...      1\n",
      "15                        Employed, full-time;Retired      9\n",
      "16             Employed, full-time;Student, full-time    285\n",
      "17  Employed, full-time;Student, full-time;Employe...     11\n",
      "18  Employed, full-time;Student, full-time;Indepen...     32\n",
      "19  Employed, full-time;Student, full-time;Indepen...      1\n",
      "20  Employed, full-time;Student, full-time;Not emp...      1\n",
      "21  Employed, full-time;Student, full-time;Not emp...      1\n",
      "22  Employed, full-time;Student, full-time;Student...      1\n",
      "23  Employed, full-time;Student, full-time;Student...      3\n",
      "24             Employed, full-time;Student, part-time    340\n",
      "25  Employed, full-time;Student, part-time;Employe...      1\n",
      "26                                Employed, part-time   1656\n",
      "27                        Employed, part-time;Retired     10\n",
      "28                                I prefer not to say     60\n",
      "29  Independent contractor, freelancer, or self-em...  12528\n",
      "30  Independent contractor, freelancer, or self-em...    520\n",
      "31  Independent contractor, freelancer, or self-em...      2\n",
      "32  Independent contractor, freelancer, or self-em...     10\n",
      "33  Independent contractor, freelancer, or self-em...      1\n",
      "34  Independent contractor, freelancer, or self-em...      1\n",
      "35  Independent contractor, freelancer, or self-em...     28\n",
      "36  Independent contractor, freelancer, or self-em...     20\n",
      "37  Independent contractor, freelancer, or self-em...     17\n",
      "38                 Not employed, but looking for work      1\n",
      "39  Not employed, but looking for work;Employed, p...      3\n",
      "40  Not employed, but looking for work;Independent...     79\n",
      "41  Not employed, but looking for work;Independent...      9\n",
      "42  Not employed, but looking for work;Independent...      1\n",
      "43  Not employed, but looking for work;Independent...      2\n",
      "44  Not employed, but looking for work;Independent...      4\n",
      "45  Not employed, but looking for work;Independent...      2\n",
      "46  Not employed, but looking for work;Student, pa...      1\n",
      "47                                            Retired     59\n",
      "48             Student, full-time;Employed, part-time    242\n",
      "49  Student, full-time;Independent contractor, fre...     47\n",
      "50  Student, full-time;Independent contractor, fre...     26\n",
      "51  Student, full-time;Independent contractor, fre...      3\n",
      "52  Student, full-time;Independent contractor, fre...      1\n",
      "53  Student, full-time;Not employed, but looking f...      1\n",
      "54  Student, full-time;Not employed, but looking f...     14\n",
      "55             Student, part-time;Employed, part-time    176\n"
     ]
    }
   ],
   "source": [
    "print(\n",
    "    filtered_df[filtered_df['Year'].isin([2022, 2023, 2024,2021,2020])]\n",
    "    .groupby('Employment')\n",
    "    .size()\n",
    "    .reset_index(name='Count')\n",
    ")"
   ]
  },
  {
   "cell_type": "code",
   "execution_count": 811,
   "id": "efdac729-cde8-4399-972b-67a3472417b5",
   "metadata": {},
   "outputs": [
    {
     "data": {
      "text/plain": [
       "10"
      ]
     },
     "execution_count": 811,
     "metadata": {},
     "output_type": "execute_result"
    }
   ],
   "source": [
    "filtered_df['OrgSize'].nunique()"
   ]
  },
  {
   "cell_type": "code",
   "execution_count": 812,
   "id": "77a949e4-3bc9-46e7-9a76-943e6e7cbf79",
   "metadata": {},
   "outputs": [
    {
     "name": "stdout",
     "output_type": "stream",
     "text": [
      "['20 to 99 employees' '2 to 9 employees' '100 to 499 employees'\n",
      " 'Just me - I am a freelancer, sole proprietor, etc.'\n",
      " '10,000 or more employees' nan '10 to 19 employees'\n",
      " '500 to 999 employees' '1,000 to 4,999 employees'\n",
      " '5,000 to 9,999 employees' 'I donâ\\x80\\x99t know']\n"
     ]
    }
   ],
   "source": [
    "unique_org_sizes = filtered_df['OrgSize'].unique()\n",
    "print(unique_org_sizes)"
   ]
  },
  {
   "cell_type": "code",
   "execution_count": 813,
   "id": "8aef736f-2898-4f8a-9d9a-8fcd62bb3cf3",
   "metadata": {},
   "outputs": [
    {
     "data": {
      "text/plain": [
       "array(['Employed full-time',\n",
       "       'Independent contractor, freelancer, or self-employed',\n",
       "       'Employed part-time', nan, 'I prefer not to say', 'Retired',\n",
       "       'Employed, full-time',\n",
       "       'Employed, full-time;Independent contractor, freelancer, or self-employed',\n",
       "       'Employed, part-time',\n",
       "       'Independent contractor, freelancer, or self-employed;Employed, part-time',\n",
       "       'Employed, full-time;Independent contractor, freelancer, or self-employed;Employed, part-time',\n",
       "       'Employed, full-time;Employed, part-time',\n",
       "       'Independent contractor, freelancer, or self-employed;Retired',\n",
       "       'Employed, part-time;Retired',\n",
       "       'Employed, full-time;Independent contractor, freelancer, or self-employed;Retired',\n",
       "       'Employed, full-time;Retired',\n",
       "       'Independent contractor, freelancer, or self-employed;Employed, part-time;Retired',\n",
       "       'Employed, full-time;Student, part-time',\n",
       "       'Employed, full-time;Student, full-time',\n",
       "       'Student, part-time;Employed, part-time',\n",
       "       'Student, full-time;Independent contractor, freelancer, or self-employed',\n",
       "       'Not employed, but looking for work',\n",
       "       'Employed, full-time;Independent contractor, freelancer, or self-employed;Student, part-time',\n",
       "       'Student, full-time;Employed, part-time',\n",
       "       'Independent contractor, freelancer, or self-employed;Student, part-time',\n",
       "       'Employed, full-time;Not employed, but looking for work',\n",
       "       'Not employed, but looking for work;Independent contractor, freelancer, or self-employed',\n",
       "       'Not employed, but looking for work;Independent contractor, freelancer, or self-employed;Employed, part-time',\n",
       "       'Employed, full-time;Independent contractor, freelancer, or self-employed;Student, part-time;Employed, part-time',\n",
       "       'Independent contractor, freelancer, or self-employed;Not employed, and not looking for work',\n",
       "       'Not employed, but looking for work;Student, part-time;Employed, part-time',\n",
       "       'Employed, full-time;Independent contractor, freelancer, or self-employed;Not employed, and not looking for work',\n",
       "       'Student, full-time;Independent contractor, freelancer, or self-employed;Employed, part-time',\n",
       "       'Employed, full-time;Student, full-time;Student, part-time',\n",
       "       'Employed, full-time;Student, full-time;Not employed, but looking for work',\n",
       "       'Employed, full-time;Student, full-time;Independent contractor, freelancer, or self-employed',\n",
       "       'Independent contractor, freelancer, or self-employed;Student, part-time;Employed, part-time',\n",
       "       'Not employed, but looking for work;Employed, part-time',\n",
       "       'Employed, full-time;Not employed, but looking for work;Independent contractor, freelancer, or self-employed',\n",
       "       'Student, full-time;Not employed, but looking for work;Independent contractor, freelancer, or self-employed',\n",
       "       'Independent contractor, freelancer, or self-employed;Not employed, and not looking for work;Student, part-time',\n",
       "       'Employed, full-time;Student, full-time;Employed, part-time',\n",
       "       'Employed, full-time;Student, full-time;Student, part-time;Employed, part-time',\n",
       "       'Not employed, but looking for work;Independent contractor, freelancer, or self-employed;Student, part-time;Employed, part-time',\n",
       "       'Not employed, but looking for work;Independent contractor, freelancer, or self-employed;Student, part-time',\n",
       "       'Student, full-time;Independent contractor, freelancer, or self-employed;Not employed, and not looking for work',\n",
       "       'Employed, full-time;Not employed, and not looking for work',\n",
       "       'Employed, full-time;Student, part-time;Employed, part-time',\n",
       "       'Not employed, but looking for work;Independent contractor, freelancer, or self-employed;Retired',\n",
       "       'Employed, full-time;Not employed, but looking for work;Independent contractor, freelancer, or self-employed;Employed, part-time',\n",
       "       'Student, full-time;Independent contractor, freelancer, or self-employed;Student, part-time;Employed, part-time',\n",
       "       'Independent contractor, freelancer, or self-employed;Not employed, and not looking for work;Retired',\n",
       "       'Not employed, but looking for work;Independent contractor, freelancer, or self-employed;Not employed, and not looking for work',\n",
       "       'Employed, full-time;Student, full-time;Independent contractor, freelancer, or self-employed;Employed, part-time',\n",
       "       'Employed, full-time;Not employed, but looking for work;Not employed, and not looking for work;Employed, part-time',\n",
       "       'Employed, full-time;Student, full-time;Not employed, but looking for work;Independent contractor, freelancer, or self-employed;Not employed, and not looking for work;Student, part-time;Employed, part-time;Retired',\n",
       "       'Student, full-time;Not employed, but looking for work;Employed, part-time'],\n",
       "      dtype=object)"
      ]
     },
     "execution_count": 813,
     "metadata": {},
     "output_type": "execute_result"
    }
   ],
   "source": [
    "filtered_df['Employment'].unique()"
   ]
  },
  {
   "cell_type": "code",
   "execution_count": 814,
   "id": "3703ff2b-a2a2-4c1e-8bd0-8917540f3d75",
   "metadata": {},
   "outputs": [
    {
     "data": {
      "application/vnd.plotly.v1+json": {
       "config": {
        "plotlyServerURL": "https://plot.ly"
       },
       "data": [
        {
         "hovertemplate": "Employment Type=Employed full-time<br>Survey Year=%{x}<br>Median Annual Salary (USD)=%{y}<extra></extra>",
         "legendgroup": "Employed full-time",
         "line": {
          "color": "#FFD700",
          "dash": "solid"
         },
         "marker": {
          "symbol": "circle"
         },
         "mode": "lines+markers",
         "name": "Employed full-time",
         "orientation": "v",
         "showlegend": true,
         "type": "scatter",
         "x": [
          2020,
          2021,
          2022,
          2023,
          2024
         ],
         "xaxis": "x",
         "y": [
          78930,
          86000,
          95000,
          80000,
          75184
         ],
         "yaxis": "y"
        }
       ],
       "layout": {
        "font": {
         "color": "white"
        },
        "height": 500,
        "legend": {
         "title": {
          "text": "Employment Type"
         },
         "tracegroupgap": 0
        },
        "paper_bgcolor": "rgba(0,0,0,0)",
        "plot_bgcolor": "rgba(0,0,0,0)",
        "template": {
         "data": {
          "bar": [
           {
            "error_x": {
             "color": "#2a3f5f"
            },
            "error_y": {
             "color": "#2a3f5f"
            },
            "marker": {
             "line": {
              "color": "#E5ECF6",
              "width": 0.5
             },
             "pattern": {
              "fillmode": "overlay",
              "size": 10,
              "solidity": 0.2
             }
            },
            "type": "bar"
           }
          ],
          "barpolar": [
           {
            "marker": {
             "line": {
              "color": "#E5ECF6",
              "width": 0.5
             },
             "pattern": {
              "fillmode": "overlay",
              "size": 10,
              "solidity": 0.2
             }
            },
            "type": "barpolar"
           }
          ],
          "carpet": [
           {
            "aaxis": {
             "endlinecolor": "#2a3f5f",
             "gridcolor": "white",
             "linecolor": "white",
             "minorgridcolor": "white",
             "startlinecolor": "#2a3f5f"
            },
            "baxis": {
             "endlinecolor": "#2a3f5f",
             "gridcolor": "white",
             "linecolor": "white",
             "minorgridcolor": "white",
             "startlinecolor": "#2a3f5f"
            },
            "type": "carpet"
           }
          ],
          "choropleth": [
           {
            "colorbar": {
             "outlinewidth": 0,
             "ticks": ""
            },
            "type": "choropleth"
           }
          ],
          "contour": [
           {
            "colorbar": {
             "outlinewidth": 0,
             "ticks": ""
            },
            "colorscale": [
             [
              0,
              "#0d0887"
             ],
             [
              0.1111111111111111,
              "#46039f"
             ],
             [
              0.2222222222222222,
              "#7201a8"
             ],
             [
              0.3333333333333333,
              "#9c179e"
             ],
             [
              0.4444444444444444,
              "#bd3786"
             ],
             [
              0.5555555555555556,
              "#d8576b"
             ],
             [
              0.6666666666666666,
              "#ed7953"
             ],
             [
              0.7777777777777778,
              "#fb9f3a"
             ],
             [
              0.8888888888888888,
              "#fdca26"
             ],
             [
              1,
              "#f0f921"
             ]
            ],
            "type": "contour"
           }
          ],
          "contourcarpet": [
           {
            "colorbar": {
             "outlinewidth": 0,
             "ticks": ""
            },
            "type": "contourcarpet"
           }
          ],
          "heatmap": [
           {
            "colorbar": {
             "outlinewidth": 0,
             "ticks": ""
            },
            "colorscale": [
             [
              0,
              "#0d0887"
             ],
             [
              0.1111111111111111,
              "#46039f"
             ],
             [
              0.2222222222222222,
              "#7201a8"
             ],
             [
              0.3333333333333333,
              "#9c179e"
             ],
             [
              0.4444444444444444,
              "#bd3786"
             ],
             [
              0.5555555555555556,
              "#d8576b"
             ],
             [
              0.6666666666666666,
              "#ed7953"
             ],
             [
              0.7777777777777778,
              "#fb9f3a"
             ],
             [
              0.8888888888888888,
              "#fdca26"
             ],
             [
              1,
              "#f0f921"
             ]
            ],
            "type": "heatmap"
           }
          ],
          "heatmapgl": [
           {
            "colorbar": {
             "outlinewidth": 0,
             "ticks": ""
            },
            "colorscale": [
             [
              0,
              "#0d0887"
             ],
             [
              0.1111111111111111,
              "#46039f"
             ],
             [
              0.2222222222222222,
              "#7201a8"
             ],
             [
              0.3333333333333333,
              "#9c179e"
             ],
             [
              0.4444444444444444,
              "#bd3786"
             ],
             [
              0.5555555555555556,
              "#d8576b"
             ],
             [
              0.6666666666666666,
              "#ed7953"
             ],
             [
              0.7777777777777778,
              "#fb9f3a"
             ],
             [
              0.8888888888888888,
              "#fdca26"
             ],
             [
              1,
              "#f0f921"
             ]
            ],
            "type": "heatmapgl"
           }
          ],
          "histogram": [
           {
            "marker": {
             "pattern": {
              "fillmode": "overlay",
              "size": 10,
              "solidity": 0.2
             }
            },
            "type": "histogram"
           }
          ],
          "histogram2d": [
           {
            "colorbar": {
             "outlinewidth": 0,
             "ticks": ""
            },
            "colorscale": [
             [
              0,
              "#0d0887"
             ],
             [
              0.1111111111111111,
              "#46039f"
             ],
             [
              0.2222222222222222,
              "#7201a8"
             ],
             [
              0.3333333333333333,
              "#9c179e"
             ],
             [
              0.4444444444444444,
              "#bd3786"
             ],
             [
              0.5555555555555556,
              "#d8576b"
             ],
             [
              0.6666666666666666,
              "#ed7953"
             ],
             [
              0.7777777777777778,
              "#fb9f3a"
             ],
             [
              0.8888888888888888,
              "#fdca26"
             ],
             [
              1,
              "#f0f921"
             ]
            ],
            "type": "histogram2d"
           }
          ],
          "histogram2dcontour": [
           {
            "colorbar": {
             "outlinewidth": 0,
             "ticks": ""
            },
            "colorscale": [
             [
              0,
              "#0d0887"
             ],
             [
              0.1111111111111111,
              "#46039f"
             ],
             [
              0.2222222222222222,
              "#7201a8"
             ],
             [
              0.3333333333333333,
              "#9c179e"
             ],
             [
              0.4444444444444444,
              "#bd3786"
             ],
             [
              0.5555555555555556,
              "#d8576b"
             ],
             [
              0.6666666666666666,
              "#ed7953"
             ],
             [
              0.7777777777777778,
              "#fb9f3a"
             ],
             [
              0.8888888888888888,
              "#fdca26"
             ],
             [
              1,
              "#f0f921"
             ]
            ],
            "type": "histogram2dcontour"
           }
          ],
          "mesh3d": [
           {
            "colorbar": {
             "outlinewidth": 0,
             "ticks": ""
            },
            "type": "mesh3d"
           }
          ],
          "parcoords": [
           {
            "line": {
             "colorbar": {
              "outlinewidth": 0,
              "ticks": ""
             }
            },
            "type": "parcoords"
           }
          ],
          "pie": [
           {
            "automargin": true,
            "type": "pie"
           }
          ],
          "scatter": [
           {
            "fillpattern": {
             "fillmode": "overlay",
             "size": 10,
             "solidity": 0.2
            },
            "type": "scatter"
           }
          ],
          "scatter3d": [
           {
            "line": {
             "colorbar": {
              "outlinewidth": 0,
              "ticks": ""
             }
            },
            "marker": {
             "colorbar": {
              "outlinewidth": 0,
              "ticks": ""
             }
            },
            "type": "scatter3d"
           }
          ],
          "scattercarpet": [
           {
            "marker": {
             "colorbar": {
              "outlinewidth": 0,
              "ticks": ""
             }
            },
            "type": "scattercarpet"
           }
          ],
          "scattergeo": [
           {
            "marker": {
             "colorbar": {
              "outlinewidth": 0,
              "ticks": ""
             }
            },
            "type": "scattergeo"
           }
          ],
          "scattergl": [
           {
            "marker": {
             "colorbar": {
              "outlinewidth": 0,
              "ticks": ""
             }
            },
            "type": "scattergl"
           }
          ],
          "scattermapbox": [
           {
            "marker": {
             "colorbar": {
              "outlinewidth": 0,
              "ticks": ""
             }
            },
            "type": "scattermapbox"
           }
          ],
          "scatterpolar": [
           {
            "marker": {
             "colorbar": {
              "outlinewidth": 0,
              "ticks": ""
             }
            },
            "type": "scatterpolar"
           }
          ],
          "scatterpolargl": [
           {
            "marker": {
             "colorbar": {
              "outlinewidth": 0,
              "ticks": ""
             }
            },
            "type": "scatterpolargl"
           }
          ],
          "scatterternary": [
           {
            "marker": {
             "colorbar": {
              "outlinewidth": 0,
              "ticks": ""
             }
            },
            "type": "scatterternary"
           }
          ],
          "surface": [
           {
            "colorbar": {
             "outlinewidth": 0,
             "ticks": ""
            },
            "colorscale": [
             [
              0,
              "#0d0887"
             ],
             [
              0.1111111111111111,
              "#46039f"
             ],
             [
              0.2222222222222222,
              "#7201a8"
             ],
             [
              0.3333333333333333,
              "#9c179e"
             ],
             [
              0.4444444444444444,
              "#bd3786"
             ],
             [
              0.5555555555555556,
              "#d8576b"
             ],
             [
              0.6666666666666666,
              "#ed7953"
             ],
             [
              0.7777777777777778,
              "#fb9f3a"
             ],
             [
              0.8888888888888888,
              "#fdca26"
             ],
             [
              1,
              "#f0f921"
             ]
            ],
            "type": "surface"
           }
          ],
          "table": [
           {
            "cells": {
             "fill": {
              "color": "#EBF0F8"
             },
             "line": {
              "color": "white"
             }
            },
            "header": {
             "fill": {
              "color": "#C8D4E3"
             },
             "line": {
              "color": "white"
             }
            },
            "type": "table"
           }
          ]
         },
         "layout": {
          "annotationdefaults": {
           "arrowcolor": "#2a3f5f",
           "arrowhead": 0,
           "arrowwidth": 1
          },
          "autotypenumbers": "strict",
          "coloraxis": {
           "colorbar": {
            "outlinewidth": 0,
            "ticks": ""
           }
          },
          "colorscale": {
           "diverging": [
            [
             0,
             "#8e0152"
            ],
            [
             0.1,
             "#c51b7d"
            ],
            [
             0.2,
             "#de77ae"
            ],
            [
             0.3,
             "#f1b6da"
            ],
            [
             0.4,
             "#fde0ef"
            ],
            [
             0.5,
             "#f7f7f7"
            ],
            [
             0.6,
             "#e6f5d0"
            ],
            [
             0.7,
             "#b8e186"
            ],
            [
             0.8,
             "#7fbc41"
            ],
            [
             0.9,
             "#4d9221"
            ],
            [
             1,
             "#276419"
            ]
           ],
           "sequential": [
            [
             0,
             "#0d0887"
            ],
            [
             0.1111111111111111,
             "#46039f"
            ],
            [
             0.2222222222222222,
             "#7201a8"
            ],
            [
             0.3333333333333333,
             "#9c179e"
            ],
            [
             0.4444444444444444,
             "#bd3786"
            ],
            [
             0.5555555555555556,
             "#d8576b"
            ],
            [
             0.6666666666666666,
             "#ed7953"
            ],
            [
             0.7777777777777778,
             "#fb9f3a"
            ],
            [
             0.8888888888888888,
             "#fdca26"
            ],
            [
             1,
             "#f0f921"
            ]
           ],
           "sequentialminus": [
            [
             0,
             "#0d0887"
            ],
            [
             0.1111111111111111,
             "#46039f"
            ],
            [
             0.2222222222222222,
             "#7201a8"
            ],
            [
             0.3333333333333333,
             "#9c179e"
            ],
            [
             0.4444444444444444,
             "#bd3786"
            ],
            [
             0.5555555555555556,
             "#d8576b"
            ],
            [
             0.6666666666666666,
             "#ed7953"
            ],
            [
             0.7777777777777778,
             "#fb9f3a"
            ],
            [
             0.8888888888888888,
             "#fdca26"
            ],
            [
             1,
             "#f0f921"
            ]
           ]
          },
          "colorway": [
           "#636efa",
           "#EF553B",
           "#00cc96",
           "#ab63fa",
           "#FFA15A",
           "#19d3f3",
           "#FF6692",
           "#B6E880",
           "#FF97FF",
           "#FECB52"
          ],
          "font": {
           "color": "#2a3f5f"
          },
          "geo": {
           "bgcolor": "white",
           "lakecolor": "white",
           "landcolor": "#E5ECF6",
           "showlakes": true,
           "showland": true,
           "subunitcolor": "white"
          },
          "hoverlabel": {
           "align": "left"
          },
          "hovermode": "closest",
          "mapbox": {
           "style": "light"
          },
          "paper_bgcolor": "white",
          "plot_bgcolor": "#E5ECF6",
          "polar": {
           "angularaxis": {
            "gridcolor": "white",
            "linecolor": "white",
            "ticks": ""
           },
           "bgcolor": "#E5ECF6",
           "radialaxis": {
            "gridcolor": "white",
            "linecolor": "white",
            "ticks": ""
           }
          },
          "scene": {
           "xaxis": {
            "backgroundcolor": "#E5ECF6",
            "gridcolor": "white",
            "gridwidth": 2,
            "linecolor": "white",
            "showbackground": true,
            "ticks": "",
            "zerolinecolor": "white"
           },
           "yaxis": {
            "backgroundcolor": "#E5ECF6",
            "gridcolor": "white",
            "gridwidth": 2,
            "linecolor": "white",
            "showbackground": true,
            "ticks": "",
            "zerolinecolor": "white"
           },
           "zaxis": {
            "backgroundcolor": "#E5ECF6",
            "gridcolor": "white",
            "gridwidth": 2,
            "linecolor": "white",
            "showbackground": true,
            "ticks": "",
            "zerolinecolor": "white"
           }
          },
          "shapedefaults": {
           "line": {
            "color": "#2a3f5f"
           }
          },
          "ternary": {
           "aaxis": {
            "gridcolor": "white",
            "linecolor": "white",
            "ticks": ""
           },
           "baxis": {
            "gridcolor": "white",
            "linecolor": "white",
            "ticks": ""
           },
           "bgcolor": "#E5ECF6",
           "caxis": {
            "gridcolor": "white",
            "linecolor": "white",
            "ticks": ""
           }
          },
          "title": {
           "x": 0.05
          },
          "xaxis": {
           "automargin": true,
           "gridcolor": "white",
           "linecolor": "white",
           "ticks": "",
           "title": {
            "standoff": 15
           },
           "zerolinecolor": "white",
           "zerolinewidth": 2
          },
          "yaxis": {
           "automargin": true,
           "gridcolor": "white",
           "linecolor": "white",
           "ticks": "",
           "title": {
            "standoff": 15
           },
           "zerolinecolor": "white",
           "zerolinewidth": 2
          }
         }
        },
        "title": {
         "text": "Median Salary Over Time by Employment Type"
        },
        "width": 1000,
        "xaxis": {
         "anchor": "y",
         "domain": [
          0,
          1
         ],
         "dtick": 1,
         "showgrid": false,
         "tickmode": "linear",
         "title": {
          "text": "Survey Year"
         }
        },
        "yaxis": {
         "anchor": "x",
         "domain": [
          0,
          1
         ],
         "showgrid": false,
         "title": {
          "text": "Median Annual Salary (USD)"
         }
        }
       }
      },
      "text/html": [
       "<div>                            <div id=\"4477dabe-6aac-4b20-add5-5f945878ed2a\" class=\"plotly-graph-div\" style=\"height:500px; width:1000px;\"></div>            <script type=\"text/javascript\">                require([\"plotly\"], function(Plotly) {                    window.PLOTLYENV=window.PLOTLYENV || {};                                    if (document.getElementById(\"4477dabe-6aac-4b20-add5-5f945878ed2a\")) {                    Plotly.newPlot(                        \"4477dabe-6aac-4b20-add5-5f945878ed2a\",                        [{\"hovertemplate\":\"Employment Type=Employed full-time\\u003cbr\\u003eSurvey Year=%{x}\\u003cbr\\u003eMedian Annual Salary (USD)=%{y}\\u003cextra\\u003e\\u003c\\u002fextra\\u003e\",\"legendgroup\":\"Employed full-time\",\"line\":{\"color\":\"#FFD700\",\"dash\":\"solid\"},\"marker\":{\"symbol\":\"circle\"},\"mode\":\"lines+markers\",\"name\":\"Employed full-time\",\"orientation\":\"v\",\"showlegend\":true,\"x\":[2020,2021,2022,2023,2024],\"xaxis\":\"x\",\"y\":[78930.0,86000.0,95000.0,80000.0,75184.0],\"yaxis\":\"y\",\"type\":\"scatter\"}],                        {\"template\":{\"data\":{\"histogram2dcontour\":[{\"type\":\"histogram2dcontour\",\"colorbar\":{\"outlinewidth\":0,\"ticks\":\"\"},\"colorscale\":[[0.0,\"#0d0887\"],[0.1111111111111111,\"#46039f\"],[0.2222222222222222,\"#7201a8\"],[0.3333333333333333,\"#9c179e\"],[0.4444444444444444,\"#bd3786\"],[0.5555555555555556,\"#d8576b\"],[0.6666666666666666,\"#ed7953\"],[0.7777777777777778,\"#fb9f3a\"],[0.8888888888888888,\"#fdca26\"],[1.0,\"#f0f921\"]]}],\"choropleth\":[{\"type\":\"choropleth\",\"colorbar\":{\"outlinewidth\":0,\"ticks\":\"\"}}],\"histogram2d\":[{\"type\":\"histogram2d\",\"colorbar\":{\"outlinewidth\":0,\"ticks\":\"\"},\"colorscale\":[[0.0,\"#0d0887\"],[0.1111111111111111,\"#46039f\"],[0.2222222222222222,\"#7201a8\"],[0.3333333333333333,\"#9c179e\"],[0.4444444444444444,\"#bd3786\"],[0.5555555555555556,\"#d8576b\"],[0.6666666666666666,\"#ed7953\"],[0.7777777777777778,\"#fb9f3a\"],[0.8888888888888888,\"#fdca26\"],[1.0,\"#f0f921\"]]}],\"heatmap\":[{\"type\":\"heatmap\",\"colorbar\":{\"outlinewidth\":0,\"ticks\":\"\"},\"colorscale\":[[0.0,\"#0d0887\"],[0.1111111111111111,\"#46039f\"],[0.2222222222222222,\"#7201a8\"],[0.3333333333333333,\"#9c179e\"],[0.4444444444444444,\"#bd3786\"],[0.5555555555555556,\"#d8576b\"],[0.6666666666666666,\"#ed7953\"],[0.7777777777777778,\"#fb9f3a\"],[0.8888888888888888,\"#fdca26\"],[1.0,\"#f0f921\"]]}],\"heatmapgl\":[{\"type\":\"heatmapgl\",\"colorbar\":{\"outlinewidth\":0,\"ticks\":\"\"},\"colorscale\":[[0.0,\"#0d0887\"],[0.1111111111111111,\"#46039f\"],[0.2222222222222222,\"#7201a8\"],[0.3333333333333333,\"#9c179e\"],[0.4444444444444444,\"#bd3786\"],[0.5555555555555556,\"#d8576b\"],[0.6666666666666666,\"#ed7953\"],[0.7777777777777778,\"#fb9f3a\"],[0.8888888888888888,\"#fdca26\"],[1.0,\"#f0f921\"]]}],\"contourcarpet\":[{\"type\":\"contourcarpet\",\"colorbar\":{\"outlinewidth\":0,\"ticks\":\"\"}}],\"contour\":[{\"type\":\"contour\",\"colorbar\":{\"outlinewidth\":0,\"ticks\":\"\"},\"colorscale\":[[0.0,\"#0d0887\"],[0.1111111111111111,\"#46039f\"],[0.2222222222222222,\"#7201a8\"],[0.3333333333333333,\"#9c179e\"],[0.4444444444444444,\"#bd3786\"],[0.5555555555555556,\"#d8576b\"],[0.6666666666666666,\"#ed7953\"],[0.7777777777777778,\"#fb9f3a\"],[0.8888888888888888,\"#fdca26\"],[1.0,\"#f0f921\"]]}],\"surface\":[{\"type\":\"surface\",\"colorbar\":{\"outlinewidth\":0,\"ticks\":\"\"},\"colorscale\":[[0.0,\"#0d0887\"],[0.1111111111111111,\"#46039f\"],[0.2222222222222222,\"#7201a8\"],[0.3333333333333333,\"#9c179e\"],[0.4444444444444444,\"#bd3786\"],[0.5555555555555556,\"#d8576b\"],[0.6666666666666666,\"#ed7953\"],[0.7777777777777778,\"#fb9f3a\"],[0.8888888888888888,\"#fdca26\"],[1.0,\"#f0f921\"]]}],\"mesh3d\":[{\"type\":\"mesh3d\",\"colorbar\":{\"outlinewidth\":0,\"ticks\":\"\"}}],\"scatter\":[{\"fillpattern\":{\"fillmode\":\"overlay\",\"size\":10,\"solidity\":0.2},\"type\":\"scatter\"}],\"parcoords\":[{\"type\":\"parcoords\",\"line\":{\"colorbar\":{\"outlinewidth\":0,\"ticks\":\"\"}}}],\"scatterpolargl\":[{\"type\":\"scatterpolargl\",\"marker\":{\"colorbar\":{\"outlinewidth\":0,\"ticks\":\"\"}}}],\"bar\":[{\"error_x\":{\"color\":\"#2a3f5f\"},\"error_y\":{\"color\":\"#2a3f5f\"},\"marker\":{\"line\":{\"color\":\"#E5ECF6\",\"width\":0.5},\"pattern\":{\"fillmode\":\"overlay\",\"size\":10,\"solidity\":0.2}},\"type\":\"bar\"}],\"scattergeo\":[{\"type\":\"scattergeo\",\"marker\":{\"colorbar\":{\"outlinewidth\":0,\"ticks\":\"\"}}}],\"scatterpolar\":[{\"type\":\"scatterpolar\",\"marker\":{\"colorbar\":{\"outlinewidth\":0,\"ticks\":\"\"}}}],\"histogram\":[{\"marker\":{\"pattern\":{\"fillmode\":\"overlay\",\"size\":10,\"solidity\":0.2}},\"type\":\"histogram\"}],\"scattergl\":[{\"type\":\"scattergl\",\"marker\":{\"colorbar\":{\"outlinewidth\":0,\"ticks\":\"\"}}}],\"scatter3d\":[{\"type\":\"scatter3d\",\"line\":{\"colorbar\":{\"outlinewidth\":0,\"ticks\":\"\"}},\"marker\":{\"colorbar\":{\"outlinewidth\":0,\"ticks\":\"\"}}}],\"scattermapbox\":[{\"type\":\"scattermapbox\",\"marker\":{\"colorbar\":{\"outlinewidth\":0,\"ticks\":\"\"}}}],\"scatterternary\":[{\"type\":\"scatterternary\",\"marker\":{\"colorbar\":{\"outlinewidth\":0,\"ticks\":\"\"}}}],\"scattercarpet\":[{\"type\":\"scattercarpet\",\"marker\":{\"colorbar\":{\"outlinewidth\":0,\"ticks\":\"\"}}}],\"carpet\":[{\"aaxis\":{\"endlinecolor\":\"#2a3f5f\",\"gridcolor\":\"white\",\"linecolor\":\"white\",\"minorgridcolor\":\"white\",\"startlinecolor\":\"#2a3f5f\"},\"baxis\":{\"endlinecolor\":\"#2a3f5f\",\"gridcolor\":\"white\",\"linecolor\":\"white\",\"minorgridcolor\":\"white\",\"startlinecolor\":\"#2a3f5f\"},\"type\":\"carpet\"}],\"table\":[{\"cells\":{\"fill\":{\"color\":\"#EBF0F8\"},\"line\":{\"color\":\"white\"}},\"header\":{\"fill\":{\"color\":\"#C8D4E3\"},\"line\":{\"color\":\"white\"}},\"type\":\"table\"}],\"barpolar\":[{\"marker\":{\"line\":{\"color\":\"#E5ECF6\",\"width\":0.5},\"pattern\":{\"fillmode\":\"overlay\",\"size\":10,\"solidity\":0.2}},\"type\":\"barpolar\"}],\"pie\":[{\"automargin\":true,\"type\":\"pie\"}]},\"layout\":{\"autotypenumbers\":\"strict\",\"colorway\":[\"#636efa\",\"#EF553B\",\"#00cc96\",\"#ab63fa\",\"#FFA15A\",\"#19d3f3\",\"#FF6692\",\"#B6E880\",\"#FF97FF\",\"#FECB52\"],\"font\":{\"color\":\"#2a3f5f\"},\"hovermode\":\"closest\",\"hoverlabel\":{\"align\":\"left\"},\"paper_bgcolor\":\"white\",\"plot_bgcolor\":\"#E5ECF6\",\"polar\":{\"bgcolor\":\"#E5ECF6\",\"angularaxis\":{\"gridcolor\":\"white\",\"linecolor\":\"white\",\"ticks\":\"\"},\"radialaxis\":{\"gridcolor\":\"white\",\"linecolor\":\"white\",\"ticks\":\"\"}},\"ternary\":{\"bgcolor\":\"#E5ECF6\",\"aaxis\":{\"gridcolor\":\"white\",\"linecolor\":\"white\",\"ticks\":\"\"},\"baxis\":{\"gridcolor\":\"white\",\"linecolor\":\"white\",\"ticks\":\"\"},\"caxis\":{\"gridcolor\":\"white\",\"linecolor\":\"white\",\"ticks\":\"\"}},\"coloraxis\":{\"colorbar\":{\"outlinewidth\":0,\"ticks\":\"\"}},\"colorscale\":{\"sequential\":[[0.0,\"#0d0887\"],[0.1111111111111111,\"#46039f\"],[0.2222222222222222,\"#7201a8\"],[0.3333333333333333,\"#9c179e\"],[0.4444444444444444,\"#bd3786\"],[0.5555555555555556,\"#d8576b\"],[0.6666666666666666,\"#ed7953\"],[0.7777777777777778,\"#fb9f3a\"],[0.8888888888888888,\"#fdca26\"],[1.0,\"#f0f921\"]],\"sequentialminus\":[[0.0,\"#0d0887\"],[0.1111111111111111,\"#46039f\"],[0.2222222222222222,\"#7201a8\"],[0.3333333333333333,\"#9c179e\"],[0.4444444444444444,\"#bd3786\"],[0.5555555555555556,\"#d8576b\"],[0.6666666666666666,\"#ed7953\"],[0.7777777777777778,\"#fb9f3a\"],[0.8888888888888888,\"#fdca26\"],[1.0,\"#f0f921\"]],\"diverging\":[[0,\"#8e0152\"],[0.1,\"#c51b7d\"],[0.2,\"#de77ae\"],[0.3,\"#f1b6da\"],[0.4,\"#fde0ef\"],[0.5,\"#f7f7f7\"],[0.6,\"#e6f5d0\"],[0.7,\"#b8e186\"],[0.8,\"#7fbc41\"],[0.9,\"#4d9221\"],[1,\"#276419\"]]},\"xaxis\":{\"gridcolor\":\"white\",\"linecolor\":\"white\",\"ticks\":\"\",\"title\":{\"standoff\":15},\"zerolinecolor\":\"white\",\"automargin\":true,\"zerolinewidth\":2},\"yaxis\":{\"gridcolor\":\"white\",\"linecolor\":\"white\",\"ticks\":\"\",\"title\":{\"standoff\":15},\"zerolinecolor\":\"white\",\"automargin\":true,\"zerolinewidth\":2},\"scene\":{\"xaxis\":{\"backgroundcolor\":\"#E5ECF6\",\"gridcolor\":\"white\",\"linecolor\":\"white\",\"showbackground\":true,\"ticks\":\"\",\"zerolinecolor\":\"white\",\"gridwidth\":2},\"yaxis\":{\"backgroundcolor\":\"#E5ECF6\",\"gridcolor\":\"white\",\"linecolor\":\"white\",\"showbackground\":true,\"ticks\":\"\",\"zerolinecolor\":\"white\",\"gridwidth\":2},\"zaxis\":{\"backgroundcolor\":\"#E5ECF6\",\"gridcolor\":\"white\",\"linecolor\":\"white\",\"showbackground\":true,\"ticks\":\"\",\"zerolinecolor\":\"white\",\"gridwidth\":2}},\"shapedefaults\":{\"line\":{\"color\":\"#2a3f5f\"}},\"annotationdefaults\":{\"arrowcolor\":\"#2a3f5f\",\"arrowhead\":0,\"arrowwidth\":1},\"geo\":{\"bgcolor\":\"white\",\"landcolor\":\"#E5ECF6\",\"subunitcolor\":\"white\",\"showland\":true,\"showlakes\":true,\"lakecolor\":\"white\"},\"title\":{\"x\":0.05},\"mapbox\":{\"style\":\"light\"}}},\"xaxis\":{\"anchor\":\"y\",\"domain\":[0.0,1.0],\"title\":{\"text\":\"Survey Year\"},\"showgrid\":false,\"dtick\":1,\"tickmode\":\"linear\"},\"yaxis\":{\"anchor\":\"x\",\"domain\":[0.0,1.0],\"title\":{\"text\":\"Median Annual Salary (USD)\"},\"showgrid\":false},\"legend\":{\"title\":{\"text\":\"Employment Type\"},\"tracegroupgap\":0},\"title\":{\"text\":\"Median Salary Over Time by Employment Type\"},\"font\":{\"color\":\"white\"},\"plot_bgcolor\":\"rgba(0,0,0,0)\",\"paper_bgcolor\":\"rgba(0,0,0,0)\",\"height\":500,\"width\":1000},                        {\"responsive\": true}                    ).then(function(){\n",
       "                            \n",
       "var gd = document.getElementById('4477dabe-6aac-4b20-add5-5f945878ed2a');\n",
       "var x = new MutationObserver(function (mutations, observer) {{\n",
       "        var display = window.getComputedStyle(gd).display;\n",
       "        if (!display || display === 'none') {{\n",
       "            console.log([gd, 'removed!']);\n",
       "            Plotly.purge(gd);\n",
       "            observer.disconnect();\n",
       "        }}\n",
       "}});\n",
       "\n",
       "// Listen for the removal of the full notebook cells\n",
       "var notebookContainer = gd.closest('#notebook-container');\n",
       "if (notebookContainer) {{\n",
       "    x.observe(notebookContainer, {childList: true});\n",
       "}}\n",
       "\n",
       "// Listen for the clearing of the current output cell\n",
       "var outputEl = gd.closest('.output');\n",
       "if (outputEl) {{\n",
       "    x.observe(outputEl, {childList: true});\n",
       "}}\n",
       "\n",
       "                        })                };                });            </script>        </div>"
      ]
     },
     "metadata": {},
     "output_type": "display_data"
    }
   ],
   "source": [
    "import plotly.express as px\n",
    "\n",
    "# Create a mapping to standardize employment labels\n",
    "employment_map = {\n",
    "    'Employed full-time': 'Employed full-time',\n",
    "    'Employed, full-time': 'Employed full-time',\n",
    "}\n",
    "\n",
    "# Apply mapping to create a new standardized column or overwrite existing one\n",
    "filtered_df['Employment_std'] = filtered_df['Employment'].map(employment_map)\n",
    "\n",
    "# Drop rows where mapping failed (i.e., not in keys)\n",
    "filtered_df = filtered_df[filtered_df['Employment_std'].notna()]\n",
    "\n",
    "# Now you can use 'Employment_std' for consistent filtering and plotting\n",
    "line_df_year = (\n",
    "    filtered_df.groupby(['Year', 'Employment_std'], as_index=False)\n",
    "    .agg({'annual_salary_usd': 'median'})\n",
    ")\n",
    "\n",
    "line_df_year['annual_salary_usd'] = line_df_year['annual_salary_usd'].round()\n",
    "\n",
    "# Plot\n",
    "fig = px.line(\n",
    "    line_df_year,\n",
    "    x='Year',\n",
    "    y='annual_salary_usd',\n",
    "    color='Employment_std',\n",
    "    markers=True,\n",
    "    color_discrete_sequence=['#FFD700', '#FF8C00'],\n",
    "    title='Median Salary Over Time by Employment Type',\n",
    "    labels={'annual_salary_usd': 'Median Annual Salary (USD)', 'Year': 'Survey Year', 'Employment_std': 'Employment Type'}\n",
    ")\n",
    "\n",
    "fig.update_layout(\n",
    "    plot_bgcolor='rgba(0,0,0,0)',\n",
    "    paper_bgcolor='rgba(0,0,0,0)',\n",
    "    font=dict(color='white'),\n",
    "    legend_title_text='Employment Type',\n",
    "    height=500,\n",
    "    width=1000\n",
    ")\n",
    "\n",
    "fig.update_xaxes(showgrid=False, dtick=1, tickmode='linear')\n",
    "fig.update_yaxes(showgrid=False)\n",
    "\n",
    "fig.show()"
   ]
  },
  {
   "cell_type": "code",
   "execution_count": 815,
   "id": "369fe123-05a3-4ef4-b128-402eb97d7406",
   "metadata": {},
   "outputs": [],
   "source": [
    "employment_map = {\n",
    "    'Employed full-time': 'Employed full-time',\n",
    "    'Employed, full-time': 'Employed full-time',\n",
    "}\n",
    "\n",
    "filtered_df['Employment_std'] = filtered_df['Employment'].map(employment_map)\n",
    "filtered_df = filtered_df[filtered_df['Employment_std'].notna()]"
   ]
  },
  {
   "cell_type": "code",
   "execution_count": 816,
   "id": "038d3c73-aa45-47e5-bc51-92bc81bc4d98",
   "metadata": {},
   "outputs": [
    {
     "data": {
      "text/plain": [
       "10"
      ]
     },
     "execution_count": 816,
     "metadata": {},
     "output_type": "execute_result"
    }
   ],
   "source": [
    "filtered_df['OrgSize'].nunique()"
   ]
  },
  {
   "cell_type": "code",
   "execution_count": 817,
   "id": "1963577a-7b09-41e4-a89e-4f921110467d",
   "metadata": {},
   "outputs": [],
   "source": [
    "salary_stats_df = (\n",
    "    filtered_df\n",
    "    .groupby(['Year', 'Employment_std', 'OrgSize'], as_index=False)\n",
    "    .agg(\n",
    "        median_salary=('annual_salary_usd', 'median'),\n",
    "        min_salary=('annual_salary_usd', 'min'),\n",
    "        max_salary=('annual_salary_usd', 'max')\n",
    "    )\n",
    ")"
   ]
  },
  {
   "cell_type": "code",
   "execution_count": 818,
   "id": "ad945d83-d280-431b-ad4b-f1695d58df79",
   "metadata": {},
   "outputs": [],
   "source": [
    "salary_stats_df['median_salary'] = salary_stats_df['median_salary'].round()\n",
    "salary_stats_df['min_salary'] = salary_stats_df['min_salary'].round()\n",
    "salary_stats_df['max_salary'] = salary_stats_df['max_salary'].round()"
   ]
  },
  {
   "cell_type": "code",
   "execution_count": 819,
   "id": "c0a9985a-8cc6-47d4-a750-50f6ec29ddc9",
   "metadata": {},
   "outputs": [
    {
     "data": {
      "text/html": [
       "<div>\n",
       "<style scoped>\n",
       "    .dataframe tbody tr th:only-of-type {\n",
       "        vertical-align: middle;\n",
       "    }\n",
       "\n",
       "    .dataframe tbody tr th {\n",
       "        vertical-align: top;\n",
       "    }\n",
       "\n",
       "    .dataframe thead th {\n",
       "        text-align: right;\n",
       "    }\n",
       "</style>\n",
       "<table border=\"1\" class=\"dataframe\">\n",
       "  <thead>\n",
       "    <tr style=\"text-align: right;\">\n",
       "      <th>OrgSize</th>\n",
       "      <th>1,000 to 4,999 employees</th>\n",
       "      <th>10 to 19 employees</th>\n",
       "      <th>10,000 or more employees</th>\n",
       "      <th>100 to 499 employees</th>\n",
       "      <th>2 to 9 employees</th>\n",
       "      <th>20 to 99 employees</th>\n",
       "      <th>5,000 to 9,999 employees</th>\n",
       "      <th>500 to 999 employees</th>\n",
       "      <th>I donât know</th>\n",
       "      <th>Just me - I am a freelancer, sole proprietor, etc.</th>\n",
       "    </tr>\n",
       "    <tr>\n",
       "      <th>Employment_std</th>\n",
       "      <th></th>\n",
       "      <th></th>\n",
       "      <th></th>\n",
       "      <th></th>\n",
       "      <th></th>\n",
       "      <th></th>\n",
       "      <th></th>\n",
       "      <th></th>\n",
       "      <th></th>\n",
       "      <th></th>\n",
       "    </tr>\n",
       "  </thead>\n",
       "  <tbody>\n",
       "    <tr>\n",
       "      <th>Employed full-time</th>\n",
       "      <td>5</td>\n",
       "      <td>5</td>\n",
       "      <td>5</td>\n",
       "      <td>5</td>\n",
       "      <td>5</td>\n",
       "      <td>5</td>\n",
       "      <td>5</td>\n",
       "      <td>5</td>\n",
       "      <td>4</td>\n",
       "      <td>5</td>\n",
       "    </tr>\n",
       "  </tbody>\n",
       "</table>\n",
       "</div>"
      ],
      "text/plain": [
       "OrgSize             1,000 to 4,999 employees  10 to 19 employees  \\\n",
       "Employment_std                                                     \n",
       "Employed full-time                         5                   5   \n",
       "\n",
       "OrgSize             10,000 or more employees  100 to 499 employees  \\\n",
       "Employment_std                                                       \n",
       "Employed full-time                         5                     5   \n",
       "\n",
       "OrgSize             2 to 9 employees  20 to 99 employees  \\\n",
       "Employment_std                                             \n",
       "Employed full-time                 5                   5   \n",
       "\n",
       "OrgSize             5,000 to 9,999 employees  500 to 999 employees  \\\n",
       "Employment_std                                                       \n",
       "Employed full-time                         5                     5   \n",
       "\n",
       "OrgSize             I donât know  \\\n",
       "Employment_std                       \n",
       "Employed full-time               4   \n",
       "\n",
       "OrgSize             Just me - I am a freelancer, sole proprietor, etc.  \n",
       "Employment_std                                                          \n",
       "Employed full-time                                                  5   "
      ]
     },
     "execution_count": 819,
     "metadata": {},
     "output_type": "execute_result"
    }
   ],
   "source": [
    "(\n",
    "    salary_stats_df\n",
    "    .groupby(['Employment_std', 'OrgSize'])['Year']\n",
    "    .nunique()\n",
    "    .unstack(fill_value=0)\n",
    ")"
   ]
  },
  {
   "cell_type": "code",
   "execution_count": 820,
   "id": "332c4e50-e7b2-4900-988c-e03fcfcf0a7b",
   "metadata": {},
   "outputs": [
    {
     "data": {
      "text/html": [
       "<div>\n",
       "<style scoped>\n",
       "    .dataframe tbody tr th:only-of-type {\n",
       "        vertical-align: middle;\n",
       "    }\n",
       "\n",
       "    .dataframe tbody tr th {\n",
       "        vertical-align: top;\n",
       "    }\n",
       "\n",
       "    .dataframe thead th {\n",
       "        text-align: right;\n",
       "    }\n",
       "</style>\n",
       "<table border=\"1\" class=\"dataframe\">\n",
       "  <thead>\n",
       "    <tr style=\"text-align: right;\">\n",
       "      <th></th>\n",
       "      <th>Year</th>\n",
       "      <th>Employment_std</th>\n",
       "      <th>OrgSize</th>\n",
       "      <th>Count</th>\n",
       "    </tr>\n",
       "  </thead>\n",
       "  <tbody>\n",
       "    <tr>\n",
       "      <th>0</th>\n",
       "      <td>2020</td>\n",
       "      <td>Employed full-time</td>\n",
       "      <td>1,000 to 4,999 employees</td>\n",
       "      <td>1</td>\n",
       "    </tr>\n",
       "    <tr>\n",
       "      <th>1</th>\n",
       "      <td>2022</td>\n",
       "      <td>Employed full-time</td>\n",
       "      <td>5,000 to 9,999 employees</td>\n",
       "      <td>1</td>\n",
       "    </tr>\n",
       "    <tr>\n",
       "      <th>2</th>\n",
       "      <td>2022</td>\n",
       "      <td>Employed full-time</td>\n",
       "      <td>I donât know</td>\n",
       "      <td>1</td>\n",
       "    </tr>\n",
       "    <tr>\n",
       "      <th>3</th>\n",
       "      <td>2022</td>\n",
       "      <td>Employed full-time</td>\n",
       "      <td>Just me - I am a freelancer, sole proprietor, ...</td>\n",
       "      <td>1</td>\n",
       "    </tr>\n",
       "    <tr>\n",
       "      <th>4</th>\n",
       "      <td>2023</td>\n",
       "      <td>Employed full-time</td>\n",
       "      <td>1,000 to 4,999 employees</td>\n",
       "      <td>1</td>\n",
       "    </tr>\n",
       "    <tr>\n",
       "      <th>5</th>\n",
       "      <td>2023</td>\n",
       "      <td>Employed full-time</td>\n",
       "      <td>10 to 19 employees</td>\n",
       "      <td>1</td>\n",
       "    </tr>\n",
       "    <tr>\n",
       "      <th>6</th>\n",
       "      <td>2023</td>\n",
       "      <td>Employed full-time</td>\n",
       "      <td>10,000 or more employees</td>\n",
       "      <td>1</td>\n",
       "    </tr>\n",
       "    <tr>\n",
       "      <th>7</th>\n",
       "      <td>2023</td>\n",
       "      <td>Employed full-time</td>\n",
       "      <td>100 to 499 employees</td>\n",
       "      <td>1</td>\n",
       "    </tr>\n",
       "    <tr>\n",
       "      <th>8</th>\n",
       "      <td>2023</td>\n",
       "      <td>Employed full-time</td>\n",
       "      <td>2 to 9 employees</td>\n",
       "      <td>1</td>\n",
       "    </tr>\n",
       "    <tr>\n",
       "      <th>9</th>\n",
       "      <td>2023</td>\n",
       "      <td>Employed full-time</td>\n",
       "      <td>20 to 99 employees</td>\n",
       "      <td>1</td>\n",
       "    </tr>\n",
       "    <tr>\n",
       "      <th>10</th>\n",
       "      <td>2023</td>\n",
       "      <td>Employed full-time</td>\n",
       "      <td>5,000 to 9,999 employees</td>\n",
       "      <td>1</td>\n",
       "    </tr>\n",
       "    <tr>\n",
       "      <th>11</th>\n",
       "      <td>2023</td>\n",
       "      <td>Employed full-time</td>\n",
       "      <td>500 to 999 employees</td>\n",
       "      <td>1</td>\n",
       "    </tr>\n",
       "    <tr>\n",
       "      <th>12</th>\n",
       "      <td>2023</td>\n",
       "      <td>Employed full-time</td>\n",
       "      <td>I donât know</td>\n",
       "      <td>1</td>\n",
       "    </tr>\n",
       "    <tr>\n",
       "      <th>13</th>\n",
       "      <td>2023</td>\n",
       "      <td>Employed full-time</td>\n",
       "      <td>Just me - I am a freelancer, sole proprietor, ...</td>\n",
       "      <td>1</td>\n",
       "    </tr>\n",
       "    <tr>\n",
       "      <th>14</th>\n",
       "      <td>2024</td>\n",
       "      <td>Employed full-time</td>\n",
       "      <td>1,000 to 4,999 employees</td>\n",
       "      <td>1</td>\n",
       "    </tr>\n",
       "    <tr>\n",
       "      <th>15</th>\n",
       "      <td>2024</td>\n",
       "      <td>Employed full-time</td>\n",
       "      <td>10 to 19 employees</td>\n",
       "      <td>1</td>\n",
       "    </tr>\n",
       "    <tr>\n",
       "      <th>16</th>\n",
       "      <td>2024</td>\n",
       "      <td>Employed full-time</td>\n",
       "      <td>10,000 or more employees</td>\n",
       "      <td>1</td>\n",
       "    </tr>\n",
       "    <tr>\n",
       "      <th>17</th>\n",
       "      <td>2024</td>\n",
       "      <td>Employed full-time</td>\n",
       "      <td>100 to 499 employees</td>\n",
       "      <td>1</td>\n",
       "    </tr>\n",
       "    <tr>\n",
       "      <th>18</th>\n",
       "      <td>2024</td>\n",
       "      <td>Employed full-time</td>\n",
       "      <td>2 to 9 employees</td>\n",
       "      <td>1</td>\n",
       "    </tr>\n",
       "    <tr>\n",
       "      <th>19</th>\n",
       "      <td>2024</td>\n",
       "      <td>Employed full-time</td>\n",
       "      <td>20 to 99 employees</td>\n",
       "      <td>1</td>\n",
       "    </tr>\n",
       "    <tr>\n",
       "      <th>20</th>\n",
       "      <td>2024</td>\n",
       "      <td>Employed full-time</td>\n",
       "      <td>5,000 to 9,999 employees</td>\n",
       "      <td>1</td>\n",
       "    </tr>\n",
       "    <tr>\n",
       "      <th>21</th>\n",
       "      <td>2024</td>\n",
       "      <td>Employed full-time</td>\n",
       "      <td>500 to 999 employees</td>\n",
       "      <td>1</td>\n",
       "    </tr>\n",
       "    <tr>\n",
       "      <th>22</th>\n",
       "      <td>2024</td>\n",
       "      <td>Employed full-time</td>\n",
       "      <td>I donât know</td>\n",
       "      <td>1</td>\n",
       "    </tr>\n",
       "    <tr>\n",
       "      <th>23</th>\n",
       "      <td>2022</td>\n",
       "      <td>Employed full-time</td>\n",
       "      <td>500 to 999 employees</td>\n",
       "      <td>1</td>\n",
       "    </tr>\n",
       "    <tr>\n",
       "      <th>24</th>\n",
       "      <td>2022</td>\n",
       "      <td>Employed full-time</td>\n",
       "      <td>20 to 99 employees</td>\n",
       "      <td>1</td>\n",
       "    </tr>\n",
       "    <tr>\n",
       "      <th>25</th>\n",
       "      <td>2020</td>\n",
       "      <td>Employed full-time</td>\n",
       "      <td>10 to 19 employees</td>\n",
       "      <td>1</td>\n",
       "    </tr>\n",
       "    <tr>\n",
       "      <th>26</th>\n",
       "      <td>2022</td>\n",
       "      <td>Employed full-time</td>\n",
       "      <td>2 to 9 employees</td>\n",
       "      <td>1</td>\n",
       "    </tr>\n",
       "    <tr>\n",
       "      <th>27</th>\n",
       "      <td>2020</td>\n",
       "      <td>Employed full-time</td>\n",
       "      <td>10,000 or more employees</td>\n",
       "      <td>1</td>\n",
       "    </tr>\n",
       "    <tr>\n",
       "      <th>28</th>\n",
       "      <td>2020</td>\n",
       "      <td>Employed full-time</td>\n",
       "      <td>100 to 499 employees</td>\n",
       "      <td>1</td>\n",
       "    </tr>\n",
       "    <tr>\n",
       "      <th>29</th>\n",
       "      <td>2020</td>\n",
       "      <td>Employed full-time</td>\n",
       "      <td>2 to 9 employees</td>\n",
       "      <td>1</td>\n",
       "    </tr>\n",
       "    <tr>\n",
       "      <th>30</th>\n",
       "      <td>2020</td>\n",
       "      <td>Employed full-time</td>\n",
       "      <td>20 to 99 employees</td>\n",
       "      <td>1</td>\n",
       "    </tr>\n",
       "    <tr>\n",
       "      <th>31</th>\n",
       "      <td>2020</td>\n",
       "      <td>Employed full-time</td>\n",
       "      <td>5,000 to 9,999 employees</td>\n",
       "      <td>1</td>\n",
       "    </tr>\n",
       "    <tr>\n",
       "      <th>32</th>\n",
       "      <td>2020</td>\n",
       "      <td>Employed full-time</td>\n",
       "      <td>500 to 999 employees</td>\n",
       "      <td>1</td>\n",
       "    </tr>\n",
       "    <tr>\n",
       "      <th>33</th>\n",
       "      <td>2020</td>\n",
       "      <td>Employed full-time</td>\n",
       "      <td>Just me - I am a freelancer, sole proprietor, ...</td>\n",
       "      <td>1</td>\n",
       "    </tr>\n",
       "    <tr>\n",
       "      <th>34</th>\n",
       "      <td>2021</td>\n",
       "      <td>Employed full-time</td>\n",
       "      <td>1,000 to 4,999 employees</td>\n",
       "      <td>1</td>\n",
       "    </tr>\n",
       "    <tr>\n",
       "      <th>35</th>\n",
       "      <td>2021</td>\n",
       "      <td>Employed full-time</td>\n",
       "      <td>10 to 19 employees</td>\n",
       "      <td>1</td>\n",
       "    </tr>\n",
       "    <tr>\n",
       "      <th>36</th>\n",
       "      <td>2021</td>\n",
       "      <td>Employed full-time</td>\n",
       "      <td>10,000 or more employees</td>\n",
       "      <td>1</td>\n",
       "    </tr>\n",
       "    <tr>\n",
       "      <th>37</th>\n",
       "      <td>2021</td>\n",
       "      <td>Employed full-time</td>\n",
       "      <td>100 to 499 employees</td>\n",
       "      <td>1</td>\n",
       "    </tr>\n",
       "    <tr>\n",
       "      <th>38</th>\n",
       "      <td>2021</td>\n",
       "      <td>Employed full-time</td>\n",
       "      <td>2 to 9 employees</td>\n",
       "      <td>1</td>\n",
       "    </tr>\n",
       "    <tr>\n",
       "      <th>39</th>\n",
       "      <td>2021</td>\n",
       "      <td>Employed full-time</td>\n",
       "      <td>20 to 99 employees</td>\n",
       "      <td>1</td>\n",
       "    </tr>\n",
       "    <tr>\n",
       "      <th>40</th>\n",
       "      <td>2021</td>\n",
       "      <td>Employed full-time</td>\n",
       "      <td>5,000 to 9,999 employees</td>\n",
       "      <td>1</td>\n",
       "    </tr>\n",
       "    <tr>\n",
       "      <th>41</th>\n",
       "      <td>2021</td>\n",
       "      <td>Employed full-time</td>\n",
       "      <td>500 to 999 employees</td>\n",
       "      <td>1</td>\n",
       "    </tr>\n",
       "    <tr>\n",
       "      <th>42</th>\n",
       "      <td>2021</td>\n",
       "      <td>Employed full-time</td>\n",
       "      <td>I donât know</td>\n",
       "      <td>1</td>\n",
       "    </tr>\n",
       "    <tr>\n",
       "      <th>43</th>\n",
       "      <td>2021</td>\n",
       "      <td>Employed full-time</td>\n",
       "      <td>Just me - I am a freelancer, sole proprietor, ...</td>\n",
       "      <td>1</td>\n",
       "    </tr>\n",
       "    <tr>\n",
       "      <th>44</th>\n",
       "      <td>2022</td>\n",
       "      <td>Employed full-time</td>\n",
       "      <td>1,000 to 4,999 employees</td>\n",
       "      <td>1</td>\n",
       "    </tr>\n",
       "    <tr>\n",
       "      <th>45</th>\n",
       "      <td>2022</td>\n",
       "      <td>Employed full-time</td>\n",
       "      <td>10 to 19 employees</td>\n",
       "      <td>1</td>\n",
       "    </tr>\n",
       "    <tr>\n",
       "      <th>46</th>\n",
       "      <td>2022</td>\n",
       "      <td>Employed full-time</td>\n",
       "      <td>10,000 or more employees</td>\n",
       "      <td>1</td>\n",
       "    </tr>\n",
       "    <tr>\n",
       "      <th>47</th>\n",
       "      <td>2022</td>\n",
       "      <td>Employed full-time</td>\n",
       "      <td>100 to 499 employees</td>\n",
       "      <td>1</td>\n",
       "    </tr>\n",
       "    <tr>\n",
       "      <th>48</th>\n",
       "      <td>2024</td>\n",
       "      <td>Employed full-time</td>\n",
       "      <td>Just me - I am a freelancer, sole proprietor, ...</td>\n",
       "      <td>1</td>\n",
       "    </tr>\n",
       "  </tbody>\n",
       "</table>\n",
       "</div>"
      ],
      "text/plain": [
       "    Year      Employment_std  \\\n",
       "0   2020  Employed full-time   \n",
       "1   2022  Employed full-time   \n",
       "2   2022  Employed full-time   \n",
       "3   2022  Employed full-time   \n",
       "4   2023  Employed full-time   \n",
       "5   2023  Employed full-time   \n",
       "6   2023  Employed full-time   \n",
       "7   2023  Employed full-time   \n",
       "8   2023  Employed full-time   \n",
       "9   2023  Employed full-time   \n",
       "10  2023  Employed full-time   \n",
       "11  2023  Employed full-time   \n",
       "12  2023  Employed full-time   \n",
       "13  2023  Employed full-time   \n",
       "14  2024  Employed full-time   \n",
       "15  2024  Employed full-time   \n",
       "16  2024  Employed full-time   \n",
       "17  2024  Employed full-time   \n",
       "18  2024  Employed full-time   \n",
       "19  2024  Employed full-time   \n",
       "20  2024  Employed full-time   \n",
       "21  2024  Employed full-time   \n",
       "22  2024  Employed full-time   \n",
       "23  2022  Employed full-time   \n",
       "24  2022  Employed full-time   \n",
       "25  2020  Employed full-time   \n",
       "26  2022  Employed full-time   \n",
       "27  2020  Employed full-time   \n",
       "28  2020  Employed full-time   \n",
       "29  2020  Employed full-time   \n",
       "30  2020  Employed full-time   \n",
       "31  2020  Employed full-time   \n",
       "32  2020  Employed full-time   \n",
       "33  2020  Employed full-time   \n",
       "34  2021  Employed full-time   \n",
       "35  2021  Employed full-time   \n",
       "36  2021  Employed full-time   \n",
       "37  2021  Employed full-time   \n",
       "38  2021  Employed full-time   \n",
       "39  2021  Employed full-time   \n",
       "40  2021  Employed full-time   \n",
       "41  2021  Employed full-time   \n",
       "42  2021  Employed full-time   \n",
       "43  2021  Employed full-time   \n",
       "44  2022  Employed full-time   \n",
       "45  2022  Employed full-time   \n",
       "46  2022  Employed full-time   \n",
       "47  2022  Employed full-time   \n",
       "48  2024  Employed full-time   \n",
       "\n",
       "                                              OrgSize  Count  \n",
       "0                            1,000 to 4,999 employees      1  \n",
       "1                            5,000 to 9,999 employees      1  \n",
       "2                                      I donât know      1  \n",
       "3   Just me - I am a freelancer, sole proprietor, ...      1  \n",
       "4                            1,000 to 4,999 employees      1  \n",
       "5                                  10 to 19 employees      1  \n",
       "6                            10,000 or more employees      1  \n",
       "7                                100 to 499 employees      1  \n",
       "8                                    2 to 9 employees      1  \n",
       "9                                  20 to 99 employees      1  \n",
       "10                           5,000 to 9,999 employees      1  \n",
       "11                               500 to 999 employees      1  \n",
       "12                                     I donât know      1  \n",
       "13  Just me - I am a freelancer, sole proprietor, ...      1  \n",
       "14                           1,000 to 4,999 employees      1  \n",
       "15                                 10 to 19 employees      1  \n",
       "16                           10,000 or more employees      1  \n",
       "17                               100 to 499 employees      1  \n",
       "18                                   2 to 9 employees      1  \n",
       "19                                 20 to 99 employees      1  \n",
       "20                           5,000 to 9,999 employees      1  \n",
       "21                               500 to 999 employees      1  \n",
       "22                                     I donât know      1  \n",
       "23                               500 to 999 employees      1  \n",
       "24                                 20 to 99 employees      1  \n",
       "25                                 10 to 19 employees      1  \n",
       "26                                   2 to 9 employees      1  \n",
       "27                           10,000 or more employees      1  \n",
       "28                               100 to 499 employees      1  \n",
       "29                                   2 to 9 employees      1  \n",
       "30                                 20 to 99 employees      1  \n",
       "31                           5,000 to 9,999 employees      1  \n",
       "32                               500 to 999 employees      1  \n",
       "33  Just me - I am a freelancer, sole proprietor, ...      1  \n",
       "34                           1,000 to 4,999 employees      1  \n",
       "35                                 10 to 19 employees      1  \n",
       "36                           10,000 or more employees      1  \n",
       "37                               100 to 499 employees      1  \n",
       "38                                   2 to 9 employees      1  \n",
       "39                                 20 to 99 employees      1  \n",
       "40                           5,000 to 9,999 employees      1  \n",
       "41                               500 to 999 employees      1  \n",
       "42                                     I donât know      1  \n",
       "43  Just me - I am a freelancer, sole proprietor, ...      1  \n",
       "44                           1,000 to 4,999 employees      1  \n",
       "45                                 10 to 19 employees      1  \n",
       "46                           10,000 or more employees      1  \n",
       "47                               100 to 499 employees      1  \n",
       "48  Just me - I am a freelancer, sole proprietor, ...      1  "
      ]
     },
     "execution_count": 820,
     "metadata": {},
     "output_type": "execute_result"
    }
   ],
   "source": [
    "salary_stats_df[['Year', 'Employment_std', 'OrgSize']].dropna().drop_duplicates().value_counts().reset_index(name='Count')"
   ]
  },
  {
   "cell_type": "code",
   "execution_count": 821,
   "id": "883849b0-3257-46e1-a367-073556cf8d15",
   "metadata": {},
   "outputs": [
    {
     "name": "stdout",
     "output_type": "stream",
     "text": [
      "    Year      Employment_std  \\\n",
      "0   2020  Employed full-time   \n",
      "1   2020  Employed full-time   \n",
      "2   2020  Employed full-time   \n",
      "3   2020  Employed full-time   \n",
      "4   2020  Employed full-time   \n",
      "5   2020  Employed full-time   \n",
      "6   2020  Employed full-time   \n",
      "7   2020  Employed full-time   \n",
      "8   2020  Employed full-time   \n",
      "9   2021  Employed full-time   \n",
      "10  2021  Employed full-time   \n",
      "11  2021  Employed full-time   \n",
      "12  2021  Employed full-time   \n",
      "13  2021  Employed full-time   \n",
      "14  2021  Employed full-time   \n",
      "15  2021  Employed full-time   \n",
      "16  2021  Employed full-time   \n",
      "17  2021  Employed full-time   \n",
      "18  2021  Employed full-time   \n",
      "19  2022  Employed full-time   \n",
      "20  2022  Employed full-time   \n",
      "21  2022  Employed full-time   \n",
      "22  2022  Employed full-time   \n",
      "23  2022  Employed full-time   \n",
      "24  2022  Employed full-time   \n",
      "25  2022  Employed full-time   \n",
      "26  2022  Employed full-time   \n",
      "27  2022  Employed full-time   \n",
      "28  2022  Employed full-time   \n",
      "29  2023  Employed full-time   \n",
      "30  2023  Employed full-time   \n",
      "31  2023  Employed full-time   \n",
      "32  2023  Employed full-time   \n",
      "33  2023  Employed full-time   \n",
      "34  2023  Employed full-time   \n",
      "35  2023  Employed full-time   \n",
      "36  2023  Employed full-time   \n",
      "37  2023  Employed full-time   \n",
      "38  2023  Employed full-time   \n",
      "39  2024  Employed full-time   \n",
      "40  2024  Employed full-time   \n",
      "41  2024  Employed full-time   \n",
      "42  2024  Employed full-time   \n",
      "43  2024  Employed full-time   \n",
      "44  2024  Employed full-time   \n",
      "45  2024  Employed full-time   \n",
      "46  2024  Employed full-time   \n",
      "47  2024  Employed full-time   \n",
      "48  2024  Employed full-time   \n",
      "\n",
      "                                              OrgSize  median_salary  \n",
      "0                            1,000 to 4,999 employees        90000.0  \n",
      "1                                  10 to 19 employees        55000.0  \n",
      "2                            10,000 or more employees       114000.0  \n",
      "3                                100 to 499 employees        75000.0  \n",
      "4                                    2 to 9 employees        47358.0  \n",
      "5                                  20 to 99 employees        62333.5  \n",
      "6                            5,000 to 9,999 employees        95000.0  \n",
      "7                                500 to 999 employees        75500.0  \n",
      "8   Just me - I am a freelancer, sole proprietor, ...        57275.0  \n",
      "9                            1,000 to 4,999 employees       102000.0  \n",
      "10                                 10 to 19 employees        60000.0  \n",
      "11                           10,000 or more employees       129000.0  \n",
      "12                               100 to 499 employees        85000.0  \n",
      "13                                   2 to 9 employees        55000.0  \n",
      "14                                 20 to 99 employees        72000.0  \n",
      "15                           5,000 to 9,999 employees       110000.0  \n",
      "16                               500 to 999 employees        90000.0  \n",
      "17                                     I donât know        97000.0  \n",
      "18  Just me - I am a freelancer, sole proprietor, ...        75000.0  \n",
      "19                           1,000 to 4,999 employees       115000.0  \n",
      "20                                 10 to 19 employees        66000.0  \n",
      "21                           10,000 or more employees       130000.0  \n",
      "22                               100 to 499 employees        92000.0  \n",
      "23                                   2 to 9 employees        60000.0  \n",
      "24                                 20 to 99 employees        78000.0  \n",
      "25                           5,000 to 9,999 employees       120000.0  \n",
      "26                               500 to 999 employees       100000.0  \n",
      "27                                     I donât know        83200.0  \n",
      "28  Just me - I am a freelancer, sole proprietor, ...        71500.0  \n",
      "29                           1,000 to 4,999 employees        85935.0  \n",
      "30                                 10 to 19 employees        62069.0  \n",
      "31                           10,000 or more employees       118993.5  \n",
      "32                               100 to 499 employees        80317.0  \n",
      "33                                   2 to 9 employees        58899.0  \n",
      "34                                 20 to 99 employees        69608.0  \n",
      "35                           5,000 to 9,999 employees        92000.0  \n",
      "36                               500 to 999 employees        81931.0  \n",
      "37                                     I donât know        70000.0  \n",
      "38  Just me - I am a freelancer, sole proprietor, ...        53559.0  \n",
      "39                           1,000 to 4,999 employees        80555.0  \n",
      "40                                 10 to 19 employees        62296.0  \n",
      "41                           10,000 or more employees       107406.0  \n",
      "42                               100 to 499 employees        74305.0  \n",
      "43                                   2 to 9 employees        53703.0  \n",
      "44                                 20 to 99 employees        65424.0  \n",
      "45                           5,000 to 9,999 employees        89147.0  \n",
      "46                               500 to 999 employees        79962.0  \n",
      "47                                     I donât know        64984.0  \n",
      "48  Just me - I am a freelancer, sole proprietor, ...        49130.0  \n"
     ]
    }
   ],
   "source": [
    "# Calculate median salary for each group\n",
    "median_salary_df = (\n",
    "    filtered_df.groupby(['Year', 'Employment_std', 'OrgSize'])['annual_salary_usd']\n",
    "    .median()\n",
    "    .reset_index(name='median_salary')\n",
    ")\n",
    "\n",
    "print(median_salary_df)"
   ]
  },
  {
   "cell_type": "code",
   "execution_count": 822,
   "id": "13abfeba-1124-4e5f-8bf0-9c438c327fc6",
   "metadata": {},
   "outputs": [
    {
     "name": "stdout",
     "output_type": "stream",
     "text": [
      "OrgSize categories with 'Employed full-time':\n",
      "['20 to 99 employees' '2 to 9 employees' '100 to 499 employees'\n",
      " '10,000 or more employees' nan '10 to 19 employees'\n",
      " '500 to 999 employees' '1,000 to 4,999 employees'\n",
      " '5,000 to 9,999 employees'\n",
      " 'Just me - I am a freelancer, sole proprietor, etc.'\n",
      " 'I donâ\\x80\\x99t know']\n"
     ]
    }
   ],
   "source": [
    "# Filter rows with Employment_std == 'Employed full-time'\n",
    "fulltime_df = filtered_df[filtered_df['Employment_std'] == 'Employed full-time']\n",
    "\n",
    "# Get unique OrgSize values where 'Employed full-time' exists\n",
    "orgsizes_with_fulltime = fulltime_df['OrgSize'].unique()\n",
    "\n",
    "print(\"OrgSize categories with 'Employed full-time':\")\n",
    "print(orgsizes_with_fulltime)"
   ]
  },
  {
   "cell_type": "code",
   "execution_count": 823,
   "id": "92633c4d-3283-4e37-805f-bf28c290b2bb",
   "metadata": {},
   "outputs": [
    {
     "name": "stdout",
     "output_type": "stream",
     "text": [
      "                                             OrgSize        Employment_std\n",
      "0                           1,000 to 4,999 employees  [Employed full-time]\n",
      "1                                 10 to 19 employees  [Employed full-time]\n",
      "2                           10,000 or more employees  [Employed full-time]\n",
      "3                               100 to 499 employees  [Employed full-time]\n",
      "4                                   2 to 9 employees  [Employed full-time]\n",
      "5                                 20 to 99 employees  [Employed full-time]\n",
      "6                           5,000 to 9,999 employees  [Employed full-time]\n",
      "7                               500 to 999 employees  [Employed full-time]\n",
      "8                                     I donât know  [Employed full-time]\n",
      "9  Just me - I am a freelancer, sole proprietor, ...  [Employed full-time]\n"
     ]
    }
   ],
   "source": [
    "distinct_types = (\n",
    "    fulltime_df.groupby('OrgSize')['Employment_std']\n",
    "    .unique()\n",
    "    .reset_index()\n",
    ")\n",
    "\n",
    "print(distinct_types)\n"
   ]
  },
  {
   "cell_type": "code",
   "execution_count": 824,
   "id": "bd5ec773-1b19-4d3a-a9b3-489a385f0b98",
   "metadata": {},
   "outputs": [],
   "source": [
    "updated_Org_Size = {\n",
    "    '1,000 to 4,999 employees',\n",
    "    '10 to 19 employees',\n",
    "    '10,000 or more employees',\n",
    "    '100 to 499 employees',\n",
    "    '2 to 9 employees',\n",
    "    '20 to 99 employees',\n",
    "    '5,000 to 9,999 employees',\n",
    "    '500 to 999 employees'\n",
    "}\n",
    "\n",
    "filtered_median_salary_df = median_salary_df[median_salary_df['OrgSize'].isin(updated_Org_Size)]"
   ]
  },
  {
   "cell_type": "code",
   "execution_count": 825,
   "id": "8f704c4a-230f-4ca5-baee-54422d443ed2",
   "metadata": {},
   "outputs": [
    {
     "data": {
      "application/vnd.plotly.v1+json": {
       "config": {
        "plotlyServerURL": "https://plot.ly"
       },
       "data": [
        {
         "hovertemplate": "Organization Size=1,000 to 4,999 employees<br>Employment Type=Employed full-time<br>Survey Year=%{x}<br>Median Annual Salary (USD)=%{y}<extra></extra>",
         "legendgroup": "1,000 to 4,999 employees, Employed full-time",
         "line": {
          "color": "#FFD700",
          "dash": "solid"
         },
         "marker": {
          "symbol": "circle"
         },
         "mode": "lines+markers",
         "name": "1,000 to 4,999 employees, Employed full-time",
         "orientation": "v",
         "showlegend": true,
         "type": "scatter",
         "x": [
          2020,
          2021,
          2022,
          2023,
          2024
         ],
         "xaxis": "x",
         "y": [
          90000,
          102000,
          115000,
          85935,
          80555
         ],
         "yaxis": "y"
        },
        {
         "hovertemplate": "Organization Size=10 to 19 employees<br>Employment Type=Employed full-time<br>Survey Year=%{x}<br>Median Annual Salary (USD)=%{y}<extra></extra>",
         "legendgroup": "10 to 19 employees, Employed full-time",
         "line": {
          "color": "#FBC02D",
          "dash": "solid"
         },
         "marker": {
          "symbol": "circle"
         },
         "mode": "lines+markers",
         "name": "10 to 19 employees, Employed full-time",
         "orientation": "v",
         "showlegend": true,
         "type": "scatter",
         "x": [
          2020,
          2021,
          2022,
          2023,
          2024
         ],
         "xaxis": "x",
         "y": [
          55000,
          60000,
          66000,
          62069,
          62296
         ],
         "yaxis": "y"
        },
        {
         "hovertemplate": "Organization Size=10,000 or more employees<br>Employment Type=Employed full-time<br>Survey Year=%{x}<br>Median Annual Salary (USD)=%{y}<extra></extra>",
         "legendgroup": "10,000 or more employees, Employed full-time",
         "line": {
          "color": "#FF8C00",
          "dash": "solid"
         },
         "marker": {
          "symbol": "circle"
         },
         "mode": "lines+markers",
         "name": "10,000 or more employees, Employed full-time",
         "orientation": "v",
         "showlegend": true,
         "type": "scatter",
         "x": [
          2020,
          2021,
          2022,
          2023,
          2024
         ],
         "xaxis": "x",
         "y": [
          114000,
          129000,
          130000,
          118993.5,
          107406
         ],
         "yaxis": "y"
        },
        {
         "hovertemplate": "Organization Size=100 to 499 employees<br>Employment Type=Employed full-time<br>Survey Year=%{x}<br>Median Annual Salary (USD)=%{y}<extra></extra>",
         "legendgroup": "100 to 499 employees, Employed full-time",
         "line": {
          "color": "#FFA500",
          "dash": "solid"
         },
         "marker": {
          "symbol": "circle"
         },
         "mode": "lines+markers",
         "name": "100 to 499 employees, Employed full-time",
         "orientation": "v",
         "showlegend": true,
         "type": "scatter",
         "x": [
          2020,
          2021,
          2022,
          2023,
          2024
         ],
         "xaxis": "x",
         "y": [
          75000,
          85000,
          92000,
          80317,
          74305
         ],
         "yaxis": "y"
        },
        {
         "hovertemplate": "Organization Size=2 to 9 employees<br>Employment Type=Employed full-time<br>Survey Year=%{x}<br>Median Annual Salary (USD)=%{y}<extra></extra>",
         "legendgroup": "2 to 9 employees, Employed full-time",
         "line": {
          "color": "#FFDAB9",
          "dash": "solid"
         },
         "marker": {
          "symbol": "circle"
         },
         "mode": "lines+markers",
         "name": "2 to 9 employees, Employed full-time",
         "orientation": "v",
         "showlegend": true,
         "type": "scatter",
         "x": [
          2020,
          2021,
          2022,
          2023,
          2024
         ],
         "xaxis": "x",
         "y": [
          47358,
          55000,
          60000,
          58899,
          53703
         ],
         "yaxis": "y"
        },
        {
         "hovertemplate": "Organization Size=20 to 99 employees<br>Employment Type=Employed full-time<br>Survey Year=%{x}<br>Median Annual Salary (USD)=%{y}<extra></extra>",
         "legendgroup": "20 to 99 employees, Employed full-time",
         "line": {
          "color": "#FA8072",
          "dash": "solid"
         },
         "marker": {
          "symbol": "circle"
         },
         "mode": "lines+markers",
         "name": "20 to 99 employees, Employed full-time",
         "orientation": "v",
         "showlegend": true,
         "type": "scatter",
         "x": [
          2020,
          2021,
          2022,
          2023,
          2024
         ],
         "xaxis": "x",
         "y": [
          62333.5,
          72000,
          78000,
          69608,
          65424
         ],
         "yaxis": "y"
        },
        {
         "hovertemplate": "Organization Size=5,000 to 9,999 employees<br>Employment Type=Employed full-time<br>Survey Year=%{x}<br>Median Annual Salary (USD)=%{y}<extra></extra>",
         "legendgroup": "5,000 to 9,999 employees, Employed full-time",
         "line": {
          "color": "#FFA07A",
          "dash": "solid"
         },
         "marker": {
          "symbol": "circle"
         },
         "mode": "lines+markers",
         "name": "5,000 to 9,999 employees, Employed full-time",
         "orientation": "v",
         "showlegend": true,
         "type": "scatter",
         "x": [
          2020,
          2021,
          2022,
          2023,
          2024
         ],
         "xaxis": "x",
         "y": [
          95000,
          110000,
          120000,
          92000,
          89147
         ],
         "yaxis": "y"
        },
        {
         "hovertemplate": "Organization Size=500 to 999 employees<br>Employment Type=Employed full-time<br>Survey Year=%{x}<br>Median Annual Salary (USD)=%{y}<extra></extra>",
         "legendgroup": "500 to 999 employees, Employed full-time",
         "line": {
          "color": "#FF7F50",
          "dash": "solid"
         },
         "marker": {
          "symbol": "circle"
         },
         "mode": "lines+markers",
         "name": "500 to 999 employees, Employed full-time",
         "orientation": "v",
         "showlegend": true,
         "type": "scatter",
         "x": [
          2020,
          2021,
          2022,
          2023,
          2024
         ],
         "xaxis": "x",
         "y": [
          75500,
          90000,
          100000,
          81931,
          79962
         ],
         "yaxis": "y"
        }
       ],
       "layout": {
        "font": {
         "color": "white"
        },
        "height": 600,
        "legend": {
         "title": {
          "text": "Org Size"
         },
         "tracegroupgap": 0
        },
        "paper_bgcolor": "rgba(0,0,0,0)",
        "plot_bgcolor": "rgba(0,0,0,0)",
        "template": {
         "data": {
          "bar": [
           {
            "error_x": {
             "color": "#2a3f5f"
            },
            "error_y": {
             "color": "#2a3f5f"
            },
            "marker": {
             "line": {
              "color": "#E5ECF6",
              "width": 0.5
             },
             "pattern": {
              "fillmode": "overlay",
              "size": 10,
              "solidity": 0.2
             }
            },
            "type": "bar"
           }
          ],
          "barpolar": [
           {
            "marker": {
             "line": {
              "color": "#E5ECF6",
              "width": 0.5
             },
             "pattern": {
              "fillmode": "overlay",
              "size": 10,
              "solidity": 0.2
             }
            },
            "type": "barpolar"
           }
          ],
          "carpet": [
           {
            "aaxis": {
             "endlinecolor": "#2a3f5f",
             "gridcolor": "white",
             "linecolor": "white",
             "minorgridcolor": "white",
             "startlinecolor": "#2a3f5f"
            },
            "baxis": {
             "endlinecolor": "#2a3f5f",
             "gridcolor": "white",
             "linecolor": "white",
             "minorgridcolor": "white",
             "startlinecolor": "#2a3f5f"
            },
            "type": "carpet"
           }
          ],
          "choropleth": [
           {
            "colorbar": {
             "outlinewidth": 0,
             "ticks": ""
            },
            "type": "choropleth"
           }
          ],
          "contour": [
           {
            "colorbar": {
             "outlinewidth": 0,
             "ticks": ""
            },
            "colorscale": [
             [
              0,
              "#0d0887"
             ],
             [
              0.1111111111111111,
              "#46039f"
             ],
             [
              0.2222222222222222,
              "#7201a8"
             ],
             [
              0.3333333333333333,
              "#9c179e"
             ],
             [
              0.4444444444444444,
              "#bd3786"
             ],
             [
              0.5555555555555556,
              "#d8576b"
             ],
             [
              0.6666666666666666,
              "#ed7953"
             ],
             [
              0.7777777777777778,
              "#fb9f3a"
             ],
             [
              0.8888888888888888,
              "#fdca26"
             ],
             [
              1,
              "#f0f921"
             ]
            ],
            "type": "contour"
           }
          ],
          "contourcarpet": [
           {
            "colorbar": {
             "outlinewidth": 0,
             "ticks": ""
            },
            "type": "contourcarpet"
           }
          ],
          "heatmap": [
           {
            "colorbar": {
             "outlinewidth": 0,
             "ticks": ""
            },
            "colorscale": [
             [
              0,
              "#0d0887"
             ],
             [
              0.1111111111111111,
              "#46039f"
             ],
             [
              0.2222222222222222,
              "#7201a8"
             ],
             [
              0.3333333333333333,
              "#9c179e"
             ],
             [
              0.4444444444444444,
              "#bd3786"
             ],
             [
              0.5555555555555556,
              "#d8576b"
             ],
             [
              0.6666666666666666,
              "#ed7953"
             ],
             [
              0.7777777777777778,
              "#fb9f3a"
             ],
             [
              0.8888888888888888,
              "#fdca26"
             ],
             [
              1,
              "#f0f921"
             ]
            ],
            "type": "heatmap"
           }
          ],
          "heatmapgl": [
           {
            "colorbar": {
             "outlinewidth": 0,
             "ticks": ""
            },
            "colorscale": [
             [
              0,
              "#0d0887"
             ],
             [
              0.1111111111111111,
              "#46039f"
             ],
             [
              0.2222222222222222,
              "#7201a8"
             ],
             [
              0.3333333333333333,
              "#9c179e"
             ],
             [
              0.4444444444444444,
              "#bd3786"
             ],
             [
              0.5555555555555556,
              "#d8576b"
             ],
             [
              0.6666666666666666,
              "#ed7953"
             ],
             [
              0.7777777777777778,
              "#fb9f3a"
             ],
             [
              0.8888888888888888,
              "#fdca26"
             ],
             [
              1,
              "#f0f921"
             ]
            ],
            "type": "heatmapgl"
           }
          ],
          "histogram": [
           {
            "marker": {
             "pattern": {
              "fillmode": "overlay",
              "size": 10,
              "solidity": 0.2
             }
            },
            "type": "histogram"
           }
          ],
          "histogram2d": [
           {
            "colorbar": {
             "outlinewidth": 0,
             "ticks": ""
            },
            "colorscale": [
             [
              0,
              "#0d0887"
             ],
             [
              0.1111111111111111,
              "#46039f"
             ],
             [
              0.2222222222222222,
              "#7201a8"
             ],
             [
              0.3333333333333333,
              "#9c179e"
             ],
             [
              0.4444444444444444,
              "#bd3786"
             ],
             [
              0.5555555555555556,
              "#d8576b"
             ],
             [
              0.6666666666666666,
              "#ed7953"
             ],
             [
              0.7777777777777778,
              "#fb9f3a"
             ],
             [
              0.8888888888888888,
              "#fdca26"
             ],
             [
              1,
              "#f0f921"
             ]
            ],
            "type": "histogram2d"
           }
          ],
          "histogram2dcontour": [
           {
            "colorbar": {
             "outlinewidth": 0,
             "ticks": ""
            },
            "colorscale": [
             [
              0,
              "#0d0887"
             ],
             [
              0.1111111111111111,
              "#46039f"
             ],
             [
              0.2222222222222222,
              "#7201a8"
             ],
             [
              0.3333333333333333,
              "#9c179e"
             ],
             [
              0.4444444444444444,
              "#bd3786"
             ],
             [
              0.5555555555555556,
              "#d8576b"
             ],
             [
              0.6666666666666666,
              "#ed7953"
             ],
             [
              0.7777777777777778,
              "#fb9f3a"
             ],
             [
              0.8888888888888888,
              "#fdca26"
             ],
             [
              1,
              "#f0f921"
             ]
            ],
            "type": "histogram2dcontour"
           }
          ],
          "mesh3d": [
           {
            "colorbar": {
             "outlinewidth": 0,
             "ticks": ""
            },
            "type": "mesh3d"
           }
          ],
          "parcoords": [
           {
            "line": {
             "colorbar": {
              "outlinewidth": 0,
              "ticks": ""
             }
            },
            "type": "parcoords"
           }
          ],
          "pie": [
           {
            "automargin": true,
            "type": "pie"
           }
          ],
          "scatter": [
           {
            "fillpattern": {
             "fillmode": "overlay",
             "size": 10,
             "solidity": 0.2
            },
            "type": "scatter"
           }
          ],
          "scatter3d": [
           {
            "line": {
             "colorbar": {
              "outlinewidth": 0,
              "ticks": ""
             }
            },
            "marker": {
             "colorbar": {
              "outlinewidth": 0,
              "ticks": ""
             }
            },
            "type": "scatter3d"
           }
          ],
          "scattercarpet": [
           {
            "marker": {
             "colorbar": {
              "outlinewidth": 0,
              "ticks": ""
             }
            },
            "type": "scattercarpet"
           }
          ],
          "scattergeo": [
           {
            "marker": {
             "colorbar": {
              "outlinewidth": 0,
              "ticks": ""
             }
            },
            "type": "scattergeo"
           }
          ],
          "scattergl": [
           {
            "marker": {
             "colorbar": {
              "outlinewidth": 0,
              "ticks": ""
             }
            },
            "type": "scattergl"
           }
          ],
          "scattermapbox": [
           {
            "marker": {
             "colorbar": {
              "outlinewidth": 0,
              "ticks": ""
             }
            },
            "type": "scattermapbox"
           }
          ],
          "scatterpolar": [
           {
            "marker": {
             "colorbar": {
              "outlinewidth": 0,
              "ticks": ""
             }
            },
            "type": "scatterpolar"
           }
          ],
          "scatterpolargl": [
           {
            "marker": {
             "colorbar": {
              "outlinewidth": 0,
              "ticks": ""
             }
            },
            "type": "scatterpolargl"
           }
          ],
          "scatterternary": [
           {
            "marker": {
             "colorbar": {
              "outlinewidth": 0,
              "ticks": ""
             }
            },
            "type": "scatterternary"
           }
          ],
          "surface": [
           {
            "colorbar": {
             "outlinewidth": 0,
             "ticks": ""
            },
            "colorscale": [
             [
              0,
              "#0d0887"
             ],
             [
              0.1111111111111111,
              "#46039f"
             ],
             [
              0.2222222222222222,
              "#7201a8"
             ],
             [
              0.3333333333333333,
              "#9c179e"
             ],
             [
              0.4444444444444444,
              "#bd3786"
             ],
             [
              0.5555555555555556,
              "#d8576b"
             ],
             [
              0.6666666666666666,
              "#ed7953"
             ],
             [
              0.7777777777777778,
              "#fb9f3a"
             ],
             [
              0.8888888888888888,
              "#fdca26"
             ],
             [
              1,
              "#f0f921"
             ]
            ],
            "type": "surface"
           }
          ],
          "table": [
           {
            "cells": {
             "fill": {
              "color": "#EBF0F8"
             },
             "line": {
              "color": "white"
             }
            },
            "header": {
             "fill": {
              "color": "#C8D4E3"
             },
             "line": {
              "color": "white"
             }
            },
            "type": "table"
           }
          ]
         },
         "layout": {
          "annotationdefaults": {
           "arrowcolor": "#2a3f5f",
           "arrowhead": 0,
           "arrowwidth": 1
          },
          "autotypenumbers": "strict",
          "coloraxis": {
           "colorbar": {
            "outlinewidth": 0,
            "ticks": ""
           }
          },
          "colorscale": {
           "diverging": [
            [
             0,
             "#8e0152"
            ],
            [
             0.1,
             "#c51b7d"
            ],
            [
             0.2,
             "#de77ae"
            ],
            [
             0.3,
             "#f1b6da"
            ],
            [
             0.4,
             "#fde0ef"
            ],
            [
             0.5,
             "#f7f7f7"
            ],
            [
             0.6,
             "#e6f5d0"
            ],
            [
             0.7,
             "#b8e186"
            ],
            [
             0.8,
             "#7fbc41"
            ],
            [
             0.9,
             "#4d9221"
            ],
            [
             1,
             "#276419"
            ]
           ],
           "sequential": [
            [
             0,
             "#0d0887"
            ],
            [
             0.1111111111111111,
             "#46039f"
            ],
            [
             0.2222222222222222,
             "#7201a8"
            ],
            [
             0.3333333333333333,
             "#9c179e"
            ],
            [
             0.4444444444444444,
             "#bd3786"
            ],
            [
             0.5555555555555556,
             "#d8576b"
            ],
            [
             0.6666666666666666,
             "#ed7953"
            ],
            [
             0.7777777777777778,
             "#fb9f3a"
            ],
            [
             0.8888888888888888,
             "#fdca26"
            ],
            [
             1,
             "#f0f921"
            ]
           ],
           "sequentialminus": [
            [
             0,
             "#0d0887"
            ],
            [
             0.1111111111111111,
             "#46039f"
            ],
            [
             0.2222222222222222,
             "#7201a8"
            ],
            [
             0.3333333333333333,
             "#9c179e"
            ],
            [
             0.4444444444444444,
             "#bd3786"
            ],
            [
             0.5555555555555556,
             "#d8576b"
            ],
            [
             0.6666666666666666,
             "#ed7953"
            ],
            [
             0.7777777777777778,
             "#fb9f3a"
            ],
            [
             0.8888888888888888,
             "#fdca26"
            ],
            [
             1,
             "#f0f921"
            ]
           ]
          },
          "colorway": [
           "#636efa",
           "#EF553B",
           "#00cc96",
           "#ab63fa",
           "#FFA15A",
           "#19d3f3",
           "#FF6692",
           "#B6E880",
           "#FF97FF",
           "#FECB52"
          ],
          "font": {
           "color": "#2a3f5f"
          },
          "geo": {
           "bgcolor": "white",
           "lakecolor": "white",
           "landcolor": "#E5ECF6",
           "showlakes": true,
           "showland": true,
           "subunitcolor": "white"
          },
          "hoverlabel": {
           "align": "left"
          },
          "hovermode": "closest",
          "mapbox": {
           "style": "light"
          },
          "paper_bgcolor": "white",
          "plot_bgcolor": "#E5ECF6",
          "polar": {
           "angularaxis": {
            "gridcolor": "white",
            "linecolor": "white",
            "ticks": ""
           },
           "bgcolor": "#E5ECF6",
           "radialaxis": {
            "gridcolor": "white",
            "linecolor": "white",
            "ticks": ""
           }
          },
          "scene": {
           "xaxis": {
            "backgroundcolor": "#E5ECF6",
            "gridcolor": "white",
            "gridwidth": 2,
            "linecolor": "white",
            "showbackground": true,
            "ticks": "",
            "zerolinecolor": "white"
           },
           "yaxis": {
            "backgroundcolor": "#E5ECF6",
            "gridcolor": "white",
            "gridwidth": 2,
            "linecolor": "white",
            "showbackground": true,
            "ticks": "",
            "zerolinecolor": "white"
           },
           "zaxis": {
            "backgroundcolor": "#E5ECF6",
            "gridcolor": "white",
            "gridwidth": 2,
            "linecolor": "white",
            "showbackground": true,
            "ticks": "",
            "zerolinecolor": "white"
           }
          },
          "shapedefaults": {
           "line": {
            "color": "#2a3f5f"
           }
          },
          "ternary": {
           "aaxis": {
            "gridcolor": "white",
            "linecolor": "white",
            "ticks": ""
           },
           "baxis": {
            "gridcolor": "white",
            "linecolor": "white",
            "ticks": ""
           },
           "bgcolor": "#E5ECF6",
           "caxis": {
            "gridcolor": "white",
            "linecolor": "white",
            "ticks": ""
           }
          },
          "title": {
           "x": 0.05
          },
          "xaxis": {
           "automargin": true,
           "gridcolor": "white",
           "linecolor": "white",
           "ticks": "",
           "title": {
            "standoff": 15
           },
           "zerolinecolor": "white",
           "zerolinewidth": 2
          },
          "yaxis": {
           "automargin": true,
           "gridcolor": "white",
           "linecolor": "white",
           "ticks": "",
           "title": {
            "standoff": 15
           },
           "zerolinecolor": "white",
           "zerolinewidth": 2
          }
         }
        },
        "title": {
         "text": "Median Salary Over Time by Employment and Organization Size"
        },
        "width": 1100,
        "xaxis": {
         "anchor": "y",
         "domain": [
          0,
          1
         ],
         "dtick": 1,
         "showgrid": false,
         "tickmode": "linear",
         "title": {
          "text": "Survey Year"
         }
        },
        "yaxis": {
         "anchor": "x",
         "domain": [
          0,
          1
         ],
         "showgrid": false,
         "title": {
          "text": "Median Annual Salary (USD)"
         }
        }
       }
      },
      "image/png": "[encoded data removed]",
      "text/html": [
       "<div>                            <div id=\"3aa9bed1-8ef5-4dd4-bc9e-37482c5eb83c\" class=\"plotly-graph-div\" style=\"height:600px; width:1100px;\"></div>            <script type=\"text/javascript\">                require([\"plotly\"], function(Plotly) {                    window.PLOTLYENV=window.PLOTLYENV || {};                                    if (document.getElementById(\"3aa9bed1-8ef5-4dd4-bc9e-37482c5eb83c\")) {                    Plotly.newPlot(                        \"3aa9bed1-8ef5-4dd4-bc9e-37482c5eb83c\",                        [{\"hovertemplate\":\"Organization Size=1,000 to 4,999 employees\\u003cbr\\u003eEmployment Type=Employed full-time\\u003cbr\\u003eSurvey Year=%{x}\\u003cbr\\u003eMedian Annual Salary (USD)=%{y}\\u003cextra\\u003e\\u003c\\u002fextra\\u003e\",\"legendgroup\":\"1,000 to 4,999 employees, Employed full-time\",\"line\":{\"color\":\"#FFD700\",\"dash\":\"solid\"},\"marker\":{\"symbol\":\"circle\"},\"mode\":\"lines+markers\",\"name\":\"1,000 to 4,999 employees, Employed full-time\",\"orientation\":\"v\",\"showlegend\":true,\"x\":[2020,2021,2022,2023,2024],\"xaxis\":\"x\",\"y\":[90000.0,102000.0,115000.0,85935.0,80555.0],\"yaxis\":\"y\",\"type\":\"scatter\"},{\"hovertemplate\":\"Organization Size=10 to 19 employees\\u003cbr\\u003eEmployment Type=Employed full-time\\u003cbr\\u003eSurvey Year=%{x}\\u003cbr\\u003eMedian Annual Salary (USD)=%{y}\\u003cextra\\u003e\\u003c\\u002fextra\\u003e\",\"legendgroup\":\"10 to 19 employees, Employed full-time\",\"line\":{\"color\":\"#FBC02D\",\"dash\":\"solid\"},\"marker\":{\"symbol\":\"circle\"},\"mode\":\"lines+markers\",\"name\":\"10 to 19 employees, Employed full-time\",\"orientation\":\"v\",\"showlegend\":true,\"x\":[2020,2021,2022,2023,2024],\"xaxis\":\"x\",\"y\":[55000.0,60000.0,66000.0,62069.0,62296.0],\"yaxis\":\"y\",\"type\":\"scatter\"},{\"hovertemplate\":\"Organization Size=10,000 or more employees\\u003cbr\\u003eEmployment Type=Employed full-time\\u003cbr\\u003eSurvey Year=%{x}\\u003cbr\\u003eMedian Annual Salary (USD)=%{y}\\u003cextra\\u003e\\u003c\\u002fextra\\u003e\",\"legendgroup\":\"10,000 or more employees, Employed full-time\",\"line\":{\"color\":\"#FF8C00\",\"dash\":\"solid\"},\"marker\":{\"symbol\":\"circle\"},\"mode\":\"lines+markers\",\"name\":\"10,000 or more employees, Employed full-time\",\"orientation\":\"v\",\"showlegend\":true,\"x\":[2020,2021,2022,2023,2024],\"xaxis\":\"x\",\"y\":[114000.0,129000.0,130000.0,118993.5,107406.0],\"yaxis\":\"y\",\"type\":\"scatter\"},{\"hovertemplate\":\"Organization Size=100 to 499 employees\\u003cbr\\u003eEmployment Type=Employed full-time\\u003cbr\\u003eSurvey Year=%{x}\\u003cbr\\u003eMedian Annual Salary (USD)=%{y}\\u003cextra\\u003e\\u003c\\u002fextra\\u003e\",\"legendgroup\":\"100 to 499 employees, Employed full-time\",\"line\":{\"color\":\"#FFA500\",\"dash\":\"solid\"},\"marker\":{\"symbol\":\"circle\"},\"mode\":\"lines+markers\",\"name\":\"100 to 499 employees, Employed full-time\",\"orientation\":\"v\",\"showlegend\":true,\"x\":[2020,2021,2022,2023,2024],\"xaxis\":\"x\",\"y\":[75000.0,85000.0,92000.0,80317.0,74305.0],\"yaxis\":\"y\",\"type\":\"scatter\"},{\"hovertemplate\":\"Organization Size=2 to 9 employees\\u003cbr\\u003eEmployment Type=Employed full-time\\u003cbr\\u003eSurvey Year=%{x}\\u003cbr\\u003eMedian Annual Salary (USD)=%{y}\\u003cextra\\u003e\\u003c\\u002fextra\\u003e\",\"legendgroup\":\"2 to 9 employees, Employed full-time\",\"line\":{\"color\":\"#FFDAB9\",\"dash\":\"solid\"},\"marker\":{\"symbol\":\"circle\"},\"mode\":\"lines+markers\",\"name\":\"2 to 9 employees, Employed full-time\",\"orientation\":\"v\",\"showlegend\":true,\"x\":[2020,2021,2022,2023,2024],\"xaxis\":\"x\",\"y\":[47358.0,55000.0,60000.0,58899.0,53703.0],\"yaxis\":\"y\",\"type\":\"scatter\"},{\"hovertemplate\":\"Organization Size=20 to 99 employees\\u003cbr\\u003eEmployment Type=Employed full-time\\u003cbr\\u003eSurvey Year=%{x}\\u003cbr\\u003eMedian Annual Salary (USD)=%{y}\\u003cextra\\u003e\\u003c\\u002fextra\\u003e\",\"legendgroup\":\"20 to 99 employees, Employed full-time\",\"line\":{\"color\":\"#FA8072\",\"dash\":\"solid\"},\"marker\":{\"symbol\":\"circle\"},\"mode\":\"lines+markers\",\"name\":\"20 to 99 employees, Employed full-time\",\"orientation\":\"v\",\"showlegend\":true,\"x\":[2020,2021,2022,2023,2024],\"xaxis\":\"x\",\"y\":[62333.5,72000.0,78000.0,69608.0,65424.0],\"yaxis\":\"y\",\"type\":\"scatter\"},{\"hovertemplate\":\"Organization Size=5,000 to 9,999 employees\\u003cbr\\u003eEmployment Type=Employed full-time\\u003cbr\\u003eSurvey Year=%{x}\\u003cbr\\u003eMedian Annual Salary (USD)=%{y}\\u003cextra\\u003e\\u003c\\u002fextra\\u003e\",\"legendgroup\":\"5,000 to 9,999 employees, Employed full-time\",\"line\":{\"color\":\"#FFA07A\",\"dash\":\"solid\"},\"marker\":{\"symbol\":\"circle\"},\"mode\":\"lines+markers\",\"name\":\"5,000 to 9,999 employees, Employed full-time\",\"orientation\":\"v\",\"showlegend\":true,\"x\":[2020,2021,2022,2023,2024],\"xaxis\":\"x\",\"y\":[95000.0,110000.0,120000.0,92000.0,89147.0],\"yaxis\":\"y\",\"type\":\"scatter\"},{\"hovertemplate\":\"Organization Size=500 to 999 employees\\u003cbr\\u003eEmployment Type=Employed full-time\\u003cbr\\u003eSurvey Year=%{x}\\u003cbr\\u003eMedian Annual Salary (USD)=%{y}\\u003cextra\\u003e\\u003c\\u002fextra\\u003e\",\"legendgroup\":\"500 to 999 employees, Employed full-time\",\"line\":{\"color\":\"#FF7F50\",\"dash\":\"solid\"},\"marker\":{\"symbol\":\"circle\"},\"mode\":\"lines+markers\",\"name\":\"500 to 999 employees, Employed full-time\",\"orientation\":\"v\",\"showlegend\":true,\"x\":[2020,2021,2022,2023,2024],\"xaxis\":\"x\",\"y\":[75500.0,90000.0,100000.0,81931.0,79962.0],\"yaxis\":\"y\",\"type\":\"scatter\"}],                        {\"template\":{\"data\":{\"histogram2dcontour\":[{\"type\":\"histogram2dcontour\",\"colorbar\":{\"outlinewidth\":0,\"ticks\":\"\"},\"colorscale\":[[0.0,\"#0d0887\"],[0.1111111111111111,\"#46039f\"],[0.2222222222222222,\"#7201a8\"],[0.3333333333333333,\"#9c179e\"],[0.4444444444444444,\"#bd3786\"],[0.5555555555555556,\"#d8576b\"],[0.6666666666666666,\"#ed7953\"],[0.7777777777777778,\"#fb9f3a\"],[0.8888888888888888,\"#fdca26\"],[1.0,\"#f0f921\"]]}],\"choropleth\":[{\"type\":\"choropleth\",\"colorbar\":{\"outlinewidth\":0,\"ticks\":\"\"}}],\"histogram2d\":[{\"type\":\"histogram2d\",\"colorbar\":{\"outlinewidth\":0,\"ticks\":\"\"},\"colorscale\":[[0.0,\"#0d0887\"],[0.1111111111111111,\"#46039f\"],[0.2222222222222222,\"#7201a8\"],[0.3333333333333333,\"#9c179e\"],[0.4444444444444444,\"#bd3786\"],[0.5555555555555556,\"#d8576b\"],[0.6666666666666666,\"#ed7953\"],[0.7777777777777778,\"#fb9f3a\"],[0.8888888888888888,\"#fdca26\"],[1.0,\"#f0f921\"]]}],\"heatmap\":[{\"type\":\"heatmap\",\"colorbar\":{\"outlinewidth\":0,\"ticks\":\"\"},\"colorscale\":[[0.0,\"#0d0887\"],[0.1111111111111111,\"#46039f\"],[0.2222222222222222,\"#7201a8\"],[0.3333333333333333,\"#9c179e\"],[0.4444444444444444,\"#bd3786\"],[0.5555555555555556,\"#d8576b\"],[0.6666666666666666,\"#ed7953\"],[0.7777777777777778,\"#fb9f3a\"],[0.8888888888888888,\"#fdca26\"],[1.0,\"#f0f921\"]]}],\"heatmapgl\":[{\"type\":\"heatmapgl\",\"colorbar\":{\"outlinewidth\":0,\"ticks\":\"\"},\"colorscale\":[[0.0,\"#0d0887\"],[0.1111111111111111,\"#46039f\"],[0.2222222222222222,\"#7201a8\"],[0.3333333333333333,\"#9c179e\"],[0.4444444444444444,\"#bd3786\"],[0.5555555555555556,\"#d8576b\"],[0.6666666666666666,\"#ed7953\"],[0.7777777777777778,\"#fb9f3a\"],[0.8888888888888888,\"#fdca26\"],[1.0,\"#f0f921\"]]}],\"contourcarpet\":[{\"type\":\"contourcarpet\",\"colorbar\":{\"outlinewidth\":0,\"ticks\":\"\"}}],\"contour\":[{\"type\":\"contour\",\"colorbar\":{\"outlinewidth\":0,\"ticks\":\"\"},\"colorscale\":[[0.0,\"#0d0887\"],[0.1111111111111111,\"#46039f\"],[0.2222222222222222,\"#7201a8\"],[0.3333333333333333,\"#9c179e\"],[0.4444444444444444,\"#bd3786\"],[0.5555555555555556,\"#d8576b\"],[0.6666666666666666,\"#ed7953\"],[0.7777777777777778,\"#fb9f3a\"],[0.8888888888888888,\"#fdca26\"],[1.0,\"#f0f921\"]]}],\"surface\":[{\"type\":\"surface\",\"colorbar\":{\"outlinewidth\":0,\"ticks\":\"\"},\"colorscale\":[[0.0,\"#0d0887\"],[0.1111111111111111,\"#46039f\"],[0.2222222222222222,\"#7201a8\"],[0.3333333333333333,\"#9c179e\"],[0.4444444444444444,\"#bd3786\"],[0.5555555555555556,\"#d8576b\"],[0.6666666666666666,\"#ed7953\"],[0.7777777777777778,\"#fb9f3a\"],[0.8888888888888888,\"#fdca26\"],[1.0,\"#f0f921\"]]}],\"mesh3d\":[{\"type\":\"mesh3d\",\"colorbar\":{\"outlinewidth\":0,\"ticks\":\"\"}}],\"scatter\":[{\"fillpattern\":{\"fillmode\":\"overlay\",\"size\":10,\"solidity\":0.2},\"type\":\"scatter\"}],\"parcoords\":[{\"type\":\"parcoords\",\"line\":{\"colorbar\":{\"outlinewidth\":0,\"ticks\":\"\"}}}],\"scatterpolargl\":[{\"type\":\"scatterpolargl\",\"marker\":{\"colorbar\":{\"outlinewidth\":0,\"ticks\":\"\"}}}],\"bar\":[{\"error_x\":{\"color\":\"#2a3f5f\"},\"error_y\":{\"color\":\"#2a3f5f\"},\"marker\":{\"line\":{\"color\":\"#E5ECF6\",\"width\":0.5},\"pattern\":{\"fillmode\":\"overlay\",\"size\":10,\"solidity\":0.2}},\"type\":\"bar\"}],\"scattergeo\":[{\"type\":\"scattergeo\",\"marker\":{\"colorbar\":{\"outlinewidth\":0,\"ticks\":\"\"}}}],\"scatterpolar\":[{\"type\":\"scatterpolar\",\"marker\":{\"colorbar\":{\"outlinewidth\":0,\"ticks\":\"\"}}}],\"histogram\":[{\"marker\":{\"pattern\":{\"fillmode\":\"overlay\",\"size\":10,\"solidity\":0.2}},\"type\":\"histogram\"}],\"scattergl\":[{\"type\":\"scattergl\",\"marker\":{\"colorbar\":{\"outlinewidth\":0,\"ticks\":\"\"}}}],\"scatter3d\":[{\"type\":\"scatter3d\",\"line\":{\"colorbar\":{\"outlinewidth\":0,\"ticks\":\"\"}},\"marker\":{\"colorbar\":{\"outlinewidth\":0,\"ticks\":\"\"}}}],\"scattermapbox\":[{\"type\":\"scattermapbox\",\"marker\":{\"colorbar\":{\"outlinewidth\":0,\"ticks\":\"\"}}}],\"scatterternary\":[{\"type\":\"scatterternary\",\"marker\":{\"colorbar\":{\"outlinewidth\":0,\"ticks\":\"\"}}}],\"scattercarpet\":[{\"type\":\"scattercarpet\",\"marker\":{\"colorbar\":{\"outlinewidth\":0,\"ticks\":\"\"}}}],\"carpet\":[{\"aaxis\":{\"endlinecolor\":\"#2a3f5f\",\"gridcolor\":\"white\",\"linecolor\":\"white\",\"minorgridcolor\":\"white\",\"startlinecolor\":\"#2a3f5f\"},\"baxis\":{\"endlinecolor\":\"#2a3f5f\",\"gridcolor\":\"white\",\"linecolor\":\"white\",\"minorgridcolor\":\"white\",\"startlinecolor\":\"#2a3f5f\"},\"type\":\"carpet\"}],\"table\":[{\"cells\":{\"fill\":{\"color\":\"#EBF0F8\"},\"line\":{\"color\":\"white\"}},\"header\":{\"fill\":{\"color\":\"#C8D4E3\"},\"line\":{\"color\":\"white\"}},\"type\":\"table\"}],\"barpolar\":[{\"marker\":{\"line\":{\"color\":\"#E5ECF6\",\"width\":0.5},\"pattern\":{\"fillmode\":\"overlay\",\"size\":10,\"solidity\":0.2}},\"type\":\"barpolar\"}],\"pie\":[{\"automargin\":true,\"type\":\"pie\"}]},\"layout\":{\"autotypenumbers\":\"strict\",\"colorway\":[\"#636efa\",\"#EF553B\",\"#00cc96\",\"#ab63fa\",\"#FFA15A\",\"#19d3f3\",\"#FF6692\",\"#B6E880\",\"#FF97FF\",\"#FECB52\"],\"font\":{\"color\":\"#2a3f5f\"},\"hovermode\":\"closest\",\"hoverlabel\":{\"align\":\"left\"},\"paper_bgcolor\":\"white\",\"plot_bgcolor\":\"#E5ECF6\",\"polar\":{\"bgcolor\":\"#E5ECF6\",\"angularaxis\":{\"gridcolor\":\"white\",\"linecolor\":\"white\",\"ticks\":\"\"},\"radialaxis\":{\"gridcolor\":\"white\",\"linecolor\":\"white\",\"ticks\":\"\"}},\"ternary\":{\"bgcolor\":\"#E5ECF6\",\"aaxis\":{\"gridcolor\":\"white\",\"linecolor\":\"white\",\"ticks\":\"\"},\"baxis\":{\"gridcolor\":\"white\",\"linecolor\":\"white\",\"ticks\":\"\"},\"caxis\":{\"gridcolor\":\"white\",\"linecolor\":\"white\",\"ticks\":\"\"}},\"coloraxis\":{\"colorbar\":{\"outlinewidth\":0,\"ticks\":\"\"}},\"colorscale\":{\"sequential\":[[0.0,\"#0d0887\"],[0.1111111111111111,\"#46039f\"],[0.2222222222222222,\"#7201a8\"],[0.3333333333333333,\"#9c179e\"],[0.4444444444444444,\"#bd3786\"],[0.5555555555555556,\"#d8576b\"],[0.6666666666666666,\"#ed7953\"],[0.7777777777777778,\"#fb9f3a\"],[0.8888888888888888,\"#fdca26\"],[1.0,\"#f0f921\"]],\"sequentialminus\":[[0.0,\"#0d0887\"],[0.1111111111111111,\"#46039f\"],[0.2222222222222222,\"#7201a8\"],[0.3333333333333333,\"#9c179e\"],[0.4444444444444444,\"#bd3786\"],[0.5555555555555556,\"#d8576b\"],[0.6666666666666666,\"#ed7953\"],[0.7777777777777778,\"#fb9f3a\"],[0.8888888888888888,\"#fdca26\"],[1.0,\"#f0f921\"]],\"diverging\":[[0,\"#8e0152\"],[0.1,\"#c51b7d\"],[0.2,\"#de77ae\"],[0.3,\"#f1b6da\"],[0.4,\"#fde0ef\"],[0.5,\"#f7f7f7\"],[0.6,\"#e6f5d0\"],[0.7,\"#b8e186\"],[0.8,\"#7fbc41\"],[0.9,\"#4d9221\"],[1,\"#276419\"]]},\"xaxis\":{\"gridcolor\":\"white\",\"linecolor\":\"white\",\"ticks\":\"\",\"title\":{\"standoff\":15},\"zerolinecolor\":\"white\",\"automargin\":true,\"zerolinewidth\":2},\"yaxis\":{\"gridcolor\":\"white\",\"linecolor\":\"white\",\"ticks\":\"\",\"title\":{\"standoff\":15},\"zerolinecolor\":\"white\",\"automargin\":true,\"zerolinewidth\":2},\"scene\":{\"xaxis\":{\"backgroundcolor\":\"#E5ECF6\",\"gridcolor\":\"white\",\"linecolor\":\"white\",\"showbackground\":true,\"ticks\":\"\",\"zerolinecolor\":\"white\",\"gridwidth\":2},\"yaxis\":{\"backgroundcolor\":\"#E5ECF6\",\"gridcolor\":\"white\",\"linecolor\":\"white\",\"showbackground\":true,\"ticks\":\"\",\"zerolinecolor\":\"white\",\"gridwidth\":2},\"zaxis\":{\"backgroundcolor\":\"#E5ECF6\",\"gridcolor\":\"white\",\"linecolor\":\"white\",\"showbackground\":true,\"ticks\":\"\",\"zerolinecolor\":\"white\",\"gridwidth\":2}},\"shapedefaults\":{\"line\":{\"color\":\"#2a3f5f\"}},\"annotationdefaults\":{\"arrowcolor\":\"#2a3f5f\",\"arrowhead\":0,\"arrowwidth\":1},\"geo\":{\"bgcolor\":\"white\",\"landcolor\":\"#E5ECF6\",\"subunitcolor\":\"white\",\"showland\":true,\"showlakes\":true,\"lakecolor\":\"white\"},\"title\":{\"x\":0.05},\"mapbox\":{\"style\":\"light\"}}},\"xaxis\":{\"anchor\":\"y\",\"domain\":[0.0,1.0],\"title\":{\"text\":\"Survey Year\"},\"showgrid\":false,\"dtick\":1,\"tickmode\":\"linear\"},\"yaxis\":{\"anchor\":\"x\",\"domain\":[0.0,1.0],\"title\":{\"text\":\"Median Annual Salary (USD)\"},\"showgrid\":false},\"legend\":{\"title\":{\"text\":\"Org Size\"},\"tracegroupgap\":0},\"title\":{\"text\":\"Median Salary Over Time by Employment and Organization Size\"},\"font\":{\"color\":\"white\"},\"plot_bgcolor\":\"rgba(0,0,0,0)\",\"paper_bgcolor\":\"rgba(0,0,0,0)\",\"height\":600,\"width\":1100},                        {\"responsive\": true}                    ).then(function(){\n",
       "                            \n",
       "var gd = document.getElementById('3aa9bed1-8ef5-4dd4-bc9e-37482c5eb83c');\n",
       "var x = new MutationObserver(function (mutations, observer) {{\n",
       "        var display = window.getComputedStyle(gd).display;\n",
       "        if (!display || display === 'none') {{\n",
       "            console.log([gd, 'removed!']);\n",
       "            Plotly.purge(gd);\n",
       "            observer.disconnect();\n",
       "        }}\n",
       "}});\n",
       "\n",
       "// Listen for the removal of the full notebook cells\n",
       "var notebookContainer = gd.closest('#notebook-container');\n",
       "if (notebookContainer) {{\n",
       "    x.observe(notebookContainer, {childList: true});\n",
       "}}\n",
       "\n",
       "// Listen for the clearing of the current output cell\n",
       "var outputEl = gd.closest('.output');\n",
       "if (outputEl) {{\n",
       "    x.observe(outputEl, {childList: true});\n",
       "}}\n",
       "\n",
       "                        })                };                });            </script>        </div>"
      ]
     },
     "metadata": {},
     "output_type": "display_data"
    }
   ],
   "source": [
    "updated_Org_Size = {\n",
    "    '1,000 to 4,999 employees',\n",
    "    '10 to 19 employees',\n",
    "    '10,000 or more employees',\n",
    "    '100 to 499 employees',\n",
    "    '2 to 9 employees',\n",
    "    '20 to 99 employees',\n",
    "    '5,000 to 9,999 employees',\n",
    "    '500 to 999 employees'\n",
    "}\n",
    "\n",
    "# Step 2: Filter DataFrame\n",
    "filtered_median_salary_df = median_salary_df[\n",
    "    median_salary_df['OrgSize'].isin(updated_Org_Size)\n",
    "]\n",
    "\n",
    "# Step 3: Assign a color to each OrgSize\n",
    "color_map = {\n",
    "    '1,000 to 4,999 employees': '#FFD700',\n",
    "    '10 to 19 employees': '#FBC02D',\n",
    "    '10,000 or more employees': '#FF8C00',\n",
    "    '100 to 499 employees': '#FFA500',\n",
    "    '2 to 9 employees': '#FFDAB9',\n",
    "    '20 to 99 employees': '#FA8072',\n",
    "    '5,000 to 9,999 employees': '#FFA07A',\n",
    "    '500 to 999 employees': '#FF7F50'\n",
    "}\n",
    "\n",
    "# Step 4: Plot\n",
    "fig = px.line(\n",
    "    filtered_median_salary_df,\n",
    "    x='Year',\n",
    "    y='median_salary',\n",
    "    color='OrgSize',              # << color by OrgSize\n",
    "    line_dash='Employment_std',  # << dashed lines by Employment type\n",
    "    markers=True,\n",
    "    color_discrete_map=color_map,\n",
    "    title='Median Salary Over Time by Employment and Organization Size',\n",
    "    labels={\n",
    "        'median_salary': 'Median Annual Salary (USD)',\n",
    "        'Year': 'Survey Year',\n",
    "        'Employment_std': 'Employment Type',\n",
    "        'OrgSize': 'Organization Size'\n",
    "    }\n",
    ")\n",
    "\n",
    "fig.update_layout(\n",
    "    plot_bgcolor='rgba(0,0,0,0)',\n",
    "    paper_bgcolor='rgba(0,0,0,0)',\n",
    "    font=dict(color='white'),\n",
    "    legend_title_text='Org Size',\n",
    "    height=600,\n",
    "    width=1100\n",
    ")\n",
    "\n",
    "fig.update_xaxes(showgrid=False, dtick=1, tickmode='linear')\n",
    "fig.update_yaxes(showgrid=False)\n",
    "\n",
    "fig.show()\n"
   ]
  },
  {
   "cell_type": "code",
   "execution_count": 863,
   "id": "bf21f436-9437-4fb2-9c5c-6f15c8451a5d",
   "metadata": {},
   "outputs": [
    {
     "data": {
      "application/vnd.plotly.v1+json": {
       "config": {
        "plotlyServerURL": "https://plot.ly"
       },
       "data": [
        {
         "alignmentgroup": "True",
         "hovertemplate": "Country=Canada<br>Year=%{x}<br>Count=%{y}<extra></extra>",
         "legendgroup": "Canada",
         "marker": {
          "color": "#FFD700",
          "pattern": {
           "shape": ""
          }
         },
         "name": "Canada",
         "offsetgroup": "Canada",
         "orientation": "v",
         "showlegend": true,
         "textposition": "auto",
         "type": "bar",
         "x": [
          2020,
          2021,
          2022,
          2023,
          2024
         ],
         "xaxis": "x",
         "y": [
          1148,
          1507,
          1188,
          1787,
          676
         ],
         "yaxis": "y"
        },
        {
         "alignmentgroup": "True",
         "hovertemplate": "Country=France<br>Year=%{x}<br>Count=%{y}<extra></extra>",
         "legendgroup": "France",
         "marker": {
          "color": "#FBC02D",
          "pattern": {
           "shape": ""
          }
         },
         "name": "France",
         "offsetgroup": "France",
         "orientation": "v",
         "showlegend": true,
         "textposition": "auto",
         "type": "bar",
         "x": [
          2020,
          2021,
          2022,
          2023,
          2024
         ],
         "xaxis": "x",
         "y": [
          918,
          1327,
          1080,
          1448,
          712
         ],
         "yaxis": "y"
        },
        {
         "alignmentgroup": "True",
         "hovertemplate": "Country=Germany<br>Year=%{x}<br>Count=%{y}<extra></extra>",
         "legendgroup": "Germany",
         "marker": {
          "color": "#FF8C00",
          "pattern": {
           "shape": ""
          }
         },
         "name": "Germany",
         "offsetgroup": "Germany",
         "orientation": "v",
         "showlegend": true,
         "textposition": "auto",
         "type": "bar",
         "x": [
          2020,
          2021,
          2022,
          2023,
          2024
         ],
         "xaxis": "x",
         "y": [
          1917,
          2656,
          2280,
          3176,
          1476
         ],
         "yaxis": "y"
        },
        {
         "alignmentgroup": "True",
         "hovertemplate": "Country=United States<br>Year=%{x}<br>Count=%{y}<extra></extra>",
         "legendgroup": "United States",
         "marker": {
          "color": "#FFA500",
          "pattern": {
           "shape": ""
          }
         },
         "name": "United States",
         "offsetgroup": "United States",
         "orientation": "v",
         "showlegend": true,
         "textposition": "auto",
         "type": "bar",
         "x": [
          2020,
          2021,
          2022,
          2023,
          2024
         ],
         "xaxis": "x",
         "y": [
          7163,
          8805,
          7379,
          10447,
          3855
         ],
         "yaxis": "y"
        },
        {
         "alignmentgroup": "True",
         "hovertemplate": "Country=United Kingdom of Great Britain and Northern Ireland<br>Year=%{x}<br>Count=%{y}<extra></extra>",
         "legendgroup": "United Kingdom of Great Britain and Northern Ireland",
         "marker": {
          "color": "#FFDAB9",
          "pattern": {
           "shape": ""
          }
         },
         "name": "United Kingdom of Great Britain and Northern Ireland",
         "offsetgroup": "United Kingdom of Great Britain and Northern Ireland",
         "orientation": "v",
         "showlegend": true,
         "textposition": "auto",
         "type": "bar",
         "x": [
          2021,
          2022,
          2023,
          2024
         ],
         "xaxis": "x",
         "y": [
          2449,
          2157,
          3060,
          1136
         ],
         "yaxis": "y"
        }
       ],
       "layout": {
        "barmode": "group",
        "font": {
         "color": "white"
        },
        "height": 600,
        "legend": {
         "title": {
          "text": "Country"
         },
         "tracegroupgap": 0
        },
        "paper_bgcolor": "rgba(0,0,0,0)",
        "plot_bgcolor": "rgba(0,0,0,0)",
        "template": {
         "data": {
          "bar": [
           {
            "error_x": {
             "color": "#2a3f5f"
            },
            "error_y": {
             "color": "#2a3f5f"
            },
            "marker": {
             "line": {
              "color": "#E5ECF6",
              "width": 0.5
             },
             "pattern": {
              "fillmode": "overlay",
              "size": 10,
              "solidity": 0.2
             }
            },
            "type": "bar"
           }
          ],
          "barpolar": [
           {
            "marker": {
             "line": {
              "color": "#E5ECF6",
              "width": 0.5
             },
             "pattern": {
              "fillmode": "overlay",
              "size": 10,
              "solidity": 0.2
             }
            },
            "type": "barpolar"
           }
          ],
          "carpet": [
           {
            "aaxis": {
             "endlinecolor": "#2a3f5f",
             "gridcolor": "white",
             "linecolor": "white",
             "minorgridcolor": "white",
             "startlinecolor": "#2a3f5f"
            },
            "baxis": {
             "endlinecolor": "#2a3f5f",
             "gridcolor": "white",
             "linecolor": "white",
             "minorgridcolor": "white",
             "startlinecolor": "#2a3f5f"
            },
            "type": "carpet"
           }
          ],
          "choropleth": [
           {
            "colorbar": {
             "outlinewidth": 0,
             "ticks": ""
            },
            "type": "choropleth"
           }
          ],
          "contour": [
           {
            "colorbar": {
             "outlinewidth": 0,
             "ticks": ""
            },
            "colorscale": [
             [
              0,
              "#0d0887"
             ],
             [
              0.1111111111111111,
              "#46039f"
             ],
             [
              0.2222222222222222,
              "#7201a8"
             ],
             [
              0.3333333333333333,
              "#9c179e"
             ],
             [
              0.4444444444444444,
              "#bd3786"
             ],
             [
              0.5555555555555556,
              "#d8576b"
             ],
             [
              0.6666666666666666,
              "#ed7953"
             ],
             [
              0.7777777777777778,
              "#fb9f3a"
             ],
             [
              0.8888888888888888,
              "#fdca26"
             ],
             [
              1,
              "#f0f921"
             ]
            ],
            "type": "contour"
           }
          ],
          "contourcarpet": [
           {
            "colorbar": {
             "outlinewidth": 0,
             "ticks": ""
            },
            "type": "contourcarpet"
           }
          ],
          "heatmap": [
           {
            "colorbar": {
             "outlinewidth": 0,
             "ticks": ""
            },
            "colorscale": [
             [
              0,
              "#0d0887"
             ],
             [
              0.1111111111111111,
              "#46039f"
             ],
             [
              0.2222222222222222,
              "#7201a8"
             ],
             [
              0.3333333333333333,
              "#9c179e"
             ],
             [
              0.4444444444444444,
              "#bd3786"
             ],
             [
              0.5555555555555556,
              "#d8576b"
             ],
             [
              0.6666666666666666,
              "#ed7953"
             ],
             [
              0.7777777777777778,
              "#fb9f3a"
             ],
             [
              0.8888888888888888,
              "#fdca26"
             ],
             [
              1,
              "#f0f921"
             ]
            ],
            "type": "heatmap"
           }
          ],
          "heatmapgl": [
           {
            "colorbar": {
             "outlinewidth": 0,
             "ticks": ""
            },
            "colorscale": [
             [
              0,
              "#0d0887"
             ],
             [
              0.1111111111111111,
              "#46039f"
             ],
             [
              0.2222222222222222,
              "#7201a8"
             ],
             [
              0.3333333333333333,
              "#9c179e"
             ],
             [
              0.4444444444444444,
              "#bd3786"
             ],
             [
              0.5555555555555556,
              "#d8576b"
             ],
             [
              0.6666666666666666,
              "#ed7953"
             ],
             [
              0.7777777777777778,
              "#fb9f3a"
             ],
             [
              0.8888888888888888,
              "#fdca26"
             ],
             [
              1,
              "#f0f921"
             ]
            ],
            "type": "heatmapgl"
           }
          ],
          "histogram": [
           {
            "marker": {
             "pattern": {
              "fillmode": "overlay",
              "size": 10,
              "solidity": 0.2
             }
            },
            "type": "histogram"
           }
          ],
          "histogram2d": [
           {
            "colorbar": {
             "outlinewidth": 0,
             "ticks": ""
            },
            "colorscale": [
             [
              0,
              "#0d0887"
             ],
             [
              0.1111111111111111,
              "#46039f"
             ],
             [
              0.2222222222222222,
              "#7201a8"
             ],
             [
              0.3333333333333333,
              "#9c179e"
             ],
             [
              0.4444444444444444,
              "#bd3786"
             ],
             [
              0.5555555555555556,
              "#d8576b"
             ],
             [
              0.6666666666666666,
              "#ed7953"
             ],
             [
              0.7777777777777778,
              "#fb9f3a"
             ],
             [
              0.8888888888888888,
              "#fdca26"
             ],
             [
              1,
              "#f0f921"
             ]
            ],
            "type": "histogram2d"
           }
          ],
          "histogram2dcontour": [
           {
            "colorbar": {
             "outlinewidth": 0,
             "ticks": ""
            },
            "colorscale": [
             [
              0,
              "#0d0887"
             ],
             [
              0.1111111111111111,
              "#46039f"
             ],
             [
              0.2222222222222222,
              "#7201a8"
             ],
             [
              0.3333333333333333,
              "#9c179e"
             ],
             [
              0.4444444444444444,
              "#bd3786"
             ],
             [
              0.5555555555555556,
              "#d8576b"
             ],
             [
              0.6666666666666666,
              "#ed7953"
             ],
             [
              0.7777777777777778,
              "#fb9f3a"
             ],
             [
              0.8888888888888888,
              "#fdca26"
             ],
             [
              1,
              "#f0f921"
             ]
            ],
            "type": "histogram2dcontour"
           }
          ],
          "mesh3d": [
           {
            "colorbar": {
             "outlinewidth": 0,
             "ticks": ""
            },
            "type": "mesh3d"
           }
          ],
          "parcoords": [
           {
            "line": {
             "colorbar": {
              "outlinewidth": 0,
              "ticks": ""
             }
            },
            "type": "parcoords"
           }
          ],
          "pie": [
           {
            "automargin": true,
            "type": "pie"
           }
          ],
          "scatter": [
           {
            "fillpattern": {
             "fillmode": "overlay",
             "size": 10,
             "solidity": 0.2
            },
            "type": "scatter"
           }
          ],
          "scatter3d": [
           {
            "line": {
             "colorbar": {
              "outlinewidth": 0,
              "ticks": ""
             }
            },
            "marker": {
             "colorbar": {
              "outlinewidth": 0,
              "ticks": ""
             }
            },
            "type": "scatter3d"
           }
          ],
          "scattercarpet": [
           {
            "marker": {
             "colorbar": {
              "outlinewidth": 0,
              "ticks": ""
             }
            },
            "type": "scattercarpet"
           }
          ],
          "scattergeo": [
           {
            "marker": {
             "colorbar": {
              "outlinewidth": 0,
              "ticks": ""
             }
            },
            "type": "scattergeo"
           }
          ],
          "scattergl": [
           {
            "marker": {
             "colorbar": {
              "outlinewidth": 0,
              "ticks": ""
             }
            },
            "type": "scattergl"
           }
          ],
          "scattermapbox": [
           {
            "marker": {
             "colorbar": {
              "outlinewidth": 0,
              "ticks": ""
             }
            },
            "type": "scattermapbox"
           }
          ],
          "scatterpolar": [
           {
            "marker": {
             "colorbar": {
              "outlinewidth": 0,
              "ticks": ""
             }
            },
            "type": "scatterpolar"
           }
          ],
          "scatterpolargl": [
           {
            "marker": {
             "colorbar": {
              "outlinewidth": 0,
              "ticks": ""
             }
            },
            "type": "scatterpolargl"
           }
          ],
          "scatterternary": [
           {
            "marker": {
             "colorbar": {
              "outlinewidth": 0,
              "ticks": ""
             }
            },
            "type": "scatterternary"
           }
          ],
          "surface": [
           {
            "colorbar": {
             "outlinewidth": 0,
             "ticks": ""
            },
            "colorscale": [
             [
              0,
              "#0d0887"
             ],
             [
              0.1111111111111111,
              "#46039f"
             ],
             [
              0.2222222222222222,
              "#7201a8"
             ],
             [
              0.3333333333333333,
              "#9c179e"
             ],
             [
              0.4444444444444444,
              "#bd3786"
             ],
             [
              0.5555555555555556,
              "#d8576b"
             ],
             [
              0.6666666666666666,
              "#ed7953"
             ],
             [
              0.7777777777777778,
              "#fb9f3a"
             ],
             [
              0.8888888888888888,
              "#fdca26"
             ],
             [
              1,
              "#f0f921"
             ]
            ],
            "type": "surface"
           }
          ],
          "table": [
           {
            "cells": {
             "fill": {
              "color": "#EBF0F8"
             },
             "line": {
              "color": "white"
             }
            },
            "header": {
             "fill": {
              "color": "#C8D4E3"
             },
             "line": {
              "color": "white"
             }
            },
            "type": "table"
           }
          ]
         },
         "layout": {
          "annotationdefaults": {
           "arrowcolor": "#2a3f5f",
           "arrowhead": 0,
           "arrowwidth": 1
          },
          "autotypenumbers": "strict",
          "coloraxis": {
           "colorbar": {
            "outlinewidth": 0,
            "ticks": ""
           }
          },
          "colorscale": {
           "diverging": [
            [
             0,
             "#8e0152"
            ],
            [
             0.1,
             "#c51b7d"
            ],
            [
             0.2,
             "#de77ae"
            ],
            [
             0.3,
             "#f1b6da"
            ],
            [
             0.4,
             "#fde0ef"
            ],
            [
             0.5,
             "#f7f7f7"
            ],
            [
             0.6,
             "#e6f5d0"
            ],
            [
             0.7,
             "#b8e186"
            ],
            [
             0.8,
             "#7fbc41"
            ],
            [
             0.9,
             "#4d9221"
            ],
            [
             1,
             "#276419"
            ]
           ],
           "sequential": [
            [
             0,
             "#0d0887"
            ],
            [
             0.1111111111111111,
             "#46039f"
            ],
            [
             0.2222222222222222,
             "#7201a8"
            ],
            [
             0.3333333333333333,
             "#9c179e"
            ],
            [
             0.4444444444444444,
             "#bd3786"
            ],
            [
             0.5555555555555556,
             "#d8576b"
            ],
            [
             0.6666666666666666,
             "#ed7953"
            ],
            [
             0.7777777777777778,
             "#fb9f3a"
            ],
            [
             0.8888888888888888,
             "#fdca26"
            ],
            [
             1,
             "#f0f921"
            ]
           ],
           "sequentialminus": [
            [
             0,
             "#0d0887"
            ],
            [
             0.1111111111111111,
             "#46039f"
            ],
            [
             0.2222222222222222,
             "#7201a8"
            ],
            [
             0.3333333333333333,
             "#9c179e"
            ],
            [
             0.4444444444444444,
             "#bd3786"
            ],
            [
             0.5555555555555556,
             "#d8576b"
            ],
            [
             0.6666666666666666,
             "#ed7953"
            ],
            [
             0.7777777777777778,
             "#fb9f3a"
            ],
            [
             0.8888888888888888,
             "#fdca26"
            ],
            [
             1,
             "#f0f921"
            ]
           ]
          },
          "colorway": [
           "#636efa",
           "#EF553B",
           "#00cc96",
           "#ab63fa",
           "#FFA15A",
           "#19d3f3",
           "#FF6692",
           "#B6E880",
           "#FF97FF",
           "#FECB52"
          ],
          "font": {
           "color": "#2a3f5f"
          },
          "geo": {
           "bgcolor": "white",
           "lakecolor": "white",
           "landcolor": "#E5ECF6",
           "showlakes": true,
           "showland": true,
           "subunitcolor": "white"
          },
          "hoverlabel": {
           "align": "left"
          },
          "hovermode": "closest",
          "mapbox": {
           "style": "light"
          },
          "paper_bgcolor": "white",
          "plot_bgcolor": "#E5ECF6",
          "polar": {
           "angularaxis": {
            "gridcolor": "white",
            "linecolor": "white",
            "ticks": ""
           },
           "bgcolor": "#E5ECF6",
           "radialaxis": {
            "gridcolor": "white",
            "linecolor": "white",
            "ticks": ""
           }
          },
          "scene": {
           "xaxis": {
            "backgroundcolor": "#E5ECF6",
            "gridcolor": "white",
            "gridwidth": 2,
            "linecolor": "white",
            "showbackground": true,
            "ticks": "",
            "zerolinecolor": "white"
           },
           "yaxis": {
            "backgroundcolor": "#E5ECF6",
            "gridcolor": "white",
            "gridwidth": 2,
            "linecolor": "white",
            "showbackground": true,
            "ticks": "",
            "zerolinecolor": "white"
           },
           "zaxis": {
            "backgroundcolor": "#E5ECF6",
            "gridcolor": "white",
            "gridwidth": 2,
            "linecolor": "white",
            "showbackground": true,
            "ticks": "",
            "zerolinecolor": "white"
           }
          },
          "shapedefaults": {
           "line": {
            "color": "#2a3f5f"
           }
          },
          "ternary": {
           "aaxis": {
            "gridcolor": "white",
            "linecolor": "white",
            "ticks": ""
           },
           "baxis": {
            "gridcolor": "white",
            "linecolor": "white",
            "ticks": ""
           },
           "bgcolor": "#E5ECF6",
           "caxis": {
            "gridcolor": "white",
            "linecolor": "white",
            "ticks": ""
           }
          },
          "title": {
           "x": 0.05
          },
          "xaxis": {
           "automargin": true,
           "gridcolor": "white",
           "linecolor": "white",
           "ticks": "",
           "title": {
            "standoff": 15
           },
           "zerolinecolor": "white",
           "zerolinewidth": 2
          },
          "yaxis": {
           "automargin": true,
           "gridcolor": "white",
           "linecolor": "white",
           "ticks": "",
           "title": {
            "standoff": 15
           },
           "zerolinecolor": "white",
           "zerolinewidth": 2
          }
         }
        },
        "title": {
         "text": "Top 5 Countries by Respondents (per Year)"
        },
        "width": 1100,
        "xaxis": {
         "anchor": "y",
         "domain": [
          0,
          1
         ],
         "dtick": 1,
         "showgrid": false,
         "tickmode": "linear",
         "title": {
          "text": "Year"
         }
        },
        "yaxis": {
         "anchor": "x",
         "domain": [
          0,
          1
         ],
         "showgrid": false,
         "title": {
          "text": "Count"
         }
        }
       }
      },
      "image/png": "[encoded data removed]",
      "text/html": [
       "<div>                            <div id=\"3a238c58-2e0f-4550-b5bf-69c1c5419a6d\" class=\"plotly-graph-div\" style=\"height:600px; width:1100px;\"></div>            <script type=\"text/javascript\">                require([\"plotly\"], function(Plotly) {                    window.PLOTLYENV=window.PLOTLYENV || {};                                    if (document.getElementById(\"3a238c58-2e0f-4550-b5bf-69c1c5419a6d\")) {                    Plotly.newPlot(                        \"3a238c58-2e0f-4550-b5bf-69c1c5419a6d\",                        [{\"alignmentgroup\":\"True\",\"hovertemplate\":\"Country=Canada\\u003cbr\\u003eYear=%{x}\\u003cbr\\u003eCount=%{y}\\u003cextra\\u003e\\u003c\\u002fextra\\u003e\",\"legendgroup\":\"Canada\",\"marker\":{\"color\":\"#FFD700\",\"pattern\":{\"shape\":\"\"}},\"name\":\"Canada\",\"offsetgroup\":\"Canada\",\"orientation\":\"v\",\"showlegend\":true,\"textposition\":\"auto\",\"x\":[2020,2021,2022,2023,2024],\"xaxis\":\"x\",\"y\":[1148,1507,1188,1787,676],\"yaxis\":\"y\",\"type\":\"bar\"},{\"alignmentgroup\":\"True\",\"hovertemplate\":\"Country=France\\u003cbr\\u003eYear=%{x}\\u003cbr\\u003eCount=%{y}\\u003cextra\\u003e\\u003c\\u002fextra\\u003e\",\"legendgroup\":\"France\",\"marker\":{\"color\":\"#FBC02D\",\"pattern\":{\"shape\":\"\"}},\"name\":\"France\",\"offsetgroup\":\"France\",\"orientation\":\"v\",\"showlegend\":true,\"textposition\":\"auto\",\"x\":[2020,2021,2022,2023,2024],\"xaxis\":\"x\",\"y\":[918,1327,1080,1448,712],\"yaxis\":\"y\",\"type\":\"bar\"},{\"alignmentgroup\":\"True\",\"hovertemplate\":\"Country=Germany\\u003cbr\\u003eYear=%{x}\\u003cbr\\u003eCount=%{y}\\u003cextra\\u003e\\u003c\\u002fextra\\u003e\",\"legendgroup\":\"Germany\",\"marker\":{\"color\":\"#FF8C00\",\"pattern\":{\"shape\":\"\"}},\"name\":\"Germany\",\"offsetgroup\":\"Germany\",\"orientation\":\"v\",\"showlegend\":true,\"textposition\":\"auto\",\"x\":[2020,2021,2022,2023,2024],\"xaxis\":\"x\",\"y\":[1917,2656,2280,3176,1476],\"yaxis\":\"y\",\"type\":\"bar\"},{\"alignmentgroup\":\"True\",\"hovertemplate\":\"Country=United States\\u003cbr\\u003eYear=%{x}\\u003cbr\\u003eCount=%{y}\\u003cextra\\u003e\\u003c\\u002fextra\\u003e\",\"legendgroup\":\"United States\",\"marker\":{\"color\":\"#FFA500\",\"pattern\":{\"shape\":\"\"}},\"name\":\"United States\",\"offsetgroup\":\"United States\",\"orientation\":\"v\",\"showlegend\":true,\"textposition\":\"auto\",\"x\":[2020,2021,2022,2023,2024],\"xaxis\":\"x\",\"y\":[7163,8805,7379,10447,3855],\"yaxis\":\"y\",\"type\":\"bar\"},{\"alignmentgroup\":\"True\",\"hovertemplate\":\"Country=United Kingdom of Great Britain and Northern Ireland\\u003cbr\\u003eYear=%{x}\\u003cbr\\u003eCount=%{y}\\u003cextra\\u003e\\u003c\\u002fextra\\u003e\",\"legendgroup\":\"United Kingdom of Great Britain and Northern Ireland\",\"marker\":{\"color\":\"#FFDAB9\",\"pattern\":{\"shape\":\"\"}},\"name\":\"United Kingdom of Great Britain and Northern Ireland\",\"offsetgroup\":\"United Kingdom of Great Britain and Northern Ireland\",\"orientation\":\"v\",\"showlegend\":true,\"textposition\":\"auto\",\"x\":[2021,2022,2023,2024],\"xaxis\":\"x\",\"y\":[2449,2157,3060,1136],\"yaxis\":\"y\",\"type\":\"bar\"}],                        {\"template\":{\"data\":{\"histogram2dcontour\":[{\"type\":\"histogram2dcontour\",\"colorbar\":{\"outlinewidth\":0,\"ticks\":\"\"},\"colorscale\":[[0.0,\"#0d0887\"],[0.1111111111111111,\"#46039f\"],[0.2222222222222222,\"#7201a8\"],[0.3333333333333333,\"#9c179e\"],[0.4444444444444444,\"#bd3786\"],[0.5555555555555556,\"#d8576b\"],[0.6666666666666666,\"#ed7953\"],[0.7777777777777778,\"#fb9f3a\"],[0.8888888888888888,\"#fdca26\"],[1.0,\"#f0f921\"]]}],\"choropleth\":[{\"type\":\"choropleth\",\"colorbar\":{\"outlinewidth\":0,\"ticks\":\"\"}}],\"histogram2d\":[{\"type\":\"histogram2d\",\"colorbar\":{\"outlinewidth\":0,\"ticks\":\"\"},\"colorscale\":[[0.0,\"#0d0887\"],[0.1111111111111111,\"#46039f\"],[0.2222222222222222,\"#7201a8\"],[0.3333333333333333,\"#9c179e\"],[0.4444444444444444,\"#bd3786\"],[0.5555555555555556,\"#d8576b\"],[0.6666666666666666,\"#ed7953\"],[0.7777777777777778,\"#fb9f3a\"],[0.8888888888888888,\"#fdca26\"],[1.0,\"#f0f921\"]]}],\"heatmap\":[{\"type\":\"heatmap\",\"colorbar\":{\"outlinewidth\":0,\"ticks\":\"\"},\"colorscale\":[[0.0,\"#0d0887\"],[0.1111111111111111,\"#46039f\"],[0.2222222222222222,\"#7201a8\"],[0.3333333333333333,\"#9c179e\"],[0.4444444444444444,\"#bd3786\"],[0.5555555555555556,\"#d8576b\"],[0.6666666666666666,\"#ed7953\"],[0.7777777777777778,\"#fb9f3a\"],[0.8888888888888888,\"#fdca26\"],[1.0,\"#f0f921\"]]}],\"heatmapgl\":[{\"type\":\"heatmapgl\",\"colorbar\":{\"outlinewidth\":0,\"ticks\":\"\"},\"colorscale\":[[0.0,\"#0d0887\"],[0.1111111111111111,\"#46039f\"],[0.2222222222222222,\"#7201a8\"],[0.3333333333333333,\"#9c179e\"],[0.4444444444444444,\"#bd3786\"],[0.5555555555555556,\"#d8576b\"],[0.6666666666666666,\"#ed7953\"],[0.7777777777777778,\"#fb9f3a\"],[0.8888888888888888,\"#fdca26\"],[1.0,\"#f0f921\"]]}],\"contourcarpet\":[{\"type\":\"contourcarpet\",\"colorbar\":{\"outlinewidth\":0,\"ticks\":\"\"}}],\"contour\":[{\"type\":\"contour\",\"colorbar\":{\"outlinewidth\":0,\"ticks\":\"\"},\"colorscale\":[[0.0,\"#0d0887\"],[0.1111111111111111,\"#46039f\"],[0.2222222222222222,\"#7201a8\"],[0.3333333333333333,\"#9c179e\"],[0.4444444444444444,\"#bd3786\"],[0.5555555555555556,\"#d8576b\"],[0.6666666666666666,\"#ed7953\"],[0.7777777777777778,\"#fb9f3a\"],[0.8888888888888888,\"#fdca26\"],[1.0,\"#f0f921\"]]}],\"surface\":[{\"type\":\"surface\",\"colorbar\":{\"outlinewidth\":0,\"ticks\":\"\"},\"colorscale\":[[0.0,\"#0d0887\"],[0.1111111111111111,\"#46039f\"],[0.2222222222222222,\"#7201a8\"],[0.3333333333333333,\"#9c179e\"],[0.4444444444444444,\"#bd3786\"],[0.5555555555555556,\"#d8576b\"],[0.6666666666666666,\"#ed7953\"],[0.7777777777777778,\"#fb9f3a\"],[0.8888888888888888,\"#fdca26\"],[1.0,\"#f0f921\"]]}],\"mesh3d\":[{\"type\":\"mesh3d\",\"colorbar\":{\"outlinewidth\":0,\"ticks\":\"\"}}],\"scatter\":[{\"fillpattern\":{\"fillmode\":\"overlay\",\"size\":10,\"solidity\":0.2},\"type\":\"scatter\"}],\"parcoords\":[{\"type\":\"parcoords\",\"line\":{\"colorbar\":{\"outlinewidth\":0,\"ticks\":\"\"}}}],\"scatterpolargl\":[{\"type\":\"scatterpolargl\",\"marker\":{\"colorbar\":{\"outlinewidth\":0,\"ticks\":\"\"}}}],\"bar\":[{\"error_x\":{\"color\":\"#2a3f5f\"},\"error_y\":{\"color\":\"#2a3f5f\"},\"marker\":{\"line\":{\"color\":\"#E5ECF6\",\"width\":0.5},\"pattern\":{\"fillmode\":\"overlay\",\"size\":10,\"solidity\":0.2}},\"type\":\"bar\"}],\"scattergeo\":[{\"type\":\"scattergeo\",\"marker\":{\"colorbar\":{\"outlinewidth\":0,\"ticks\":\"\"}}}],\"scatterpolar\":[{\"type\":\"scatterpolar\",\"marker\":{\"colorbar\":{\"outlinewidth\":0,\"ticks\":\"\"}}}],\"histogram\":[{\"marker\":{\"pattern\":{\"fillmode\":\"overlay\",\"size\":10,\"solidity\":0.2}},\"type\":\"histogram\"}],\"scattergl\":[{\"type\":\"scattergl\",\"marker\":{\"colorbar\":{\"outlinewidth\":0,\"ticks\":\"\"}}}],\"scatter3d\":[{\"type\":\"scatter3d\",\"line\":{\"colorbar\":{\"outlinewidth\":0,\"ticks\":\"\"}},\"marker\":{\"colorbar\":{\"outlinewidth\":0,\"ticks\":\"\"}}}],\"scattermapbox\":[{\"type\":\"scattermapbox\",\"marker\":{\"colorbar\":{\"outlinewidth\":0,\"ticks\":\"\"}}}],\"scatterternary\":[{\"type\":\"scatterternary\",\"marker\":{\"colorbar\":{\"outlinewidth\":0,\"ticks\":\"\"}}}],\"scattercarpet\":[{\"type\":\"scattercarpet\",\"marker\":{\"colorbar\":{\"outlinewidth\":0,\"ticks\":\"\"}}}],\"carpet\":[{\"aaxis\":{\"endlinecolor\":\"#2a3f5f\",\"gridcolor\":\"white\",\"linecolor\":\"white\",\"minorgridcolor\":\"white\",\"startlinecolor\":\"#2a3f5f\"},\"baxis\":{\"endlinecolor\":\"#2a3f5f\",\"gridcolor\":\"white\",\"linecolor\":\"white\",\"minorgridcolor\":\"white\",\"startlinecolor\":\"#2a3f5f\"},\"type\":\"carpet\"}],\"table\":[{\"cells\":{\"fill\":{\"color\":\"#EBF0F8\"},\"line\":{\"color\":\"white\"}},\"header\":{\"fill\":{\"color\":\"#C8D4E3\"},\"line\":{\"color\":\"white\"}},\"type\":\"table\"}],\"barpolar\":[{\"marker\":{\"line\":{\"color\":\"#E5ECF6\",\"width\":0.5},\"pattern\":{\"fillmode\":\"overlay\",\"size\":10,\"solidity\":0.2}},\"type\":\"barpolar\"}],\"pie\":[{\"automargin\":true,\"type\":\"pie\"}]},\"layout\":{\"autotypenumbers\":\"strict\",\"colorway\":[\"#636efa\",\"#EF553B\",\"#00cc96\",\"#ab63fa\",\"#FFA15A\",\"#19d3f3\",\"#FF6692\",\"#B6E880\",\"#FF97FF\",\"#FECB52\"],\"font\":{\"color\":\"#2a3f5f\"},\"hovermode\":\"closest\",\"hoverlabel\":{\"align\":\"left\"},\"paper_bgcolor\":\"white\",\"plot_bgcolor\":\"#E5ECF6\",\"polar\":{\"bgcolor\":\"#E5ECF6\",\"angularaxis\":{\"gridcolor\":\"white\",\"linecolor\":\"white\",\"ticks\":\"\"},\"radialaxis\":{\"gridcolor\":\"white\",\"linecolor\":\"white\",\"ticks\":\"\"}},\"ternary\":{\"bgcolor\":\"#E5ECF6\",\"aaxis\":{\"gridcolor\":\"white\",\"linecolor\":\"white\",\"ticks\":\"\"},\"baxis\":{\"gridcolor\":\"white\",\"linecolor\":\"white\",\"ticks\":\"\"},\"caxis\":{\"gridcolor\":\"white\",\"linecolor\":\"white\",\"ticks\":\"\"}},\"coloraxis\":{\"colorbar\":{\"outlinewidth\":0,\"ticks\":\"\"}},\"colorscale\":{\"sequential\":[[0.0,\"#0d0887\"],[0.1111111111111111,\"#46039f\"],[0.2222222222222222,\"#7201a8\"],[0.3333333333333333,\"#9c179e\"],[0.4444444444444444,\"#bd3786\"],[0.5555555555555556,\"#d8576b\"],[0.6666666666666666,\"#ed7953\"],[0.7777777777777778,\"#fb9f3a\"],[0.8888888888888888,\"#fdca26\"],[1.0,\"#f0f921\"]],\"sequentialminus\":[[0.0,\"#0d0887\"],[0.1111111111111111,\"#46039f\"],[0.2222222222222222,\"#7201a8\"],[0.3333333333333333,\"#9c179e\"],[0.4444444444444444,\"#bd3786\"],[0.5555555555555556,\"#d8576b\"],[0.6666666666666666,\"#ed7953\"],[0.7777777777777778,\"#fb9f3a\"],[0.8888888888888888,\"#fdca26\"],[1.0,\"#f0f921\"]],\"diverging\":[[0,\"#8e0152\"],[0.1,\"#c51b7d\"],[0.2,\"#de77ae\"],[0.3,\"#f1b6da\"],[0.4,\"#fde0ef\"],[0.5,\"#f7f7f7\"],[0.6,\"#e6f5d0\"],[0.7,\"#b8e186\"],[0.8,\"#7fbc41\"],[0.9,\"#4d9221\"],[1,\"#276419\"]]},\"xaxis\":{\"gridcolor\":\"white\",\"linecolor\":\"white\",\"ticks\":\"\",\"title\":{\"standoff\":15},\"zerolinecolor\":\"white\",\"automargin\":true,\"zerolinewidth\":2},\"yaxis\":{\"gridcolor\":\"white\",\"linecolor\":\"white\",\"ticks\":\"\",\"title\":{\"standoff\":15},\"zerolinecolor\":\"white\",\"automargin\":true,\"zerolinewidth\":2},\"scene\":{\"xaxis\":{\"backgroundcolor\":\"#E5ECF6\",\"gridcolor\":\"white\",\"linecolor\":\"white\",\"showbackground\":true,\"ticks\":\"\",\"zerolinecolor\":\"white\",\"gridwidth\":2},\"yaxis\":{\"backgroundcolor\":\"#E5ECF6\",\"gridcolor\":\"white\",\"linecolor\":\"white\",\"showbackground\":true,\"ticks\":\"\",\"zerolinecolor\":\"white\",\"gridwidth\":2},\"zaxis\":{\"backgroundcolor\":\"#E5ECF6\",\"gridcolor\":\"white\",\"linecolor\":\"white\",\"showbackground\":true,\"ticks\":\"\",\"zerolinecolor\":\"white\",\"gridwidth\":2}},\"shapedefaults\":{\"line\":{\"color\":\"#2a3f5f\"}},\"annotationdefaults\":{\"arrowcolor\":\"#2a3f5f\",\"arrowhead\":0,\"arrowwidth\":1},\"geo\":{\"bgcolor\":\"white\",\"landcolor\":\"#E5ECF6\",\"subunitcolor\":\"white\",\"showland\":true,\"showlakes\":true,\"lakecolor\":\"white\"},\"title\":{\"x\":0.05},\"mapbox\":{\"style\":\"light\"}}},\"xaxis\":{\"anchor\":\"y\",\"domain\":[0.0,1.0],\"title\":{\"text\":\"Year\"},\"showgrid\":false,\"dtick\":1,\"tickmode\":\"linear\"},\"yaxis\":{\"anchor\":\"x\",\"domain\":[0.0,1.0],\"title\":{\"text\":\"Count\"},\"showgrid\":false},\"legend\":{\"title\":{\"text\":\"Country\"},\"tracegroupgap\":0},\"title\":{\"text\":\"Top 5 Countries by Respondents (per Year)\"},\"barmode\":\"group\",\"font\":{\"color\":\"white\"},\"plot_bgcolor\":\"rgba(0,0,0,0)\",\"paper_bgcolor\":\"rgba(0,0,0,0)\",\"height\":600,\"width\":1100},                        {\"responsive\": true}                    ).then(function(){\n",
       "                            \n",
       "var gd = document.getElementById('3a238c58-2e0f-4550-b5bf-69c1c5419a6d');\n",
       "var x = new MutationObserver(function (mutations, observer) {{\n",
       "        var display = window.getComputedStyle(gd).display;\n",
       "        if (!display || display === 'none') {{\n",
       "            console.log([gd, 'removed!']);\n",
       "            Plotly.purge(gd);\n",
       "            observer.disconnect();\n",
       "        }}\n",
       "}});\n",
       "\n",
       "// Listen for the removal of the full notebook cells\n",
       "var notebookContainer = gd.closest('#notebook-container');\n",
       "if (notebookContainer) {{\n",
       "    x.observe(notebookContainer, {childList: true});\n",
       "}}\n",
       "\n",
       "// Listen for the clearing of the current output cell\n",
       "var outputEl = gd.closest('.output');\n",
       "if (outputEl) {{\n",
       "    x.observe(outputEl, {childList: true});\n",
       "}}\n",
       "\n",
       "                        })                };                });            </script>        </div>"
      ]
     },
     "metadata": {},
     "output_type": "display_data"
    }
   ],
   "source": [
    "filtered_df['Country'] = filtered_df['Country'].replace({\n",
    "    'United States of America': 'United States'\n",
    "})\n",
    "\n",
    "color_sequence = ['#FFD700', '#FBC02D', '#FF8C00', '#FFA500', '#FFDAB9', '#FA8072']\n",
    "\n",
    "# Step 1: Group full data\n",
    "region_counts = filtered_df.groupby(['Year', 'Country']).size().reset_index(name='Count')\n",
    "\n",
    "# Step 2: Get top 5 countries by total count\n",
    "top_countries = (\n",
    "    region_counts.groupby('Country')['Count'].sum()\n",
    "    .sort_values(ascending=False)\n",
    "    .head(5)\n",
    "    .index\n",
    ")\n",
    "\n",
    "# Step 3: Filter region_counts to only include those countries\n",
    "region_counts_top = region_counts[region_counts['Country'].isin(top_countries)]\n",
    "\n",
    "# Step 4: Plot with custom color sequence\n",
    "fig = px.bar(\n",
    "    region_counts_top,\n",
    "    x='Year',\n",
    "    y='Count',\n",
    "    color='Country',\n",
    "    title='Top 5 Countries by Respondents (per Year)',\n",
    "    barmode='group',\n",
    "    color_discrete_sequence=color_sequence\n",
    ")\n",
    "\n",
    "fig.update_layout(\n",
    "    plot_bgcolor='rgba(0,0,0,0)',\n",
    "    paper_bgcolor='rgba(0,0,0,0)',\n",
    "    font=dict(color='white'),\n",
    "    height=600,\n",
    "    width=1100\n",
    ")\n",
    "\n",
    "fig.update_xaxes(showgrid=False, dtick=1, tickmode='linear')\n",
    "fig.update_yaxes(showgrid=False)\n",
    "\n",
    "fig.show()"
   ]
  },
  {
   "cell_type": "code",
   "execution_count": 887,
   "id": "8d0b0f0e-ab19-4736-9a88-4c993e08b621",
   "metadata": {},
   "outputs": [
    {
     "data": {
      "application/vnd.plotly.v1+json": {
       "config": {
        "plotlyServerURL": "https://plot.ly"
       },
       "data": [
        {
         "alignmentgroup": "True",
         "hovertemplate": "OrgSize=1,000 to 4,999 employees<br>Year=%{x}<br>Percent=%{y}<extra></extra>",
         "legendgroup": "1,000 to 4,999 employees",
         "marker": {
          "color": "#FFD700",
          "pattern": {
           "shape": ""
          }
         },
         "name": "1,000 to 4,999 employees",
         "offsetgroup": "1,000 to 4,999 employees",
         "orientation": "v",
         "showlegend": true,
         "textposition": "auto",
         "type": "bar",
         "x": [
          2020,
          2021,
          2022,
          2023,
          2024
         ],
         "xaxis": "x",
         "y": [
          13.014112903225804,
          12.851219107646376,
          13.842975206611571,
          13.155136268343814,
          13.444261672782487
         ],
         "yaxis": "y"
        },
        {
         "alignmentgroup": "True",
         "hovertemplate": "OrgSize=10 to 19 employees<br>Year=%{x}<br>Percent=%{y}<extra></extra>",
         "legendgroup": "10 to 19 employees",
         "marker": {
          "color": "#FBC02D",
          "pattern": {
           "shape": ""
          }
         },
         "name": "10 to 19 employees",
         "offsetgroup": "10 to 19 employees",
         "orientation": "v",
         "showlegend": true,
         "textposition": "auto",
         "type": "bar",
         "x": [
          2020,
          2021,
          2022,
          2023,
          2024
         ],
         "xaxis": "x",
         "y": [
          8.160282258064516,
          8.72118095869962,
          7.727272727272727,
          7.875427562617235,
          8.768821966341896
         ],
         "yaxis": "y"
        },
        {
         "alignmentgroup": "True",
         "hovertemplate": "OrgSize=10,000 or more employees<br>Year=%{x}<br>Percent=%{y}<extra></extra>",
         "legendgroup": "10,000 or more employees",
         "marker": {
          "color": "#FF8C00",
          "pattern": {
           "shape": ""
          }
         },
         "name": "10,000 or more employees",
         "offsetgroup": "10,000 or more employees",
         "orientation": "v",
         "showlegend": true,
         "textposition": "auto",
         "type": "bar",
         "x": [
          2020,
          2021,
          2022,
          2023,
          2024
         ],
         "xaxis": "x",
         "y": [
          15.972782258064516,
          15.853375352463095,
          16.2603305785124,
          14.057155467284563,
          13.07731241300772
         ],
         "yaxis": "y"
        },
        {
         "alignmentgroup": "True",
         "hovertemplate": "OrgSize=100 to 499 employees<br>Year=%{x}<br>Percent=%{y}<extra></extra>",
         "legendgroup": "100 to 499 employees",
         "marker": {
          "color": "#FFA500",
          "pattern": {
           "shape": ""
          }
         },
         "name": "100 to 499 employees",
         "offsetgroup": "100 to 499 employees",
         "orientation": "v",
         "showlegend": true,
         "textposition": "auto",
         "type": "bar",
         "x": [
          2020,
          2021,
          2022,
          2023,
          2024
         ],
         "xaxis": "x",
         "y": [
          21.149193548387096,
          19.95024050422956,
          20.714876033057852,
          21.736731766523228,
          21.415918005820576
         ],
         "yaxis": "y"
        },
        {
         "alignmentgroup": "True",
         "hovertemplate": "OrgSize=2 to 9 employees<br>Year=%{x}<br>Percent=%{y}<extra></extra>",
         "legendgroup": "2 to 9 employees",
         "marker": {
          "color": "#FFDAB9",
          "pattern": {
           "shape": ""
          }
         },
         "name": "2 to 9 employees",
         "offsetgroup": "2 to 9 employees",
         "orientation": "v",
         "showlegend": true,
         "textposition": "auto",
         "type": "bar",
         "x": [
          2020,
          2021,
          2022,
          2023,
          2024
         ],
         "xaxis": "x",
         "y": [
          6.754032258064516,
          7.636423950903964,
          6.466942148760331,
          6.981683769171355,
          7.022649626724029
         ],
         "yaxis": "y"
        },
        {
         "alignmentgroup": "True",
         "hovertemplate": "OrgSize=20 to 99 employees<br>Year=%{x}<br>Percent=%{y}<extra></extra>",
         "legendgroup": "20 to 99 employees",
         "marker": {
          "color": "#FA8072",
          "pattern": {
           "shape": ""
          }
         },
         "name": "20 to 99 employees",
         "offsetgroup": "20 to 99 employees",
         "orientation": "v",
         "showlegend": true,
         "textposition": "auto",
         "type": "bar",
         "x": [
          2020,
          2021,
          2022,
          2023,
          2024
         ],
         "xaxis": "x",
         "y": [
          22.560483870967744,
          22.10316802123072,
          20.94214876033058,
          22.768398984883593,
          23.307604707073263
         ],
         "yaxis": "y"
        },
        {
         "alignmentgroup": "True",
         "hovertemplate": "OrgSize=5,000 to 9,999 employees<br>Year=%{x}<br>Percent=%{y}<extra></extra>",
         "legendgroup": "5,000 to 9,999 employees",
         "marker": {
          "color": "#FFA07A",
          "pattern": {
           "shape": ""
          }
         },
         "name": "5,000 to 9,999 employees",
         "offsetgroup": "5,000 to 9,999 employees",
         "orientation": "v",
         "showlegend": true,
         "textposition": "auto",
         "type": "bar",
         "x": [
          2020,
          2021,
          2022,
          2023,
          2024
         ],
         "xaxis": "x",
         "y": [
          4.944556451612903,
          4.975949577044285,
          5.570247933884297,
          5.06730663135827,
          4.757686954321144
         ],
         "yaxis": "y"
        },
        {
         "alignmentgroup": "True",
         "hovertemplate": "OrgSize=500 to 999 employees<br>Year=%{x}<br>Percent=%{y}<extra></extra>",
         "legendgroup": "500 to 999 employees",
         "marker": {
          "color": "#E9967A",
          "pattern": {
           "shape": ""
          }
         },
         "name": "500 to 999 employees",
         "offsetgroup": "500 to 999 employees",
         "orientation": "v",
         "showlegend": true,
         "textposition": "auto",
         "type": "bar",
         "x": [
          2020,
          2021,
          2022,
          2023,
          2024
         ],
         "xaxis": "x",
         "y": [
          7.212701612903226,
          7.414164869795986,
          8.202479338842975,
          8.013350987531723,
          7.927369353410098
         ],
         "yaxis": "y"
        },
        {
         "alignmentgroup": "True",
         "hovertemplate": "OrgSize=Just me - I am a freelancer, sole proprietor, etc.<br>Year=%{x}<br>Percent=%{y}<extra></extra>",
         "legendgroup": "Just me - I am a freelancer, sole proprietor, etc.",
         "marker": {
          "color": "#FFD700",
          "pattern": {
           "shape": ""
          }
         },
         "name": "Just me - I am a freelancer, sole proprietor, etc.",
         "offsetgroup": "Just me - I am a freelancer, sole proprietor, etc.",
         "orientation": "v",
         "showlegend": true,
         "textposition": "auto",
         "type": "bar",
         "x": [
          2020,
          2021,
          2022,
          2023,
          2024
         ],
         "xaxis": "x",
         "y": [
          0.2318548387096774,
          0.49427765798639905,
          0.27272727272727276,
          0.3448085622862187,
          0.27837530051879034
         ],
         "yaxis": "y"
        }
       ],
       "layout": {
        "barmode": "relative",
        "font": {
         "color": "white"
        },
        "height": 600,
        "legend": {
         "title": {
          "text": "OrgSize"
         },
         "tracegroupgap": 0
        },
        "paper_bgcolor": "rgba(0,0,0,0)",
        "plot_bgcolor": "rgba(0,0,0,0)",
        "template": {
         "data": {
          "bar": [
           {
            "error_x": {
             "color": "#2a3f5f"
            },
            "error_y": {
             "color": "#2a3f5f"
            },
            "marker": {
             "line": {
              "color": "#E5ECF6",
              "width": 0.5
             },
             "pattern": {
              "fillmode": "overlay",
              "size": 10,
              "solidity": 0.2
             }
            },
            "type": "bar"
           }
          ],
          "barpolar": [
           {
            "marker": {
             "line": {
              "color": "#E5ECF6",
              "width": 0.5
             },
             "pattern": {
              "fillmode": "overlay",
              "size": 10,
              "solidity": 0.2
             }
            },
            "type": "barpolar"
           }
          ],
          "carpet": [
           {
            "aaxis": {
             "endlinecolor": "#2a3f5f",
             "gridcolor": "white",
             "linecolor": "white",
             "minorgridcolor": "white",
             "startlinecolor": "#2a3f5f"
            },
            "baxis": {
             "endlinecolor": "#2a3f5f",
             "gridcolor": "white",
             "linecolor": "white",
             "minorgridcolor": "white",
             "startlinecolor": "#2a3f5f"
            },
            "type": "carpet"
           }
          ],
          "choropleth": [
           {
            "colorbar": {
             "outlinewidth": 0,
             "ticks": ""
            },
            "type": "choropleth"
           }
          ],
          "contour": [
           {
            "colorbar": {
             "outlinewidth": 0,
             "ticks": ""
            },
            "colorscale": [
             [
              0,
              "#0d0887"
             ],
             [
              0.1111111111111111,
              "#46039f"
             ],
             [
              0.2222222222222222,
              "#7201a8"
             ],
             [
              0.3333333333333333,
              "#9c179e"
             ],
             [
              0.4444444444444444,
              "#bd3786"
             ],
             [
              0.5555555555555556,
              "#d8576b"
             ],
             [
              0.6666666666666666,
              "#ed7953"
             ],
             [
              0.7777777777777778,
              "#fb9f3a"
             ],
             [
              0.8888888888888888,
              "#fdca26"
             ],
             [
              1,
              "#f0f921"
             ]
            ],
            "type": "contour"
           }
          ],
          "contourcarpet": [
           {
            "colorbar": {
             "outlinewidth": 0,
             "ticks": ""
            },
            "type": "contourcarpet"
           }
          ],
          "heatmap": [
           {
            "colorbar": {
             "outlinewidth": 0,
             "ticks": ""
            },
            "colorscale": [
             [
              0,
              "#0d0887"
             ],
             [
              0.1111111111111111,
              "#46039f"
             ],
             [
              0.2222222222222222,
              "#7201a8"
             ],
             [
              0.3333333333333333,
              "#9c179e"
             ],
             [
              0.4444444444444444,
              "#bd3786"
             ],
             [
              0.5555555555555556,
              "#d8576b"
             ],
             [
              0.6666666666666666,
              "#ed7953"
             ],
             [
              0.7777777777777778,
              "#fb9f3a"
             ],
             [
              0.8888888888888888,
              "#fdca26"
             ],
             [
              1,
              "#f0f921"
             ]
            ],
            "type": "heatmap"
           }
          ],
          "heatmapgl": [
           {
            "colorbar": {
             "outlinewidth": 0,
             "ticks": ""
            },
            "colorscale": [
             [
              0,
              "#0d0887"
             ],
             [
              0.1111111111111111,
              "#46039f"
             ],
             [
              0.2222222222222222,
              "#7201a8"
             ],
             [
              0.3333333333333333,
              "#9c179e"
             ],
             [
              0.4444444444444444,
              "#bd3786"
             ],
             [
              0.5555555555555556,
              "#d8576b"
             ],
             [
              0.6666666666666666,
              "#ed7953"
             ],
             [
              0.7777777777777778,
              "#fb9f3a"
             ],
             [
              0.8888888888888888,
              "#fdca26"
             ],
             [
              1,
              "#f0f921"
             ]
            ],
            "type": "heatmapgl"
           }
          ],
          "histogram": [
           {
            "marker": {
             "pattern": {
              "fillmode": "overlay",
              "size": 10,
              "solidity": 0.2
             }
            },
            "type": "histogram"
           }
          ],
          "histogram2d": [
           {
            "colorbar": {
             "outlinewidth": 0,
             "ticks": ""
            },
            "colorscale": [
             [
              0,
              "#0d0887"
             ],
             [
              0.1111111111111111,
              "#46039f"
             ],
             [
              0.2222222222222222,
              "#7201a8"
             ],
             [
              0.3333333333333333,
              "#9c179e"
             ],
             [
              0.4444444444444444,
              "#bd3786"
             ],
             [
              0.5555555555555556,
              "#d8576b"
             ],
             [
              0.6666666666666666,
              "#ed7953"
             ],
             [
              0.7777777777777778,
              "#fb9f3a"
             ],
             [
              0.8888888888888888,
              "#fdca26"
             ],
             [
              1,
              "#f0f921"
             ]
            ],
            "type": "histogram2d"
           }
          ],
          "histogram2dcontour": [
           {
            "colorbar": {
             "outlinewidth": 0,
             "ticks": ""
            },
            "colorscale": [
             [
              0,
              "#0d0887"
             ],
             [
              0.1111111111111111,
              "#46039f"
             ],
             [
              0.2222222222222222,
              "#7201a8"
             ],
             [
              0.3333333333333333,
              "#9c179e"
             ],
             [
              0.4444444444444444,
              "#bd3786"
             ],
             [
              0.5555555555555556,
              "#d8576b"
             ],
             [
              0.6666666666666666,
              "#ed7953"
             ],
             [
              0.7777777777777778,
              "#fb9f3a"
             ],
             [
              0.8888888888888888,
              "#fdca26"
             ],
             [
              1,
              "#f0f921"
             ]
            ],
            "type": "histogram2dcontour"
           }
          ],
          "mesh3d": [
           {
            "colorbar": {
             "outlinewidth": 0,
             "ticks": ""
            },
            "type": "mesh3d"
           }
          ],
          "parcoords": [
           {
            "line": {
             "colorbar": {
              "outlinewidth": 0,
              "ticks": ""
             }
            },
            "type": "parcoords"
           }
          ],
          "pie": [
           {
            "automargin": true,
            "type": "pie"
           }
          ],
          "scatter": [
           {
            "fillpattern": {
             "fillmode": "overlay",
             "size": 10,
             "solidity": 0.2
            },
            "type": "scatter"
           }
          ],
          "scatter3d": [
           {
            "line": {
             "colorbar": {
              "outlinewidth": 0,
              "ticks": ""
             }
            },
            "marker": {
             "colorbar": {
              "outlinewidth": 0,
              "ticks": ""
             }
            },
            "type": "scatter3d"
           }
          ],
          "scattercarpet": [
           {
            "marker": {
             "colorbar": {
              "outlinewidth": 0,
              "ticks": ""
             }
            },
            "type": "scattercarpet"
           }
          ],
          "scattergeo": [
           {
            "marker": {
             "colorbar": {
              "outlinewidth": 0,
              "ticks": ""
             }
            },
            "type": "scattergeo"
           }
          ],
          "scattergl": [
           {
            "marker": {
             "colorbar": {
              "outlinewidth": 0,
              "ticks": ""
             }
            },
            "type": "scattergl"
           }
          ],
          "scattermapbox": [
           {
            "marker": {
             "colorbar": {
              "outlinewidth": 0,
              "ticks": ""
             }
            },
            "type": "scattermapbox"
           }
          ],
          "scatterpolar": [
           {
            "marker": {
             "colorbar": {
              "outlinewidth": 0,
              "ticks": ""
             }
            },
            "type": "scatterpolar"
           }
          ],
          "scatterpolargl": [
           {
            "marker": {
             "colorbar": {
              "outlinewidth": 0,
              "ticks": ""
             }
            },
            "type": "scatterpolargl"
           }
          ],
          "scatterternary": [
           {
            "marker": {
             "colorbar": {
              "outlinewidth": 0,
              "ticks": ""
             }
            },
            "type": "scatterternary"
           }
          ],
          "surface": [
           {
            "colorbar": {
             "outlinewidth": 0,
             "ticks": ""
            },
            "colorscale": [
             [
              0,
              "#0d0887"
             ],
             [
              0.1111111111111111,
              "#46039f"
             ],
             [
              0.2222222222222222,
              "#7201a8"
             ],
             [
              0.3333333333333333,
              "#9c179e"
             ],
             [
              0.4444444444444444,
              "#bd3786"
             ],
             [
              0.5555555555555556,
              "#d8576b"
             ],
             [
              0.6666666666666666,
              "#ed7953"
             ],
             [
              0.7777777777777778,
              "#fb9f3a"
             ],
             [
              0.8888888888888888,
              "#fdca26"
             ],
             [
              1,
              "#f0f921"
             ]
            ],
            "type": "surface"
           }
          ],
          "table": [
           {
            "cells": {
             "fill": {
              "color": "#EBF0F8"
             },
             "line": {
              "color": "white"
             }
            },
            "header": {
             "fill": {
              "color": "#C8D4E3"
             },
             "line": {
              "color": "white"
             }
            },
            "type": "table"
           }
          ]
         },
         "layout": {
          "annotationdefaults": {
           "arrowcolor": "#2a3f5f",
           "arrowhead": 0,
           "arrowwidth": 1
          },
          "autotypenumbers": "strict",
          "coloraxis": {
           "colorbar": {
            "outlinewidth": 0,
            "ticks": ""
           }
          },
          "colorscale": {
           "diverging": [
            [
             0,
             "#8e0152"
            ],
            [
             0.1,
             "#c51b7d"
            ],
            [
             0.2,
             "#de77ae"
            ],
            [
             0.3,
             "#f1b6da"
            ],
            [
             0.4,
             "#fde0ef"
            ],
            [
             0.5,
             "#f7f7f7"
            ],
            [
             0.6,
             "#e6f5d0"
            ],
            [
             0.7,
             "#b8e186"
            ],
            [
             0.8,
             "#7fbc41"
            ],
            [
             0.9,
             "#4d9221"
            ],
            [
             1,
             "#276419"
            ]
           ],
           "sequential": [
            [
             0,
             "#0d0887"
            ],
            [
             0.1111111111111111,
             "#46039f"
            ],
            [
             0.2222222222222222,
             "#7201a8"
            ],
            [
             0.3333333333333333,
             "#9c179e"
            ],
            [
             0.4444444444444444,
             "#bd3786"
            ],
            [
             0.5555555555555556,
             "#d8576b"
            ],
            [
             0.6666666666666666,
             "#ed7953"
            ],
            [
             0.7777777777777778,
             "#fb9f3a"
            ],
            [
             0.8888888888888888,
             "#fdca26"
            ],
            [
             1,
             "#f0f921"
            ]
           ],
           "sequentialminus": [
            [
             0,
             "#0d0887"
            ],
            [
             0.1111111111111111,
             "#46039f"
            ],
            [
             0.2222222222222222,
             "#7201a8"
            ],
            [
             0.3333333333333333,
             "#9c179e"
            ],
            [
             0.4444444444444444,
             "#bd3786"
            ],
            [
             0.5555555555555556,
             "#d8576b"
            ],
            [
             0.6666666666666666,
             "#ed7953"
            ],
            [
             0.7777777777777778,
             "#fb9f3a"
            ],
            [
             0.8888888888888888,
             "#fdca26"
            ],
            [
             1,
             "#f0f921"
            ]
           ]
          },
          "colorway": [
           "#636efa",
           "#EF553B",
           "#00cc96",
           "#ab63fa",
           "#FFA15A",
           "#19d3f3",
           "#FF6692",
           "#B6E880",
           "#FF97FF",
           "#FECB52"
          ],
          "font": {
           "color": "#2a3f5f"
          },
          "geo": {
           "bgcolor": "white",
           "lakecolor": "white",
           "landcolor": "#E5ECF6",
           "showlakes": true,
           "showland": true,
           "subunitcolor": "white"
          },
          "hoverlabel": {
           "align": "left"
          },
          "hovermode": "closest",
          "mapbox": {
           "style": "light"
          },
          "paper_bgcolor": "white",
          "plot_bgcolor": "#E5ECF6",
          "polar": {
           "angularaxis": {
            "gridcolor": "white",
            "linecolor": "white",
            "ticks": ""
           },
           "bgcolor": "#E5ECF6",
           "radialaxis": {
            "gridcolor": "white",
            "linecolor": "white",
            "ticks": ""
           }
          },
          "scene": {
           "xaxis": {
            "backgroundcolor": "#E5ECF6",
            "gridcolor": "white",
            "gridwidth": 2,
            "linecolor": "white",
            "showbackground": true,
            "ticks": "",
            "zerolinecolor": "white"
           },
           "yaxis": {
            "backgroundcolor": "#E5ECF6",
            "gridcolor": "white",
            "gridwidth": 2,
            "linecolor": "white",
            "showbackground": true,
            "ticks": "",
            "zerolinecolor": "white"
           },
           "zaxis": {
            "backgroundcolor": "#E5ECF6",
            "gridcolor": "white",
            "gridwidth": 2,
            "linecolor": "white",
            "showbackground": true,
            "ticks": "",
            "zerolinecolor": "white"
           }
          },
          "shapedefaults": {
           "line": {
            "color": "#2a3f5f"
           }
          },
          "ternary": {
           "aaxis": {
            "gridcolor": "white",
            "linecolor": "white",
            "ticks": ""
           },
           "baxis": {
            "gridcolor": "white",
            "linecolor": "white",
            "ticks": ""
           },
           "bgcolor": "#E5ECF6",
           "caxis": {
            "gridcolor": "white",
            "linecolor": "white",
            "ticks": ""
           }
          },
          "title": {
           "x": 0.05
          },
          "xaxis": {
           "automargin": true,
           "gridcolor": "white",
           "linecolor": "white",
           "ticks": "",
           "title": {
            "standoff": 15
           },
           "zerolinecolor": "white",
           "zerolinewidth": 2
          },
          "yaxis": {
           "automargin": true,
           "gridcolor": "white",
           "linecolor": "white",
           "ticks": "",
           "title": {
            "standoff": 15
           },
           "zerolinecolor": "white",
           "zerolinewidth": 2
          }
         }
        },
        "title": {
         "text": "Org Size Distribution by Year (Percentage)"
        },
        "width": 1100,
        "xaxis": {
         "anchor": "y",
         "domain": [
          0,
          1
         ],
         "showgrid": false,
         "title": {
          "text": "Year"
         }
        },
        "yaxis": {
         "anchor": "x",
         "domain": [
          0,
          1
         ],
         "showgrid": false,
         "title": {
          "text": "Percent"
         }
        }
       }
      },
      "image/png": "[encoded data removed]",
      "text/html": [
       "<div>                            <div id=\"0a56856c-33ad-4435-b6cc-73b24e5ec467\" class=\"plotly-graph-div\" style=\"height:600px; width:1100px;\"></div>            <script type=\"text/javascript\">                require([\"plotly\"], function(Plotly) {                    window.PLOTLYENV=window.PLOTLYENV || {};                                    if (document.getElementById(\"0a56856c-33ad-4435-b6cc-73b24e5ec467\")) {                    Plotly.newPlot(                        \"0a56856c-33ad-4435-b6cc-73b24e5ec467\",                        [{\"alignmentgroup\":\"True\",\"hovertemplate\":\"OrgSize=1,000 to 4,999 employees\\u003cbr\\u003eYear=%{x}\\u003cbr\\u003ePercent=%{y}\\u003cextra\\u003e\\u003c\\u002fextra\\u003e\",\"legendgroup\":\"1,000 to 4,999 employees\",\"marker\":{\"color\":\"#FFD700\",\"pattern\":{\"shape\":\"\"}},\"name\":\"1,000 to 4,999 employees\",\"offsetgroup\":\"1,000 to 4,999 employees\",\"orientation\":\"v\",\"showlegend\":true,\"textposition\":\"auto\",\"x\":[2020,2021,2022,2023,2024],\"xaxis\":\"x\",\"y\":[13.014112903225804,12.851219107646376,13.842975206611571,13.155136268343814,13.444261672782487],\"yaxis\":\"y\",\"type\":\"bar\"},{\"alignmentgroup\":\"True\",\"hovertemplate\":\"OrgSize=10 to 19 employees\\u003cbr\\u003eYear=%{x}\\u003cbr\\u003ePercent=%{y}\\u003cextra\\u003e\\u003c\\u002fextra\\u003e\",\"legendgroup\":\"10 to 19 employees\",\"marker\":{\"color\":\"#FBC02D\",\"pattern\":{\"shape\":\"\"}},\"name\":\"10 to 19 employees\",\"offsetgroup\":\"10 to 19 employees\",\"orientation\":\"v\",\"showlegend\":true,\"textposition\":\"auto\",\"x\":[2020,2021,2022,2023,2024],\"xaxis\":\"x\",\"y\":[8.160282258064516,8.72118095869962,7.727272727272727,7.875427562617235,8.768821966341896],\"yaxis\":\"y\",\"type\":\"bar\"},{\"alignmentgroup\":\"True\",\"hovertemplate\":\"OrgSize=10,000 or more employees\\u003cbr\\u003eYear=%{x}\\u003cbr\\u003ePercent=%{y}\\u003cextra\\u003e\\u003c\\u002fextra\\u003e\",\"legendgroup\":\"10,000 or more employees\",\"marker\":{\"color\":\"#FF8C00\",\"pattern\":{\"shape\":\"\"}},\"name\":\"10,000 or more employees\",\"offsetgroup\":\"10,000 or more employees\",\"orientation\":\"v\",\"showlegend\":true,\"textposition\":\"auto\",\"x\":[2020,2021,2022,2023,2024],\"xaxis\":\"x\",\"y\":[15.972782258064516,15.853375352463095,16.2603305785124,14.057155467284563,13.07731241300772],\"yaxis\":\"y\",\"type\":\"bar\"},{\"alignmentgroup\":\"True\",\"hovertemplate\":\"OrgSize=100 to 499 employees\\u003cbr\\u003eYear=%{x}\\u003cbr\\u003ePercent=%{y}\\u003cextra\\u003e\\u003c\\u002fextra\\u003e\",\"legendgroup\":\"100 to 499 employees\",\"marker\":{\"color\":\"#FFA500\",\"pattern\":{\"shape\":\"\"}},\"name\":\"100 to 499 employees\",\"offsetgroup\":\"100 to 499 employees\",\"orientation\":\"v\",\"showlegend\":true,\"textposition\":\"auto\",\"x\":[2020,2021,2022,2023,2024],\"xaxis\":\"x\",\"y\":[21.149193548387096,19.95024050422956,20.714876033057852,21.736731766523228,21.415918005820576],\"yaxis\":\"y\",\"type\":\"bar\"},{\"alignmentgroup\":\"True\",\"hovertemplate\":\"OrgSize=2 to 9 employees\\u003cbr\\u003eYear=%{x}\\u003cbr\\u003ePercent=%{y}\\u003cextra\\u003e\\u003c\\u002fextra\\u003e\",\"legendgroup\":\"2 to 9 employees\",\"marker\":{\"color\":\"#FFDAB9\",\"pattern\":{\"shape\":\"\"}},\"name\":\"2 to 9 employees\",\"offsetgroup\":\"2 to 9 employees\",\"orientation\":\"v\",\"showlegend\":true,\"textposition\":\"auto\",\"x\":[2020,2021,2022,2023,2024],\"xaxis\":\"x\",\"y\":[6.754032258064516,7.636423950903964,6.466942148760331,6.981683769171355,7.022649626724029],\"yaxis\":\"y\",\"type\":\"bar\"},{\"alignmentgroup\":\"True\",\"hovertemplate\":\"OrgSize=20 to 99 employees\\u003cbr\\u003eYear=%{x}\\u003cbr\\u003ePercent=%{y}\\u003cextra\\u003e\\u003c\\u002fextra\\u003e\",\"legendgroup\":\"20 to 99 employees\",\"marker\":{\"color\":\"#FA8072\",\"pattern\":{\"shape\":\"\"}},\"name\":\"20 to 99 employees\",\"offsetgroup\":\"20 to 99 employees\",\"orientation\":\"v\",\"showlegend\":true,\"textposition\":\"auto\",\"x\":[2020,2021,2022,2023,2024],\"xaxis\":\"x\",\"y\":[22.560483870967744,22.10316802123072,20.94214876033058,22.768398984883593,23.307604707073263],\"yaxis\":\"y\",\"type\":\"bar\"},{\"alignmentgroup\":\"True\",\"hovertemplate\":\"OrgSize=5,000 to 9,999 employees\\u003cbr\\u003eYear=%{x}\\u003cbr\\u003ePercent=%{y}\\u003cextra\\u003e\\u003c\\u002fextra\\u003e\",\"legendgroup\":\"5,000 to 9,999 employees\",\"marker\":{\"color\":\"#FFA07A\",\"pattern\":{\"shape\":\"\"}},\"name\":\"5,000 to 9,999 employees\",\"offsetgroup\":\"5,000 to 9,999 employees\",\"orientation\":\"v\",\"showlegend\":true,\"textposition\":\"auto\",\"x\":[2020,2021,2022,2023,2024],\"xaxis\":\"x\",\"y\":[4.944556451612903,4.975949577044285,5.570247933884297,5.06730663135827,4.757686954321144],\"yaxis\":\"y\",\"type\":\"bar\"},{\"alignmentgroup\":\"True\",\"hovertemplate\":\"OrgSize=500 to 999 employees\\u003cbr\\u003eYear=%{x}\\u003cbr\\u003ePercent=%{y}\\u003cextra\\u003e\\u003c\\u002fextra\\u003e\",\"legendgroup\":\"500 to 999 employees\",\"marker\":{\"color\":\"#E9967A\",\"pattern\":{\"shape\":\"\"}},\"name\":\"500 to 999 employees\",\"offsetgroup\":\"500 to 999 employees\",\"orientation\":\"v\",\"showlegend\":true,\"textposition\":\"auto\",\"x\":[2020,2021,2022,2023,2024],\"xaxis\":\"x\",\"y\":[7.212701612903226,7.414164869795986,8.202479338842975,8.013350987531723,7.927369353410098],\"yaxis\":\"y\",\"type\":\"bar\"},{\"alignmentgroup\":\"True\",\"hovertemplate\":\"OrgSize=Just me - I am a freelancer, sole proprietor, etc.\\u003cbr\\u003eYear=%{x}\\u003cbr\\u003ePercent=%{y}\\u003cextra\\u003e\\u003c\\u002fextra\\u003e\",\"legendgroup\":\"Just me - I am a freelancer, sole proprietor, etc.\",\"marker\":{\"color\":\"#FFD700\",\"pattern\":{\"shape\":\"\"}},\"name\":\"Just me - I am a freelancer, sole proprietor, etc.\",\"offsetgroup\":\"Just me - I am a freelancer, sole proprietor, etc.\",\"orientation\":\"v\",\"showlegend\":true,\"textposition\":\"auto\",\"x\":[2020,2021,2022,2023,2024],\"xaxis\":\"x\",\"y\":[0.2318548387096774,0.49427765798639905,0.27272727272727276,0.3448085622862187,0.27837530051879034],\"yaxis\":\"y\",\"type\":\"bar\"}],                        {\"template\":{\"data\":{\"histogram2dcontour\":[{\"type\":\"histogram2dcontour\",\"colorbar\":{\"outlinewidth\":0,\"ticks\":\"\"},\"colorscale\":[[0.0,\"#0d0887\"],[0.1111111111111111,\"#46039f\"],[0.2222222222222222,\"#7201a8\"],[0.3333333333333333,\"#9c179e\"],[0.4444444444444444,\"#bd3786\"],[0.5555555555555556,\"#d8576b\"],[0.6666666666666666,\"#ed7953\"],[0.7777777777777778,\"#fb9f3a\"],[0.8888888888888888,\"#fdca26\"],[1.0,\"#f0f921\"]]}],\"choropleth\":[{\"type\":\"choropleth\",\"colorbar\":{\"outlinewidth\":0,\"ticks\":\"\"}}],\"histogram2d\":[{\"type\":\"histogram2d\",\"colorbar\":{\"outlinewidth\":0,\"ticks\":\"\"},\"colorscale\":[[0.0,\"#0d0887\"],[0.1111111111111111,\"#46039f\"],[0.2222222222222222,\"#7201a8\"],[0.3333333333333333,\"#9c179e\"],[0.4444444444444444,\"#bd3786\"],[0.5555555555555556,\"#d8576b\"],[0.6666666666666666,\"#ed7953\"],[0.7777777777777778,\"#fb9f3a\"],[0.8888888888888888,\"#fdca26\"],[1.0,\"#f0f921\"]]}],\"heatmap\":[{\"type\":\"heatmap\",\"colorbar\":{\"outlinewidth\":0,\"ticks\":\"\"},\"colorscale\":[[0.0,\"#0d0887\"],[0.1111111111111111,\"#46039f\"],[0.2222222222222222,\"#7201a8\"],[0.3333333333333333,\"#9c179e\"],[0.4444444444444444,\"#bd3786\"],[0.5555555555555556,\"#d8576b\"],[0.6666666666666666,\"#ed7953\"],[0.7777777777777778,\"#fb9f3a\"],[0.8888888888888888,\"#fdca26\"],[1.0,\"#f0f921\"]]}],\"heatmapgl\":[{\"type\":\"heatmapgl\",\"colorbar\":{\"outlinewidth\":0,\"ticks\":\"\"},\"colorscale\":[[0.0,\"#0d0887\"],[0.1111111111111111,\"#46039f\"],[0.2222222222222222,\"#7201a8\"],[0.3333333333333333,\"#9c179e\"],[0.4444444444444444,\"#bd3786\"],[0.5555555555555556,\"#d8576b\"],[0.6666666666666666,\"#ed7953\"],[0.7777777777777778,\"#fb9f3a\"],[0.8888888888888888,\"#fdca26\"],[1.0,\"#f0f921\"]]}],\"contourcarpet\":[{\"type\":\"contourcarpet\",\"colorbar\":{\"outlinewidth\":0,\"ticks\":\"\"}}],\"contour\":[{\"type\":\"contour\",\"colorbar\":{\"outlinewidth\":0,\"ticks\":\"\"},\"colorscale\":[[0.0,\"#0d0887\"],[0.1111111111111111,\"#46039f\"],[0.2222222222222222,\"#7201a8\"],[0.3333333333333333,\"#9c179e\"],[0.4444444444444444,\"#bd3786\"],[0.5555555555555556,\"#d8576b\"],[0.6666666666666666,\"#ed7953\"],[0.7777777777777778,\"#fb9f3a\"],[0.8888888888888888,\"#fdca26\"],[1.0,\"#f0f921\"]]}],\"surface\":[{\"type\":\"surface\",\"colorbar\":{\"outlinewidth\":0,\"ticks\":\"\"},\"colorscale\":[[0.0,\"#0d0887\"],[0.1111111111111111,\"#46039f\"],[0.2222222222222222,\"#7201a8\"],[0.3333333333333333,\"#9c179e\"],[0.4444444444444444,\"#bd3786\"],[0.5555555555555556,\"#d8576b\"],[0.6666666666666666,\"#ed7953\"],[0.7777777777777778,\"#fb9f3a\"],[0.8888888888888888,\"#fdca26\"],[1.0,\"#f0f921\"]]}],\"mesh3d\":[{\"type\":\"mesh3d\",\"colorbar\":{\"outlinewidth\":0,\"ticks\":\"\"}}],\"scatter\":[{\"fillpattern\":{\"fillmode\":\"overlay\",\"size\":10,\"solidity\":0.2},\"type\":\"scatter\"}],\"parcoords\":[{\"type\":\"parcoords\",\"line\":{\"colorbar\":{\"outlinewidth\":0,\"ticks\":\"\"}}}],\"scatterpolargl\":[{\"type\":\"scatterpolargl\",\"marker\":{\"colorbar\":{\"outlinewidth\":0,\"ticks\":\"\"}}}],\"bar\":[{\"error_x\":{\"color\":\"#2a3f5f\"},\"error_y\":{\"color\":\"#2a3f5f\"},\"marker\":{\"line\":{\"color\":\"#E5ECF6\",\"width\":0.5},\"pattern\":{\"fillmode\":\"overlay\",\"size\":10,\"solidity\":0.2}},\"type\":\"bar\"}],\"scattergeo\":[{\"type\":\"scattergeo\",\"marker\":{\"colorbar\":{\"outlinewidth\":0,\"ticks\":\"\"}}}],\"scatterpolar\":[{\"type\":\"scatterpolar\",\"marker\":{\"colorbar\":{\"outlinewidth\":0,\"ticks\":\"\"}}}],\"histogram\":[{\"marker\":{\"pattern\":{\"fillmode\":\"overlay\",\"size\":10,\"solidity\":0.2}},\"type\":\"histogram\"}],\"scattergl\":[{\"type\":\"scattergl\",\"marker\":{\"colorbar\":{\"outlinewidth\":0,\"ticks\":\"\"}}}],\"scatter3d\":[{\"type\":\"scatter3d\",\"line\":{\"colorbar\":{\"outlinewidth\":0,\"ticks\":\"\"}},\"marker\":{\"colorbar\":{\"outlinewidth\":0,\"ticks\":\"\"}}}],\"scattermapbox\":[{\"type\":\"scattermapbox\",\"marker\":{\"colorbar\":{\"outlinewidth\":0,\"ticks\":\"\"}}}],\"scatterternary\":[{\"type\":\"scatterternary\",\"marker\":{\"colorbar\":{\"outlinewidth\":0,\"ticks\":\"\"}}}],\"scattercarpet\":[{\"type\":\"scattercarpet\",\"marker\":{\"colorbar\":{\"outlinewidth\":0,\"ticks\":\"\"}}}],\"carpet\":[{\"aaxis\":{\"endlinecolor\":\"#2a3f5f\",\"gridcolor\":\"white\",\"linecolor\":\"white\",\"minorgridcolor\":\"white\",\"startlinecolor\":\"#2a3f5f\"},\"baxis\":{\"endlinecolor\":\"#2a3f5f\",\"gridcolor\":\"white\",\"linecolor\":\"white\",\"minorgridcolor\":\"white\",\"startlinecolor\":\"#2a3f5f\"},\"type\":\"carpet\"}],\"table\":[{\"cells\":{\"fill\":{\"color\":\"#EBF0F8\"},\"line\":{\"color\":\"white\"}},\"header\":{\"fill\":{\"color\":\"#C8D4E3\"},\"line\":{\"color\":\"white\"}},\"type\":\"table\"}],\"barpolar\":[{\"marker\":{\"line\":{\"color\":\"#E5ECF6\",\"width\":0.5},\"pattern\":{\"fillmode\":\"overlay\",\"size\":10,\"solidity\":0.2}},\"type\":\"barpolar\"}],\"pie\":[{\"automargin\":true,\"type\":\"pie\"}]},\"layout\":{\"autotypenumbers\":\"strict\",\"colorway\":[\"#636efa\",\"#EF553B\",\"#00cc96\",\"#ab63fa\",\"#FFA15A\",\"#19d3f3\",\"#FF6692\",\"#B6E880\",\"#FF97FF\",\"#FECB52\"],\"font\":{\"color\":\"#2a3f5f\"},\"hovermode\":\"closest\",\"hoverlabel\":{\"align\":\"left\"},\"paper_bgcolor\":\"white\",\"plot_bgcolor\":\"#E5ECF6\",\"polar\":{\"bgcolor\":\"#E5ECF6\",\"angularaxis\":{\"gridcolor\":\"white\",\"linecolor\":\"white\",\"ticks\":\"\"},\"radialaxis\":{\"gridcolor\":\"white\",\"linecolor\":\"white\",\"ticks\":\"\"}},\"ternary\":{\"bgcolor\":\"#E5ECF6\",\"aaxis\":{\"gridcolor\":\"white\",\"linecolor\":\"white\",\"ticks\":\"\"},\"baxis\":{\"gridcolor\":\"white\",\"linecolor\":\"white\",\"ticks\":\"\"},\"caxis\":{\"gridcolor\":\"white\",\"linecolor\":\"white\",\"ticks\":\"\"}},\"coloraxis\":{\"colorbar\":{\"outlinewidth\":0,\"ticks\":\"\"}},\"colorscale\":{\"sequential\":[[0.0,\"#0d0887\"],[0.1111111111111111,\"#46039f\"],[0.2222222222222222,\"#7201a8\"],[0.3333333333333333,\"#9c179e\"],[0.4444444444444444,\"#bd3786\"],[0.5555555555555556,\"#d8576b\"],[0.6666666666666666,\"#ed7953\"],[0.7777777777777778,\"#fb9f3a\"],[0.8888888888888888,\"#fdca26\"],[1.0,\"#f0f921\"]],\"sequentialminus\":[[0.0,\"#0d0887\"],[0.1111111111111111,\"#46039f\"],[0.2222222222222222,\"#7201a8\"],[0.3333333333333333,\"#9c179e\"],[0.4444444444444444,\"#bd3786\"],[0.5555555555555556,\"#d8576b\"],[0.6666666666666666,\"#ed7953\"],[0.7777777777777778,\"#fb9f3a\"],[0.8888888888888888,\"#fdca26\"],[1.0,\"#f0f921\"]],\"diverging\":[[0,\"#8e0152\"],[0.1,\"#c51b7d\"],[0.2,\"#de77ae\"],[0.3,\"#f1b6da\"],[0.4,\"#fde0ef\"],[0.5,\"#f7f7f7\"],[0.6,\"#e6f5d0\"],[0.7,\"#b8e186\"],[0.8,\"#7fbc41\"],[0.9,\"#4d9221\"],[1,\"#276419\"]]},\"xaxis\":{\"gridcolor\":\"white\",\"linecolor\":\"white\",\"ticks\":\"\",\"title\":{\"standoff\":15},\"zerolinecolor\":\"white\",\"automargin\":true,\"zerolinewidth\":2},\"yaxis\":{\"gridcolor\":\"white\",\"linecolor\":\"white\",\"ticks\":\"\",\"title\":{\"standoff\":15},\"zerolinecolor\":\"white\",\"automargin\":true,\"zerolinewidth\":2},\"scene\":{\"xaxis\":{\"backgroundcolor\":\"#E5ECF6\",\"gridcolor\":\"white\",\"linecolor\":\"white\",\"showbackground\":true,\"ticks\":\"\",\"zerolinecolor\":\"white\",\"gridwidth\":2},\"yaxis\":{\"backgroundcolor\":\"#E5ECF6\",\"gridcolor\":\"white\",\"linecolor\":\"white\",\"showbackground\":true,\"ticks\":\"\",\"zerolinecolor\":\"white\",\"gridwidth\":2},\"zaxis\":{\"backgroundcolor\":\"#E5ECF6\",\"gridcolor\":\"white\",\"linecolor\":\"white\",\"showbackground\":true,\"ticks\":\"\",\"zerolinecolor\":\"white\",\"gridwidth\":2}},\"shapedefaults\":{\"line\":{\"color\":\"#2a3f5f\"}},\"annotationdefaults\":{\"arrowcolor\":\"#2a3f5f\",\"arrowhead\":0,\"arrowwidth\":1},\"geo\":{\"bgcolor\":\"white\",\"landcolor\":\"#E5ECF6\",\"subunitcolor\":\"white\",\"showland\":true,\"showlakes\":true,\"lakecolor\":\"white\"},\"title\":{\"x\":0.05},\"mapbox\":{\"style\":\"light\"}}},\"xaxis\":{\"anchor\":\"y\",\"domain\":[0.0,1.0],\"title\":{\"text\":\"Year\"},\"showgrid\":false},\"yaxis\":{\"anchor\":\"x\",\"domain\":[0.0,1.0],\"title\":{\"text\":\"Percent\"},\"showgrid\":false},\"legend\":{\"title\":{\"text\":\"OrgSize\"},\"tracegroupgap\":0},\"title\":{\"text\":\"Org Size Distribution by Year (Percentage)\"},\"barmode\":\"relative\",\"font\":{\"color\":\"white\"},\"plot_bgcolor\":\"rgba(0,0,0,0)\",\"paper_bgcolor\":\"rgba(0,0,0,0)\",\"height\":600,\"width\":1100},                        {\"responsive\": true}                    ).then(function(){\n",
       "                            \n",
       "var gd = document.getElementById('0a56856c-33ad-4435-b6cc-73b24e5ec467');\n",
       "var x = new MutationObserver(function (mutations, observer) {{\n",
       "        var display = window.getComputedStyle(gd).display;\n",
       "        if (!display || display === 'none') {{\n",
       "            console.log([gd, 'removed!']);\n",
       "            Plotly.purge(gd);\n",
       "            observer.disconnect();\n",
       "        }}\n",
       "}});\n",
       "\n",
       "// Listen for the removal of the full notebook cells\n",
       "var notebookContainer = gd.closest('#notebook-container');\n",
       "if (notebookContainer) {{\n",
       "    x.observe(notebookContainer, {childList: true});\n",
       "}}\n",
       "\n",
       "// Listen for the clearing of the current output cell\n",
       "var outputEl = gd.closest('.output');\n",
       "if (outputEl) {{\n",
       "    x.observe(outputEl, {childList: true});\n",
       "}}\n",
       "\n",
       "                        })                };                });            </script>        </div>"
      ]
     },
     "metadata": {},
     "output_type": "display_data"
    }
   ],
   "source": []
  },
  {
   "cell_type": "code",
   "execution_count": 893,
   "id": "6270f6cc-42d3-46ba-bbc7-00fda0f07f9c",
   "metadata": {},
   "outputs": [
    {
     "data": {
      "application/vnd.plotly.v1+json": {
       "config": {
        "plotlyServerURL": "https://plot.ly"
       },
       "data": [
        {
         "alignmentgroup": "True",
         "hovertemplate": "OrgSize=1,000 to 4,999 employees<br>Year=%{x}<br>Count=%{y}<extra></extra>",
         "legendgroup": "1,000 to 4,999 employees",
         "marker": {
          "color": "#FFD700",
          "pattern": {
           "shape": ""
          }
         },
         "name": "1,000 to 4,999 employees",
         "offsetgroup": "1,000 to 4,999 employees",
         "orientation": "v",
         "showlegend": true,
         "textposition": "auto",
         "type": "bar",
         "x": [
          2020,
          2021,
          2022,
          2023,
          2024
         ],
         "xaxis": "x",
         "y": [
          2582,
          3874,
          3350,
          4769,
          2125
         ],
         "yaxis": "y"
        },
        {
         "alignmentgroup": "True",
         "hovertemplate": "OrgSize=10 to 19 employees<br>Year=%{x}<br>Count=%{y}<extra></extra>",
         "legendgroup": "10 to 19 employees",
         "marker": {
          "color": "#FBC02D",
          "pattern": {
           "shape": ""
          }
         },
         "name": "10 to 19 employees",
         "offsetgroup": "10 to 19 employees",
         "orientation": "v",
         "showlegend": true,
         "textposition": "auto",
         "type": "bar",
         "x": [
          2020,
          2021,
          2022,
          2023,
          2024
         ],
         "xaxis": "x",
         "y": [
          1619,
          2629,
          1870,
          2855,
          1386
         ],
         "yaxis": "y"
        },
        {
         "alignmentgroup": "True",
         "hovertemplate": "OrgSize=10,000 or more employees<br>Year=%{x}<br>Count=%{y}<extra></extra>",
         "legendgroup": "10,000 or more employees",
         "marker": {
          "color": "#FF8C00",
          "pattern": {
           "shape": ""
          }
         },
         "name": "10,000 or more employees",
         "offsetgroup": "10,000 or more employees",
         "orientation": "v",
         "showlegend": true,
         "textposition": "auto",
         "type": "bar",
         "x": [
          2020,
          2021,
          2022,
          2023,
          2024
         ],
         "xaxis": "x",
         "y": [
          3169,
          4779,
          3935,
          5096,
          2067
         ],
         "yaxis": "y"
        },
        {
         "alignmentgroup": "True",
         "hovertemplate": "OrgSize=100 to 499 employees<br>Year=%{x}<br>Count=%{y}<extra></extra>",
         "legendgroup": "100 to 499 employees",
         "marker": {
          "color": "#FFA500",
          "pattern": {
           "shape": ""
          }
         },
         "name": "100 to 499 employees",
         "offsetgroup": "100 to 499 employees",
         "orientation": "v",
         "showlegend": true,
         "textposition": "auto",
         "type": "bar",
         "x": [
          2020,
          2021,
          2022,
          2023,
          2024
         ],
         "xaxis": "x",
         "y": [
          4196,
          6014,
          5013,
          7880,
          3385
         ],
         "yaxis": "y"
        },
        {
         "alignmentgroup": "True",
         "hovertemplate": "OrgSize=2 to 9 employees<br>Year=%{x}<br>Count=%{y}<extra></extra>",
         "legendgroup": "2 to 9 employees",
         "marker": {
          "color": "#FFDAB9",
          "pattern": {
           "shape": ""
          }
         },
         "name": "2 to 9 employees",
         "offsetgroup": "2 to 9 employees",
         "orientation": "v",
         "showlegend": true,
         "textposition": "auto",
         "type": "bar",
         "x": [
          2020,
          2021,
          2022,
          2023,
          2024
         ],
         "xaxis": "x",
         "y": [
          1340,
          2302,
          1565,
          2531,
          1110
         ],
         "yaxis": "y"
        },
        {
         "alignmentgroup": "True",
         "hovertemplate": "OrgSize=20 to 99 employees<br>Year=%{x}<br>Count=%{y}<extra></extra>",
         "legendgroup": "20 to 99 employees",
         "marker": {
          "color": "#FA8072",
          "pattern": {
           "shape": ""
          }
         },
         "name": "20 to 99 employees",
         "offsetgroup": "20 to 99 employees",
         "orientation": "v",
         "showlegend": true,
         "textposition": "auto",
         "type": "bar",
         "x": [
          2020,
          2021,
          2022,
          2023,
          2024
         ],
         "xaxis": "x",
         "y": [
          4476,
          6663,
          5068,
          8254,
          3684
         ],
         "yaxis": "y"
        },
        {
         "alignmentgroup": "True",
         "hovertemplate": "OrgSize=5,000 to 9,999 employees<br>Year=%{x}<br>Count=%{y}<extra></extra>",
         "legendgroup": "5,000 to 9,999 employees",
         "marker": {
          "color": "#FFA07A",
          "pattern": {
           "shape": ""
          }
         },
         "name": "5,000 to 9,999 employees",
         "offsetgroup": "5,000 to 9,999 employees",
         "orientation": "v",
         "showlegend": true,
         "textposition": "auto",
         "type": "bar",
         "x": [
          2020,
          2021,
          2022,
          2023,
          2024
         ],
         "xaxis": "x",
         "y": [
          981,
          1500,
          1348,
          1837,
          752
         ],
         "yaxis": "y"
        },
        {
         "alignmentgroup": "True",
         "hovertemplate": "OrgSize=500 to 999 employees<br>Year=%{x}<br>Count=%{y}<extra></extra>",
         "legendgroup": "500 to 999 employees",
         "marker": {
          "color": "#E9967A",
          "pattern": {
           "shape": ""
          }
         },
         "name": "500 to 999 employees",
         "offsetgroup": "500 to 999 employees",
         "orientation": "v",
         "showlegend": true,
         "textposition": "auto",
         "type": "bar",
         "x": [
          2020,
          2021,
          2022,
          2023,
          2024
         ],
         "xaxis": "x",
         "y": [
          1431,
          2235,
          1985,
          2905,
          1253
         ],
         "yaxis": "y"
        },
        {
         "alignmentgroup": "True",
         "hovertemplate": "OrgSize=Just me - I am a freelancer, sole proprietor, etc.<br>Year=%{x}<br>Count=%{y}<extra></extra>",
         "legendgroup": "Just me - I am a freelancer, sole proprietor, etc.",
         "marker": {
          "color": "#FFD700",
          "pattern": {
           "shape": ""
          }
         },
         "name": "Just me - I am a freelancer, sole proprietor, etc.",
         "offsetgroup": "Just me - I am a freelancer, sole proprietor, etc.",
         "orientation": "v",
         "showlegend": true,
         "textposition": "auto",
         "type": "bar",
         "x": [
          2020,
          2021,
          2022,
          2023,
          2024
         ],
         "xaxis": "x",
         "y": [
          46,
          149,
          66,
          125,
          44
         ],
         "yaxis": "y"
        }
       ],
       "layout": {
        "barmode": "relative",
        "font": {
         "color": "white"
        },
        "height": 600,
        "legend": {
         "title": {
          "text": "OrgSize"
         },
         "tracegroupgap": 0
        },
        "paper_bgcolor": "rgba(0,0,0,0)",
        "plot_bgcolor": "rgba(0,0,0,0)",
        "template": {
         "data": {
          "bar": [
           {
            "error_x": {
             "color": "#2a3f5f"
            },
            "error_y": {
             "color": "#2a3f5f"
            },
            "marker": {
             "line": {
              "color": "#E5ECF6",
              "width": 0.5
             },
             "pattern": {
              "fillmode": "overlay",
              "size": 10,
              "solidity": 0.2
             }
            },
            "type": "bar"
           }
          ],
          "barpolar": [
           {
            "marker": {
             "line": {
              "color": "#E5ECF6",
              "width": 0.5
             },
             "pattern": {
              "fillmode": "overlay",
              "size": 10,
              "solidity": 0.2
             }
            },
            "type": "barpolar"
           }
          ],
          "carpet": [
           {
            "aaxis": {
             "endlinecolor": "#2a3f5f",
             "gridcolor": "white",
             "linecolor": "white",
             "minorgridcolor": "white",
             "startlinecolor": "#2a3f5f"
            },
            "baxis": {
             "endlinecolor": "#2a3f5f",
             "gridcolor": "white",
             "linecolor": "white",
             "minorgridcolor": "white",
             "startlinecolor": "#2a3f5f"
            },
            "type": "carpet"
           }
          ],
          "choropleth": [
           {
            "colorbar": {
             "outlinewidth": 0,
             "ticks": ""
            },
            "type": "choropleth"
           }
          ],
          "contour": [
           {
            "colorbar": {
             "outlinewidth": 0,
             "ticks": ""
            },
            "colorscale": [
             [
              0,
              "#0d0887"
             ],
             [
              0.1111111111111111,
              "#46039f"
             ],
             [
              0.2222222222222222,
              "#7201a8"
             ],
             [
              0.3333333333333333,
              "#9c179e"
             ],
             [
              0.4444444444444444,
              "#bd3786"
             ],
             [
              0.5555555555555556,
              "#d8576b"
             ],
             [
              0.6666666666666666,
              "#ed7953"
             ],
             [
              0.7777777777777778,
              "#fb9f3a"
             ],
             [
              0.8888888888888888,
              "#fdca26"
             ],
             [
              1,
              "#f0f921"
             ]
            ],
            "type": "contour"
           }
          ],
          "contourcarpet": [
           {
            "colorbar": {
             "outlinewidth": 0,
             "ticks": ""
            },
            "type": "contourcarpet"
           }
          ],
          "heatmap": [
           {
            "colorbar": {
             "outlinewidth": 0,
             "ticks": ""
            },
            "colorscale": [
             [
              0,
              "#0d0887"
             ],
             [
              0.1111111111111111,
              "#46039f"
             ],
             [
              0.2222222222222222,
              "#7201a8"
             ],
             [
              0.3333333333333333,
              "#9c179e"
             ],
             [
              0.4444444444444444,
              "#bd3786"
             ],
             [
              0.5555555555555556,
              "#d8576b"
             ],
             [
              0.6666666666666666,
              "#ed7953"
             ],
             [
              0.7777777777777778,
              "#fb9f3a"
             ],
             [
              0.8888888888888888,
              "#fdca26"
             ],
             [
              1,
              "#f0f921"
             ]
            ],
            "type": "heatmap"
           }
          ],
          "heatmapgl": [
           {
            "colorbar": {
             "outlinewidth": 0,
             "ticks": ""
            },
            "colorscale": [
             [
              0,
              "#0d0887"
             ],
             [
              0.1111111111111111,
              "#46039f"
             ],
             [
              0.2222222222222222,
              "#7201a8"
             ],
             [
              0.3333333333333333,
              "#9c179e"
             ],
             [
              0.4444444444444444,
              "#bd3786"
             ],
             [
              0.5555555555555556,
              "#d8576b"
             ],
             [
              0.6666666666666666,
              "#ed7953"
             ],
             [
              0.7777777777777778,
              "#fb9f3a"
             ],
             [
              0.8888888888888888,
              "#fdca26"
             ],
             [
              1,
              "#f0f921"
             ]
            ],
            "type": "heatmapgl"
           }
          ],
          "histogram": [
           {
            "marker": {
             "pattern": {
              "fillmode": "overlay",
              "size": 10,
              "solidity": 0.2
             }
            },
            "type": "histogram"
           }
          ],
          "histogram2d": [
           {
            "colorbar": {
             "outlinewidth": 0,
             "ticks": ""
            },
            "colorscale": [
             [
              0,
              "#0d0887"
             ],
             [
              0.1111111111111111,
              "#46039f"
             ],
             [
              0.2222222222222222,
              "#7201a8"
             ],
             [
              0.3333333333333333,
              "#9c179e"
             ],
             [
              0.4444444444444444,
              "#bd3786"
             ],
             [
              0.5555555555555556,
              "#d8576b"
             ],
             [
              0.6666666666666666,
              "#ed7953"
             ],
             [
              0.7777777777777778,
              "#fb9f3a"
             ],
             [
              0.8888888888888888,
              "#fdca26"
             ],
             [
              1,
              "#f0f921"
             ]
            ],
            "type": "histogram2d"
           }
          ],
          "histogram2dcontour": [
           {
            "colorbar": {
             "outlinewidth": 0,
             "ticks": ""
            },
            "colorscale": [
             [
              0,
              "#0d0887"
             ],
             [
              0.1111111111111111,
              "#46039f"
             ],
             [
              0.2222222222222222,
              "#7201a8"
             ],
             [
              0.3333333333333333,
              "#9c179e"
             ],
             [
              0.4444444444444444,
              "#bd3786"
             ],
             [
              0.5555555555555556,
              "#d8576b"
             ],
             [
              0.6666666666666666,
              "#ed7953"
             ],
             [
              0.7777777777777778,
              "#fb9f3a"
             ],
             [
              0.8888888888888888,
              "#fdca26"
             ],
             [
              1,
              "#f0f921"
             ]
            ],
            "type": "histogram2dcontour"
           }
          ],
          "mesh3d": [
           {
            "colorbar": {
             "outlinewidth": 0,
             "ticks": ""
            },
            "type": "mesh3d"
           }
          ],
          "parcoords": [
           {
            "line": {
             "colorbar": {
              "outlinewidth": 0,
              "ticks": ""
             }
            },
            "type": "parcoords"
           }
          ],
          "pie": [
           {
            "automargin": true,
            "type": "pie"
           }
          ],
          "scatter": [
           {
            "fillpattern": {
             "fillmode": "overlay",
             "size": 10,
             "solidity": 0.2
            },
            "type": "scatter"
           }
          ],
          "scatter3d": [
           {
            "line": {
             "colorbar": {
              "outlinewidth": 0,
              "ticks": ""
             }
            },
            "marker": {
             "colorbar": {
              "outlinewidth": 0,
              "ticks": ""
             }
            },
            "type": "scatter3d"
           }
          ],
          "scattercarpet": [
           {
            "marker": {
             "colorbar": {
              "outlinewidth": 0,
              "ticks": ""
             }
            },
            "type": "scattercarpet"
           }
          ],
          "scattergeo": [
           {
            "marker": {
             "colorbar": {
              "outlinewidth": 0,
              "ticks": ""
             }
            },
            "type": "scattergeo"
           }
          ],
          "scattergl": [
           {
            "marker": {
             "colorbar": {
              "outlinewidth": 0,
              "ticks": ""
             }
            },
            "type": "scattergl"
           }
          ],
          "scattermapbox": [
           {
            "marker": {
             "colorbar": {
              "outlinewidth": 0,
              "ticks": ""
             }
            },
            "type": "scattermapbox"
           }
          ],
          "scatterpolar": [
           {
            "marker": {
             "colorbar": {
              "outlinewidth": 0,
              "ticks": ""
             }
            },
            "type": "scatterpolar"
           }
          ],
          "scatterpolargl": [
           {
            "marker": {
             "colorbar": {
              "outlinewidth": 0,
              "ticks": ""
             }
            },
            "type": "scatterpolargl"
           }
          ],
          "scatterternary": [
           {
            "marker": {
             "colorbar": {
              "outlinewidth": 0,
              "ticks": ""
             }
            },
            "type": "scatterternary"
           }
          ],
          "surface": [
           {
            "colorbar": {
             "outlinewidth": 0,
             "ticks": ""
            },
            "colorscale": [
             [
              0,
              "#0d0887"
             ],
             [
              0.1111111111111111,
              "#46039f"
             ],
             [
              0.2222222222222222,
              "#7201a8"
             ],
             [
              0.3333333333333333,
              "#9c179e"
             ],
             [
              0.4444444444444444,
              "#bd3786"
             ],
             [
              0.5555555555555556,
              "#d8576b"
             ],
             [
              0.6666666666666666,
              "#ed7953"
             ],
             [
              0.7777777777777778,
              "#fb9f3a"
             ],
             [
              0.8888888888888888,
              "#fdca26"
             ],
             [
              1,
              "#f0f921"
             ]
            ],
            "type": "surface"
           }
          ],
          "table": [
           {
            "cells": {
             "fill": {
              "color": "#EBF0F8"
             },
             "line": {
              "color": "white"
             }
            },
            "header": {
             "fill": {
              "color": "#C8D4E3"
             },
             "line": {
              "color": "white"
             }
            },
            "type": "table"
           }
          ]
         },
         "layout": {
          "annotationdefaults": {
           "arrowcolor": "#2a3f5f",
           "arrowhead": 0,
           "arrowwidth": 1
          },
          "autotypenumbers": "strict",
          "coloraxis": {
           "colorbar": {
            "outlinewidth": 0,
            "ticks": ""
           }
          },
          "colorscale": {
           "diverging": [
            [
             0,
             "#8e0152"
            ],
            [
             0.1,
             "#c51b7d"
            ],
            [
             0.2,
             "#de77ae"
            ],
            [
             0.3,
             "#f1b6da"
            ],
            [
             0.4,
             "#fde0ef"
            ],
            [
             0.5,
             "#f7f7f7"
            ],
            [
             0.6,
             "#e6f5d0"
            ],
            [
             0.7,
             "#b8e186"
            ],
            [
             0.8,
             "#7fbc41"
            ],
            [
             0.9,
             "#4d9221"
            ],
            [
             1,
             "#276419"
            ]
           ],
           "sequential": [
            [
             0,
             "#0d0887"
            ],
            [
             0.1111111111111111,
             "#46039f"
            ],
            [
             0.2222222222222222,
             "#7201a8"
            ],
            [
             0.3333333333333333,
             "#9c179e"
            ],
            [
             0.4444444444444444,
             "#bd3786"
            ],
            [
             0.5555555555555556,
             "#d8576b"
            ],
            [
             0.6666666666666666,
             "#ed7953"
            ],
            [
             0.7777777777777778,
             "#fb9f3a"
            ],
            [
             0.8888888888888888,
             "#fdca26"
            ],
            [
             1,
             "#f0f921"
            ]
           ],
           "sequentialminus": [
            [
             0,
             "#0d0887"
            ],
            [
             0.1111111111111111,
             "#46039f"
            ],
            [
             0.2222222222222222,
             "#7201a8"
            ],
            [
             0.3333333333333333,
             "#9c179e"
            ],
            [
             0.4444444444444444,
             "#bd3786"
            ],
            [
             0.5555555555555556,
             "#d8576b"
            ],
            [
             0.6666666666666666,
             "#ed7953"
            ],
            [
             0.7777777777777778,
             "#fb9f3a"
            ],
            [
             0.8888888888888888,
             "#fdca26"
            ],
            [
             1,
             "#f0f921"
            ]
           ]
          },
          "colorway": [
           "#636efa",
           "#EF553B",
           "#00cc96",
           "#ab63fa",
           "#FFA15A",
           "#19d3f3",
           "#FF6692",
           "#B6E880",
           "#FF97FF",
           "#FECB52"
          ],
          "font": {
           "color": "#2a3f5f"
          },
          "geo": {
           "bgcolor": "white",
           "lakecolor": "white",
           "landcolor": "#E5ECF6",
           "showlakes": true,
           "showland": true,
           "subunitcolor": "white"
          },
          "hoverlabel": {
           "align": "left"
          },
          "hovermode": "closest",
          "mapbox": {
           "style": "light"
          },
          "paper_bgcolor": "white",
          "plot_bgcolor": "#E5ECF6",
          "polar": {
           "angularaxis": {
            "gridcolor": "white",
            "linecolor": "white",
            "ticks": ""
           },
           "bgcolor": "#E5ECF6",
           "radialaxis": {
            "gridcolor": "white",
            "linecolor": "white",
            "ticks": ""
           }
          },
          "scene": {
           "xaxis": {
            "backgroundcolor": "#E5ECF6",
            "gridcolor": "white",
            "gridwidth": 2,
            "linecolor": "white",
            "showbackground": true,
            "ticks": "",
            "zerolinecolor": "white"
           },
           "yaxis": {
            "backgroundcolor": "#E5ECF6",
            "gridcolor": "white",
            "gridwidth": 2,
            "linecolor": "white",
            "showbackground": true,
            "ticks": "",
            "zerolinecolor": "white"
           },
           "zaxis": {
            "backgroundcolor": "#E5ECF6",
            "gridcolor": "white",
            "gridwidth": 2,
            "linecolor": "white",
            "showbackground": true,
            "ticks": "",
            "zerolinecolor": "white"
           }
          },
          "shapedefaults": {
           "line": {
            "color": "#2a3f5f"
           }
          },
          "ternary": {
           "aaxis": {
            "gridcolor": "white",
            "linecolor": "white",
            "ticks": ""
           },
           "baxis": {
            "gridcolor": "white",
            "linecolor": "white",
            "ticks": ""
           },
           "bgcolor": "#E5ECF6",
           "caxis": {
            "gridcolor": "white",
            "linecolor": "white",
            "ticks": ""
           }
          },
          "title": {
           "x": 0.05
          },
          "xaxis": {
           "automargin": true,
           "gridcolor": "white",
           "linecolor": "white",
           "ticks": "",
           "title": {
            "standoff": 15
           },
           "zerolinecolor": "white",
           "zerolinewidth": 2
          },
          "yaxis": {
           "automargin": true,
           "gridcolor": "white",
           "linecolor": "white",
           "ticks": "",
           "title": {
            "standoff": 15
           },
           "zerolinecolor": "white",
           "zerolinewidth": 2
          }
         }
        },
        "title": {
         "text": "Org Size Distribution by Year"
        },
        "width": 1100,
        "xaxis": {
         "anchor": "y",
         "domain": [
          0,
          1
         ],
         "showgrid": false,
         "title": {
          "text": "Year"
         }
        },
        "yaxis": {
         "anchor": "x",
         "domain": [
          0,
          1
         ],
         "showgrid": false,
         "title": {
          "text": "Count"
         }
        }
       }
      },
      "image/png": "[encoded data removed]",
      "text/html": [
       "<div>                            <div id=\"3f433c49-80a9-4b1a-a339-9b8f52285faf\" class=\"plotly-graph-div\" style=\"height:600px; width:1100px;\"></div>            <script type=\"text/javascript\">                require([\"plotly\"], function(Plotly) {                    window.PLOTLYENV=window.PLOTLYENV || {};                                    if (document.getElementById(\"3f433c49-80a9-4b1a-a339-9b8f52285faf\")) {                    Plotly.newPlot(                        \"3f433c49-80a9-4b1a-a339-9b8f52285faf\",                        [{\"alignmentgroup\":\"True\",\"hovertemplate\":\"OrgSize=1,000 to 4,999 employees\\u003cbr\\u003eYear=%{x}\\u003cbr\\u003eCount=%{y}\\u003cextra\\u003e\\u003c\\u002fextra\\u003e\",\"legendgroup\":\"1,000 to 4,999 employees\",\"marker\":{\"color\":\"#FFD700\",\"pattern\":{\"shape\":\"\"}},\"name\":\"1,000 to 4,999 employees\",\"offsetgroup\":\"1,000 to 4,999 employees\",\"orientation\":\"v\",\"showlegend\":true,\"textposition\":\"auto\",\"x\":[2020,2021,2022,2023,2024],\"xaxis\":\"x\",\"y\":[2582,3874,3350,4769,2125],\"yaxis\":\"y\",\"type\":\"bar\"},{\"alignmentgroup\":\"True\",\"hovertemplate\":\"OrgSize=10 to 19 employees\\u003cbr\\u003eYear=%{x}\\u003cbr\\u003eCount=%{y}\\u003cextra\\u003e\\u003c\\u002fextra\\u003e\",\"legendgroup\":\"10 to 19 employees\",\"marker\":{\"color\":\"#FBC02D\",\"pattern\":{\"shape\":\"\"}},\"name\":\"10 to 19 employees\",\"offsetgroup\":\"10 to 19 employees\",\"orientation\":\"v\",\"showlegend\":true,\"textposition\":\"auto\",\"x\":[2020,2021,2022,2023,2024],\"xaxis\":\"x\",\"y\":[1619,2629,1870,2855,1386],\"yaxis\":\"y\",\"type\":\"bar\"},{\"alignmentgroup\":\"True\",\"hovertemplate\":\"OrgSize=10,000 or more employees\\u003cbr\\u003eYear=%{x}\\u003cbr\\u003eCount=%{y}\\u003cextra\\u003e\\u003c\\u002fextra\\u003e\",\"legendgroup\":\"10,000 or more employees\",\"marker\":{\"color\":\"#FF8C00\",\"pattern\":{\"shape\":\"\"}},\"name\":\"10,000 or more employees\",\"offsetgroup\":\"10,000 or more employees\",\"orientation\":\"v\",\"showlegend\":true,\"textposition\":\"auto\",\"x\":[2020,2021,2022,2023,2024],\"xaxis\":\"x\",\"y\":[3169,4779,3935,5096,2067],\"yaxis\":\"y\",\"type\":\"bar\"},{\"alignmentgroup\":\"True\",\"hovertemplate\":\"OrgSize=100 to 499 employees\\u003cbr\\u003eYear=%{x}\\u003cbr\\u003eCount=%{y}\\u003cextra\\u003e\\u003c\\u002fextra\\u003e\",\"legendgroup\":\"100 to 499 employees\",\"marker\":{\"color\":\"#FFA500\",\"pattern\":{\"shape\":\"\"}},\"name\":\"100 to 499 employees\",\"offsetgroup\":\"100 to 499 employees\",\"orientation\":\"v\",\"showlegend\":true,\"textposition\":\"auto\",\"x\":[2020,2021,2022,2023,2024],\"xaxis\":\"x\",\"y\":[4196,6014,5013,7880,3385],\"yaxis\":\"y\",\"type\":\"bar\"},{\"alignmentgroup\":\"True\",\"hovertemplate\":\"OrgSize=2 to 9 employees\\u003cbr\\u003eYear=%{x}\\u003cbr\\u003eCount=%{y}\\u003cextra\\u003e\\u003c\\u002fextra\\u003e\",\"legendgroup\":\"2 to 9 employees\",\"marker\":{\"color\":\"#FFDAB9\",\"pattern\":{\"shape\":\"\"}},\"name\":\"2 to 9 employees\",\"offsetgroup\":\"2 to 9 employees\",\"orientation\":\"v\",\"showlegend\":true,\"textposition\":\"auto\",\"x\":[2020,2021,2022,2023,2024],\"xaxis\":\"x\",\"y\":[1340,2302,1565,2531,1110],\"yaxis\":\"y\",\"type\":\"bar\"},{\"alignmentgroup\":\"True\",\"hovertemplate\":\"OrgSize=20 to 99 employees\\u003cbr\\u003eYear=%{x}\\u003cbr\\u003eCount=%{y}\\u003cextra\\u003e\\u003c\\u002fextra\\u003e\",\"legendgroup\":\"20 to 99 employees\",\"marker\":{\"color\":\"#FA8072\",\"pattern\":{\"shape\":\"\"}},\"name\":\"20 to 99 employees\",\"offsetgroup\":\"20 to 99 employees\",\"orientation\":\"v\",\"showlegend\":true,\"textposition\":\"auto\",\"x\":[2020,2021,2022,2023,2024],\"xaxis\":\"x\",\"y\":[4476,6663,5068,8254,3684],\"yaxis\":\"y\",\"type\":\"bar\"},{\"alignmentgroup\":\"True\",\"hovertemplate\":\"OrgSize=5,000 to 9,999 employees\\u003cbr\\u003eYear=%{x}\\u003cbr\\u003eCount=%{y}\\u003cextra\\u003e\\u003c\\u002fextra\\u003e\",\"legendgroup\":\"5,000 to 9,999 employees\",\"marker\":{\"color\":\"#FFA07A\",\"pattern\":{\"shape\":\"\"}},\"name\":\"5,000 to 9,999 employees\",\"offsetgroup\":\"5,000 to 9,999 employees\",\"orientation\":\"v\",\"showlegend\":true,\"textposition\":\"auto\",\"x\":[2020,2021,2022,2023,2024],\"xaxis\":\"x\",\"y\":[981,1500,1348,1837,752],\"yaxis\":\"y\",\"type\":\"bar\"},{\"alignmentgroup\":\"True\",\"hovertemplate\":\"OrgSize=500 to 999 employees\\u003cbr\\u003eYear=%{x}\\u003cbr\\u003eCount=%{y}\\u003cextra\\u003e\\u003c\\u002fextra\\u003e\",\"legendgroup\":\"500 to 999 employees\",\"marker\":{\"color\":\"#E9967A\",\"pattern\":{\"shape\":\"\"}},\"name\":\"500 to 999 employees\",\"offsetgroup\":\"500 to 999 employees\",\"orientation\":\"v\",\"showlegend\":true,\"textposition\":\"auto\",\"x\":[2020,2021,2022,2023,2024],\"xaxis\":\"x\",\"y\":[1431,2235,1985,2905,1253],\"yaxis\":\"y\",\"type\":\"bar\"},{\"alignmentgroup\":\"True\",\"hovertemplate\":\"OrgSize=Just me - I am a freelancer, sole proprietor, etc.\\u003cbr\\u003eYear=%{x}\\u003cbr\\u003eCount=%{y}\\u003cextra\\u003e\\u003c\\u002fextra\\u003e\",\"legendgroup\":\"Just me - I am a freelancer, sole proprietor, etc.\",\"marker\":{\"color\":\"#FFD700\",\"pattern\":{\"shape\":\"\"}},\"name\":\"Just me - I am a freelancer, sole proprietor, etc.\",\"offsetgroup\":\"Just me - I am a freelancer, sole proprietor, etc.\",\"orientation\":\"v\",\"showlegend\":true,\"textposition\":\"auto\",\"x\":[2020,2021,2022,2023,2024],\"xaxis\":\"x\",\"y\":[46,149,66,125,44],\"yaxis\":\"y\",\"type\":\"bar\"}],                        {\"template\":{\"data\":{\"histogram2dcontour\":[{\"type\":\"histogram2dcontour\",\"colorbar\":{\"outlinewidth\":0,\"ticks\":\"\"},\"colorscale\":[[0.0,\"#0d0887\"],[0.1111111111111111,\"#46039f\"],[0.2222222222222222,\"#7201a8\"],[0.3333333333333333,\"#9c179e\"],[0.4444444444444444,\"#bd3786\"],[0.5555555555555556,\"#d8576b\"],[0.6666666666666666,\"#ed7953\"],[0.7777777777777778,\"#fb9f3a\"],[0.8888888888888888,\"#fdca26\"],[1.0,\"#f0f921\"]]}],\"choropleth\":[{\"type\":\"choropleth\",\"colorbar\":{\"outlinewidth\":0,\"ticks\":\"\"}}],\"histogram2d\":[{\"type\":\"histogram2d\",\"colorbar\":{\"outlinewidth\":0,\"ticks\":\"\"},\"colorscale\":[[0.0,\"#0d0887\"],[0.1111111111111111,\"#46039f\"],[0.2222222222222222,\"#7201a8\"],[0.3333333333333333,\"#9c179e\"],[0.4444444444444444,\"#bd3786\"],[0.5555555555555556,\"#d8576b\"],[0.6666666666666666,\"#ed7953\"],[0.7777777777777778,\"#fb9f3a\"],[0.8888888888888888,\"#fdca26\"],[1.0,\"#f0f921\"]]}],\"heatmap\":[{\"type\":\"heatmap\",\"colorbar\":{\"outlinewidth\":0,\"ticks\":\"\"},\"colorscale\":[[0.0,\"#0d0887\"],[0.1111111111111111,\"#46039f\"],[0.2222222222222222,\"#7201a8\"],[0.3333333333333333,\"#9c179e\"],[0.4444444444444444,\"#bd3786\"],[0.5555555555555556,\"#d8576b\"],[0.6666666666666666,\"#ed7953\"],[0.7777777777777778,\"#fb9f3a\"],[0.8888888888888888,\"#fdca26\"],[1.0,\"#f0f921\"]]}],\"heatmapgl\":[{\"type\":\"heatmapgl\",\"colorbar\":{\"outlinewidth\":0,\"ticks\":\"\"},\"colorscale\":[[0.0,\"#0d0887\"],[0.1111111111111111,\"#46039f\"],[0.2222222222222222,\"#7201a8\"],[0.3333333333333333,\"#9c179e\"],[0.4444444444444444,\"#bd3786\"],[0.5555555555555556,\"#d8576b\"],[0.6666666666666666,\"#ed7953\"],[0.7777777777777778,\"#fb9f3a\"],[0.8888888888888888,\"#fdca26\"],[1.0,\"#f0f921\"]]}],\"contourcarpet\":[{\"type\":\"contourcarpet\",\"colorbar\":{\"outlinewidth\":0,\"ticks\":\"\"}}],\"contour\":[{\"type\":\"contour\",\"colorbar\":{\"outlinewidth\":0,\"ticks\":\"\"},\"colorscale\":[[0.0,\"#0d0887\"],[0.1111111111111111,\"#46039f\"],[0.2222222222222222,\"#7201a8\"],[0.3333333333333333,\"#9c179e\"],[0.4444444444444444,\"#bd3786\"],[0.5555555555555556,\"#d8576b\"],[0.6666666666666666,\"#ed7953\"],[0.7777777777777778,\"#fb9f3a\"],[0.8888888888888888,\"#fdca26\"],[1.0,\"#f0f921\"]]}],\"surface\":[{\"type\":\"surface\",\"colorbar\":{\"outlinewidth\":0,\"ticks\":\"\"},\"colorscale\":[[0.0,\"#0d0887\"],[0.1111111111111111,\"#46039f\"],[0.2222222222222222,\"#7201a8\"],[0.3333333333333333,\"#9c179e\"],[0.4444444444444444,\"#bd3786\"],[0.5555555555555556,\"#d8576b\"],[0.6666666666666666,\"#ed7953\"],[0.7777777777777778,\"#fb9f3a\"],[0.8888888888888888,\"#fdca26\"],[1.0,\"#f0f921\"]]}],\"mesh3d\":[{\"type\":\"mesh3d\",\"colorbar\":{\"outlinewidth\":0,\"ticks\":\"\"}}],\"scatter\":[{\"fillpattern\":{\"fillmode\":\"overlay\",\"size\":10,\"solidity\":0.2},\"type\":\"scatter\"}],\"parcoords\":[{\"type\":\"parcoords\",\"line\":{\"colorbar\":{\"outlinewidth\":0,\"ticks\":\"\"}}}],\"scatterpolargl\":[{\"type\":\"scatterpolargl\",\"marker\":{\"colorbar\":{\"outlinewidth\":0,\"ticks\":\"\"}}}],\"bar\":[{\"error_x\":{\"color\":\"#2a3f5f\"},\"error_y\":{\"color\":\"#2a3f5f\"},\"marker\":{\"line\":{\"color\":\"#E5ECF6\",\"width\":0.5},\"pattern\":{\"fillmode\":\"overlay\",\"size\":10,\"solidity\":0.2}},\"type\":\"bar\"}],\"scattergeo\":[{\"type\":\"scattergeo\",\"marker\":{\"colorbar\":{\"outlinewidth\":0,\"ticks\":\"\"}}}],\"scatterpolar\":[{\"type\":\"scatterpolar\",\"marker\":{\"colorbar\":{\"outlinewidth\":0,\"ticks\":\"\"}}}],\"histogram\":[{\"marker\":{\"pattern\":{\"fillmode\":\"overlay\",\"size\":10,\"solidity\":0.2}},\"type\":\"histogram\"}],\"scattergl\":[{\"type\":\"scattergl\",\"marker\":{\"colorbar\":{\"outlinewidth\":0,\"ticks\":\"\"}}}],\"scatter3d\":[{\"type\":\"scatter3d\",\"line\":{\"colorbar\":{\"outlinewidth\":0,\"ticks\":\"\"}},\"marker\":{\"colorbar\":{\"outlinewidth\":0,\"ticks\":\"\"}}}],\"scattermapbox\":[{\"type\":\"scattermapbox\",\"marker\":{\"colorbar\":{\"outlinewidth\":0,\"ticks\":\"\"}}}],\"scatterternary\":[{\"type\":\"scatterternary\",\"marker\":{\"colorbar\":{\"outlinewidth\":0,\"ticks\":\"\"}}}],\"scattercarpet\":[{\"type\":\"scattercarpet\",\"marker\":{\"colorbar\":{\"outlinewidth\":0,\"ticks\":\"\"}}}],\"carpet\":[{\"aaxis\":{\"endlinecolor\":\"#2a3f5f\",\"gridcolor\":\"white\",\"linecolor\":\"white\",\"minorgridcolor\":\"white\",\"startlinecolor\":\"#2a3f5f\"},\"baxis\":{\"endlinecolor\":\"#2a3f5f\",\"gridcolor\":\"white\",\"linecolor\":\"white\",\"minorgridcolor\":\"white\",\"startlinecolor\":\"#2a3f5f\"},\"type\":\"carpet\"}],\"table\":[{\"cells\":{\"fill\":{\"color\":\"#EBF0F8\"},\"line\":{\"color\":\"white\"}},\"header\":{\"fill\":{\"color\":\"#C8D4E3\"},\"line\":{\"color\":\"white\"}},\"type\":\"table\"}],\"barpolar\":[{\"marker\":{\"line\":{\"color\":\"#E5ECF6\",\"width\":0.5},\"pattern\":{\"fillmode\":\"overlay\",\"size\":10,\"solidity\":0.2}},\"type\":\"barpolar\"}],\"pie\":[{\"automargin\":true,\"type\":\"pie\"}]},\"layout\":{\"autotypenumbers\":\"strict\",\"colorway\":[\"#636efa\",\"#EF553B\",\"#00cc96\",\"#ab63fa\",\"#FFA15A\",\"#19d3f3\",\"#FF6692\",\"#B6E880\",\"#FF97FF\",\"#FECB52\"],\"font\":{\"color\":\"#2a3f5f\"},\"hovermode\":\"closest\",\"hoverlabel\":{\"align\":\"left\"},\"paper_bgcolor\":\"white\",\"plot_bgcolor\":\"#E5ECF6\",\"polar\":{\"bgcolor\":\"#E5ECF6\",\"angularaxis\":{\"gridcolor\":\"white\",\"linecolor\":\"white\",\"ticks\":\"\"},\"radialaxis\":{\"gridcolor\":\"white\",\"linecolor\":\"white\",\"ticks\":\"\"}},\"ternary\":{\"bgcolor\":\"#E5ECF6\",\"aaxis\":{\"gridcolor\":\"white\",\"linecolor\":\"white\",\"ticks\":\"\"},\"baxis\":{\"gridcolor\":\"white\",\"linecolor\":\"white\",\"ticks\":\"\"},\"caxis\":{\"gridcolor\":\"white\",\"linecolor\":\"white\",\"ticks\":\"\"}},\"coloraxis\":{\"colorbar\":{\"outlinewidth\":0,\"ticks\":\"\"}},\"colorscale\":{\"sequential\":[[0.0,\"#0d0887\"],[0.1111111111111111,\"#46039f\"],[0.2222222222222222,\"#7201a8\"],[0.3333333333333333,\"#9c179e\"],[0.4444444444444444,\"#bd3786\"],[0.5555555555555556,\"#d8576b\"],[0.6666666666666666,\"#ed7953\"],[0.7777777777777778,\"#fb9f3a\"],[0.8888888888888888,\"#fdca26\"],[1.0,\"#f0f921\"]],\"sequentialminus\":[[0.0,\"#0d0887\"],[0.1111111111111111,\"#46039f\"],[0.2222222222222222,\"#7201a8\"],[0.3333333333333333,\"#9c179e\"],[0.4444444444444444,\"#bd3786\"],[0.5555555555555556,\"#d8576b\"],[0.6666666666666666,\"#ed7953\"],[0.7777777777777778,\"#fb9f3a\"],[0.8888888888888888,\"#fdca26\"],[1.0,\"#f0f921\"]],\"diverging\":[[0,\"#8e0152\"],[0.1,\"#c51b7d\"],[0.2,\"#de77ae\"],[0.3,\"#f1b6da\"],[0.4,\"#fde0ef\"],[0.5,\"#f7f7f7\"],[0.6,\"#e6f5d0\"],[0.7,\"#b8e186\"],[0.8,\"#7fbc41\"],[0.9,\"#4d9221\"],[1,\"#276419\"]]},\"xaxis\":{\"gridcolor\":\"white\",\"linecolor\":\"white\",\"ticks\":\"\",\"title\":{\"standoff\":15},\"zerolinecolor\":\"white\",\"automargin\":true,\"zerolinewidth\":2},\"yaxis\":{\"gridcolor\":\"white\",\"linecolor\":\"white\",\"ticks\":\"\",\"title\":{\"standoff\":15},\"zerolinecolor\":\"white\",\"automargin\":true,\"zerolinewidth\":2},\"scene\":{\"xaxis\":{\"backgroundcolor\":\"#E5ECF6\",\"gridcolor\":\"white\",\"linecolor\":\"white\",\"showbackground\":true,\"ticks\":\"\",\"zerolinecolor\":\"white\",\"gridwidth\":2},\"yaxis\":{\"backgroundcolor\":\"#E5ECF6\",\"gridcolor\":\"white\",\"linecolor\":\"white\",\"showbackground\":true,\"ticks\":\"\",\"zerolinecolor\":\"white\",\"gridwidth\":2},\"zaxis\":{\"backgroundcolor\":\"#E5ECF6\",\"gridcolor\":\"white\",\"linecolor\":\"white\",\"showbackground\":true,\"ticks\":\"\",\"zerolinecolor\":\"white\",\"gridwidth\":2}},\"shapedefaults\":{\"line\":{\"color\":\"#2a3f5f\"}},\"annotationdefaults\":{\"arrowcolor\":\"#2a3f5f\",\"arrowhead\":0,\"arrowwidth\":1},\"geo\":{\"bgcolor\":\"white\",\"landcolor\":\"#E5ECF6\",\"subunitcolor\":\"white\",\"showland\":true,\"showlakes\":true,\"lakecolor\":\"white\"},\"title\":{\"x\":0.05},\"mapbox\":{\"style\":\"light\"}}},\"xaxis\":{\"anchor\":\"y\",\"domain\":[0.0,1.0],\"title\":{\"text\":\"Year\"},\"showgrid\":false},\"yaxis\":{\"anchor\":\"x\",\"domain\":[0.0,1.0],\"title\":{\"text\":\"Count\"},\"showgrid\":false},\"legend\":{\"title\":{\"text\":\"OrgSize\"},\"tracegroupgap\":0},\"title\":{\"text\":\"Org Size Distribution by Year\"},\"barmode\":\"relative\",\"font\":{\"color\":\"white\"},\"plot_bgcolor\":\"rgba(0,0,0,0)\",\"paper_bgcolor\":\"rgba(0,0,0,0)\",\"height\":600,\"width\":1100},                        {\"responsive\": true}                    ).then(function(){\n",
       "                            \n",
       "var gd = document.getElementById('3f433c49-80a9-4b1a-a339-9b8f52285faf');\n",
       "var x = new MutationObserver(function (mutations, observer) {{\n",
       "        var display = window.getComputedStyle(gd).display;\n",
       "        if (!display || display === 'none') {{\n",
       "            console.log([gd, 'removed!']);\n",
       "            Plotly.purge(gd);\n",
       "            observer.disconnect();\n",
       "        }}\n",
       "}});\n",
       "\n",
       "// Listen for the removal of the full notebook cells\n",
       "var notebookContainer = gd.closest('#notebook-container');\n",
       "if (notebookContainer) {{\n",
       "    x.observe(notebookContainer, {childList: true});\n",
       "}}\n",
       "\n",
       "// Listen for the clearing of the current output cell\n",
       "var outputEl = gd.closest('.output');\n",
       "if (outputEl) {{\n",
       "    x.observe(outputEl, {childList: true});\n",
       "}}\n",
       "\n",
       "                        })                };                });            </script>        </div>"
      ]
     },
     "metadata": {},
     "output_type": "display_data"
    },
    {
     "data": {
      "application/vnd.plotly.v1+json": {
       "config": {
        "plotlyServerURL": "https://plot.ly"
       },
       "data": [
        {
         "alignmentgroup": "True",
         "boxpoints": false,
         "hovertemplate": "OrgSize=1,000 to 4,999 employees<br>Year=%{x}<br>MedianSalary=%{y}<extra></extra>",
         "legendgroup": "1,000 to 4,999 employees",
         "marker": {
          "color": "#FFD700"
         },
         "name": "1,000 to 4,999 employees",
         "notched": false,
         "offsetgroup": "1,000 to 4,999 employees",
         "orientation": "v",
         "showlegend": true,
         "type": "box",
         "x": [
          2020,
          2020,
          2020,
          2020,
          2020,
          2020,
          2020,
          2020,
          2020,
          2020,
          2020,
          2020,
          2020,
          2020,
          2020,
          2020,
          2020,
          2020,
          2020,
          2020,
          2020,
          2020,
          2020,
          2020,
          2020,
          2020,
          2020,
          2020,
          2020,
          2020,
          2020,
          2020,
          2020,
          2020,
          2020,
          2020,
          2020,
          2020,
          2020,
          2020,
          2020,
          2020,
          2020,
          2020,
          2020,
          2020,
          2020,
          2020,
          2020,
          2020,
          2020,
          2020,
          2020,
          2020,
          2021,
          2021,
          2021,
          2021,
          2021,
          2021,
          2021,
          2021,
          2021,
          2021,
          2021,
          2021,
          2021,
          2021,
          2021,
          2021,
          2021,
          2021,
          2021,
          2021,
          2021,
          2021,
          2021,
          2021,
          2021,
          2021,
          2021,
          2021,
          2021,
          2021,
          2021,
          2021,
          2021,
          2021,
          2021,
          2021,
          2021,
          2021,
          2021,
          2021,
          2021,
          2021,
          2021,
          2021,
          2021,
          2021,
          2021,
          2021,
          2021,
          2021,
          2021,
          2021,
          2021,
          2021,
          2021,
          2021,
          2021,
          2021,
          2021,
          2021,
          2021,
          2021,
          2021,
          2021,
          2021,
          2022,
          2022,
          2022,
          2022,
          2022,
          2022,
          2022,
          2022,
          2022,
          2022,
          2022,
          2022,
          2022,
          2022,
          2022,
          2022,
          2022,
          2022,
          2022,
          2022,
          2022,
          2022,
          2022,
          2022,
          2022,
          2022,
          2022,
          2022,
          2022,
          2022,
          2022,
          2022,
          2022,
          2022,
          2022,
          2022,
          2022,
          2022,
          2022,
          2022,
          2022,
          2022,
          2022,
          2022,
          2022,
          2022,
          2022,
          2022,
          2022,
          2022,
          2022,
          2022,
          2022,
          2022,
          2022,
          2022,
          2022,
          2022,
          2022,
          2022,
          2022,
          2022,
          2022,
          2022,
          2023,
          2023,
          2023,
          2023,
          2023,
          2023,
          2023,
          2023,
          2023,
          2023,
          2023,
          2023,
          2023,
          2023,
          2023,
          2023,
          2023,
          2023,
          2023,
          2023,
          2023,
          2023,
          2023,
          2023,
          2023,
          2023,
          2023,
          2023,
          2023,
          2023,
          2023,
          2023,
          2023,
          2023,
          2023,
          2023,
          2023,
          2023,
          2023,
          2023,
          2023,
          2023,
          2023,
          2023,
          2023,
          2023,
          2023,
          2023,
          2023,
          2023,
          2023,
          2023,
          2023,
          2023,
          2023,
          2023,
          2023,
          2023,
          2023,
          2023,
          2023,
          2023,
          2023,
          2023,
          2023,
          2023,
          2023,
          2023,
          2023,
          2023,
          2023,
          2023,
          2023,
          2023,
          2023,
          2023,
          2023,
          2023,
          2023,
          2023,
          2023,
          2023,
          2023,
          2023,
          2023,
          2023,
          2023,
          2023,
          2023,
          2023,
          2023,
          2024,
          2024,
          2024,
          2024,
          2024,
          2024,
          2024,
          2024,
          2024,
          2024,
          2024,
          2024,
          2024,
          2024,
          2024,
          2024,
          2024,
          2024,
          2024,
          2024,
          2024,
          2024,
          2024,
          2024,
          2024,
          2024,
          2024,
          2024,
          2024,
          2024,
          2024,
          2024,
          2024,
          2024,
          2024,
          2024,
          2024,
          2024,
          2024,
          2024,
          2024,
          2024,
          2024,
          2024,
          2024,
          2024,
          2024,
          2024,
          2024,
          2024,
          2024,
          2024,
          2024,
          2024,
          2024,
          2024,
          2024,
          2024,
          2024,
          2024,
          2024,
          2024,
          2024,
          2024,
          2024,
          2024,
          2024,
          2024,
          2024,
          2024,
          2024,
          2024,
          2024,
          2024,
          2024,
          2024,
          2024,
          2024,
          2024,
          2024,
          2024,
          2024,
          2024,
          2024,
          2024,
          2024,
          2024,
          2024
         ],
         "x0": " ",
         "xaxis": "x",
         "y": [
          40000,
          174240,
          43850,
          49205,
          127949,
          60000,
          42096,
          85439,
          123372,
          96000,
          49348,
          24556,
          24000,
          39202,
          93411,
          46218,
          36655,
          54374,
          138720,
          32274,
          60000,
          57005,
          22350,
          33326,
          28415,
          24000,
          48542,
          65775,
          28064,
          52620,
          140910,
          72000,
          143500,
          155000,
          31200,
          30000,
          101258,
          30695,
          26310,
          175594,
          101850,
          130656,
          29993,
          26310,
          37711,
          98400,
          61258,
          50000,
          55200,
          44700,
          115000,
          33600,
          36000,
          30000,
          30000,
          60000,
          68000,
          120000,
          54000,
          32400,
          48000,
          54000,
          43860,
          120000,
          145000,
          120000,
          71000,
          103000,
          60000,
          55200,
          93420,
          36000,
          156000,
          53400,
          51920,
          50000,
          36000,
          63800,
          36000,
          38000,
          129000,
          56000,
          85000,
          39250,
          50400,
          41500,
          48000,
          67200,
          120000,
          55000,
          157500,
          51600,
          62352,
          115000,
          30000,
          32400,
          25800,
          72000,
          138000,
          40000,
          36000,
          144000,
          38400,
          93500,
          32400,
          30550,
          80000,
          45000,
          104200,
          21600,
          36000,
          168000,
          48000,
          51000,
          60000,
          130000,
          109200,
          30000,
          22800,
          65400,
          60840,
          132500,
          61000,
          25000,
          62400,
          60000,
          60000,
          138000,
          88000,
          120500,
          39600,
          36000,
          45360,
          72000,
          120000,
          27600,
          55800,
          65400,
          110196,
          59800,
          48000,
          48000,
          66300,
          72000,
          35000,
          42000,
          60000,
          100000,
          47250,
          52680,
          30000,
          57600,
          94000,
          89800,
          85000,
          24000,
          138000,
          68000,
          130000,
          21600,
          180000,
          30156,
          30000,
          24000,
          100800,
          45000,
          42000,
          79200,
          69500,
          96420,
          44400,
          47500,
          80000,
          51000,
          110000,
          150000,
          100000,
          60000,
          67050,
          180000,
          146000,
          72000,
          24000,
          41236,
          91094,
          100478,
          72553,
          117626,
          127108,
          54982,
          69608,
          39966,
          42604,
          52005,
          91080.5,
          40493,
          50647.5,
          36000,
          38000,
          48190,
          107090,
          54592,
          100649,
          33842,
          31000,
          21427,
          71750,
          66396,
          61041,
          66000,
          80317,
          56000,
          42836,
          33667,
          96381,
          51023,
          36690,
          85182,
          36351,
          45496,
          99214,
          89419.5,
          112257,
          44978,
          40914,
          57346,
          51169,
          25219,
          66045,
          69608,
          64254,
          72821,
          34634,
          56222,
          54959,
          30000,
          82459,
          69807,
          77984,
          72490,
          59322,
          40000,
          39202.5,
          29764.5,
          57423,
          58899,
          52729,
          48094.5,
          51786,
          42349.5,
          62620,
          59391,
          92639.5,
          44978,
          47654.5,
          49797,
          98612.5,
          53545,
          23955,
          59800,
          132260,
          71706,
          80844.5,
          25695,
          28204,
          36200.5,
          61830,
          130649,
          83173,
          154000,
          84000,
          45000,
          27652.5,
          25228,
          23844,
          58196.5,
          99099,
          67666,
          88333,
          38139,
          75184,
          20664,
          40036,
          37297,
          53550,
          83597,
          37260.5,
          53120.5,
          77214,
          59073,
          71962,
          49950,
          108002,
          50507,
          24000,
          50400,
          55422,
          72499,
          54240,
          68169,
          78407,
          45647.5,
          23522.5,
          96000,
          48916,
          67983,
          40676,
          42932,
          48272,
          92369,
          71483.5,
          121969,
          42962,
          25698,
          65235,
          32939,
          46512,
          38666,
          57999,
          99350.5,
          27545,
          28079,
          48518,
          30899,
          30149,
          79534.5,
          79894,
          23920,
          64444,
          73937,
          47677,
          124127,
          150000,
          31687,
          33430,
          62484.5,
          47052,
          102822,
          55851,
          64408,
          47059,
          100523,
          45984.5,
          104960,
          38666,
          53703,
          61557,
          32640,
          53703,
          21728,
          57230,
          122559,
          27796,
          68572.5,
          41733,
          57600,
          63383,
          89172,
          150000,
          91000,
          25548,
          22803
         ],
         "y0": " ",
         "yaxis": "y"
        },
        {
         "alignmentgroup": "True",
         "boxpoints": false,
         "hovertemplate": "OrgSize=10 to 19 employees<br>Year=%{x}<br>MedianSalary=%{y}<extra></extra>",
         "legendgroup": "10 to 19 employees",
         "marker": {
          "color": "#FBC02D"
         },
         "name": "10 to 19 employees",
         "notched": false,
         "offsetgroup": "10 to 19 employees",
         "orientation": "v",
         "showlegend": true,
         "type": "box",
         "x": [
          2020,
          2020,
          2020,
          2020,
          2020,
          2020,
          2020,
          2020,
          2020,
          2020,
          2020,
          2020,
          2020,
          2020,
          2020,
          2020,
          2020,
          2020,
          2020,
          2020,
          2020,
          2020,
          2020,
          2020,
          2020,
          2020,
          2020,
          2020,
          2020,
          2020,
          2020,
          2020,
          2020,
          2020,
          2020,
          2020,
          2020,
          2020,
          2020,
          2020,
          2020,
          2020,
          2020,
          2020,
          2020,
          2020,
          2020,
          2020,
          2020,
          2020,
          2020,
          2020,
          2020,
          2020,
          2020,
          2020,
          2020,
          2020,
          2020,
          2020,
          2020,
          2020,
          2020,
          2020,
          2020,
          2020,
          2020,
          2020,
          2020,
          2020,
          2020,
          2020,
          2020,
          2020,
          2020,
          2020,
          2020,
          2020,
          2020,
          2020,
          2021,
          2021,
          2021,
          2021,
          2021,
          2021,
          2021,
          2021,
          2021,
          2021,
          2021,
          2021,
          2021,
          2021,
          2021,
          2021,
          2021,
          2021,
          2021,
          2021,
          2021,
          2021,
          2021,
          2021,
          2021,
          2021,
          2021,
          2021,
          2021,
          2021,
          2021,
          2021,
          2021,
          2021,
          2021,
          2021,
          2021,
          2021,
          2021,
          2021,
          2021,
          2021,
          2021,
          2021,
          2021,
          2021,
          2021,
          2021,
          2021,
          2021,
          2021,
          2021,
          2021,
          2021,
          2021,
          2021,
          2021,
          2021,
          2021,
          2021,
          2021,
          2021,
          2021,
          2021,
          2021,
          2021,
          2021,
          2021,
          2021,
          2021,
          2021,
          2021,
          2021,
          2021,
          2021,
          2021,
          2021,
          2021,
          2021,
          2021,
          2021,
          2021,
          2021,
          2021,
          2021,
          2021,
          2021,
          2021,
          2021,
          2021,
          2021,
          2021,
          2021,
          2021,
          2021,
          2021,
          2021,
          2021,
          2021,
          2021,
          2021,
          2021,
          2022,
          2022,
          2022,
          2022,
          2022,
          2022,
          2022,
          2022,
          2022,
          2022,
          2022,
          2022,
          2022,
          2022,
          2022,
          2022,
          2022,
          2022,
          2022,
          2022,
          2022,
          2022,
          2022,
          2022,
          2022,
          2022,
          2022,
          2022,
          2022,
          2022,
          2022,
          2022,
          2022,
          2022,
          2022,
          2022,
          2022,
          2022,
          2022,
          2022,
          2022,
          2022,
          2022,
          2022,
          2022,
          2022,
          2022,
          2022,
          2022,
          2022,
          2022,
          2022,
          2022,
          2022,
          2022,
          2022,
          2022,
          2022,
          2022,
          2022,
          2022,
          2022,
          2022,
          2022,
          2022,
          2022,
          2022,
          2022,
          2022,
          2022,
          2022,
          2022,
          2022,
          2022,
          2022,
          2022,
          2022,
          2022,
          2022,
          2022,
          2022,
          2022,
          2022,
          2022,
          2022,
          2022,
          2022,
          2022,
          2022,
          2022,
          2022,
          2022,
          2022,
          2022,
          2023,
          2023,
          2023,
          2023,
          2023,
          2023,
          2023,
          2023,
          2023,
          2023,
          2023,
          2023,
          2023,
          2023,
          2023,
          2023,
          2023,
          2023,
          2023,
          2023,
          2023,
          2023,
          2023,
          2023,
          2023,
          2023,
          2023,
          2023,
          2023,
          2023,
          2023,
          2023,
          2023,
          2023,
          2023,
          2023,
          2023,
          2023,
          2023,
          2023,
          2023,
          2023,
          2023,
          2023,
          2023,
          2023,
          2023,
          2023,
          2023,
          2023,
          2023,
          2023,
          2023,
          2023,
          2023,
          2023,
          2023,
          2023,
          2023,
          2023,
          2023,
          2023,
          2023,
          2023,
          2023,
          2023,
          2023,
          2023,
          2023,
          2023,
          2023,
          2023,
          2023,
          2023,
          2023,
          2023,
          2023,
          2023,
          2023,
          2023,
          2023,
          2023,
          2023,
          2023,
          2023,
          2023,
          2023,
          2023,
          2023,
          2023,
          2023,
          2023,
          2023,
          2023,
          2023,
          2023,
          2023,
          2023,
          2023,
          2023,
          2023,
          2023,
          2023,
          2023,
          2023,
          2023,
          2023,
          2023,
          2023,
          2024,
          2024,
          2024,
          2024,
          2024,
          2024,
          2024,
          2024,
          2024,
          2024,
          2024,
          2024,
          2024,
          2024,
          2024,
          2024,
          2024,
          2024,
          2024,
          2024,
          2024,
          2024,
          2024,
          2024,
          2024,
          2024,
          2024,
          2024,
          2024,
          2024,
          2024,
          2024,
          2024,
          2024,
          2024,
          2024,
          2024,
          2024,
          2024,
          2024,
          2024,
          2024,
          2024,
          2024,
          2024,
          2024,
          2024,
          2024,
          2024,
          2024,
          2024,
          2024,
          2024,
          2024,
          2024,
          2024,
          2024,
          2024,
          2024,
          2024,
          2024,
          2024,
          2024,
          2024,
          2024,
          2024,
          2024,
          2024,
          2024,
          2024,
          2024,
          2024,
          2024,
          2024,
          2024,
          2024,
          2024,
          2024,
          2024,
          2024,
          2024,
          2024,
          2024,
          2024,
          2024,
          2024,
          2024,
          2024,
          2024,
          2024,
          2024,
          2024,
          2024,
          2024,
          2024,
          2024,
          2024,
          2024,
          2024
         ],
         "x0": " ",
         "xaxis": "x",
         "y": [
          17364.5,
          60000,
          139392,
          33677,
          26520,
          45345,
          33677,
          36096,
          173074,
          59069,
          101916,
          21600,
          174900,
          72000,
          60000,
          10800,
          16838,
          28280,
          120000,
          30000,
          13200,
          61200,
          13200,
          33677,
          39991,
          33326,
          79200,
          41219,
          152592,
          13856.5,
          54120,
          18000,
          24000,
          46042.5,
          85000,
          24556,
          7391,
          9261,
          15786,
          26400,
          25705,
          5262,
          47358,
          23258,
          30000,
          37053,
          151690,
          12000,
          91000,
          10200,
          21600,
          126468,
          31572,
          20258.5,
          174720,
          107897,
          69000,
          26310,
          102075,
          10524,
          28057,
          34866,
          30000,
          29379.5,
          8940,
          50400,
          87084,
          9600,
          60000,
          104000,
          31572,
          68064,
          174240,
          28500,
          32780,
          100000,
          42000,
          14400,
          12000,
          36000,
          96000,
          45200,
          42000,
          9600,
          97000,
          50000,
          33000,
          186000,
          30600,
          38400,
          51600,
          24300,
          93600,
          60000,
          58800,
          5400,
          24000,
          85000,
          144000,
          36300,
          9000,
          68000,
          156000,
          66000,
          30000,
          105000,
          36000,
          66000,
          162500,
          16800,
          180000,
          24000,
          37602,
          157008,
          54000,
          40000,
          19200,
          50400,
          37800,
          19200,
          132000,
          50000,
          180000,
          30000,
          13200,
          60000,
          144000,
          27000,
          60000,
          12000,
          20196,
          51000,
          34800,
          42000,
          67000,
          60000,
          30000,
          186000,
          15600,
          120000,
          144000,
          48000,
          80000,
          18000,
          180000,
          180000,
          150000,
          24000,
          87000,
          36000,
          135000,
          96000,
          25200,
          42000,
          72000,
          43480,
          130200,
          25000,
          68640,
          27000,
          37750,
          9600,
          156000,
          31000,
          84000,
          12000,
          75000,
          9324,
          138000,
          19200,
          78000,
          60000,
          48000,
          36000,
          84000,
          49000,
          70000,
          108000,
          39600,
          18000,
          14400,
          12366,
          28200,
          36000,
          15600,
          69840,
          110000,
          46500,
          7200,
          180000,
          48000,
          37680,
          84000,
          33756,
          72000,
          67500,
          12000,
          100000,
          51600,
          37000,
          69000,
          165000,
          13800,
          60000,
          165000,
          90000,
          10200,
          42000,
          87468,
          55200,
          42000,
          120000,
          52900,
          21600,
          78000,
          95500,
          180000,
          42000,
          9996,
          67500,
          168000,
          30000,
          126000,
          21600,
          26000,
          21360,
          96000,
          36000,
          16800,
          18000,
          65000,
          60000,
          13800,
          42000,
          159000,
          42360,
          93000,
          157000,
          46200,
          110000,
          10800,
          24500,
          16800,
          10680,
          37200,
          120000,
          32500,
          144000,
          100440,
          29400,
          24000,
          84000,
          50000,
          92400,
          27000,
          36342,
          12000,
          132000,
          110000,
          30750,
          105820,
          9600,
          100000,
          67200,
          84000,
          28800,
          120000,
          50000,
          96000,
          51000,
          120000,
          12000,
          8400,
          12000,
          74400,
          12000,
          11000,
          23560,
          36000,
          93696,
          79325,
          69608,
          9111,
          28262.5,
          57828,
          8971,
          31480,
          24345,
          67059.5,
          11624,
          19596,
          74351,
          23996,
          21103.5,
          15473,
          42400,
          37481,
          38552.5,
          34711.5,
          85672,
          19247.5,
          21600,
          12369.5,
          55686.5,
          26810,
          64254,
          50332,
          6532,
          46500,
          64254,
          21418,
          95000,
          36000,
          39798,
          42056,
          13813,
          12456.5,
          33071,
          22800,
          74963,
          80690,
          112257,
          38016.5,
          28673,
          23639.5,
          13407,
          24713,
          17863,
          74463,
          43371.5,
          31000,
          41765,
          64254,
          42774,
          18106,
          26037,
          11401,
          16602.5,
          58364,
          13303,
          8186,
          58363.5,
          74360.5,
          15600,
          10398,
          85701.5,
          78833.5,
          12953.5,
          43000,
          27765,
          56100,
          15992.5,
          47119,
          41979,
          34628.5,
          47211,
          47902,
          24751,
          17665,
          11991,
          54823,
          66700,
          40694,
          48190,
          33846.5,
          46171,
          40961.5,
          21167,
          53442,
          101567,
          25711.5,
          17254,
          96000,
          11242,
          28204,
          41254,
          21230.5,
          65669,
          9496,
          125000,
          43100,
          22500,
          24199,
          33061,
          7800,
          64257,
          15130,
          72500,
          92492,
          79763,
          20140,
          8192,
          45000,
          59073,
          12138,
          65805,
          19208.5,
          47453,
          120000,
          72693,
          24696,
          22076,
          34682,
          83200,
          44573.5,
          42962,
          44147,
          86401,
          39875.5,
          46500,
          57500,
          44878.5,
          67666,
          48333,
          31463,
          69814,
          27926,
          35990,
          108794,
          29213.5,
          39730,
          14356,
          9568,
          18000,
          32080,
          103110,
          125476.5,
          34370,
          34495.5,
          53171,
          10232.5,
          25777,
          6208,
          47535,
          14580,
          85925,
          128887,
          9664.5,
          5848,
          9123,
          19407,
          8974,
          37592,
          20501,
          44643,
          8963,
          57634,
          68524,
          17100,
          12783.5,
          79552,
          12989,
          12921,
          66707.5,
          15728,
          59639,
          26852,
          36266,
          48273,
          46128.5,
          26891,
          146652,
          35055.5,
          53219,
          33564.5,
          55046,
          27119,
          60927,
          35981,
          35555,
          26000,
          56658,
          108631,
          28722.5,
          46320,
          20959.5,
          37026,
          17969,
          63694,
          138000,
          77500,
          11340,
          8000,
          11400
         ],
         "y0": " ",
         "yaxis": "y"
        },
        {
         "alignmentgroup": "True",
         "boxpoints": false,
         "hovertemplate": "OrgSize=10,000 or more employees<br>Year=%{x}<br>MedianSalary=%{y}<extra></extra>",
         "legendgroup": "10,000 or more employees",
         "marker": {
          "color": "#FF8C00"
         },
         "name": "10,000 or more employees",
         "notched": false,
         "offsetgroup": "10,000 or more employees",
         "orientation": "v",
         "showlegend": true,
         "type": "box",
         "x": [
          2020,
          2020,
          2020,
          2020,
          2020,
          2020,
          2020,
          2020,
          2020,
          2020,
          2020,
          2020,
          2020,
          2020,
          2020,
          2020,
          2020,
          2020,
          2020,
          2020,
          2020,
          2020,
          2020,
          2020,
          2020,
          2020,
          2020,
          2020,
          2020,
          2020,
          2020,
          2020,
          2020,
          2020,
          2020,
          2020,
          2020,
          2020,
          2020,
          2021,
          2021,
          2021,
          2021,
          2021,
          2021,
          2021,
          2021,
          2021,
          2021,
          2021,
          2021,
          2021,
          2021,
          2021,
          2021,
          2021,
          2021,
          2021,
          2021,
          2021,
          2021,
          2021,
          2021,
          2021,
          2021,
          2021,
          2021,
          2021,
          2021,
          2021,
          2021,
          2021,
          2021,
          2021,
          2021,
          2021,
          2021,
          2021,
          2021,
          2021,
          2021,
          2021,
          2021,
          2021,
          2021,
          2021,
          2021,
          2022,
          2022,
          2022,
          2022,
          2022,
          2022,
          2022,
          2022,
          2022,
          2022,
          2022,
          2022,
          2022,
          2022,
          2022,
          2022,
          2022,
          2022,
          2022,
          2022,
          2022,
          2022,
          2022,
          2022,
          2022,
          2022,
          2022,
          2022,
          2022,
          2022,
          2022,
          2022,
          2022,
          2022,
          2022,
          2022,
          2022,
          2022,
          2022,
          2022,
          2022,
          2022,
          2022,
          2022,
          2022,
          2022,
          2022,
          2022,
          2022,
          2022,
          2022,
          2023,
          2023,
          2023,
          2023,
          2023,
          2023,
          2023,
          2023,
          2023,
          2023,
          2023,
          2023,
          2023,
          2023,
          2023,
          2023,
          2023,
          2023,
          2023,
          2023,
          2023,
          2023,
          2023,
          2023,
          2023,
          2023,
          2023,
          2023,
          2023,
          2023,
          2023,
          2023,
          2023,
          2023,
          2023,
          2023,
          2023,
          2023,
          2023,
          2023,
          2023,
          2023,
          2023,
          2023,
          2023,
          2023,
          2023,
          2023,
          2023,
          2023,
          2023,
          2023,
          2023,
          2023,
          2023,
          2023,
          2023,
          2023,
          2023,
          2023,
          2023,
          2023,
          2023,
          2023,
          2023,
          2023,
          2023,
          2023,
          2023,
          2023,
          2023,
          2023,
          2023,
          2023,
          2023,
          2023,
          2023,
          2023,
          2024,
          2024,
          2024,
          2024,
          2024,
          2024,
          2024,
          2024,
          2024,
          2024,
          2024,
          2024,
          2024,
          2024,
          2024,
          2024,
          2024,
          2024,
          2024,
          2024,
          2024,
          2024,
          2024,
          2024,
          2024,
          2024,
          2024,
          2024,
          2024,
          2024,
          2024,
          2024,
          2024,
          2024,
          2024,
          2024,
          2024,
          2024,
          2024,
          2024,
          2024,
          2024,
          2024,
          2024,
          2024,
          2024,
          2024,
          2024,
          2024,
          2024,
          2024,
          2024,
          2024,
          2024,
          2024,
          2024,
          2024,
          2024,
          2024,
          2024,
          2024,
          2024,
          2024,
          2024,
          2024,
          2024,
          2024
         ],
         "x0": " ",
         "xaxis": "x",
         "y": [
          161843.5,
          57707,
          79342,
          42096,
          126576,
          127395,
          72000,
          38807,
          149090,
          131550,
          52795.5,
          52620,
          45604,
          65775,
          39000,
          40678.5,
          65775,
          39026.5,
          34203,
          36834,
          67967.5,
          64898,
          154000,
          76925,
          72000,
          45604,
          48235,
          46042.5,
          146988,
          56347,
          46481,
          44727,
          127920,
          65000,
          170000,
          42600,
          52150,
          126500,
          30000,
          155000,
          65000,
          42000,
          48000,
          58800,
          120000,
          88000,
          110000,
          45000,
          151800,
          33800,
          144000,
          58275,
          181224,
          62000,
          50000,
          102000,
          75000,
          50000,
          156000,
          90000,
          137600,
          45000,
          48000,
          62500,
          32340,
          60600,
          93200,
          110000,
          70000,
          70000,
          112500,
          91000,
          72000,
          69600,
          156000,
          50000,
          144000,
          79800,
          100000,
          37200,
          115200,
          47500,
          128610,
          180000,
          64000,
          140000,
          30000,
          59700,
          72000,
          149000,
          66500,
          62820,
          60600,
          54000,
          144000,
          30000,
          132000,
          91250,
          135000,
          48000,
          61000,
          138000,
          50000,
          175000,
          54000,
          76800,
          59400,
          52000,
          68400,
          78000,
          55500,
          98000,
          46000,
          43268,
          49200,
          48276,
          96000,
          85500,
          156000,
          75000,
          135000,
          150000,
          120000,
          186000,
          52000,
          120000,
          60000,
          33000,
          36000,
          108000,
          48000,
          60000,
          55000,
          134000,
          49200,
          70000,
          155000,
          105000,
          139700,
          37776,
          49483,
          78080,
          110394,
          80317,
          45500,
          61737,
          44633,
          42596,
          60216,
          111527,
          56240,
          77379,
          46049,
          66302.5,
          53545,
          51938.5,
          69150,
          122217,
          40244,
          30000,
          59434.5,
          74963,
          59970,
          66000,
          88884,
          61576.5,
          63956,
          89941,
          49655,
          133720,
          48468,
          56547,
          107090,
          136312,
          48725.5,
          61288.5,
          63321,
          48884,
          56115,
          100000,
          69608.5,
          155279.5,
          57249,
          50653,
          85672,
          77395.5,
          81552,
          64615.5,
          86627,
          62208,
          58899,
          37628,
          60729,
          53215,
          122575,
          61041,
          94505,
          54616,
          53545,
          54465.5,
          100037,
          59970,
          61595.5,
          165324,
          81483.5,
          76195.5,
          66489,
          43716.5,
          52000,
          40828,
          99311,
          158000,
          170000,
          74808,
          36000,
          45988,
          36669,
          98000,
          112312,
          76896.5,
          54000,
          77869.5,
          50258.5,
          46135,
          112674,
          38993.5,
          72436.5,
          41988,
          47441,
          64444,
          42962,
          65152,
          128707.5,
          107406,
          70888,
          60684.5,
          46145,
          91295,
          59073,
          130000,
          63997,
          59106.5,
          46658,
          94517,
          178096,
          50481,
          76372.5,
          70541,
          56400,
          73932,
          92369,
          59073,
          128887,
          35809,
          49380.5,
          86785,
          91263,
          92655,
          30000,
          59413.5,
          61866,
          52629,
          65279,
          53703,
          73363,
          53782,
          44573.5,
          118265,
          53703,
          35444,
          60265,
          56388,
          64098,
          157654.5,
          50958.5,
          54493.5,
          40806,
          53070,
          149745,
          107006,
          160000,
          92525,
          56500
         ],
         "y0": " ",
         "yaxis": "y"
        },
        {
         "alignmentgroup": "True",
         "boxpoints": false,
         "hovertemplate": "OrgSize=100 to 499 employees<br>Year=%{x}<br>MedianSalary=%{y}<extra></extra>",
         "legendgroup": "100 to 499 employees",
         "marker": {
          "color": "#FFA500"
         },
         "name": "100 to 499 employees",
         "notched": false,
         "offsetgroup": "100 to 499 employees",
         "orientation": "v",
         "showlegend": true,
         "type": "box",
         "x": [
          2020,
          2020,
          2020,
          2020,
          2020,
          2020,
          2020,
          2020,
          2020,
          2020,
          2020,
          2020,
          2020,
          2020,
          2020,
          2020,
          2020,
          2020,
          2020,
          2020,
          2020,
          2020,
          2020,
          2020,
          2020,
          2020,
          2020,
          2020,
          2020,
          2020,
          2020,
          2020,
          2020,
          2020,
          2020,
          2020,
          2020,
          2020,
          2020,
          2020,
          2020,
          2020,
          2020,
          2020,
          2020,
          2020,
          2020,
          2020,
          2020,
          2020,
          2020,
          2020,
          2020,
          2020,
          2020,
          2020,
          2020,
          2020,
          2020,
          2020,
          2020,
          2020,
          2020,
          2020,
          2020,
          2020,
          2020,
          2020,
          2020,
          2020,
          2020,
          2021,
          2021,
          2021,
          2021,
          2021,
          2021,
          2021,
          2021,
          2021,
          2021,
          2021,
          2021,
          2021,
          2021,
          2021,
          2021,
          2021,
          2021,
          2021,
          2021,
          2021,
          2021,
          2021,
          2021,
          2021,
          2021,
          2021,
          2021,
          2021,
          2021,
          2021,
          2021,
          2021,
          2021,
          2021,
          2021,
          2021,
          2021,
          2021,
          2021,
          2021,
          2021,
          2021,
          2021,
          2021,
          2021,
          2021,
          2021,
          2021,
          2021,
          2021,
          2021,
          2021,
          2021,
          2021,
          2021,
          2021,
          2021,
          2021,
          2021,
          2021,
          2021,
          2021,
          2021,
          2021,
          2021,
          2021,
          2021,
          2021,
          2021,
          2021,
          2021,
          2021,
          2021,
          2021,
          2021,
          2021,
          2021,
          2021,
          2021,
          2021,
          2021,
          2021,
          2021,
          2021,
          2021,
          2022,
          2022,
          2022,
          2022,
          2022,
          2022,
          2022,
          2022,
          2022,
          2022,
          2022,
          2022,
          2022,
          2022,
          2022,
          2022,
          2022,
          2022,
          2022,
          2022,
          2022,
          2022,
          2022,
          2022,
          2022,
          2022,
          2022,
          2022,
          2022,
          2022,
          2022,
          2022,
          2022,
          2022,
          2022,
          2022,
          2022,
          2022,
          2022,
          2022,
          2022,
          2022,
          2022,
          2022,
          2022,
          2022,
          2022,
          2022,
          2022,
          2022,
          2022,
          2022,
          2022,
          2022,
          2022,
          2022,
          2022,
          2022,
          2022,
          2022,
          2022,
          2022,
          2022,
          2022,
          2022,
          2022,
          2022,
          2022,
          2022,
          2022,
          2022,
          2022,
          2022,
          2022,
          2022,
          2022,
          2022,
          2022,
          2022,
          2022,
          2022,
          2022,
          2022,
          2022,
          2022,
          2022,
          2022,
          2022,
          2022,
          2023,
          2023,
          2023,
          2023,
          2023,
          2023,
          2023,
          2023,
          2023,
          2023,
          2023,
          2023,
          2023,
          2023,
          2023,
          2023,
          2023,
          2023,
          2023,
          2023,
          2023,
          2023,
          2023,
          2023,
          2023,
          2023,
          2023,
          2023,
          2023,
          2023,
          2023,
          2023,
          2023,
          2023,
          2023,
          2023,
          2023,
          2023,
          2023,
          2023,
          2023,
          2023,
          2023,
          2023,
          2023,
          2023,
          2023,
          2023,
          2023,
          2023,
          2023,
          2023,
          2023,
          2023,
          2023,
          2023,
          2023,
          2023,
          2023,
          2023,
          2023,
          2023,
          2023,
          2023,
          2023,
          2023,
          2023,
          2023,
          2023,
          2023,
          2023,
          2023,
          2023,
          2023,
          2023,
          2023,
          2023,
          2023,
          2023,
          2023,
          2023,
          2023,
          2023,
          2023,
          2023,
          2023,
          2023,
          2023,
          2023,
          2023,
          2023,
          2023,
          2023,
          2023,
          2023,
          2023,
          2023,
          2023,
          2023,
          2023,
          2023,
          2023,
          2023,
          2023,
          2023,
          2023,
          2023,
          2023,
          2023,
          2023,
          2023,
          2023,
          2023,
          2023,
          2023,
          2023,
          2023,
          2023,
          2023,
          2023,
          2023,
          2023,
          2023,
          2024,
          2024,
          2024,
          2024,
          2024,
          2024,
          2024,
          2024,
          2024,
          2024,
          2024,
          2024,
          2024,
          2024,
          2024,
          2024,
          2024,
          2024,
          2024,
          2024,
          2024,
          2024,
          2024,
          2024,
          2024,
          2024,
          2024,
          2024,
          2024,
          2024,
          2024,
          2024,
          2024,
          2024,
          2024,
          2024,
          2024,
          2024,
          2024,
          2024,
          2024,
          2024,
          2024,
          2024,
          2024,
          2024,
          2024,
          2024,
          2024,
          2024,
          2024,
          2024,
          2024,
          2024,
          2024,
          2024,
          2024,
          2024,
          2024,
          2024,
          2024,
          2024,
          2024,
          2024,
          2024,
          2024,
          2024,
          2024,
          2024,
          2024,
          2024,
          2024,
          2024,
          2024,
          2024,
          2024,
          2024,
          2024,
          2024,
          2024,
          2024,
          2024,
          2024,
          2024,
          2024,
          2024,
          2024,
          2024,
          2024,
          2024,
          2024,
          2024,
          2024,
          2024,
          2024,
          2024,
          2024,
          2024,
          2024,
          2024,
          2024,
          2024,
          2024,
          2024,
          2024,
          2024,
          2024,
          2024
         ],
         "x0": " ",
         "xaxis": "x",
         "y": [
          44500,
          174240,
          42359,
          43860,
          61032,
          36834,
          90240,
          105480,
          19314,
          120690,
          19200,
          60000,
          14550,
          36834,
          18600,
          26400,
          22200,
          29467,
          47358,
          39903.5,
          51743,
          26310,
          12000,
          56128,
          49463,
          30000,
          30000,
          50862,
          26261,
          29379.5,
          87700,
          17016,
          50866,
          13200,
          25784,
          31572,
          54111,
          178044,
          43850,
          26310,
          47358,
          146300,
          68500,
          32880,
          177500,
          73475,
          84000,
          21270,
          93375.5,
          24468.5,
          43850,
          58800,
          36417,
          114324,
          30607.5,
          35080,
          73695,
          34675,
          12540,
          118395,
          105780,
          70000,
          162700,
          48000,
          40000,
          37250,
          110000,
          98500,
          74800,
          36000,
          60000,
          24750,
          63000,
          120000,
          51250,
          33360,
          16848,
          46800,
          45600,
          41000,
          84000,
          52200,
          98400,
          48000,
          12000,
          95000,
          24000,
          42000,
          37500,
          180000,
          48000,
          26700,
          180000,
          17346,
          42000,
          58080,
          45000,
          34200,
          60000,
          60000,
          25500,
          76440,
          62400,
          82500,
          24000,
          72000,
          50500,
          33000,
          110000,
          22200,
          60000,
          12000,
          46800,
          18000,
          45780,
          61500,
          96000,
          45000,
          37200,
          138000,
          15000,
          57000,
          110000,
          67200,
          37100,
          80000,
          48600,
          40000,
          38880,
          72000,
          159996,
          31200,
          25200,
          120000,
          54000,
          72000,
          49200,
          90000,
          35100,
          37800,
          40000,
          12096,
          18600,
          102000,
          39000,
          36000,
          144000,
          57000,
          147000,
          57500,
          120000,
          45000,
          23400,
          24000,
          18000,
          105000,
          18000,
          59500,
          30000,
          42000,
          48000,
          130000,
          54000,
          23400,
          54000,
          45600,
          110000,
          52800,
          104232,
          73175,
          16800,
          115000,
          60000,
          75000,
          60000,
          15600,
          176000,
          82000,
          22000,
          25200,
          49200,
          58080,
          50000,
          62500,
          63000,
          186000,
          33600,
          67000,
          51000,
          31200,
          33534,
          18000,
          36000,
          87000,
          40000,
          40000,
          72000,
          103000,
          48000,
          42000,
          42000,
          44070,
          62500,
          51600,
          51150,
          27228,
          150000,
          65000,
          125000,
          24000,
          52000,
          83000,
          12000,
          31800,
          28500,
          18000,
          50000,
          168000,
          36276,
          146070,
          93000,
          50000,
          70000,
          60000,
          95000,
          46800,
          49000,
          55981,
          44000,
          10800,
          107750,
          65000,
          42000,
          58800,
          48000,
          180000,
          12000,
          56300,
          65000,
          99600,
          140000,
          74412,
          66000,
          18000,
          16800,
          10800,
          11844,
          40000,
          40081,
          92545,
          71750,
          31759,
          95331,
          23056,
          47613,
          58899,
          60000,
          63727,
          30431,
          42425.5,
          25000,
          163573,
          89222,
          46242,
          49944.5,
          41445,
          72000,
          49796.5,
          16995.5,
          70625.5,
          54592,
          19596,
          94179,
          60399,
          132857,
          44433,
          30000,
          22726,
          30000,
          62112,
          24753.5,
          12065,
          71750,
          55687,
          54616,
          72285,
          70679,
          39623,
          39397,
          21960,
          63779,
          40316,
          78083,
          24537,
          29088,
          87876,
          25996,
          91026,
          72000,
          115865.5,
          44978,
          38812,
          46594,
          18293,
          75000,
          36027,
          60399,
          40003,
          52474,
          12000,
          57721,
          102270.5,
          11690,
          26209,
          50332,
          21048,
          31258,
          53545,
          18837,
          47119.5,
          14781,
          34107,
          73356.5,
          79587.5,
          65240,
          46244,
          75209,
          25206,
          70000,
          41600,
          36743,
          31200,
          31687.5,
          54000,
          48725.5,
          82390,
          51942,
          67444,
          50707,
          41458.5,
          47164.5,
          51403,
          81523,
          50332,
          58899,
          10000,
          56007,
          61561,
          51403,
          18586,
          15000,
          59615.5,
          123993,
          10000,
          39112,
          28757,
          83548,
          25886,
          20878,
          34785,
          47302,
          66200,
          104519,
          86897,
          150000,
          69000,
          22100,
          20335,
          59917,
          19000,
          72888.5,
          94474,
          70244,
          29444,
          37213,
          18518,
          23492,
          53703,
          41611,
          39483,
          27973,
          31880,
          57120,
          90866,
          45492,
          21524,
          36466.5,
          75304,
          35444,
          18600,
          85925,
          47865,
          32715,
          93601,
          40406,
          13200,
          10951,
          30000,
          61866,
          52242,
          25176,
          64444,
          53703,
          55200,
          74110,
          36088.5,
          58869.5,
          16937,
          75260,
          43481,
          64660,
          23927,
          15333,
          53491,
          73036,
          79617.5,
          113334,
          45111,
          32123,
          44551,
          49379,
          35000,
          56388.5,
          45000,
          64444,
          128887,
          24409,
          16362.5,
          50481,
          11264,
          32345,
          38666,
          16984,
          33907,
          18375,
          69814,
          81430,
          17980,
          83998,
          15198.5,
          45000,
          30000,
          17428,
          35745,
          61866,
          49138.5,
          53311,
          54375,
          45714,
          18911,
          85620,
          93324,
          70648,
          122700,
          54240,
          53703,
          53808,
          66367,
          51555,
          16461,
          59138,
          116988,
          41693.5,
          13426,
          32696,
          35830.5,
          45443,
          48000,
          60742,
          89172,
          19120,
          145000,
          74000,
          120000,
          37000,
          25548,
          12500
         ],
         "y0": " ",
         "yaxis": "y"
        },
        {
         "alignmentgroup": "True",
         "boxpoints": false,
         "hovertemplate": "OrgSize=2 to 9 employees<br>Year=%{x}<br>MedianSalary=%{y}<extra></extra>",
         "legendgroup": "2 to 9 employees",
         "marker": {
          "color": "#FFDAB9"
         },
         "name": "2 to 9 employees",
         "notched": false,
         "offsetgroup": "2 to 9 employees",
         "orientation": "v",
         "showlegend": true,
         "type": "box",
         "x": [
          2020,
          2020,
          2020,
          2020,
          2020,
          2020,
          2020,
          2020,
          2020,
          2020,
          2020,
          2020,
          2020,
          2020,
          2020,
          2020,
          2020,
          2020,
          2020,
          2020,
          2020,
          2020,
          2020,
          2020,
          2020,
          2020,
          2020,
          2020,
          2020,
          2020,
          2020,
          2020,
          2020,
          2020,
          2020,
          2020,
          2020,
          2020,
          2020,
          2020,
          2020,
          2020,
          2020,
          2020,
          2020,
          2020,
          2020,
          2020,
          2020,
          2020,
          2020,
          2020,
          2020,
          2020,
          2020,
          2020,
          2020,
          2020,
          2020,
          2020,
          2020,
          2020,
          2020,
          2020,
          2020,
          2020,
          2020,
          2020,
          2020,
          2020,
          2020,
          2020,
          2020,
          2020,
          2020,
          2020,
          2020,
          2020,
          2020,
          2020,
          2020,
          2020,
          2020,
          2020,
          2020,
          2020,
          2021,
          2021,
          2021,
          2021,
          2021,
          2021,
          2021,
          2021,
          2021,
          2021,
          2021,
          2021,
          2021,
          2021,
          2021,
          2021,
          2021,
          2021,
          2021,
          2021,
          2021,
          2021,
          2021,
          2021,
          2021,
          2021,
          2021,
          2021,
          2021,
          2021,
          2021,
          2021,
          2021,
          2021,
          2021,
          2021,
          2021,
          2021,
          2021,
          2021,
          2021,
          2021,
          2021,
          2021,
          2021,
          2021,
          2021,
          2021,
          2021,
          2021,
          2021,
          2021,
          2021,
          2021,
          2021,
          2021,
          2021,
          2021,
          2021,
          2021,
          2021,
          2021,
          2021,
          2021,
          2021,
          2021,
          2021,
          2021,
          2021,
          2021,
          2021,
          2021,
          2021,
          2021,
          2021,
          2021,
          2021,
          2021,
          2021,
          2021,
          2021,
          2021,
          2021,
          2021,
          2021,
          2021,
          2021,
          2021,
          2021,
          2021,
          2021,
          2021,
          2021,
          2021,
          2021,
          2021,
          2021,
          2021,
          2021,
          2021,
          2021,
          2021,
          2021,
          2021,
          2021,
          2021,
          2021,
          2021,
          2021,
          2021,
          2021,
          2021,
          2021,
          2021,
          2021,
          2022,
          2022,
          2022,
          2022,
          2022,
          2022,
          2022,
          2022,
          2022,
          2022,
          2022,
          2022,
          2022,
          2022,
          2022,
          2022,
          2022,
          2022,
          2022,
          2022,
          2022,
          2022,
          2022,
          2022,
          2022,
          2022,
          2022,
          2022,
          2022,
          2022,
          2022,
          2022,
          2022,
          2022,
          2022,
          2022,
          2022,
          2022,
          2022,
          2022,
          2022,
          2022,
          2022,
          2022,
          2022,
          2022,
          2022,
          2022,
          2022,
          2022,
          2022,
          2022,
          2022,
          2022,
          2022,
          2022,
          2022,
          2022,
          2022,
          2022,
          2022,
          2022,
          2022,
          2022,
          2022,
          2022,
          2022,
          2022,
          2022,
          2022,
          2022,
          2022,
          2022,
          2022,
          2022,
          2022,
          2022,
          2022,
          2022,
          2022,
          2022,
          2022,
          2022,
          2022,
          2022,
          2022,
          2022,
          2022,
          2022,
          2022,
          2022,
          2022,
          2022,
          2022,
          2022,
          2022,
          2022,
          2022,
          2022,
          2022,
          2023,
          2023,
          2023,
          2023,
          2023,
          2023,
          2023,
          2023,
          2023,
          2023,
          2023,
          2023,
          2023,
          2023,
          2023,
          2023,
          2023,
          2023,
          2023,
          2023,
          2023,
          2023,
          2023,
          2023,
          2023,
          2023,
          2023,
          2023,
          2023,
          2023,
          2023,
          2023,
          2023,
          2023,
          2023,
          2023,
          2023,
          2023,
          2023,
          2023,
          2023,
          2023,
          2023,
          2023,
          2023,
          2023,
          2023,
          2023,
          2023,
          2023,
          2023,
          2023,
          2023,
          2023,
          2023,
          2023,
          2023,
          2023,
          2023,
          2023,
          2023,
          2023,
          2023,
          2023,
          2023,
          2023,
          2023,
          2023,
          2023,
          2023,
          2023,
          2023,
          2023,
          2023,
          2023,
          2023,
          2023,
          2023,
          2023,
          2023,
          2023,
          2023,
          2023,
          2023,
          2023,
          2023,
          2023,
          2023,
          2023,
          2023,
          2023,
          2023,
          2023,
          2023,
          2023,
          2023,
          2023,
          2023,
          2023,
          2023,
          2023,
          2023,
          2023,
          2023,
          2023,
          2023,
          2023,
          2023,
          2023,
          2023,
          2023,
          2023,
          2023,
          2023,
          2024,
          2024,
          2024,
          2024,
          2024,
          2024,
          2024,
          2024,
          2024,
          2024,
          2024,
          2024,
          2024,
          2024,
          2024,
          2024,
          2024,
          2024,
          2024,
          2024,
          2024,
          2024,
          2024,
          2024,
          2024,
          2024,
          2024,
          2024,
          2024,
          2024,
          2024,
          2024,
          2024,
          2024,
          2024,
          2024,
          2024,
          2024,
          2024,
          2024,
          2024,
          2024,
          2024,
          2024,
          2024,
          2024,
          2024,
          2024,
          2024,
          2024,
          2024,
          2024,
          2024,
          2024,
          2024,
          2024,
          2024,
          2024,
          2024,
          2024,
          2024,
          2024,
          2024,
          2024,
          2024,
          2024,
          2024,
          2024,
          2024,
          2024,
          2024,
          2024,
          2024,
          2024,
          2024,
          2024,
          2024,
          2024,
          2024,
          2024,
          2024,
          2024,
          2024,
          2024,
          2024,
          2024,
          2024,
          2024,
          2024,
          2024,
          2024,
          2024,
          2024,
          2024,
          2024,
          2024,
          2024,
          2024,
          2024,
          2024,
          2024,
          2024,
          2024,
          2024
         ],
         "x0": " ",
         "xaxis": "x",
         "y": [
          21048,
          28941,
          105000,
          117612,
          38412.5,
          17483,
          87000,
          10800,
          42000,
          26310,
          52620,
          36000,
          33840,
          137841,
          94932,
          7800,
          90000,
          7080,
          9060,
          35080,
          58934,
          52620,
          20400,
          27000,
          21600,
          22627,
          47358,
          31572,
          79200,
          42096,
          138720,
          9640,
          75000,
          34729,
          58000,
          12000,
          14400,
          53497,
          45600,
          21925,
          60000,
          5955.5,
          7367,
          24994.5,
          21780,
          17891,
          52620,
          7367,
          108270,
          48235,
          50400,
          20080,
          19820,
          32624,
          101640,
          9600,
          12000,
          89820,
          5530,
          12000,
          15700,
          150000,
          56911,
          140292,
          15786,
          112801,
          36000,
          15786,
          71861,
          25784,
          19995.5,
          19294,
          12000,
          83640,
          96096,
          11576,
          47645,
          36000,
          46800,
          132228,
          29428,
          90000,
          48000,
          20400,
          7200,
          24000,
          31200,
          42000,
          54000,
          88750,
          43489,
          24000,
          150000,
          48000,
          42000,
          33600,
          45600,
          42000,
          36000,
          24000,
          48000,
          40200,
          78000,
          70000,
          48000,
          144000,
          120000,
          63000,
          123000,
          31000,
          72000,
          162000,
          50000,
          36000,
          12000,
          96000,
          23400,
          118800,
          49600,
          36600,
          75000,
          51600,
          39000,
          14100,
          102000,
          12600,
          174000,
          36000,
          120000,
          33600,
          69600,
          50000,
          49600,
          108000,
          24000,
          65000,
          21600,
          49000,
          12000,
          12000,
          31200,
          15000,
          72000,
          30000,
          55000,
          60000,
          30000,
          122400,
          24144,
          71400,
          82200,
          8400,
          96000,
          40976,
          67500,
          60000,
          78000,
          102500,
          12000,
          12534,
          144000,
          9900,
          60000,
          24000,
          36000,
          78000,
          24000,
          60000,
          57264,
          42000,
          24000,
          96000,
          26560,
          54000,
          25800,
          26400,
          132198,
          26844,
          39000,
          24000,
          27000,
          109200,
          31200,
          84000,
          18000,
          65000,
          43200,
          78000,
          60000,
          21600,
          69000,
          48000,
          30000,
          38400,
          72000,
          40000,
          90000,
          54250,
          15000,
          10800,
          102000,
          6000,
          18000,
          25500,
          42000,
          110000,
          43000,
          27000,
          13200,
          24000,
          36600,
          55800,
          27600,
          30000,
          72000,
          57600,
          13200,
          85000,
          48000,
          112000,
          7200,
          126000,
          10800,
          46000,
          30000,
          175000,
          14400,
          28800,
          84000,
          10200,
          35160,
          144000,
          44400,
          42000,
          38600,
          50400,
          12000,
          16200,
          40000,
          27600,
          162000,
          43200,
          7500,
          15000,
          80000,
          52000,
          144000,
          24883,
          83600,
          14200,
          19128,
          26000,
          16800,
          120000,
          25200,
          31200,
          45600,
          20400,
          21000,
          49200,
          70000,
          110000,
          6600,
          42000,
          46500,
          100000,
          63200,
          94600,
          12000,
          14400,
          13800,
          93600,
          34400,
          96000,
          25000,
          42000,
          60000,
          72000,
          54000,
          32400,
          86400,
          26000,
          19200,
          132000,
          29000,
          12000,
          21900,
          48500,
          91000,
          7800,
          60000,
          25200,
          12000,
          114000,
          43200,
          111000,
          46000,
          105000,
          60600,
          13440,
          36000,
          39481,
          9330.5,
          12566.5,
          52054,
          79325,
          68126,
          25289.5,
          6508,
          72000,
          44978,
          5715,
          8551,
          32849,
          26374,
          24345,
          42589.5,
          22500,
          66172.5,
          26620,
          25887,
          19617,
          60000,
          24631,
          9600,
          64254,
          38215,
          80519,
          21951,
          11700,
          8116.5,
          30000,
          57828,
          48000,
          58899,
          48190,
          32045,
          64254,
          21418,
          13431,
          80000,
          38267,
          37705,
          35776,
          14540,
          20200,
          23622,
          8886,
          80317,
          54616,
          98903,
          32127,
          64514,
          40103.5,
          27569.5,
          17293,
          40000,
          43693,
          15000,
          49261.5,
          49261,
          15506.5,
          8719,
          28064,
          17410.5,
          5114,
          7496,
          9854,
          17837,
          7115,
          29559,
          64254,
          61688,
          20000,
          104000,
          72490,
          17504,
          12250,
          17500,
          5553,
          13063.5,
          17654,
          38999.5,
          39087.5,
          34524,
          22276,
          16147.5,
          26772,
          49655,
          36946,
          42836,
          31123,
          38476,
          37481,
          16700,
          57496,
          110216,
          12000,
          18706,
          38534.5,
          26596,
          6424,
          14666,
          28568.5,
          9654,
          49406.5,
          29396,
          68276,
          7090,
          120000,
          70000,
          60000,
          20000,
          10848.5,
          15000,
          5940,
          21419,
          5696,
          55425,
          66066,
          62403,
          8965,
          29323.5,
          54175.5,
          20231,
          11845,
          16168,
          35151,
          10741,
          72693,
          17112,
          58645.5,
          16557,
          37570,
          75000,
          45111,
          12000,
          58637,
          34896,
          85681,
          11061,
          13400,
          10057.5,
          46184.5,
          12000,
          67666,
          48333,
          110000,
          59073,
          30000,
          32222,
          61183,
          53757,
          39132.5,
          8996.5,
          30666,
          71280,
          9160,
          57999,
          106771,
          97143,
          37592,
          36914,
          13685,
          26644,
          6512,
          32607,
          19333,
          49407,
          15600,
          29537,
          57462,
          18222,
          23375,
          43620,
          64636.5,
          21564,
          10854,
          22409,
          54240,
          67602.5,
          50000,
          71155,
          18000,
          86213,
          11091,
          53452,
          53703,
          33348.5,
          15126,
          5866,
          7852,
          32260,
          81307,
          32222,
          39203,
          16788.5,
          36266,
          37904,
          21728,
          18665,
          48663,
          105846,
          20776,
          33972.5,
          54912.5,
          15457,
          30000,
          27152,
          16336,
          60254.5,
          7648,
          110000,
          50000,
          12000,
          8000,
          17168,
          23962,
          6000
         ],
         "y0": " ",
         "yaxis": "y"
        },
        {
         "alignmentgroup": "True",
         "boxpoints": false,
         "hovertemplate": "OrgSize=20 to 99 employees<br>Year=%{x}<br>MedianSalary=%{y}<extra></extra>",
         "legendgroup": "20 to 99 employees",
         "marker": {
          "color": "#FA8072"
         },
         "name": "20 to 99 employees",
         "notched": false,
         "offsetgroup": "20 to 99 employees",
         "orientation": "v",
         "showlegend": true,
         "type": "box",
         "x": [
          2020,
          2020,
          2020,
          2020,
          2020,
          2020,
          2020,
          2020,
          2020,
          2020,
          2020,
          2020,
          2020,
          2020,
          2020,
          2020,
          2020,
          2020,
          2020,
          2020,
          2020,
          2020,
          2020,
          2020,
          2020,
          2020,
          2020,
          2020,
          2020,
          2020,
          2020,
          2020,
          2020,
          2020,
          2020,
          2020,
          2020,
          2020,
          2020,
          2020,
          2020,
          2020,
          2020,
          2020,
          2020,
          2020,
          2020,
          2020,
          2020,
          2020,
          2020,
          2020,
          2020,
          2020,
          2020,
          2020,
          2020,
          2020,
          2020,
          2020,
          2020,
          2020,
          2020,
          2020,
          2020,
          2020,
          2020,
          2020,
          2020,
          2020,
          2020,
          2020,
          2020,
          2020,
          2020,
          2020,
          2020,
          2021,
          2021,
          2021,
          2021,
          2021,
          2021,
          2021,
          2021,
          2021,
          2021,
          2021,
          2021,
          2021,
          2021,
          2021,
          2021,
          2021,
          2021,
          2021,
          2021,
          2021,
          2021,
          2021,
          2021,
          2021,
          2021,
          2021,
          2021,
          2021,
          2021,
          2021,
          2021,
          2021,
          2021,
          2021,
          2021,
          2021,
          2021,
          2021,
          2021,
          2021,
          2021,
          2021,
          2021,
          2021,
          2021,
          2021,
          2021,
          2021,
          2021,
          2021,
          2021,
          2021,
          2021,
          2021,
          2021,
          2021,
          2021,
          2021,
          2021,
          2021,
          2021,
          2021,
          2021,
          2021,
          2021,
          2021,
          2021,
          2021,
          2021,
          2021,
          2021,
          2021,
          2021,
          2021,
          2021,
          2021,
          2021,
          2021,
          2021,
          2021,
          2021,
          2021,
          2021,
          2021,
          2021,
          2021,
          2021,
          2021,
          2021,
          2021,
          2021,
          2021,
          2021,
          2021,
          2021,
          2021,
          2021,
          2021,
          2021,
          2021,
          2021,
          2021,
          2021,
          2021,
          2021,
          2022,
          2022,
          2022,
          2022,
          2022,
          2022,
          2022,
          2022,
          2022,
          2022,
          2022,
          2022,
          2022,
          2022,
          2022,
          2022,
          2022,
          2022,
          2022,
          2022,
          2022,
          2022,
          2022,
          2022,
          2022,
          2022,
          2022,
          2022,
          2022,
          2022,
          2022,
          2022,
          2022,
          2022,
          2022,
          2022,
          2022,
          2022,
          2022,
          2022,
          2022,
          2022,
          2022,
          2022,
          2022,
          2022,
          2022,
          2022,
          2022,
          2022,
          2022,
          2022,
          2022,
          2022,
          2022,
          2022,
          2022,
          2022,
          2022,
          2022,
          2022,
          2022,
          2022,
          2022,
          2022,
          2022,
          2022,
          2022,
          2022,
          2022,
          2022,
          2022,
          2022,
          2022,
          2022,
          2022,
          2022,
          2022,
          2022,
          2022,
          2022,
          2022,
          2022,
          2022,
          2022,
          2022,
          2022,
          2022,
          2022,
          2022,
          2022,
          2022,
          2022,
          2022,
          2022,
          2022,
          2022,
          2022,
          2022,
          2022,
          2022,
          2022,
          2022,
          2023,
          2023,
          2023,
          2023,
          2023,
          2023,
          2023,
          2023,
          2023,
          2023,
          2023,
          2023,
          2023,
          2023,
          2023,
          2023,
          2023,
          2023,
          2023,
          2023,
          2023,
          2023,
          2023,
          2023,
          2023,
          2023,
          2023,
          2023,
          2023,
          2023,
          2023,
          2023,
          2023,
          2023,
          2023,
          2023,
          2023,
          2023,
          2023,
          2023,
          2023,
          2023,
          2023,
          2023,
          2023,
          2023,
          2023,
          2023,
          2023,
          2023,
          2023,
          2023,
          2023,
          2023,
          2023,
          2023,
          2023,
          2023,
          2023,
          2023,
          2023,
          2023,
          2023,
          2023,
          2023,
          2023,
          2023,
          2023,
          2023,
          2023,
          2023,
          2023,
          2023,
          2023,
          2023,
          2023,
          2023,
          2023,
          2023,
          2023,
          2023,
          2023,
          2023,
          2023,
          2023,
          2023,
          2023,
          2023,
          2023,
          2023,
          2023,
          2023,
          2023,
          2023,
          2023,
          2023,
          2023,
          2023,
          2023,
          2023,
          2023,
          2023,
          2023,
          2023,
          2023,
          2023,
          2023,
          2023,
          2023,
          2023,
          2023,
          2023,
          2023,
          2023,
          2023,
          2023,
          2023,
          2023,
          2023,
          2023,
          2023,
          2023,
          2023,
          2023,
          2023,
          2023,
          2023,
          2024,
          2024,
          2024,
          2024,
          2024,
          2024,
          2024,
          2024,
          2024,
          2024,
          2024,
          2024,
          2024,
          2024,
          2024,
          2024,
          2024,
          2024,
          2024,
          2024,
          2024,
          2024,
          2024,
          2024,
          2024,
          2024,
          2024,
          2024,
          2024,
          2024,
          2024,
          2024,
          2024,
          2024,
          2024,
          2024,
          2024,
          2024,
          2024,
          2024,
          2024,
          2024,
          2024,
          2024,
          2024,
          2024,
          2024,
          2024,
          2024,
          2024,
          2024,
          2024,
          2024,
          2024,
          2024,
          2024,
          2024,
          2024,
          2024,
          2024,
          2024,
          2024,
          2024,
          2024,
          2024,
          2024,
          2024,
          2024,
          2024,
          2024,
          2024,
          2024,
          2024,
          2024,
          2024,
          2024,
          2024,
          2024,
          2024,
          2024,
          2024,
          2024,
          2024,
          2024,
          2024,
          2024,
          2024,
          2024,
          2024,
          2024,
          2024,
          2024,
          2024,
          2024,
          2024,
          2024,
          2024,
          2024,
          2024,
          2024,
          2024,
          2024,
          2024,
          2024,
          2024,
          2024,
          2024,
          2024,
          2024,
          2024,
          2024,
          2024,
          2024
         ],
         "x0": " ",
         "xaxis": "x",
         "y": [
          130000,
          29880,
          31200,
          147378,
          42096,
          51000,
          9953,
          32975,
          49800,
          36834,
          51888,
          84384,
          107280,
          26576.5,
          100000,
          42000,
          27286.5,
          52620,
          18000,
          13200,
          18000,
          10200,
          31572,
          47358,
          37711,
          48112,
          18373.5,
          28000,
          73668,
          16800,
          52620,
          16800,
          48235,
          18625,
          26310,
          14038,
          36000,
          15347.5,
          18943,
          40000,
          25258,
          70160,
          37711,
          115000,
          20522,
          43850,
          151305,
          20400,
          34366,
          12992.5,
          19200,
          161457.5,
          44201,
          20390.5,
          10524,
          110000,
          28000,
          25784,
          81660,
          31572,
          31572,
          29818,
          9240,
          88560,
          77972,
          15093,
          49346.5,
          6000,
          36000,
          35760,
          40400,
          105000,
          54000,
          25560,
          12000,
          9000,
          180000,
          12000,
          48000,
          76100,
          110000,
          51920,
          32400,
          13302,
          20400,
          40800,
          40800,
          75360,
          44400,
          78000,
          48000,
          90000,
          55000,
          180000,
          36000,
          18000,
          48000,
          150000,
          9600,
          23300,
          88000,
          108000,
          19200,
          114000,
          18000,
          41178,
          172500,
          55100,
          44000,
          60000,
          55000,
          39000,
          21750,
          85000,
          24000,
          48000,
          84000,
          22320,
          57600,
          62000,
          32000,
          98000,
          22200,
          48000,
          36000,
          15600,
          24900,
          30000,
          36300,
          18800,
          30000,
          45000,
          64000,
          57600,
          120000,
          43000,
          27600,
          156000,
          42000,
          52560,
          110000,
          33000,
          31000,
          85000,
          144000,
          30000,
          25000,
          56400,
          29650,
          57600,
          36000,
          132000,
          28900,
          129600,
          78000,
          6000,
          26400,
          175500,
          36000,
          90000,
          33600,
          35500,
          48600,
          36000,
          156000,
          98500,
          45000,
          82000,
          24000,
          24000,
          26400,
          120000,
          22200,
          60000,
          138990,
          52000,
          85000,
          120000,
          72000,
          18000,
          12000,
          22800,
          132600,
          30000,
          72000,
          45000,
          135000,
          55000,
          96000,
          14760,
          31200,
          42950,
          102000,
          48000,
          144000,
          85200,
          60000,
          16200,
          105000,
          96000,
          186000,
          21600,
          33600,
          180000,
          18000,
          55200,
          84000,
          24600,
          132000,
          51500,
          52800,
          36000,
          50000,
          54870,
          45000,
          63000,
          60000,
          96000,
          21600,
          84000,
          144000,
          63000,
          100000,
          150000,
          24000,
          6600,
          70500,
          36500,
          74500,
          75000,
          19500,
          36000,
          15000,
          38400,
          36400,
          42360,
          18000,
          33000,
          82500,
          60600,
          52000,
          158200,
          18000,
          180000,
          10368,
          52262,
          115000,
          18000,
          67200,
          73000,
          12000,
          31060,
          18900,
          21600,
          35460,
          40200,
          145000,
          36400,
          180000,
          31300,
          57000,
          138666,
          30000,
          25000,
          108000,
          36000,
          40000,
          39200,
          95000,
          100000,
          43992,
          30000,
          24000,
          34000,
          60000,
          24000,
          150000,
          52500,
          50400,
          186000,
          55000,
          130000,
          54000,
          16992,
          18000,
          20000,
          9638,
          22810.5,
          160634.5,
          25463,
          42836,
          92545,
          70947,
          30000,
          10413,
          45418,
          59196.5,
          19077,
          37247,
          28742.5,
          26780,
          44888.5,
          8400,
          89222,
          32994,
          28138,
          21965.5,
          85983,
          40694,
          24000,
          70679,
          45494,
          14000,
          87349.5,
          50700,
          27600,
          10794.5,
          18000,
          57828,
          27504,
          69608,
          53545,
          56812.5,
          70679,
          6921.5,
          35446.5,
          23024,
          60000,
          75769.5,
          37705,
          106477,
          15752,
          16160,
          34252.5,
          9175,
          91026,
          61262.5,
          118672,
          42836,
          92500,
          51181,
          33771,
          23797,
          27000,
          33257.5,
          62112,
          27500,
          99195,
          61041,
          88349,
          11938,
          17254,
          19528,
          49655,
          66931,
          18198,
          41219,
          12501.5,
          57828,
          23156,
          12506,
          63354.5,
          78913,
          37500,
          8132,
          38516,
          107514,
          72490,
          31175,
          9999,
          14704,
          21128,
          33318,
          32262.5,
          23456,
          49527,
          53009.5,
          37075,
          62696.5,
          44018,
          29999,
          9248,
          95928,
          48190,
          67070.5,
          42836,
          46049,
          19000,
          40376.5,
          43093,
          44978,
          29066,
          133065,
          55285,
          110216,
          8940,
          37157,
          31632.5,
          29118,
          6424,
          27334.5,
          60000,
          8045,
          48000,
          51715,
          77586,
          140000,
          55200,
          15998,
          12000,
          15315.5,
          9687,
          10500,
          6675,
          50000,
          51602,
          95796,
          68471.5,
          43100,
          11213,
          36000,
          53703,
          12138,
          26322,
          25777,
          55472,
          15772,
          87231,
          10473,
          33578,
          48291,
          45420,
          54600,
          40814,
          10800,
          67665.5,
          43435,
          32640,
          93295,
          8081,
          36000,
          37333,
          60964,
          19876,
          73439,
          54777,
          59429,
          71640,
          8000,
          34370,
          19795,
          36355.5,
          55997,
          43481,
          104174,
          15553,
          11040,
          25320,
          12977,
          108480,
          98089,
          117921,
          42962,
          57000,
          56643,
          20457,
          33231.5,
          11628,
          20334.5,
          5400,
          45454.5,
          22800,
          63584.5,
          74110.5,
          7159,
          5694,
          16951,
          80555,
          40431.5,
          22913,
          10083.5,
          64444,
          64836.5,
          123500,
          10880,
          82594,
          10767,
          28000,
          20699,
          29659,
          14808.5,
          49493,
          42021.5,
          53553,
          39893,
          91782,
          23180,
          53163,
          23692,
          40000,
          67193,
          32222,
          103481.5,
          44037,
          51555,
          45737,
          38442,
          46722,
          10031,
          57230,
          115873.5,
          30575.5,
          29426.5,
          10136,
          29328,
          35383.5,
          37026,
          63710,
          79617,
          11472,
          140000,
          94200,
          13564.5,
          24000,
          12970,
          22800
         ],
         "y0": " ",
         "yaxis": "y"
        },
        {
         "alignmentgroup": "True",
         "boxpoints": false,
         "hovertemplate": "OrgSize=5,000 to 9,999 employees<br>Year=%{x}<br>MedianSalary=%{y}<extra></extra>",
         "legendgroup": "5,000 to 9,999 employees",
         "marker": {
          "color": "#FFA07A"
         },
         "name": "5,000 to 9,999 employees",
         "notched": false,
         "offsetgroup": "5,000 to 9,999 employees",
         "orientation": "v",
         "showlegend": true,
         "type": "box",
         "x": [
          2020,
          2020,
          2020,
          2020,
          2020,
          2020,
          2020,
          2020,
          2020,
          2020,
          2020,
          2020,
          2020,
          2020,
          2020,
          2020,
          2020,
          2020,
          2020,
          2020,
          2020,
          2020,
          2020,
          2020,
          2020,
          2020,
          2020,
          2020,
          2020,
          2020,
          2020,
          2020,
          2020,
          2020,
          2020,
          2020,
          2020,
          2021,
          2021,
          2021,
          2021,
          2021,
          2021,
          2021,
          2021,
          2021,
          2021,
          2021,
          2021,
          2021,
          2021,
          2021,
          2021,
          2021,
          2021,
          2021,
          2021,
          2021,
          2021,
          2021,
          2021,
          2021,
          2021,
          2021,
          2021,
          2021,
          2021,
          2021,
          2021,
          2021,
          2021,
          2021,
          2021,
          2021,
          2021,
          2021,
          2021,
          2021,
          2021,
          2021,
          2021,
          2021,
          2021,
          2021,
          2021,
          2021,
          2021,
          2021,
          2021,
          2022,
          2022,
          2022,
          2022,
          2022,
          2022,
          2022,
          2022,
          2022,
          2022,
          2022,
          2022,
          2022,
          2022,
          2022,
          2022,
          2022,
          2022,
          2022,
          2022,
          2022,
          2022,
          2022,
          2022,
          2022,
          2022,
          2022,
          2022,
          2022,
          2022,
          2022,
          2022,
          2022,
          2022,
          2022,
          2022,
          2022,
          2022,
          2022,
          2022,
          2022,
          2022,
          2022,
          2022,
          2022,
          2022,
          2022,
          2023,
          2023,
          2023,
          2023,
          2023,
          2023,
          2023,
          2023,
          2023,
          2023,
          2023,
          2023,
          2023,
          2023,
          2023,
          2023,
          2023,
          2023,
          2023,
          2023,
          2023,
          2023,
          2023,
          2023,
          2023,
          2023,
          2023,
          2023,
          2023,
          2023,
          2023,
          2023,
          2023,
          2023,
          2023,
          2023,
          2023,
          2023,
          2023,
          2023,
          2023,
          2023,
          2023,
          2023,
          2023,
          2023,
          2023,
          2023,
          2023,
          2023,
          2023,
          2023,
          2023,
          2023,
          2023,
          2023,
          2023,
          2023,
          2023,
          2023,
          2023,
          2023,
          2023,
          2023,
          2023,
          2023,
          2023,
          2023,
          2023,
          2023,
          2023,
          2023,
          2023,
          2023,
          2023,
          2023,
          2023,
          2024,
          2024,
          2024,
          2024,
          2024,
          2024,
          2024,
          2024,
          2024,
          2024,
          2024,
          2024,
          2024,
          2024,
          2024,
          2024,
          2024,
          2024,
          2024,
          2024,
          2024,
          2024,
          2024,
          2024,
          2024,
          2024,
          2024,
          2024,
          2024,
          2024,
          2024,
          2024,
          2024,
          2024,
          2024,
          2024,
          2024,
          2024,
          2024,
          2024,
          2024,
          2024,
          2024,
          2024,
          2024,
          2024,
          2024,
          2024,
          2024,
          2024,
          2024,
          2024,
          2024,
          2024,
          2024,
          2024,
          2024,
          2024,
          2024,
          2024,
          2024,
          2024,
          2024,
          2024,
          2024,
          2024,
          2024
         ],
         "x0": " ",
         "xaxis": "x",
         "y": [
          153912,
          50866,
          46920,
          33464.5,
          36834,
          42096,
          110754,
          127227.5,
          42000,
          26310,
          20000,
          31572,
          38781,
          34773,
          54725,
          27187,
          26973,
          53497,
          35080,
          53362,
          31046,
          53672,
          5990,
          105390,
          24293,
          7893,
          100000,
          163320,
          45604,
          39465,
          35957,
          85608,
          40000,
          68064,
          61500,
          37250,
          115000,
          96000,
          15000,
          127500,
          59900,
          47346,
          48000,
          147600,
          120000,
          76200,
          113000,
          40000,
          24000,
          38400,
          16800,
          85000,
          57800,
          50000,
          77300,
          67000,
          36000,
          18600,
          134430,
          55000,
          12000,
          85000,
          45000,
          90000,
          19200,
          30000,
          12600,
          41000,
          108000,
          114000,
          65000,
          115000,
          58800,
          180000,
          159000,
          32600,
          18000,
          120000,
          43000,
          160200,
          90500,
          44400,
          40000,
          106000,
          14400,
          10000,
          92400,
          66300,
          130000,
          51500,
          140000,
          50000,
          61200,
          43200,
          54000,
          66000,
          120000,
          90000,
          48000,
          21000,
          36000,
          90000,
          27000,
          43500,
          66000,
          43000,
          56190,
          71000,
          52500,
          94000,
          43000,
          32500,
          15600,
          67000,
          42000,
          84000,
          38400,
          65000,
          104000,
          84000,
          72000,
          180000,
          39300,
          164400,
          63168,
          185000,
          28200,
          46750,
          110000,
          57000,
          161500,
          67200,
          143572,
          50400,
          18000,
          5160,
          7318,
          32000,
          78080,
          96512,
          67466,
          11763,
          43966,
          57828.5,
          42807,
          51019.5,
          94798,
          51541,
          70344,
          29932,
          159931,
          6104,
          47747,
          88698.5,
          16000,
          12337,
          71750,
          56019,
          64254,
          48645,
          78175,
          28111,
          127558,
          38704,
          31504,
          21546.5,
          75592,
          16600,
          128507,
          112257,
          44978,
          72758,
          37985.5,
          42836,
          74963,
          32761,
          66396,
          9143,
          34350,
          48190,
          88349,
          75271,
          80192.5,
          81552,
          18905,
          66993,
          32601,
          31097,
          41990,
          42836,
          32127,
          44326,
          48265.5,
          126306,
          65880,
          133401,
          36946,
          62112,
          30000,
          54465,
          30473,
          59970,
          65420.5,
          135015,
          45631,
          86271,
          69153,
          38400,
          90365,
          82552,
          154000,
          51592,
          33821,
          68727,
          72243,
          99099,
          107406,
          112777,
          35433,
          33568,
          43938,
          93592,
          21663,
          41392,
          65203,
          71305,
          33010.5,
          98497,
          14142,
          18000,
          69277,
          92369,
          69277,
          77332,
          26852,
          49277.5,
          36958.5,
          93276.5,
          31105,
          5888,
          102036,
          152865,
          129524,
          39740,
          57280,
          56585.5,
          52679,
          42353,
          78406.5,
          115999,
          36172.5,
          23114,
          11204,
          83777,
          89727,
          85636,
          8973,
          19575,
          65850,
          123517,
          50773,
          79663.5,
          33815,
          29132,
          47258.5,
          90916,
          10600,
          87039,
          64444,
          15757.5,
          60664,
          122559,
          37061,
          88552.5,
          41424.5,
          41469,
          68066,
          85350,
          150000,
          45029
         ],
         "y0": " ",
         "yaxis": "y"
        },
        {
         "alignmentgroup": "True",
         "boxpoints": false,
         "hovertemplate": "OrgSize=500 to 999 employees<br>Year=%{x}<br>MedianSalary=%{y}<extra></extra>",
         "legendgroup": "500 to 999 employees",
         "marker": {
          "color": "#E9967A"
         },
         "name": "500 to 999 employees",
         "notched": false,
         "offsetgroup": "500 to 999 employees",
         "orientation": "v",
         "showlegend": true,
         "type": "box",
         "x": [
          2020,
          2020,
          2020,
          2020,
          2020,
          2020,
          2020,
          2020,
          2020,
          2020,
          2020,
          2020,
          2020,
          2020,
          2020,
          2020,
          2020,
          2020,
          2020,
          2020,
          2020,
          2020,
          2020,
          2020,
          2020,
          2020,
          2020,
          2020,
          2020,
          2020,
          2020,
          2020,
          2020,
          2020,
          2020,
          2020,
          2020,
          2020,
          2020,
          2020,
          2020,
          2020,
          2020,
          2020,
          2020,
          2020,
          2020,
          2020,
          2020,
          2021,
          2021,
          2021,
          2021,
          2021,
          2021,
          2021,
          2021,
          2021,
          2021,
          2021,
          2021,
          2021,
          2021,
          2021,
          2021,
          2021,
          2021,
          2021,
          2021,
          2021,
          2021,
          2021,
          2021,
          2021,
          2021,
          2021,
          2021,
          2021,
          2021,
          2021,
          2021,
          2021,
          2021,
          2021,
          2021,
          2021,
          2021,
          2021,
          2021,
          2021,
          2021,
          2021,
          2021,
          2021,
          2021,
          2021,
          2021,
          2021,
          2021,
          2021,
          2021,
          2021,
          2021,
          2021,
          2021,
          2021,
          2021,
          2021,
          2021,
          2021,
          2021,
          2021,
          2021,
          2021,
          2021,
          2021,
          2022,
          2022,
          2022,
          2022,
          2022,
          2022,
          2022,
          2022,
          2022,
          2022,
          2022,
          2022,
          2022,
          2022,
          2022,
          2022,
          2022,
          2022,
          2022,
          2022,
          2022,
          2022,
          2022,
          2022,
          2022,
          2022,
          2022,
          2022,
          2022,
          2022,
          2022,
          2022,
          2022,
          2022,
          2022,
          2022,
          2022,
          2022,
          2022,
          2022,
          2022,
          2022,
          2022,
          2022,
          2022,
          2022,
          2022,
          2022,
          2022,
          2022,
          2022,
          2022,
          2022,
          2022,
          2022,
          2022,
          2022,
          2022,
          2022,
          2022,
          2022,
          2022,
          2022,
          2022,
          2022,
          2022,
          2022,
          2022,
          2022,
          2023,
          2023,
          2023,
          2023,
          2023,
          2023,
          2023,
          2023,
          2023,
          2023,
          2023,
          2023,
          2023,
          2023,
          2023,
          2023,
          2023,
          2023,
          2023,
          2023,
          2023,
          2023,
          2023,
          2023,
          2023,
          2023,
          2023,
          2023,
          2023,
          2023,
          2023,
          2023,
          2023,
          2023,
          2023,
          2023,
          2023,
          2023,
          2023,
          2023,
          2023,
          2023,
          2023,
          2023,
          2023,
          2023,
          2023,
          2023,
          2023,
          2023,
          2023,
          2023,
          2023,
          2023,
          2023,
          2023,
          2023,
          2023,
          2023,
          2023,
          2023,
          2023,
          2023,
          2023,
          2023,
          2023,
          2023,
          2023,
          2023,
          2023,
          2023,
          2023,
          2023,
          2023,
          2023,
          2023,
          2023,
          2023,
          2023,
          2023,
          2023,
          2023,
          2023,
          2023,
          2023,
          2023,
          2023,
          2023,
          2023,
          2023,
          2023,
          2023,
          2023,
          2023,
          2023,
          2023,
          2023,
          2024,
          2024,
          2024,
          2024,
          2024,
          2024,
          2024,
          2024,
          2024,
          2024,
          2024,
          2024,
          2024,
          2024,
          2024,
          2024,
          2024,
          2024,
          2024,
          2024,
          2024,
          2024,
          2024,
          2024,
          2024,
          2024,
          2024,
          2024,
          2024,
          2024,
          2024,
          2024,
          2024,
          2024,
          2024,
          2024,
          2024,
          2024,
          2024,
          2024,
          2024,
          2024,
          2024,
          2024,
          2024,
          2024,
          2024,
          2024,
          2024,
          2024,
          2024,
          2024,
          2024,
          2024,
          2024,
          2024,
          2024,
          2024,
          2024,
          2024,
          2024,
          2024,
          2024,
          2024,
          2024,
          2024,
          2024,
          2024,
          2024,
          2024,
          2024,
          2024,
          2024,
          2024,
          2024,
          2024,
          2024,
          2024
         ],
         "x0": " ",
         "xaxis": "x",
         "y": [
          174240,
          49550.5,
          88740,
          122064,
          42096,
          153408,
          80165,
          127395,
          40000,
          46753,
          19200,
          24731.5,
          46481,
          36834,
          178200,
          52620,
          23109,
          70000,
          77176,
          38533,
          58978.5,
          81000,
          27625.5,
          32018,
          11060,
          37886.5,
          35000,
          39991,
          44727,
          35080,
          28064,
          30000,
          50515,
          143990,
          10800,
          25000,
          28239.5,
          81350.5,
          114324,
          31572,
          30169,
          31572,
          58850,
          103320,
          74190,
          42000,
          37250,
          112000,
          15600,
          67200,
          124000,
          55200,
          42000,
          39000,
          50000,
          51000,
          57000,
          108000,
          70200,
          110500,
          48600,
          154800,
          25200,
          26000,
          15600,
          32000,
          50000,
          60000,
          60600,
          48600,
          96000,
          60000,
          27800,
          93000,
          21120,
          82500,
          60000,
          12000,
          70000,
          34900,
          31800,
          43800,
          49450,
          75000,
          114000,
          57000,
          84000,
          148000,
          66000,
          94812,
          120000,
          52000,
          17134,
          48000,
          175000,
          32000,
          100440,
          168000,
          44100,
          86000,
          35688,
          68500,
          40000,
          20400,
          110000,
          108000,
          36000,
          132000,
          180000,
          50820,
          81000,
          110004,
          56500,
          125500,
          39100,
          24180,
          12000,
          66000,
          132500,
          60000,
          21600,
          40800,
          54000,
          16800,
          102000,
          48000,
          130000,
          162500,
          30000,
          65250,
          126000,
          50400,
          30000,
          165000,
          22200,
          49500,
          27600,
          60000,
          50200,
          76800,
          65000,
          66000,
          35000,
          36000,
          42000,
          75000,
          120000,
          30000,
          72500,
          62500,
          40500,
          163500,
          60000,
          66000,
          12000,
          60000,
          151200,
          47500,
          167400,
          37200,
          73500,
          113000,
          114000,
          80000,
          42000,
          162000,
          46000,
          124200,
          99500,
          150000,
          32400,
          100000,
          35400,
          44520,
          51000,
          120000,
          96000,
          40600,
          24000,
          57000,
          64500,
          108000,
          145000,
          12000,
          32160,
          44978,
          42836,
          39600,
          56000,
          112377,
          74963,
          51755,
          23242.5,
          54280,
          58486,
          14000,
          57758.5,
          30431,
          46531,
          31000,
          92939,
          31494,
          64013,
          39833,
          59000,
          56222,
          74963,
          50043,
          96048,
          21008,
          80000,
          32466,
          45000,
          62112,
          69608,
          56222,
          47250,
          77104,
          10649,
          37481,
          22305,
          68400,
          68116,
          39155,
          85182,
          27869,
          35689.5,
          92127.5,
          75498,
          121612,
          48190,
          13584,
          61647,
          40465,
          25218.5,
          66395.5,
          10200,
          54616,
          128507,
          35382,
          52474,
          53528,
          14781,
          77104,
          86197,
          119142,
          72490,
          26957,
          47895,
          20400,
          19547,
          48761.5,
          48190,
          92342,
          51403,
          42500.5,
          43191,
          40000,
          119111.5,
          27227,
          70406,
          35340,
          53545,
          45968.5,
          60791.5,
          52474,
          23399,
          59892,
          131157,
          90000,
          40742,
          41391.5,
          29590,
          44656.5,
          48000,
          83016.5,
          80690,
          25322.5,
          150000,
          37146,
          42000,
          35778,
          53703,
          76000,
          80961.5,
          80600.5,
          70888,
          55236,
          18984,
          75184,
          69277,
          33568,
          56790,
          101043,
          48742,
          32424,
          35140,
          27926,
          53642.5,
          86401,
          19000,
          45599,
          59073,
          38430,
          75184,
          62296,
          38803.5,
          81629,
          21523,
          41620,
          38561,
          53775,
          47557,
          29909,
          22692.5,
          185328,
          91295,
          129524,
          51555,
          76373,
          100000,
          23629,
          61597.5,
          20235.5,
          15583,
          55582.5,
          12898,
          44205.5,
          82703,
          73748,
          72600,
          87508,
          24003,
          52812,
          37447,
          46647,
          50481,
          52348,
          55851,
          38655.5,
          39740,
          48045,
          48225,
          85925,
          46813.5,
          28288,
          59073,
          32657,
          57230,
          133700,
          98960,
          36289,
          54494,
          30141,
          130000,
          48000,
          98015,
          82802,
          147500,
          86297
         ],
         "y0": " ",
         "yaxis": "y"
        },
        {
         "alignmentgroup": "True",
         "boxpoints": false,
         "hovertemplate": "OrgSize=Just me - I am a freelancer, sole proprietor, etc.<br>Year=%{x}<br>MedianSalary=%{y}<extra></extra>",
         "legendgroup": "Just me - I am a freelancer, sole proprietor, etc.",
         "marker": {
          "color": "#FFD700"
         },
         "name": "Just me - I am a freelancer, sole proprietor, etc.",
         "notched": false,
         "offsetgroup": "Just me - I am a freelancer, sole proprietor, etc.",
         "orientation": "v",
         "showlegend": true,
         "type": "box",
         "x": [
          2020,
          2020,
          2020,
          2020,
          2020,
          2020,
          2020,
          2020,
          2020,
          2020,
          2020,
          2020,
          2020,
          2020,
          2020,
          2020,
          2020,
          2020,
          2020,
          2020,
          2021,
          2021,
          2021,
          2021,
          2021,
          2021,
          2021,
          2021,
          2021,
          2021,
          2021,
          2021,
          2021,
          2021,
          2021,
          2021,
          2021,
          2021,
          2021,
          2021,
          2021,
          2021,
          2021,
          2021,
          2021,
          2021,
          2021,
          2021,
          2021,
          2021,
          2021,
          2021,
          2021,
          2021,
          2021,
          2021,
          2021,
          2021,
          2021,
          2021,
          2021,
          2021,
          2021,
          2021,
          2022,
          2022,
          2022,
          2022,
          2022,
          2022,
          2022,
          2022,
          2022,
          2022,
          2022,
          2022,
          2022,
          2022,
          2022,
          2022,
          2022,
          2022,
          2022,
          2022,
          2022,
          2022,
          2022,
          2022,
          2022,
          2022,
          2022,
          2022,
          2022,
          2022,
          2022,
          2023,
          2023,
          2023,
          2023,
          2023,
          2023,
          2023,
          2023,
          2023,
          2023,
          2023,
          2023,
          2023,
          2023,
          2023,
          2023,
          2023,
          2023,
          2023,
          2023,
          2023,
          2023,
          2023,
          2023,
          2023,
          2023,
          2023,
          2023,
          2023,
          2023,
          2023,
          2023,
          2023,
          2023,
          2023,
          2023,
          2023,
          2023,
          2023,
          2023,
          2023,
          2023,
          2024,
          2024,
          2024,
          2024,
          2024,
          2024,
          2024,
          2024,
          2024,
          2024,
          2024,
          2024,
          2024,
          2024,
          2024,
          2024,
          2024,
          2024,
          2024,
          2024,
          2024,
          2024,
          2024,
          2024,
          2024,
          2024,
          2024
         ],
         "x0": " ",
         "xaxis": "x",
         "y": [
          3882,
          70000,
          23153,
          104000,
          32474,
          32184,
          62400,
          46693,
          84192,
          42000,
          35080,
          12000,
          36000,
          98400,
          52000,
          22350,
          61835,
          100000,
          22200,
          2888,
          38400,
          21600,
          102000,
          91800,
          65000,
          43800,
          60000,
          180000,
          84000,
          22200,
          30000,
          66000,
          145000,
          148000,
          120000,
          4200,
          7875,
          115000,
          36000,
          18000,
          3600,
          24000,
          33000,
          120000,
          129000,
          36600,
          100000,
          18000,
          96000,
          19800,
          100000,
          240,
          48000,
          54000,
          12000,
          15600,
          24000,
          99000,
          64200,
          60000,
          46500,
          104000,
          83200,
          3000,
          120000,
          25200,
          48000,
          66000,
          27600,
          84000,
          36000,
          57888,
          90000,
          120000,
          37500,
          36000,
          52000,
          31200,
          89700,
          36000,
          30000,
          27600,
          52000,
          60000,
          45600,
          67200,
          12000,
          65000,
          31200,
          40000,
          90000,
          26400,
          122000,
          158000,
          125000,
          4124,
          65442.5,
          21418,
          42836,
          21424,
          32544.5,
          104092,
          96000,
          12000,
          28537,
          55686.5,
          79246,
          60605,
          2320,
          18175,
          6626,
          3475,
          19276,
          46594,
          5044,
          12851,
          1717,
          32946,
          21775,
          90613,
          179917.5,
          38282,
          6473,
          37127,
          44467,
          91026,
          77807,
          28378.5,
          1342,
          143281,
          32593,
          28757,
          14102,
          48000,
          122897,
          105000,
          5871,
          138738.5,
          5099,
          7459.5,
          34893,
          60000,
          35444,
          16111,
          75800,
          38398,
          77332,
          11963,
          2208,
          127288,
          8086,
          75184,
          91570,
          6187,
          56239,
          25893,
          38674,
          167125,
          15257,
          54541.5,
          20000,
          65343,
          45859.5,
          132500
         ],
         "y0": " ",
         "yaxis": "y"
        }
       ],
       "layout": {
        "boxmode": "group",
        "font": {
         "color": "white"
        },
        "height": 600,
        "legend": {
         "title": {
          "text": "OrgSize"
         },
         "tracegroupgap": 0
        },
        "paper_bgcolor": "rgba(0,0,0,0)",
        "plot_bgcolor": "rgba(0,0,0,0)",
        "template": {
         "data": {
          "bar": [
           {
            "error_x": {
             "color": "#2a3f5f"
            },
            "error_y": {
             "color": "#2a3f5f"
            },
            "marker": {
             "line": {
              "color": "#E5ECF6",
              "width": 0.5
             },
             "pattern": {
              "fillmode": "overlay",
              "size": 10,
              "solidity": 0.2
             }
            },
            "type": "bar"
           }
          ],
          "barpolar": [
           {
            "marker": {
             "line": {
              "color": "#E5ECF6",
              "width": 0.5
             },
             "pattern": {
              "fillmode": "overlay",
              "size": 10,
              "solidity": 0.2
             }
            },
            "type": "barpolar"
           }
          ],
          "carpet": [
           {
            "aaxis": {
             "endlinecolor": "#2a3f5f",
             "gridcolor": "white",
             "linecolor": "white",
             "minorgridcolor": "white",
             "startlinecolor": "#2a3f5f"
            },
            "baxis": {
             "endlinecolor": "#2a3f5f",
             "gridcolor": "white",
             "linecolor": "white",
             "minorgridcolor": "white",
             "startlinecolor": "#2a3f5f"
            },
            "type": "carpet"
           }
          ],
          "choropleth": [
           {
            "colorbar": {
             "outlinewidth": 0,
             "ticks": ""
            },
            "type": "choropleth"
           }
          ],
          "contour": [
           {
            "colorbar": {
             "outlinewidth": 0,
             "ticks": ""
            },
            "colorscale": [
             [
              0,
              "#0d0887"
             ],
             [
              0.1111111111111111,
              "#46039f"
             ],
             [
              0.2222222222222222,
              "#7201a8"
             ],
             [
              0.3333333333333333,
              "#9c179e"
             ],
             [
              0.4444444444444444,
              "#bd3786"
             ],
             [
              0.5555555555555556,
              "#d8576b"
             ],
             [
              0.6666666666666666,
              "#ed7953"
             ],
             [
              0.7777777777777778,
              "#fb9f3a"
             ],
             [
              0.8888888888888888,
              "#fdca26"
             ],
             [
              1,
              "#f0f921"
             ]
            ],
            "type": "contour"
           }
          ],
          "contourcarpet": [
           {
            "colorbar": {
             "outlinewidth": 0,
             "ticks": ""
            },
            "type": "contourcarpet"
           }
          ],
          "heatmap": [
           {
            "colorbar": {
             "outlinewidth": 0,
             "ticks": ""
            },
            "colorscale": [
             [
              0,
              "#0d0887"
             ],
             [
              0.1111111111111111,
              "#46039f"
             ],
             [
              0.2222222222222222,
              "#7201a8"
             ],
             [
              0.3333333333333333,
              "#9c179e"
             ],
             [
              0.4444444444444444,
              "#bd3786"
             ],
             [
              0.5555555555555556,
              "#d8576b"
             ],
             [
              0.6666666666666666,
              "#ed7953"
             ],
             [
              0.7777777777777778,
              "#fb9f3a"
             ],
             [
              0.8888888888888888,
              "#fdca26"
             ],
             [
              1,
              "#f0f921"
             ]
            ],
            "type": "heatmap"
           }
          ],
          "heatmapgl": [
           {
            "colorbar": {
             "outlinewidth": 0,
             "ticks": ""
            },
            "colorscale": [
             [
              0,
              "#0d0887"
             ],
             [
              0.1111111111111111,
              "#46039f"
             ],
             [
              0.2222222222222222,
              "#7201a8"
             ],
             [
              0.3333333333333333,
              "#9c179e"
             ],
             [
              0.4444444444444444,
              "#bd3786"
             ],
             [
              0.5555555555555556,
              "#d8576b"
             ],
             [
              0.6666666666666666,
              "#ed7953"
             ],
             [
              0.7777777777777778,
              "#fb9f3a"
             ],
             [
              0.8888888888888888,
              "#fdca26"
             ],
             [
              1,
              "#f0f921"
             ]
            ],
            "type": "heatmapgl"
           }
          ],
          "histogram": [
           {
            "marker": {
             "pattern": {
              "fillmode": "overlay",
              "size": 10,
              "solidity": 0.2
             }
            },
            "type": "histogram"
           }
          ],
          "histogram2d": [
           {
            "colorbar": {
             "outlinewidth": 0,
             "ticks": ""
            },
            "colorscale": [
             [
              0,
              "#0d0887"
             ],
             [
              0.1111111111111111,
              "#46039f"
             ],
             [
              0.2222222222222222,
              "#7201a8"
             ],
             [
              0.3333333333333333,
              "#9c179e"
             ],
             [
              0.4444444444444444,
              "#bd3786"
             ],
             [
              0.5555555555555556,
              "#d8576b"
             ],
             [
              0.6666666666666666,
              "#ed7953"
             ],
             [
              0.7777777777777778,
              "#fb9f3a"
             ],
             [
              0.8888888888888888,
              "#fdca26"
             ],
             [
              1,
              "#f0f921"
             ]
            ],
            "type": "histogram2d"
           }
          ],
          "histogram2dcontour": [
           {
            "colorbar": {
             "outlinewidth": 0,
             "ticks": ""
            },
            "colorscale": [
             [
              0,
              "#0d0887"
             ],
             [
              0.1111111111111111,
              "#46039f"
             ],
             [
              0.2222222222222222,
              "#7201a8"
             ],
             [
              0.3333333333333333,
              "#9c179e"
             ],
             [
              0.4444444444444444,
              "#bd3786"
             ],
             [
              0.5555555555555556,
              "#d8576b"
             ],
             [
              0.6666666666666666,
              "#ed7953"
             ],
             [
              0.7777777777777778,
              "#fb9f3a"
             ],
             [
              0.8888888888888888,
              "#fdca26"
             ],
             [
              1,
              "#f0f921"
             ]
            ],
            "type": "histogram2dcontour"
           }
          ],
          "mesh3d": [
           {
            "colorbar": {
             "outlinewidth": 0,
             "ticks": ""
            },
            "type": "mesh3d"
           }
          ],
          "parcoords": [
           {
            "line": {
             "colorbar": {
              "outlinewidth": 0,
              "ticks": ""
             }
            },
            "type": "parcoords"
           }
          ],
          "pie": [
           {
            "automargin": true,
            "type": "pie"
           }
          ],
          "scatter": [
           {
            "fillpattern": {
             "fillmode": "overlay",
             "size": 10,
             "solidity": 0.2
            },
            "type": "scatter"
           }
          ],
          "scatter3d": [
           {
            "line": {
             "colorbar": {
              "outlinewidth": 0,
              "ticks": ""
             }
            },
            "marker": {
             "colorbar": {
              "outlinewidth": 0,
              "ticks": ""
             }
            },
            "type": "scatter3d"
           }
          ],
          "scattercarpet": [
           {
            "marker": {
             "colorbar": {
              "outlinewidth": 0,
              "ticks": ""
             }
            },
            "type": "scattercarpet"
           }
          ],
          "scattergeo": [
           {
            "marker": {
             "colorbar": {
              "outlinewidth": 0,
              "ticks": ""
             }
            },
            "type": "scattergeo"
           }
          ],
          "scattergl": [
           {
            "marker": {
             "colorbar": {
              "outlinewidth": 0,
              "ticks": ""
             }
            },
            "type": "scattergl"
           }
          ],
          "scattermapbox": [
           {
            "marker": {
             "colorbar": {
              "outlinewidth": 0,
              "ticks": ""
             }
            },
            "type": "scattermapbox"
           }
          ],
          "scatterpolar": [
           {
            "marker": {
             "colorbar": {
              "outlinewidth": 0,
              "ticks": ""
             }
            },
            "type": "scatterpolar"
           }
          ],
          "scatterpolargl": [
           {
            "marker": {
             "colorbar": {
              "outlinewidth": 0,
              "ticks": ""
             }
            },
            "type": "scatterpolargl"
           }
          ],
          "scatterternary": [
           {
            "marker": {
             "colorbar": {
              "outlinewidth": 0,
              "ticks": ""
             }
            },
            "type": "scatterternary"
           }
          ],
          "surface": [
           {
            "colorbar": {
             "outlinewidth": 0,
             "ticks": ""
            },
            "colorscale": [
             [
              0,
              "#0d0887"
             ],
             [
              0.1111111111111111,
              "#46039f"
             ],
             [
              0.2222222222222222,
              "#7201a8"
             ],
             [
              0.3333333333333333,
              "#9c179e"
             ],
             [
              0.4444444444444444,
              "#bd3786"
             ],
             [
              0.5555555555555556,
              "#d8576b"
             ],
             [
              0.6666666666666666,
              "#ed7953"
             ],
             [
              0.7777777777777778,
              "#fb9f3a"
             ],
             [
              0.8888888888888888,
              "#fdca26"
             ],
             [
              1,
              "#f0f921"
             ]
            ],
            "type": "surface"
           }
          ],
          "table": [
           {
            "cells": {
             "fill": {
              "color": "#EBF0F8"
             },
             "line": {
              "color": "white"
             }
            },
            "header": {
             "fill": {
              "color": "#C8D4E3"
             },
             "line": {
              "color": "white"
             }
            },
            "type": "table"
           }
          ]
         },
         "layout": {
          "annotationdefaults": {
           "arrowcolor": "#2a3f5f",
           "arrowhead": 0,
           "arrowwidth": 1
          },
          "autotypenumbers": "strict",
          "coloraxis": {
           "colorbar": {
            "outlinewidth": 0,
            "ticks": ""
           }
          },
          "colorscale": {
           "diverging": [
            [
             0,
             "#8e0152"
            ],
            [
             0.1,
             "#c51b7d"
            ],
            [
             0.2,
             "#de77ae"
            ],
            [
             0.3,
             "#f1b6da"
            ],
            [
             0.4,
             "#fde0ef"
            ],
            [
             0.5,
             "#f7f7f7"
            ],
            [
             0.6,
             "#e6f5d0"
            ],
            [
             0.7,
             "#b8e186"
            ],
            [
             0.8,
             "#7fbc41"
            ],
            [
             0.9,
             "#4d9221"
            ],
            [
             1,
             "#276419"
            ]
           ],
           "sequential": [
            [
             0,
             "#0d0887"
            ],
            [
             0.1111111111111111,
             "#46039f"
            ],
            [
             0.2222222222222222,
             "#7201a8"
            ],
            [
             0.3333333333333333,
             "#9c179e"
            ],
            [
             0.4444444444444444,
             "#bd3786"
            ],
            [
             0.5555555555555556,
             "#d8576b"
            ],
            [
             0.6666666666666666,
             "#ed7953"
            ],
            [
             0.7777777777777778,
             "#fb9f3a"
            ],
            [
             0.8888888888888888,
             "#fdca26"
            ],
            [
             1,
             "#f0f921"
            ]
           ],
           "sequentialminus": [
            [
             0,
             "#0d0887"
            ],
            [
             0.1111111111111111,
             "#46039f"
            ],
            [
             0.2222222222222222,
             "#7201a8"
            ],
            [
             0.3333333333333333,
             "#9c179e"
            ],
            [
             0.4444444444444444,
             "#bd3786"
            ],
            [
             0.5555555555555556,
             "#d8576b"
            ],
            [
             0.6666666666666666,
             "#ed7953"
            ],
            [
             0.7777777777777778,
             "#fb9f3a"
            ],
            [
             0.8888888888888888,
             "#fdca26"
            ],
            [
             1,
             "#f0f921"
            ]
           ]
          },
          "colorway": [
           "#636efa",
           "#EF553B",
           "#00cc96",
           "#ab63fa",
           "#FFA15A",
           "#19d3f3",
           "#FF6692",
           "#B6E880",
           "#FF97FF",
           "#FECB52"
          ],
          "font": {
           "color": "#2a3f5f"
          },
          "geo": {
           "bgcolor": "white",
           "lakecolor": "white",
           "landcolor": "#E5ECF6",
           "showlakes": true,
           "showland": true,
           "subunitcolor": "white"
          },
          "hoverlabel": {
           "align": "left"
          },
          "hovermode": "closest",
          "mapbox": {
           "style": "light"
          },
          "paper_bgcolor": "white",
          "plot_bgcolor": "#E5ECF6",
          "polar": {
           "angularaxis": {
            "gridcolor": "white",
            "linecolor": "white",
            "ticks": ""
           },
           "bgcolor": "#E5ECF6",
           "radialaxis": {
            "gridcolor": "white",
            "linecolor": "white",
            "ticks": ""
           }
          },
          "scene": {
           "xaxis": {
            "backgroundcolor": "#E5ECF6",
            "gridcolor": "white",
            "gridwidth": 2,
            "linecolor": "white",
            "showbackground": true,
            "ticks": "",
            "zerolinecolor": "white"
           },
           "yaxis": {
            "backgroundcolor": "#E5ECF6",
            "gridcolor": "white",
            "gridwidth": 2,
            "linecolor": "white",
            "showbackground": true,
            "ticks": "",
            "zerolinecolor": "white"
           },
           "zaxis": {
            "backgroundcolor": "#E5ECF6",
            "gridcolor": "white",
            "gridwidth": 2,
            "linecolor": "white",
            "showbackground": true,
            "ticks": "",
            "zerolinecolor": "white"
           }
          },
          "shapedefaults": {
           "line": {
            "color": "#2a3f5f"
           }
          },
          "ternary": {
           "aaxis": {
            "gridcolor": "white",
            "linecolor": "white",
            "ticks": ""
           },
           "baxis": {
            "gridcolor": "white",
            "linecolor": "white",
            "ticks": ""
           },
           "bgcolor": "#E5ECF6",
           "caxis": {
            "gridcolor": "white",
            "linecolor": "white",
            "ticks": ""
           }
          },
          "title": {
           "x": 0.05
          },
          "xaxis": {
           "automargin": true,
           "gridcolor": "white",
           "linecolor": "white",
           "ticks": "",
           "title": {
            "standoff": 15
           },
           "zerolinecolor": "white",
           "zerolinewidth": 2
          },
          "yaxis": {
           "automargin": true,
           "gridcolor": "white",
           "linecolor": "white",
           "ticks": "",
           "title": {
            "standoff": 15
           },
           "zerolinecolor": "white",
           "zerolinewidth": 2
          }
         }
        },
        "title": {
         "text": "Org Size Salary Trends by Year"
        },
        "width": 1100,
        "xaxis": {
         "anchor": "y",
         "domain": [
          0,
          1
         ],
         "showgrid": false,
         "title": {
          "text": "Year"
         }
        },
        "yaxis": {
         "anchor": "x",
         "domain": [
          0,
          1
         ],
         "showgrid": false,
         "tickformat": ",",
         "title": {
          "text": "Median Annual Salary (USD)"
         }
        }
       }
      },
      "image/png": "[encoded data removed]",
      "text/html": [
       "<div>                            <div id=\"6e3ff9c8-8467-4979-90bf-c705f6fabbdc\" class=\"plotly-graph-div\" style=\"height:600px; width:1100px;\"></div>            <script type=\"text/javascript\">                require([\"plotly\"], function(Plotly) {                    window.PLOTLYENV=window.PLOTLYENV || {};                                    if (document.getElementById(\"6e3ff9c8-8467-4979-90bf-c705f6fabbdc\")) {                    Plotly.newPlot(                        \"6e3ff9c8-8467-4979-90bf-c705f6fabbdc\",                        [{\"alignmentgroup\":\"True\",\"boxpoints\":false,\"hovertemplate\":\"OrgSize=1,000 to 4,999 employees\\u003cbr\\u003eYear=%{x}\\u003cbr\\u003eMedianSalary=%{y}\\u003cextra\\u003e\\u003c\\u002fextra\\u003e\",\"legendgroup\":\"1,000 to 4,999 employees\",\"marker\":{\"color\":\"#FFD700\"},\"name\":\"1,000 to 4,999 employees\",\"notched\":false,\"offsetgroup\":\"1,000 to 4,999 employees\",\"orientation\":\"v\",\"showlegend\":true,\"x\":[2020,2020,2020,2020,2020,2020,2020,2020,2020,2020,2020,2020,2020,2020,2020,2020,2020,2020,2020,2020,2020,2020,2020,2020,2020,2020,2020,2020,2020,2020,2020,2020,2020,2020,2020,2020,2020,2020,2020,2020,2020,2020,2020,2020,2020,2020,2020,2020,2020,2020,2020,2020,2020,2020,2021,2021,2021,2021,2021,2021,2021,2021,2021,2021,2021,2021,2021,2021,2021,2021,2021,2021,2021,2021,2021,2021,2021,2021,2021,2021,2021,2021,2021,2021,2021,2021,2021,2021,2021,2021,2021,2021,2021,2021,2021,2021,2021,2021,2021,2021,2021,2021,2021,2021,2021,2021,2021,2021,2021,2021,2021,2021,2021,2021,2021,2021,2021,2021,2021,2022,2022,2022,2022,2022,2022,2022,2022,2022,2022,2022,2022,2022,2022,2022,2022,2022,2022,2022,2022,2022,2022,2022,2022,2022,2022,2022,2022,2022,2022,2022,2022,2022,2022,2022,2022,2022,2022,2022,2022,2022,2022,2022,2022,2022,2022,2022,2022,2022,2022,2022,2022,2022,2022,2022,2022,2022,2022,2022,2022,2022,2022,2022,2022,2023,2023,2023,2023,2023,2023,2023,2023,2023,2023,2023,2023,2023,2023,2023,2023,2023,2023,2023,2023,2023,2023,2023,2023,2023,2023,2023,2023,2023,2023,2023,2023,2023,2023,2023,2023,2023,2023,2023,2023,2023,2023,2023,2023,2023,2023,2023,2023,2023,2023,2023,2023,2023,2023,2023,2023,2023,2023,2023,2023,2023,2023,2023,2023,2023,2023,2023,2023,2023,2023,2023,2023,2023,2023,2023,2023,2023,2023,2023,2023,2023,2023,2023,2023,2023,2023,2023,2023,2023,2023,2023,2024,2024,2024,2024,2024,2024,2024,2024,2024,2024,2024,2024,2024,2024,2024,2024,2024,2024,2024,2024,2024,2024,2024,2024,2024,2024,2024,2024,2024,2024,2024,2024,2024,2024,2024,2024,2024,2024,2024,2024,2024,2024,2024,2024,2024,2024,2024,2024,2024,2024,2024,2024,2024,2024,2024,2024,2024,2024,2024,2024,2024,2024,2024,2024,2024,2024,2024,2024,2024,2024,2024,2024,2024,2024,2024,2024,2024,2024,2024,2024,2024,2024,2024,2024,2024,2024,2024,2024],\"x0\":\" \",\"xaxis\":\"x\",\"y\":[40000.0,174240.0,43850.0,49205.0,127949.0,60000.0,42096.0,85439.0,123372.0,96000.0,49348.0,24556.0,24000.0,39202.0,93411.0,46218.0,36655.0,54374.0,138720.0,32274.0,60000.0,57005.0,22350.0,33326.0,28415.0,24000.0,48542.0,65775.0,28064.0,52620.0,140910.0,72000.0,143500.0,155000.0,31200.0,30000.0,101258.0,30695.0,26310.0,175594.0,101850.0,130656.0,29993.0,26310.0,37711.0,98400.0,61258.0,50000.0,55200.0,44700.0,115000.0,33600.0,36000.0,30000.0,30000.0,60000.0,68000.0,120000.0,54000.0,32400.0,48000.0,54000.0,43860.0,120000.0,145000.0,120000.0,71000.0,103000.0,60000.0,55200.0,93420.0,36000.0,156000.0,53400.0,51920.0,50000.0,36000.0,63800.0,36000.0,38000.0,129000.0,56000.0,85000.0,39250.0,50400.0,41500.0,48000.0,67200.0,120000.0,55000.0,157500.0,51600.0,62352.0,115000.0,30000.0,32400.0,25800.0,72000.0,138000.0,40000.0,36000.0,144000.0,38400.0,93500.0,32400.0,30550.0,80000.0,45000.0,104200.0,21600.0,36000.0,168000.0,48000.0,51000.0,60000.0,130000.0,109200.0,30000.0,22800.0,65400.0,60840.0,132500.0,61000.0,25000.0,62400.0,60000.0,60000.0,138000.0,88000.0,120500.0,39600.0,36000.0,45360.0,72000.0,120000.0,27600.0,55800.0,65400.0,110196.0,59800.0,48000.0,48000.0,66300.0,72000.0,35000.0,42000.0,60000.0,100000.0,47250.0,52680.0,30000.0,57600.0,94000.0,89800.0,85000.0,24000.0,138000.0,68000.0,130000.0,21600.0,180000.0,30156.0,30000.0,24000.0,100800.0,45000.0,42000.0,79200.0,69500.0,96420.0,44400.0,47500.0,80000.0,51000.0,110000.0,150000.0,100000.0,60000.0,67050.0,180000.0,146000.0,72000.0,24000.0,41236.0,91094.0,100478.0,72553.0,117626.0,127108.0,54982.0,69608.0,39966.0,42604.0,52005.0,91080.5,40493.0,50647.5,36000.0,38000.0,48190.0,107090.0,54592.0,100649.0,33842.0,31000.0,21427.0,71750.0,66396.0,61041.0,66000.0,80317.0,56000.0,42836.0,33667.0,96381.0,51023.0,36690.0,85182.0,36351.0,45496.0,99214.0,89419.5,112257.0,44978.0,40914.0,57346.0,51169.0,25219.0,66045.0,69608.0,64254.0,72821.0,34634.0,56222.0,54959.0,30000.0,82459.0,69807.0,77984.0,72490.0,59322.0,40000.0,39202.5,29764.5,57423.0,58899.0,52729.0,48094.5,51786.0,42349.5,62620.0,59391.0,92639.5,44978.0,47654.5,49797.0,98612.5,53545.0,23955.0,59800.0,132260.0,71706.0,80844.5,25695.0,28204.0,36200.5,61830.0,130649.0,83173.0,154000.0,84000.0,45000.0,27652.5,25228.0,23844.0,58196.5,99099.0,67666.0,88333.0,38139.0,75184.0,20664.0,40036.0,37297.0,53550.0,83597.0,37260.5,53120.5,77214.0,59073.0,71962.0,49950.0,108002.0,50507.0,24000.0,50400.0,55422.0,72499.0,54240.0,68169.0,78407.0,45647.5,23522.5,96000.0,48916.0,67983.0,40676.0,42932.0,48272.0,92369.0,71483.5,121969.0,42962.0,25698.0,65235.0,32939.0,46512.0,38666.0,57999.0,99350.5,27545.0,28079.0,48518.0,30899.0,30149.0,79534.5,79894.0,23920.0,64444.0,73937.0,47677.0,124127.0,150000.0,31687.0,33430.0,62484.5,47052.0,102822.0,55851.0,64408.0,47059.0,100523.0,45984.5,104960.0,38666.0,53703.0,61557.0,32640.0,53703.0,21728.0,57230.0,122559.0,27796.0,68572.5,41733.0,57600.0,63383.0,89172.0,150000.0,91000.0,25548.0,22803.0],\"y0\":\" \",\"yaxis\":\"y\",\"type\":\"box\"},{\"alignmentgroup\":\"True\",\"boxpoints\":false,\"hovertemplate\":\"OrgSize=10 to 19 employees\\u003cbr\\u003eYear=%{x}\\u003cbr\\u003eMedianSalary=%{y}\\u003cextra\\u003e\\u003c\\u002fextra\\u003e\",\"legendgroup\":\"10 to 19 employees\",\"marker\":{\"color\":\"#FBC02D\"},\"name\":\"10 to 19 employees\",\"notched\":false,\"offsetgroup\":\"10 to 19 employees\",\"orientation\":\"v\",\"showlegend\":true,\"x\":[2020,2020,2020,2020,2020,2020,2020,2020,2020,2020,2020,2020,2020,2020,2020,2020,2020,2020,2020,2020,2020,2020,2020,2020,2020,2020,2020,2020,2020,2020,2020,2020,2020,2020,2020,2020,2020,2020,2020,2020,2020,2020,2020,2020,2020,2020,2020,2020,2020,2020,2020,2020,2020,2020,2020,2020,2020,2020,2020,2020,2020,2020,2020,2020,2020,2020,2020,2020,2020,2020,2020,2020,2020,2020,2020,2020,2020,2020,2020,2020,2021,2021,2021,2021,2021,2021,2021,2021,2021,2021,2021,2021,2021,2021,2021,2021,2021,2021,2021,2021,2021,2021,2021,2021,2021,2021,2021,2021,2021,2021,2021,2021,2021,2021,2021,2021,2021,2021,2021,2021,2021,2021,2021,2021,2021,2021,2021,2021,2021,2021,2021,2021,2021,2021,2021,2021,2021,2021,2021,2021,2021,2021,2021,2021,2021,2021,2021,2021,2021,2021,2021,2021,2021,2021,2021,2021,2021,2021,2021,2021,2021,2021,2021,2021,2021,2021,2021,2021,2021,2021,2021,2021,2021,2021,2021,2021,2021,2021,2021,2021,2021,2021,2022,2022,2022,2022,2022,2022,2022,2022,2022,2022,2022,2022,2022,2022,2022,2022,2022,2022,2022,2022,2022,2022,2022,2022,2022,2022,2022,2022,2022,2022,2022,2022,2022,2022,2022,2022,2022,2022,2022,2022,2022,2022,2022,2022,2022,2022,2022,2022,2022,2022,2022,2022,2022,2022,2022,2022,2022,2022,2022,2022,2022,2022,2022,2022,2022,2022,2022,2022,2022,2022,2022,2022,2022,2022,2022,2022,2022,2022,2022,2022,2022,2022,2022,2022,2022,2022,2022,2022,2022,2022,2022,2022,2022,2022,2023,2023,2023,2023,2023,2023,2023,2023,2023,2023,2023,2023,2023,2023,2023,2023,2023,2023,2023,2023,2023,2023,2023,2023,2023,2023,2023,2023,2023,2023,2023,2023,2023,2023,2023,2023,2023,2023,2023,2023,2023,2023,2023,2023,2023,2023,2023,2023,2023,2023,2023,2023,2023,2023,2023,2023,2023,2023,2023,2023,2023,2023,2023,2023,2023,2023,2023,2023,2023,2023,2023,2023,2023,2023,2023,2023,2023,2023,2023,2023,2023,2023,2023,2023,2023,2023,2023,2023,2023,2023,2023,2023,2023,2023,2023,2023,2023,2023,2023,2023,2023,2023,2023,2023,2023,2023,2023,2023,2023,2024,2024,2024,2024,2024,2024,2024,2024,2024,2024,2024,2024,2024,2024,2024,2024,2024,2024,2024,2024,2024,2024,2024,2024,2024,2024,2024,2024,2024,2024,2024,2024,2024,2024,2024,2024,2024,2024,2024,2024,2024,2024,2024,2024,2024,2024,2024,2024,2024,2024,2024,2024,2024,2024,2024,2024,2024,2024,2024,2024,2024,2024,2024,2024,2024,2024,2024,2024,2024,2024,2024,2024,2024,2024,2024,2024,2024,2024,2024,2024,2024,2024,2024,2024,2024,2024,2024,2024,2024,2024,2024,2024,2024,2024,2024,2024,2024,2024,2024],\"x0\":\" \",\"xaxis\":\"x\",\"y\":[17364.5,60000.0,139392.0,33677.0,26520.0,45345.0,33677.0,36096.0,173074.0,59069.0,101916.0,21600.0,174900.0,72000.0,60000.0,10800.0,16838.0,28280.0,120000.0,30000.0,13200.0,61200.0,13200.0,33677.0,39991.0,33326.0,79200.0,41219.0,152592.0,13856.5,54120.0,18000.0,24000.0,46042.5,85000.0,24556.0,7391.0,9261.0,15786.0,26400.0,25705.0,5262.0,47358.0,23258.0,30000.0,37053.0,151690.0,12000.0,91000.0,10200.0,21600.0,126468.0,31572.0,20258.5,174720.0,107897.0,69000.0,26310.0,102075.0,10524.0,28057.0,34866.0,30000.0,29379.5,8940.0,50400.0,87084.0,9600.0,60000.0,104000.0,31572.0,68064.0,174240.0,28500.0,32780.0,100000.0,42000.0,14400.0,12000.0,36000.0,96000.0,45200.0,42000.0,9600.0,97000.0,50000.0,33000.0,186000.0,30600.0,38400.0,51600.0,24300.0,93600.0,60000.0,58800.0,5400.0,24000.0,85000.0,144000.0,36300.0,9000.0,68000.0,156000.0,66000.0,30000.0,105000.0,36000.0,66000.0,162500.0,16800.0,180000.0,24000.0,37602.0,157008.0,54000.0,40000.0,19200.0,50400.0,37800.0,19200.0,132000.0,50000.0,180000.0,30000.0,13200.0,60000.0,144000.0,27000.0,60000.0,12000.0,20196.0,51000.0,34800.0,42000.0,67000.0,60000.0,30000.0,186000.0,15600.0,120000.0,144000.0,48000.0,80000.0,18000.0,180000.0,180000.0,150000.0,24000.0,87000.0,36000.0,135000.0,96000.0,25200.0,42000.0,72000.0,43480.0,130200.0,25000.0,68640.0,27000.0,37750.0,9600.0,156000.0,31000.0,84000.0,12000.0,75000.0,9324.0,138000.0,19200.0,78000.0,60000.0,48000.0,36000.0,84000.0,49000.0,70000.0,108000.0,39600.0,18000.0,14400.0,12366.0,28200.0,36000.0,15600.0,69840.0,110000.0,46500.0,7200.0,180000.0,48000.0,37680.0,84000.0,33756.0,72000.0,67500.0,12000.0,100000.0,51600.0,37000.0,69000.0,165000.0,13800.0,60000.0,165000.0,90000.0,10200.0,42000.0,87468.0,55200.0,42000.0,120000.0,52900.0,21600.0,78000.0,95500.0,180000.0,42000.0,9996.0,67500.0,168000.0,30000.0,126000.0,21600.0,26000.0,21360.0,96000.0,36000.0,16800.0,18000.0,65000.0,60000.0,13800.0,42000.0,159000.0,42360.0,93000.0,157000.0,46200.0,110000.0,10800.0,24500.0,16800.0,10680.0,37200.0,120000.0,32500.0,144000.0,100440.0,29400.0,24000.0,84000.0,50000.0,92400.0,27000.0,36342.0,12000.0,132000.0,110000.0,30750.0,105820.0,9600.0,100000.0,67200.0,84000.0,28800.0,120000.0,50000.0,96000.0,51000.0,120000.0,12000.0,8400.0,12000.0,74400.0,12000.0,11000.0,23560.0,36000.0,93696.0,79325.0,69608.0,9111.0,28262.5,57828.0,8971.0,31480.0,24345.0,67059.5,11624.0,19596.0,74351.0,23996.0,21103.5,15473.0,42400.0,37481.0,38552.5,34711.5,85672.0,19247.5,21600.0,12369.5,55686.5,26810.0,64254.0,50332.0,6532.0,46500.0,64254.0,21418.0,95000.0,36000.0,39798.0,42056.0,13813.0,12456.5,33071.0,22800.0,74963.0,80690.0,112257.0,38016.5,28673.0,23639.5,13407.0,24713.0,17863.0,74463.0,43371.5,31000.0,41765.0,64254.0,42774.0,18106.0,26037.0,11401.0,16602.5,58364.0,13303.0,8186.0,58363.5,74360.5,15600.0,10398.0,85701.5,78833.5,12953.5,43000.0,27765.0,56100.0,15992.5,47119.0,41979.0,34628.5,47211.0,47902.0,24751.0,17665.0,11991.0,54823.0,66700.0,40694.0,48190.0,33846.5,46171.0,40961.5,21167.0,53442.0,101567.0,25711.5,17254.0,96000.0,11242.0,28204.0,41254.0,21230.5,65669.0,9496.0,125000.0,43100.0,22500.0,24199.0,33061.0,7800.0,64257.0,15130.0,72500.0,92492.0,79763.0,20140.0,8192.0,45000.0,59073.0,12138.0,65805.0,19208.5,47453.0,120000.0,72693.0,24696.0,22076.0,34682.0,83200.0,44573.5,42962.0,44147.0,86401.0,39875.5,46500.0,57500.0,44878.5,67666.0,48333.0,31463.0,69814.0,27926.0,35990.0,108794.0,29213.5,39730.0,14356.0,9568.0,18000.0,32080.0,103110.0,125476.5,34370.0,34495.5,53171.0,10232.5,25777.0,6208.0,47535.0,14580.0,85925.0,128887.0,9664.5,5848.0,9123.0,19407.0,8974.0,37592.0,20501.0,44643.0,8963.0,57634.0,68524.0,17100.0,12783.5,79552.0,12989.0,12921.0,66707.5,15728.0,59639.0,26852.0,36266.0,48273.0,46128.5,26891.0,146652.0,35055.5,53219.0,33564.5,55046.0,27119.0,60927.0,35981.0,35555.0,26000.0,56658.0,108631.0,28722.5,46320.0,20959.5,37026.0,17969.0,63694.0,138000.0,77500.0,11340.0,8000.0,11400.0],\"y0\":\" \",\"yaxis\":\"y\",\"type\":\"box\"},{\"alignmentgroup\":\"True\",\"boxpoints\":false,\"hovertemplate\":\"OrgSize=10,000 or more employees\\u003cbr\\u003eYear=%{x}\\u003cbr\\u003eMedianSalary=%{y}\\u003cextra\\u003e\\u003c\\u002fextra\\u003e\",\"legendgroup\":\"10,000 or more employees\",\"marker\":{\"color\":\"#FF8C00\"},\"name\":\"10,000 or more employees\",\"notched\":false,\"offsetgroup\":\"10,000 or more employees\",\"orientation\":\"v\",\"showlegend\":true,\"x\":[2020,2020,2020,2020,2020,2020,2020,2020,2020,2020,2020,2020,2020,2020,2020,2020,2020,2020,2020,2020,2020,2020,2020,2020,2020,2020,2020,2020,2020,2020,2020,2020,2020,2020,2020,2020,2020,2020,2020,2021,2021,2021,2021,2021,2021,2021,2021,2021,2021,2021,2021,2021,2021,2021,2021,2021,2021,2021,2021,2021,2021,2021,2021,2021,2021,2021,2021,2021,2021,2021,2021,2021,2021,2021,2021,2021,2021,2021,2021,2021,2021,2021,2021,2021,2021,2021,2021,2022,2022,2022,2022,2022,2022,2022,2022,2022,2022,2022,2022,2022,2022,2022,2022,2022,2022,2022,2022,2022,2022,2022,2022,2022,2022,2022,2022,2022,2022,2022,2022,2022,2022,2022,2022,2022,2022,2022,2022,2022,2022,2022,2022,2022,2022,2022,2022,2022,2022,2022,2023,2023,2023,2023,2023,2023,2023,2023,2023,2023,2023,2023,2023,2023,2023,2023,2023,2023,2023,2023,2023,2023,2023,2023,2023,2023,2023,2023,2023,2023,2023,2023,2023,2023,2023,2023,2023,2023,2023,2023,2023,2023,2023,2023,2023,2023,2023,2023,2023,2023,2023,2023,2023,2023,2023,2023,2023,2023,2023,2023,2023,2023,2023,2023,2023,2023,2023,2023,2023,2023,2023,2023,2023,2023,2023,2023,2023,2023,2024,2024,2024,2024,2024,2024,2024,2024,2024,2024,2024,2024,2024,2024,2024,2024,2024,2024,2024,2024,2024,2024,2024,2024,2024,2024,2024,2024,2024,2024,2024,2024,2024,2024,2024,2024,2024,2024,2024,2024,2024,2024,2024,2024,2024,2024,2024,2024,2024,2024,2024,2024,2024,2024,2024,2024,2024,2024,2024,2024,2024,2024,2024,2024,2024,2024,2024],\"x0\":\" \",\"xaxis\":\"x\",\"y\":[161843.5,57707.0,79342.0,42096.0,126576.0,127395.0,72000.0,38807.0,149090.0,131550.0,52795.5,52620.0,45604.0,65775.0,39000.0,40678.5,65775.0,39026.5,34203.0,36834.0,67967.5,64898.0,154000.0,76925.0,72000.0,45604.0,48235.0,46042.5,146988.0,56347.0,46481.0,44727.0,127920.0,65000.0,170000.0,42600.0,52150.0,126500.0,30000.0,155000.0,65000.0,42000.0,48000.0,58800.0,120000.0,88000.0,110000.0,45000.0,151800.0,33800.0,144000.0,58275.0,181224.0,62000.0,50000.0,102000.0,75000.0,50000.0,156000.0,90000.0,137600.0,45000.0,48000.0,62500.0,32340.0,60600.0,93200.0,110000.0,70000.0,70000.0,112500.0,91000.0,72000.0,69600.0,156000.0,50000.0,144000.0,79800.0,100000.0,37200.0,115200.0,47500.0,128610.0,180000.0,64000.0,140000.0,30000.0,59700.0,72000.0,149000.0,66500.0,62820.0,60600.0,54000.0,144000.0,30000.0,132000.0,91250.0,135000.0,48000.0,61000.0,138000.0,50000.0,175000.0,54000.0,76800.0,59400.0,52000.0,68400.0,78000.0,55500.0,98000.0,46000.0,43268.0,49200.0,48276.0,96000.0,85500.0,156000.0,75000.0,135000.0,150000.0,120000.0,186000.0,52000.0,120000.0,60000.0,33000.0,36000.0,108000.0,48000.0,60000.0,55000.0,134000.0,49200.0,70000.0,155000.0,105000.0,139700.0,37776.0,49483.0,78080.0,110394.0,80317.0,45500.0,61737.0,44633.0,42596.0,60216.0,111527.0,56240.0,77379.0,46049.0,66302.5,53545.0,51938.5,69150.0,122217.0,40244.0,30000.0,59434.5,74963.0,59970.0,66000.0,88884.0,61576.5,63956.0,89941.0,49655.0,133720.0,48468.0,56547.0,107090.0,136312.0,48725.5,61288.5,63321.0,48884.0,56115.0,100000.0,69608.5,155279.5,57249.0,50653.0,85672.0,77395.5,81552.0,64615.5,86627.0,62208.0,58899.0,37628.0,60729.0,53215.0,122575.0,61041.0,94505.0,54616.0,53545.0,54465.5,100037.0,59970.0,61595.5,165324.0,81483.5,76195.5,66489.0,43716.5,52000.0,40828.0,99311.0,158000.0,170000.0,74808.0,36000.0,45988.0,36669.0,98000.0,112312.0,76896.5,54000.0,77869.5,50258.5,46135.0,112674.0,38993.5,72436.5,41988.0,47441.0,64444.0,42962.0,65152.0,128707.5,107406.0,70888.0,60684.5,46145.0,91295.0,59073.0,130000.0,63997.0,59106.5,46658.0,94517.0,178096.0,50481.0,76372.5,70541.0,56400.0,73932.0,92369.0,59073.0,128887.0,35809.0,49380.5,86785.0,91263.0,92655.0,30000.0,59413.5,61866.0,52629.0,65279.0,53703.0,73363.0,53782.0,44573.5,118265.0,53703.0,35444.0,60265.0,56388.0,64098.0,157654.5,50958.5,54493.5,40806.0,53070.0,149745.0,107006.0,160000.0,92525.0,56500.0],\"y0\":\" \",\"yaxis\":\"y\",\"type\":\"box\"},{\"alignmentgroup\":\"True\",\"boxpoints\":false,\"hovertemplate\":\"OrgSize=100 to 499 employees\\u003cbr\\u003eYear=%{x}\\u003cbr\\u003eMedianSalary=%{y}\\u003cextra\\u003e\\u003c\\u002fextra\\u003e\",\"legendgroup\":\"100 to 499 employees\",\"marker\":{\"color\":\"#FFA500\"},\"name\":\"100 to 499 employees\",\"notched\":false,\"offsetgroup\":\"100 to 499 employees\",\"orientation\":\"v\",\"showlegend\":true,\"x\":[2020,2020,2020,2020,2020,2020,2020,2020,2020,2020,2020,2020,2020,2020,2020,2020,2020,2020,2020,2020,2020,2020,2020,2020,2020,2020,2020,2020,2020,2020,2020,2020,2020,2020,2020,2020,2020,2020,2020,2020,2020,2020,2020,2020,2020,2020,2020,2020,2020,2020,2020,2020,2020,2020,2020,2020,2020,2020,2020,2020,2020,2020,2020,2020,2020,2020,2020,2020,2020,2020,2020,2021,2021,2021,2021,2021,2021,2021,2021,2021,2021,2021,2021,2021,2021,2021,2021,2021,2021,2021,2021,2021,2021,2021,2021,2021,2021,2021,2021,2021,2021,2021,2021,2021,2021,2021,2021,2021,2021,2021,2021,2021,2021,2021,2021,2021,2021,2021,2021,2021,2021,2021,2021,2021,2021,2021,2021,2021,2021,2021,2021,2021,2021,2021,2021,2021,2021,2021,2021,2021,2021,2021,2021,2021,2021,2021,2021,2021,2021,2021,2021,2021,2021,2021,2021,2021,2021,2022,2022,2022,2022,2022,2022,2022,2022,2022,2022,2022,2022,2022,2022,2022,2022,2022,2022,2022,2022,2022,2022,2022,2022,2022,2022,2022,2022,2022,2022,2022,2022,2022,2022,2022,2022,2022,2022,2022,2022,2022,2022,2022,2022,2022,2022,2022,2022,2022,2022,2022,2022,2022,2022,2022,2022,2022,2022,2022,2022,2022,2022,2022,2022,2022,2022,2022,2022,2022,2022,2022,2022,2022,2022,2022,2022,2022,2022,2022,2022,2022,2022,2022,2022,2022,2022,2022,2022,2022,2023,2023,2023,2023,2023,2023,2023,2023,2023,2023,2023,2023,2023,2023,2023,2023,2023,2023,2023,2023,2023,2023,2023,2023,2023,2023,2023,2023,2023,2023,2023,2023,2023,2023,2023,2023,2023,2023,2023,2023,2023,2023,2023,2023,2023,2023,2023,2023,2023,2023,2023,2023,2023,2023,2023,2023,2023,2023,2023,2023,2023,2023,2023,2023,2023,2023,2023,2023,2023,2023,2023,2023,2023,2023,2023,2023,2023,2023,2023,2023,2023,2023,2023,2023,2023,2023,2023,2023,2023,2023,2023,2023,2023,2023,2023,2023,2023,2023,2023,2023,2023,2023,2023,2023,2023,2023,2023,2023,2023,2023,2023,2023,2023,2023,2023,2023,2023,2023,2023,2023,2023,2023,2023,2024,2024,2024,2024,2024,2024,2024,2024,2024,2024,2024,2024,2024,2024,2024,2024,2024,2024,2024,2024,2024,2024,2024,2024,2024,2024,2024,2024,2024,2024,2024,2024,2024,2024,2024,2024,2024,2024,2024,2024,2024,2024,2024,2024,2024,2024,2024,2024,2024,2024,2024,2024,2024,2024,2024,2024,2024,2024,2024,2024,2024,2024,2024,2024,2024,2024,2024,2024,2024,2024,2024,2024,2024,2024,2024,2024,2024,2024,2024,2024,2024,2024,2024,2024,2024,2024,2024,2024,2024,2024,2024,2024,2024,2024,2024,2024,2024,2024,2024,2024,2024,2024,2024,2024,2024,2024,2024,2024],\"x0\":\" \",\"xaxis\":\"x\",\"y\":[44500.0,174240.0,42359.0,43860.0,61032.0,36834.0,90240.0,105480.0,19314.0,120690.0,19200.0,60000.0,14550.0,36834.0,18600.0,26400.0,22200.0,29467.0,47358.0,39903.5,51743.0,26310.0,12000.0,56128.0,49463.0,30000.0,30000.0,50862.0,26261.0,29379.5,87700.0,17016.0,50866.0,13200.0,25784.0,31572.0,54111.0,178044.0,43850.0,26310.0,47358.0,146300.0,68500.0,32880.0,177500.0,73475.0,84000.0,21270.0,93375.5,24468.5,43850.0,58800.0,36417.0,114324.0,30607.5,35080.0,73695.0,34675.0,12540.0,118395.0,105780.0,70000.0,162700.0,48000.0,40000.0,37250.0,110000.0,98500.0,74800.0,36000.0,60000.0,24750.0,63000.0,120000.0,51250.0,33360.0,16848.0,46800.0,45600.0,41000.0,84000.0,52200.0,98400.0,48000.0,12000.0,95000.0,24000.0,42000.0,37500.0,180000.0,48000.0,26700.0,180000.0,17346.0,42000.0,58080.0,45000.0,34200.0,60000.0,60000.0,25500.0,76440.0,62400.0,82500.0,24000.0,72000.0,50500.0,33000.0,110000.0,22200.0,60000.0,12000.0,46800.0,18000.0,45780.0,61500.0,96000.0,45000.0,37200.0,138000.0,15000.0,57000.0,110000.0,67200.0,37100.0,80000.0,48600.0,40000.0,38880.0,72000.0,159996.0,31200.0,25200.0,120000.0,54000.0,72000.0,49200.0,90000.0,35100.0,37800.0,40000.0,12096.0,18600.0,102000.0,39000.0,36000.0,144000.0,57000.0,147000.0,57500.0,120000.0,45000.0,23400.0,24000.0,18000.0,105000.0,18000.0,59500.0,30000.0,42000.0,48000.0,130000.0,54000.0,23400.0,54000.0,45600.0,110000.0,52800.0,104232.0,73175.0,16800.0,115000.0,60000.0,75000.0,60000.0,15600.0,176000.0,82000.0,22000.0,25200.0,49200.0,58080.0,50000.0,62500.0,63000.0,186000.0,33600.0,67000.0,51000.0,31200.0,33534.0,18000.0,36000.0,87000.0,40000.0,40000.0,72000.0,103000.0,48000.0,42000.0,42000.0,44070.0,62500.0,51600.0,51150.0,27228.0,150000.0,65000.0,125000.0,24000.0,52000.0,83000.0,12000.0,31800.0,28500.0,18000.0,50000.0,168000.0,36276.0,146070.0,93000.0,50000.0,70000.0,60000.0,95000.0,46800.0,49000.0,55981.0,44000.0,10800.0,107750.0,65000.0,42000.0,58800.0,48000.0,180000.0,12000.0,56300.0,65000.0,99600.0,140000.0,74412.0,66000.0,18000.0,16800.0,10800.0,11844.0,40000.0,40081.0,92545.0,71750.0,31759.0,95331.0,23056.0,47613.0,58899.0,60000.0,63727.0,30431.0,42425.5,25000.0,163573.0,89222.0,46242.0,49944.5,41445.0,72000.0,49796.5,16995.5,70625.5,54592.0,19596.0,94179.0,60399.0,132857.0,44433.0,30000.0,22726.0,30000.0,62112.0,24753.5,12065.0,71750.0,55687.0,54616.0,72285.0,70679.0,39623.0,39397.0,21960.0,63779.0,40316.0,78083.0,24537.0,29088.0,87876.0,25996.0,91026.0,72000.0,115865.5,44978.0,38812.0,46594.0,18293.0,75000.0,36027.0,60399.0,40003.0,52474.0,12000.0,57721.0,102270.5,11690.0,26209.0,50332.0,21048.0,31258.0,53545.0,18837.0,47119.5,14781.0,34107.0,73356.5,79587.5,65240.0,46244.0,75209.0,25206.0,70000.0,41600.0,36743.0,31200.0,31687.5,54000.0,48725.5,82390.0,51942.0,67444.0,50707.0,41458.5,47164.5,51403.0,81523.0,50332.0,58899.0,10000.0,56007.0,61561.0,51403.0,18586.0,15000.0,59615.5,123993.0,10000.0,39112.0,28757.0,83548.0,25886.0,20878.0,34785.0,47302.0,66200.0,104519.0,86897.0,150000.0,69000.0,22100.0,20335.0,59917.0,19000.0,72888.5,94474.0,70244.0,29444.0,37213.0,18518.0,23492.0,53703.0,41611.0,39483.0,27973.0,31880.0,57120.0,90866.0,45492.0,21524.0,36466.5,75304.0,35444.0,18600.0,85925.0,47865.0,32715.0,93601.0,40406.0,13200.0,10951.0,30000.0,61866.0,52242.0,25176.0,64444.0,53703.0,55200.0,74110.0,36088.5,58869.5,16937.0,75260.0,43481.0,64660.0,23927.0,15333.0,53491.0,73036.0,79617.5,113334.0,45111.0,32123.0,44551.0,49379.0,35000.0,56388.5,45000.0,64444.0,128887.0,24409.0,16362.5,50481.0,11264.0,32345.0,38666.0,16984.0,33907.0,18375.0,69814.0,81430.0,17980.0,83998.0,15198.5,45000.0,30000.0,17428.0,35745.0,61866.0,49138.5,53311.0,54375.0,45714.0,18911.0,85620.0,93324.0,70648.0,122700.0,54240.0,53703.0,53808.0,66367.0,51555.0,16461.0,59138.0,116988.0,41693.5,13426.0,32696.0,35830.5,45443.0,48000.0,60742.0,89172.0,19120.0,145000.0,74000.0,120000.0,37000.0,25548.0,12500.0],\"y0\":\" \",\"yaxis\":\"y\",\"type\":\"box\"},{\"alignmentgroup\":\"True\",\"boxpoints\":false,\"hovertemplate\":\"OrgSize=2 to 9 employees\\u003cbr\\u003eYear=%{x}\\u003cbr\\u003eMedianSalary=%{y}\\u003cextra\\u003e\\u003c\\u002fextra\\u003e\",\"legendgroup\":\"2 to 9 employees\",\"marker\":{\"color\":\"#FFDAB9\"},\"name\":\"2 to 9 employees\",\"notched\":false,\"offsetgroup\":\"2 to 9 employees\",\"orientation\":\"v\",\"showlegend\":true,\"x\":[2020,2020,2020,2020,2020,2020,2020,2020,2020,2020,2020,2020,2020,2020,2020,2020,2020,2020,2020,2020,2020,2020,2020,2020,2020,2020,2020,2020,2020,2020,2020,2020,2020,2020,2020,2020,2020,2020,2020,2020,2020,2020,2020,2020,2020,2020,2020,2020,2020,2020,2020,2020,2020,2020,2020,2020,2020,2020,2020,2020,2020,2020,2020,2020,2020,2020,2020,2020,2020,2020,2020,2020,2020,2020,2020,2020,2020,2020,2020,2020,2020,2020,2020,2020,2020,2020,2021,2021,2021,2021,2021,2021,2021,2021,2021,2021,2021,2021,2021,2021,2021,2021,2021,2021,2021,2021,2021,2021,2021,2021,2021,2021,2021,2021,2021,2021,2021,2021,2021,2021,2021,2021,2021,2021,2021,2021,2021,2021,2021,2021,2021,2021,2021,2021,2021,2021,2021,2021,2021,2021,2021,2021,2021,2021,2021,2021,2021,2021,2021,2021,2021,2021,2021,2021,2021,2021,2021,2021,2021,2021,2021,2021,2021,2021,2021,2021,2021,2021,2021,2021,2021,2021,2021,2021,2021,2021,2021,2021,2021,2021,2021,2021,2021,2021,2021,2021,2021,2021,2021,2021,2021,2021,2021,2021,2021,2021,2021,2021,2021,2021,2021,2022,2022,2022,2022,2022,2022,2022,2022,2022,2022,2022,2022,2022,2022,2022,2022,2022,2022,2022,2022,2022,2022,2022,2022,2022,2022,2022,2022,2022,2022,2022,2022,2022,2022,2022,2022,2022,2022,2022,2022,2022,2022,2022,2022,2022,2022,2022,2022,2022,2022,2022,2022,2022,2022,2022,2022,2022,2022,2022,2022,2022,2022,2022,2022,2022,2022,2022,2022,2022,2022,2022,2022,2022,2022,2022,2022,2022,2022,2022,2022,2022,2022,2022,2022,2022,2022,2022,2022,2022,2022,2022,2022,2022,2022,2022,2022,2022,2022,2022,2022,2023,2023,2023,2023,2023,2023,2023,2023,2023,2023,2023,2023,2023,2023,2023,2023,2023,2023,2023,2023,2023,2023,2023,2023,2023,2023,2023,2023,2023,2023,2023,2023,2023,2023,2023,2023,2023,2023,2023,2023,2023,2023,2023,2023,2023,2023,2023,2023,2023,2023,2023,2023,2023,2023,2023,2023,2023,2023,2023,2023,2023,2023,2023,2023,2023,2023,2023,2023,2023,2023,2023,2023,2023,2023,2023,2023,2023,2023,2023,2023,2023,2023,2023,2023,2023,2023,2023,2023,2023,2023,2023,2023,2023,2023,2023,2023,2023,2023,2023,2023,2023,2023,2023,2023,2023,2023,2023,2023,2023,2023,2023,2023,2023,2023,2024,2024,2024,2024,2024,2024,2024,2024,2024,2024,2024,2024,2024,2024,2024,2024,2024,2024,2024,2024,2024,2024,2024,2024,2024,2024,2024,2024,2024,2024,2024,2024,2024,2024,2024,2024,2024,2024,2024,2024,2024,2024,2024,2024,2024,2024,2024,2024,2024,2024,2024,2024,2024,2024,2024,2024,2024,2024,2024,2024,2024,2024,2024,2024,2024,2024,2024,2024,2024,2024,2024,2024,2024,2024,2024,2024,2024,2024,2024,2024,2024,2024,2024,2024,2024,2024,2024,2024,2024,2024,2024,2024,2024,2024,2024,2024,2024,2024,2024,2024,2024,2024,2024,2024],\"x0\":\" \",\"xaxis\":\"x\",\"y\":[21048.0,28941.0,105000.0,117612.0,38412.5,17483.0,87000.0,10800.0,42000.0,26310.0,52620.0,36000.0,33840.0,137841.0,94932.0,7800.0,90000.0,7080.0,9060.0,35080.0,58934.0,52620.0,20400.0,27000.0,21600.0,22627.0,47358.0,31572.0,79200.0,42096.0,138720.0,9640.0,75000.0,34729.0,58000.0,12000.0,14400.0,53497.0,45600.0,21925.0,60000.0,5955.5,7367.0,24994.5,21780.0,17891.0,52620.0,7367.0,108270.0,48235.0,50400.0,20080.0,19820.0,32624.0,101640.0,9600.0,12000.0,89820.0,5530.0,12000.0,15700.0,150000.0,56911.0,140292.0,15786.0,112801.0,36000.0,15786.0,71861.0,25784.0,19995.5,19294.0,12000.0,83640.0,96096.0,11576.0,47645.0,36000.0,46800.0,132228.0,29428.0,90000.0,48000.0,20400.0,7200.0,24000.0,31200.0,42000.0,54000.0,88750.0,43489.0,24000.0,150000.0,48000.0,42000.0,33600.0,45600.0,42000.0,36000.0,24000.0,48000.0,40200.0,78000.0,70000.0,48000.0,144000.0,120000.0,63000.0,123000.0,31000.0,72000.0,162000.0,50000.0,36000.0,12000.0,96000.0,23400.0,118800.0,49600.0,36600.0,75000.0,51600.0,39000.0,14100.0,102000.0,12600.0,174000.0,36000.0,120000.0,33600.0,69600.0,50000.0,49600.0,108000.0,24000.0,65000.0,21600.0,49000.0,12000.0,12000.0,31200.0,15000.0,72000.0,30000.0,55000.0,60000.0,30000.0,122400.0,24144.0,71400.0,82200.0,8400.0,96000.0,40976.0,67500.0,60000.0,78000.0,102500.0,12000.0,12534.0,144000.0,9900.0,60000.0,24000.0,36000.0,78000.0,24000.0,60000.0,57264.0,42000.0,24000.0,96000.0,26560.0,54000.0,25800.0,26400.0,132198.0,26844.0,39000.0,24000.0,27000.0,109200.0,31200.0,84000.0,18000.0,65000.0,43200.0,78000.0,60000.0,21600.0,69000.0,48000.0,30000.0,38400.0,72000.0,40000.0,90000.0,54250.0,15000.0,10800.0,102000.0,6000.0,18000.0,25500.0,42000.0,110000.0,43000.0,27000.0,13200.0,24000.0,36600.0,55800.0,27600.0,30000.0,72000.0,57600.0,13200.0,85000.0,48000.0,112000.0,7200.0,126000.0,10800.0,46000.0,30000.0,175000.0,14400.0,28800.0,84000.0,10200.0,35160.0,144000.0,44400.0,42000.0,38600.0,50400.0,12000.0,16200.0,40000.0,27600.0,162000.0,43200.0,7500.0,15000.0,80000.0,52000.0,144000.0,24883.0,83600.0,14200.0,19128.0,26000.0,16800.0,120000.0,25200.0,31200.0,45600.0,20400.0,21000.0,49200.0,70000.0,110000.0,6600.0,42000.0,46500.0,100000.0,63200.0,94600.0,12000.0,14400.0,13800.0,93600.0,34400.0,96000.0,25000.0,42000.0,60000.0,72000.0,54000.0,32400.0,86400.0,26000.0,19200.0,132000.0,29000.0,12000.0,21900.0,48500.0,91000.0,7800.0,60000.0,25200.0,12000.0,114000.0,43200.0,111000.0,46000.0,105000.0,60600.0,13440.0,36000.0,39481.0,9330.5,12566.5,52054.0,79325.0,68126.0,25289.5,6508.0,72000.0,44978.0,5715.0,8551.0,32849.0,26374.0,24345.0,42589.5,22500.0,66172.5,26620.0,25887.0,19617.0,60000.0,24631.0,9600.0,64254.0,38215.0,80519.0,21951.0,11700.0,8116.5,30000.0,57828.0,48000.0,58899.0,48190.0,32045.0,64254.0,21418.0,13431.0,80000.0,38267.0,37705.0,35776.0,14540.0,20200.0,23622.0,8886.0,80317.0,54616.0,98903.0,32127.0,64514.0,40103.5,27569.5,17293.0,40000.0,43693.0,15000.0,49261.5,49261.0,15506.5,8719.0,28064.0,17410.5,5114.0,7496.0,9854.0,17837.0,7115.0,29559.0,64254.0,61688.0,20000.0,104000.0,72490.0,17504.0,12250.0,17500.0,5553.0,13063.5,17654.0,38999.5,39087.5,34524.0,22276.0,16147.5,26772.0,49655.0,36946.0,42836.0,31123.0,38476.0,37481.0,16700.0,57496.0,110216.0,12000.0,18706.0,38534.5,26596.0,6424.0,14666.0,28568.5,9654.0,49406.5,29396.0,68276.0,7090.0,120000.0,70000.0,60000.0,20000.0,10848.5,15000.0,5940.0,21419.0,5696.0,55425.0,66066.0,62403.0,8965.0,29323.5,54175.5,20231.0,11845.0,16168.0,35151.0,10741.0,72693.0,17112.0,58645.5,16557.0,37570.0,75000.0,45111.0,12000.0,58637.0,34896.0,85681.0,11061.0,13400.0,10057.5,46184.5,12000.0,67666.0,48333.0,110000.0,59073.0,30000.0,32222.0,61183.0,53757.0,39132.5,8996.5,30666.0,71280.0,9160.0,57999.0,106771.0,97143.0,37592.0,36914.0,13685.0,26644.0,6512.0,32607.0,19333.0,49407.0,15600.0,29537.0,57462.0,18222.0,23375.0,43620.0,64636.5,21564.0,10854.0,22409.0,54240.0,67602.5,50000.0,71155.0,18000.0,86213.0,11091.0,53452.0,53703.0,33348.5,15126.0,5866.0,7852.0,32260.0,81307.0,32222.0,39203.0,16788.5,36266.0,37904.0,21728.0,18665.0,48663.0,105846.0,20776.0,33972.5,54912.5,15457.0,30000.0,27152.0,16336.0,60254.5,7648.0,110000.0,50000.0,12000.0,8000.0,17168.0,23962.0,6000.0],\"y0\":\" \",\"yaxis\":\"y\",\"type\":\"box\"},{\"alignmentgroup\":\"True\",\"boxpoints\":false,\"hovertemplate\":\"OrgSize=20 to 99 employees\\u003cbr\\u003eYear=%{x}\\u003cbr\\u003eMedianSalary=%{y}\\u003cextra\\u003e\\u003c\\u002fextra\\u003e\",\"legendgroup\":\"20 to 99 employees\",\"marker\":{\"color\":\"#FA8072\"},\"name\":\"20 to 99 employees\",\"notched\":false,\"offsetgroup\":\"20 to 99 employees\",\"orientation\":\"v\",\"showlegend\":true,\"x\":[2020,2020,2020,2020,2020,2020,2020,2020,2020,2020,2020,2020,2020,2020,2020,2020,2020,2020,2020,2020,2020,2020,2020,2020,2020,2020,2020,2020,2020,2020,2020,2020,2020,2020,2020,2020,2020,2020,2020,2020,2020,2020,2020,2020,2020,2020,2020,2020,2020,2020,2020,2020,2020,2020,2020,2020,2020,2020,2020,2020,2020,2020,2020,2020,2020,2020,2020,2020,2020,2020,2020,2020,2020,2020,2020,2020,2020,2021,2021,2021,2021,2021,2021,2021,2021,2021,2021,2021,2021,2021,2021,2021,2021,2021,2021,2021,2021,2021,2021,2021,2021,2021,2021,2021,2021,2021,2021,2021,2021,2021,2021,2021,2021,2021,2021,2021,2021,2021,2021,2021,2021,2021,2021,2021,2021,2021,2021,2021,2021,2021,2021,2021,2021,2021,2021,2021,2021,2021,2021,2021,2021,2021,2021,2021,2021,2021,2021,2021,2021,2021,2021,2021,2021,2021,2021,2021,2021,2021,2021,2021,2021,2021,2021,2021,2021,2021,2021,2021,2021,2021,2021,2021,2021,2021,2021,2021,2021,2021,2021,2021,2021,2021,2021,2022,2022,2022,2022,2022,2022,2022,2022,2022,2022,2022,2022,2022,2022,2022,2022,2022,2022,2022,2022,2022,2022,2022,2022,2022,2022,2022,2022,2022,2022,2022,2022,2022,2022,2022,2022,2022,2022,2022,2022,2022,2022,2022,2022,2022,2022,2022,2022,2022,2022,2022,2022,2022,2022,2022,2022,2022,2022,2022,2022,2022,2022,2022,2022,2022,2022,2022,2022,2022,2022,2022,2022,2022,2022,2022,2022,2022,2022,2022,2022,2022,2022,2022,2022,2022,2022,2022,2022,2022,2022,2022,2022,2022,2022,2022,2022,2022,2022,2022,2022,2022,2022,2022,2023,2023,2023,2023,2023,2023,2023,2023,2023,2023,2023,2023,2023,2023,2023,2023,2023,2023,2023,2023,2023,2023,2023,2023,2023,2023,2023,2023,2023,2023,2023,2023,2023,2023,2023,2023,2023,2023,2023,2023,2023,2023,2023,2023,2023,2023,2023,2023,2023,2023,2023,2023,2023,2023,2023,2023,2023,2023,2023,2023,2023,2023,2023,2023,2023,2023,2023,2023,2023,2023,2023,2023,2023,2023,2023,2023,2023,2023,2023,2023,2023,2023,2023,2023,2023,2023,2023,2023,2023,2023,2023,2023,2023,2023,2023,2023,2023,2023,2023,2023,2023,2023,2023,2023,2023,2023,2023,2023,2023,2023,2023,2023,2023,2023,2023,2023,2023,2023,2023,2023,2023,2023,2023,2023,2023,2023,2023,2024,2024,2024,2024,2024,2024,2024,2024,2024,2024,2024,2024,2024,2024,2024,2024,2024,2024,2024,2024,2024,2024,2024,2024,2024,2024,2024,2024,2024,2024,2024,2024,2024,2024,2024,2024,2024,2024,2024,2024,2024,2024,2024,2024,2024,2024,2024,2024,2024,2024,2024,2024,2024,2024,2024,2024,2024,2024,2024,2024,2024,2024,2024,2024,2024,2024,2024,2024,2024,2024,2024,2024,2024,2024,2024,2024,2024,2024,2024,2024,2024,2024,2024,2024,2024,2024,2024,2024,2024,2024,2024,2024,2024,2024,2024,2024,2024,2024,2024,2024,2024,2024,2024,2024,2024,2024,2024,2024,2024,2024,2024,2024,2024],\"x0\":\" \",\"xaxis\":\"x\",\"y\":[130000.0,29880.0,31200.0,147378.0,42096.0,51000.0,9953.0,32975.0,49800.0,36834.0,51888.0,84384.0,107280.0,26576.5,100000.0,42000.0,27286.5,52620.0,18000.0,13200.0,18000.0,10200.0,31572.0,47358.0,37711.0,48112.0,18373.5,28000.0,73668.0,16800.0,52620.0,16800.0,48235.0,18625.0,26310.0,14038.0,36000.0,15347.5,18943.0,40000.0,25258.0,70160.0,37711.0,115000.0,20522.0,43850.0,151305.0,20400.0,34366.0,12992.5,19200.0,161457.5,44201.0,20390.5,10524.0,110000.0,28000.0,25784.0,81660.0,31572.0,31572.0,29818.0,9240.0,88560.0,77972.0,15093.0,49346.5,6000.0,36000.0,35760.0,40400.0,105000.0,54000.0,25560.0,12000.0,9000.0,180000.0,12000.0,48000.0,76100.0,110000.0,51920.0,32400.0,13302.0,20400.0,40800.0,40800.0,75360.0,44400.0,78000.0,48000.0,90000.0,55000.0,180000.0,36000.0,18000.0,48000.0,150000.0,9600.0,23300.0,88000.0,108000.0,19200.0,114000.0,18000.0,41178.0,172500.0,55100.0,44000.0,60000.0,55000.0,39000.0,21750.0,85000.0,24000.0,48000.0,84000.0,22320.0,57600.0,62000.0,32000.0,98000.0,22200.0,48000.0,36000.0,15600.0,24900.0,30000.0,36300.0,18800.0,30000.0,45000.0,64000.0,57600.0,120000.0,43000.0,27600.0,156000.0,42000.0,52560.0,110000.0,33000.0,31000.0,85000.0,144000.0,30000.0,25000.0,56400.0,29650.0,57600.0,36000.0,132000.0,28900.0,129600.0,78000.0,6000.0,26400.0,175500.0,36000.0,90000.0,33600.0,35500.0,48600.0,36000.0,156000.0,98500.0,45000.0,82000.0,24000.0,24000.0,26400.0,120000.0,22200.0,60000.0,138990.0,52000.0,85000.0,120000.0,72000.0,18000.0,12000.0,22800.0,132600.0,30000.0,72000.0,45000.0,135000.0,55000.0,96000.0,14760.0,31200.0,42950.0,102000.0,48000.0,144000.0,85200.0,60000.0,16200.0,105000.0,96000.0,186000.0,21600.0,33600.0,180000.0,18000.0,55200.0,84000.0,24600.0,132000.0,51500.0,52800.0,36000.0,50000.0,54870.0,45000.0,63000.0,60000.0,96000.0,21600.0,84000.0,144000.0,63000.0,100000.0,150000.0,24000.0,6600.0,70500.0,36500.0,74500.0,75000.0,19500.0,36000.0,15000.0,38400.0,36400.0,42360.0,18000.0,33000.0,82500.0,60600.0,52000.0,158200.0,18000.0,180000.0,10368.0,52262.0,115000.0,18000.0,67200.0,73000.0,12000.0,31060.0,18900.0,21600.0,35460.0,40200.0,145000.0,36400.0,180000.0,31300.0,57000.0,138666.0,30000.0,25000.0,108000.0,36000.0,40000.0,39200.0,95000.0,100000.0,43992.0,30000.0,24000.0,34000.0,60000.0,24000.0,150000.0,52500.0,50400.0,186000.0,55000.0,130000.0,54000.0,16992.0,18000.0,20000.0,9638.0,22810.5,160634.5,25463.0,42836.0,92545.0,70947.0,30000.0,10413.0,45418.0,59196.5,19077.0,37247.0,28742.5,26780.0,44888.5,8400.0,89222.0,32994.0,28138.0,21965.5,85983.0,40694.0,24000.0,70679.0,45494.0,14000.0,87349.5,50700.0,27600.0,10794.5,18000.0,57828.0,27504.0,69608.0,53545.0,56812.5,70679.0,6921.5,35446.5,23024.0,60000.0,75769.5,37705.0,106477.0,15752.0,16160.0,34252.5,9175.0,91026.0,61262.5,118672.0,42836.0,92500.0,51181.0,33771.0,23797.0,27000.0,33257.5,62112.0,27500.0,99195.0,61041.0,88349.0,11938.0,17254.0,19528.0,49655.0,66931.0,18198.0,41219.0,12501.5,57828.0,23156.0,12506.0,63354.5,78913.0,37500.0,8132.0,38516.0,107514.0,72490.0,31175.0,9999.0,14704.0,21128.0,33318.0,32262.5,23456.0,49527.0,53009.5,37075.0,62696.5,44018.0,29999.0,9248.0,95928.0,48190.0,67070.5,42836.0,46049.0,19000.0,40376.5,43093.0,44978.0,29066.0,133065.0,55285.0,110216.0,8940.0,37157.0,31632.5,29118.0,6424.0,27334.5,60000.0,8045.0,48000.0,51715.0,77586.0,140000.0,55200.0,15998.0,12000.0,15315.5,9687.0,10500.0,6675.0,50000.0,51602.0,95796.0,68471.5,43100.0,11213.0,36000.0,53703.0,12138.0,26322.0,25777.0,55472.0,15772.0,87231.0,10473.0,33578.0,48291.0,45420.0,54600.0,40814.0,10800.0,67665.5,43435.0,32640.0,93295.0,8081.0,36000.0,37333.0,60964.0,19876.0,73439.0,54777.0,59429.0,71640.0,8000.0,34370.0,19795.0,36355.5,55997.0,43481.0,104174.0,15553.0,11040.0,25320.0,12977.0,108480.0,98089.0,117921.0,42962.0,57000.0,56643.0,20457.0,33231.5,11628.0,20334.5,5400.0,45454.5,22800.0,63584.5,74110.5,7159.0,5694.0,16951.0,80555.0,40431.5,22913.0,10083.5,64444.0,64836.5,123500.0,10880.0,82594.0,10767.0,28000.0,20699.0,29659.0,14808.5,49493.0,42021.5,53553.0,39893.0,91782.0,23180.0,53163.0,23692.0,40000.0,67193.0,32222.0,103481.5,44037.0,51555.0,45737.0,38442.0,46722.0,10031.0,57230.0,115873.5,30575.5,29426.5,10136.0,29328.0,35383.5,37026.0,63710.0,79617.0,11472.0,140000.0,94200.0,13564.5,24000.0,12970.0,22800.0],\"y0\":\" \",\"yaxis\":\"y\",\"type\":\"box\"},{\"alignmentgroup\":\"True\",\"boxpoints\":false,\"hovertemplate\":\"OrgSize=5,000 to 9,999 employees\\u003cbr\\u003eYear=%{x}\\u003cbr\\u003eMedianSalary=%{y}\\u003cextra\\u003e\\u003c\\u002fextra\\u003e\",\"legendgroup\":\"5,000 to 9,999 employees\",\"marker\":{\"color\":\"#FFA07A\"},\"name\":\"5,000 to 9,999 employees\",\"notched\":false,\"offsetgroup\":\"5,000 to 9,999 employees\",\"orientation\":\"v\",\"showlegend\":true,\"x\":[2020,2020,2020,2020,2020,2020,2020,2020,2020,2020,2020,2020,2020,2020,2020,2020,2020,2020,2020,2020,2020,2020,2020,2020,2020,2020,2020,2020,2020,2020,2020,2020,2020,2020,2020,2020,2020,2021,2021,2021,2021,2021,2021,2021,2021,2021,2021,2021,2021,2021,2021,2021,2021,2021,2021,2021,2021,2021,2021,2021,2021,2021,2021,2021,2021,2021,2021,2021,2021,2021,2021,2021,2021,2021,2021,2021,2021,2021,2021,2021,2021,2021,2021,2021,2021,2021,2021,2021,2021,2022,2022,2022,2022,2022,2022,2022,2022,2022,2022,2022,2022,2022,2022,2022,2022,2022,2022,2022,2022,2022,2022,2022,2022,2022,2022,2022,2022,2022,2022,2022,2022,2022,2022,2022,2022,2022,2022,2022,2022,2022,2022,2022,2022,2022,2022,2022,2023,2023,2023,2023,2023,2023,2023,2023,2023,2023,2023,2023,2023,2023,2023,2023,2023,2023,2023,2023,2023,2023,2023,2023,2023,2023,2023,2023,2023,2023,2023,2023,2023,2023,2023,2023,2023,2023,2023,2023,2023,2023,2023,2023,2023,2023,2023,2023,2023,2023,2023,2023,2023,2023,2023,2023,2023,2023,2023,2023,2023,2023,2023,2023,2023,2023,2023,2023,2023,2023,2023,2023,2023,2023,2023,2023,2023,2024,2024,2024,2024,2024,2024,2024,2024,2024,2024,2024,2024,2024,2024,2024,2024,2024,2024,2024,2024,2024,2024,2024,2024,2024,2024,2024,2024,2024,2024,2024,2024,2024,2024,2024,2024,2024,2024,2024,2024,2024,2024,2024,2024,2024,2024,2024,2024,2024,2024,2024,2024,2024,2024,2024,2024,2024,2024,2024,2024,2024,2024,2024,2024,2024,2024,2024],\"x0\":\" \",\"xaxis\":\"x\",\"y\":[153912.0,50866.0,46920.0,33464.5,36834.0,42096.0,110754.0,127227.5,42000.0,26310.0,20000.0,31572.0,38781.0,34773.0,54725.0,27187.0,26973.0,53497.0,35080.0,53362.0,31046.0,53672.0,5990.0,105390.0,24293.0,7893.0,100000.0,163320.0,45604.0,39465.0,35957.0,85608.0,40000.0,68064.0,61500.0,37250.0,115000.0,96000.0,15000.0,127500.0,59900.0,47346.0,48000.0,147600.0,120000.0,76200.0,113000.0,40000.0,24000.0,38400.0,16800.0,85000.0,57800.0,50000.0,77300.0,67000.0,36000.0,18600.0,134430.0,55000.0,12000.0,85000.0,45000.0,90000.0,19200.0,30000.0,12600.0,41000.0,108000.0,114000.0,65000.0,115000.0,58800.0,180000.0,159000.0,32600.0,18000.0,120000.0,43000.0,160200.0,90500.0,44400.0,40000.0,106000.0,14400.0,10000.0,92400.0,66300.0,130000.0,51500.0,140000.0,50000.0,61200.0,43200.0,54000.0,66000.0,120000.0,90000.0,48000.0,21000.0,36000.0,90000.0,27000.0,43500.0,66000.0,43000.0,56190.0,71000.0,52500.0,94000.0,43000.0,32500.0,15600.0,67000.0,42000.0,84000.0,38400.0,65000.0,104000.0,84000.0,72000.0,180000.0,39300.0,164400.0,63168.0,185000.0,28200.0,46750.0,110000.0,57000.0,161500.0,67200.0,143572.0,50400.0,18000.0,5160.0,7318.0,32000.0,78080.0,96512.0,67466.0,11763.0,43966.0,57828.5,42807.0,51019.5,94798.0,51541.0,70344.0,29932.0,159931.0,6104.0,47747.0,88698.5,16000.0,12337.0,71750.0,56019.0,64254.0,48645.0,78175.0,28111.0,127558.0,38704.0,31504.0,21546.5,75592.0,16600.0,128507.0,112257.0,44978.0,72758.0,37985.5,42836.0,74963.0,32761.0,66396.0,9143.0,34350.0,48190.0,88349.0,75271.0,80192.5,81552.0,18905.0,66993.0,32601.0,31097.0,41990.0,42836.0,32127.0,44326.0,48265.5,126306.0,65880.0,133401.0,36946.0,62112.0,30000.0,54465.0,30473.0,59970.0,65420.5,135015.0,45631.0,86271.0,69153.0,38400.0,90365.0,82552.0,154000.0,51592.0,33821.0,68727.0,72243.0,99099.0,107406.0,112777.0,35433.0,33568.0,43938.0,93592.0,21663.0,41392.0,65203.0,71305.0,33010.5,98497.0,14142.0,18000.0,69277.0,92369.0,69277.0,77332.0,26852.0,49277.5,36958.5,93276.5,31105.0,5888.0,102036.0,152865.0,129524.0,39740.0,57280.0,56585.5,52679.0,42353.0,78406.5,115999.0,36172.5,23114.0,11204.0,83777.0,89727.0,85636.0,8973.0,19575.0,65850.0,123517.0,50773.0,79663.5,33815.0,29132.0,47258.5,90916.0,10600.0,87039.0,64444.0,15757.5,60664.0,122559.0,37061.0,88552.5,41424.5,41469.0,68066.0,85350.0,150000.0,45029.0],\"y0\":\" \",\"yaxis\":\"y\",\"type\":\"box\"},{\"alignmentgroup\":\"True\",\"boxpoints\":false,\"hovertemplate\":\"OrgSize=500 to 999 employees\\u003cbr\\u003eYear=%{x}\\u003cbr\\u003eMedianSalary=%{y}\\u003cextra\\u003e\\u003c\\u002fextra\\u003e\",\"legendgroup\":\"500 to 999 employees\",\"marker\":{\"color\":\"#E9967A\"},\"name\":\"500 to 999 employees\",\"notched\":false,\"offsetgroup\":\"500 to 999 employees\",\"orientation\":\"v\",\"showlegend\":true,\"x\":[2020,2020,2020,2020,2020,2020,2020,2020,2020,2020,2020,2020,2020,2020,2020,2020,2020,2020,2020,2020,2020,2020,2020,2020,2020,2020,2020,2020,2020,2020,2020,2020,2020,2020,2020,2020,2020,2020,2020,2020,2020,2020,2020,2020,2020,2020,2020,2020,2020,2021,2021,2021,2021,2021,2021,2021,2021,2021,2021,2021,2021,2021,2021,2021,2021,2021,2021,2021,2021,2021,2021,2021,2021,2021,2021,2021,2021,2021,2021,2021,2021,2021,2021,2021,2021,2021,2021,2021,2021,2021,2021,2021,2021,2021,2021,2021,2021,2021,2021,2021,2021,2021,2021,2021,2021,2021,2021,2021,2021,2021,2021,2021,2021,2021,2021,2021,2022,2022,2022,2022,2022,2022,2022,2022,2022,2022,2022,2022,2022,2022,2022,2022,2022,2022,2022,2022,2022,2022,2022,2022,2022,2022,2022,2022,2022,2022,2022,2022,2022,2022,2022,2022,2022,2022,2022,2022,2022,2022,2022,2022,2022,2022,2022,2022,2022,2022,2022,2022,2022,2022,2022,2022,2022,2022,2022,2022,2022,2022,2022,2022,2022,2022,2022,2022,2022,2023,2023,2023,2023,2023,2023,2023,2023,2023,2023,2023,2023,2023,2023,2023,2023,2023,2023,2023,2023,2023,2023,2023,2023,2023,2023,2023,2023,2023,2023,2023,2023,2023,2023,2023,2023,2023,2023,2023,2023,2023,2023,2023,2023,2023,2023,2023,2023,2023,2023,2023,2023,2023,2023,2023,2023,2023,2023,2023,2023,2023,2023,2023,2023,2023,2023,2023,2023,2023,2023,2023,2023,2023,2023,2023,2023,2023,2023,2023,2023,2023,2023,2023,2023,2023,2023,2023,2023,2023,2023,2023,2023,2023,2023,2023,2023,2023,2024,2024,2024,2024,2024,2024,2024,2024,2024,2024,2024,2024,2024,2024,2024,2024,2024,2024,2024,2024,2024,2024,2024,2024,2024,2024,2024,2024,2024,2024,2024,2024,2024,2024,2024,2024,2024,2024,2024,2024,2024,2024,2024,2024,2024,2024,2024,2024,2024,2024,2024,2024,2024,2024,2024,2024,2024,2024,2024,2024,2024,2024,2024,2024,2024,2024,2024,2024,2024,2024,2024,2024,2024,2024,2024,2024,2024,2024],\"x0\":\" \",\"xaxis\":\"x\",\"y\":[174240.0,49550.5,88740.0,122064.0,42096.0,153408.0,80165.0,127395.0,40000.0,46753.0,19200.0,24731.5,46481.0,36834.0,178200.0,52620.0,23109.0,70000.0,77176.0,38533.0,58978.5,81000.0,27625.5,32018.0,11060.0,37886.5,35000.0,39991.0,44727.0,35080.0,28064.0,30000.0,50515.0,143990.0,10800.0,25000.0,28239.5,81350.5,114324.0,31572.0,30169.0,31572.0,58850.0,103320.0,74190.0,42000.0,37250.0,112000.0,15600.0,67200.0,124000.0,55200.0,42000.0,39000.0,50000.0,51000.0,57000.0,108000.0,70200.0,110500.0,48600.0,154800.0,25200.0,26000.0,15600.0,32000.0,50000.0,60000.0,60600.0,48600.0,96000.0,60000.0,27800.0,93000.0,21120.0,82500.0,60000.0,12000.0,70000.0,34900.0,31800.0,43800.0,49450.0,75000.0,114000.0,57000.0,84000.0,148000.0,66000.0,94812.0,120000.0,52000.0,17134.0,48000.0,175000.0,32000.0,100440.0,168000.0,44100.0,86000.0,35688.0,68500.0,40000.0,20400.0,110000.0,108000.0,36000.0,132000.0,180000.0,50820.0,81000.0,110004.0,56500.0,125500.0,39100.0,24180.0,12000.0,66000.0,132500.0,60000.0,21600.0,40800.0,54000.0,16800.0,102000.0,48000.0,130000.0,162500.0,30000.0,65250.0,126000.0,50400.0,30000.0,165000.0,22200.0,49500.0,27600.0,60000.0,50200.0,76800.0,65000.0,66000.0,35000.0,36000.0,42000.0,75000.0,120000.0,30000.0,72500.0,62500.0,40500.0,163500.0,60000.0,66000.0,12000.0,60000.0,151200.0,47500.0,167400.0,37200.0,73500.0,113000.0,114000.0,80000.0,42000.0,162000.0,46000.0,124200.0,99500.0,150000.0,32400.0,100000.0,35400.0,44520.0,51000.0,120000.0,96000.0,40600.0,24000.0,57000.0,64500.0,108000.0,145000.0,12000.0,32160.0,44978.0,42836.0,39600.0,56000.0,112377.0,74963.0,51755.0,23242.5,54280.0,58486.0,14000.0,57758.5,30431.0,46531.0,31000.0,92939.0,31494.0,64013.0,39833.0,59000.0,56222.0,74963.0,50043.0,96048.0,21008.0,80000.0,32466.0,45000.0,62112.0,69608.0,56222.0,47250.0,77104.0,10649.0,37481.0,22305.0,68400.0,68116.0,39155.0,85182.0,27869.0,35689.5,92127.5,75498.0,121612.0,48190.0,13584.0,61647.0,40465.0,25218.5,66395.5,10200.0,54616.0,128507.0,35382.0,52474.0,53528.0,14781.0,77104.0,86197.0,119142.0,72490.0,26957.0,47895.0,20400.0,19547.0,48761.5,48190.0,92342.0,51403.0,42500.5,43191.0,40000.0,119111.5,27227.0,70406.0,35340.0,53545.0,45968.5,60791.5,52474.0,23399.0,59892.0,131157.0,90000.0,40742.0,41391.5,29590.0,44656.5,48000.0,83016.5,80690.0,25322.5,150000.0,37146.0,42000.0,35778.0,53703.0,76000.0,80961.5,80600.5,70888.0,55236.0,18984.0,75184.0,69277.0,33568.0,56790.0,101043.0,48742.0,32424.0,35140.0,27926.0,53642.5,86401.0,19000.0,45599.0,59073.0,38430.0,75184.0,62296.0,38803.5,81629.0,21523.0,41620.0,38561.0,53775.0,47557.0,29909.0,22692.5,185328.0,91295.0,129524.0,51555.0,76373.0,100000.0,23629.0,61597.5,20235.5,15583.0,55582.5,12898.0,44205.5,82703.0,73748.0,72600.0,87508.0,24003.0,52812.0,37447.0,46647.0,50481.0,52348.0,55851.0,38655.5,39740.0,48045.0,48225.0,85925.0,46813.5,28288.0,59073.0,32657.0,57230.0,133700.0,98960.0,36289.0,54494.0,30141.0,130000.0,48000.0,98015.0,82802.0,147500.0,86297.0],\"y0\":\" \",\"yaxis\":\"y\",\"type\":\"box\"},{\"alignmentgroup\":\"True\",\"boxpoints\":false,\"hovertemplate\":\"OrgSize=Just me - I am a freelancer, sole proprietor, etc.\\u003cbr\\u003eYear=%{x}\\u003cbr\\u003eMedianSalary=%{y}\\u003cextra\\u003e\\u003c\\u002fextra\\u003e\",\"legendgroup\":\"Just me - I am a freelancer, sole proprietor, etc.\",\"marker\":{\"color\":\"#FFD700\"},\"name\":\"Just me - I am a freelancer, sole proprietor, etc.\",\"notched\":false,\"offsetgroup\":\"Just me - I am a freelancer, sole proprietor, etc.\",\"orientation\":\"v\",\"showlegend\":true,\"x\":[2020,2020,2020,2020,2020,2020,2020,2020,2020,2020,2020,2020,2020,2020,2020,2020,2020,2020,2020,2020,2021,2021,2021,2021,2021,2021,2021,2021,2021,2021,2021,2021,2021,2021,2021,2021,2021,2021,2021,2021,2021,2021,2021,2021,2021,2021,2021,2021,2021,2021,2021,2021,2021,2021,2021,2021,2021,2021,2021,2021,2021,2021,2021,2021,2022,2022,2022,2022,2022,2022,2022,2022,2022,2022,2022,2022,2022,2022,2022,2022,2022,2022,2022,2022,2022,2022,2022,2022,2022,2022,2022,2022,2022,2022,2022,2023,2023,2023,2023,2023,2023,2023,2023,2023,2023,2023,2023,2023,2023,2023,2023,2023,2023,2023,2023,2023,2023,2023,2023,2023,2023,2023,2023,2023,2023,2023,2023,2023,2023,2023,2023,2023,2023,2023,2023,2023,2023,2024,2024,2024,2024,2024,2024,2024,2024,2024,2024,2024,2024,2024,2024,2024,2024,2024,2024,2024,2024,2024,2024,2024,2024,2024,2024,2024],\"x0\":\" \",\"xaxis\":\"x\",\"y\":[3882.0,70000.0,23153.0,104000.0,32474.0,32184.0,62400.0,46693.0,84192.0,42000.0,35080.0,12000.0,36000.0,98400.0,52000.0,22350.0,61835.0,100000.0,22200.0,2888.0,38400.0,21600.0,102000.0,91800.0,65000.0,43800.0,60000.0,180000.0,84000.0,22200.0,30000.0,66000.0,145000.0,148000.0,120000.0,4200.0,7875.0,115000.0,36000.0,18000.0,3600.0,24000.0,33000.0,120000.0,129000.0,36600.0,100000.0,18000.0,96000.0,19800.0,100000.0,240.0,48000.0,54000.0,12000.0,15600.0,24000.0,99000.0,64200.0,60000.0,46500.0,104000.0,83200.0,3000.0,120000.0,25200.0,48000.0,66000.0,27600.0,84000.0,36000.0,57888.0,90000.0,120000.0,37500.0,36000.0,52000.0,31200.0,89700.0,36000.0,30000.0,27600.0,52000.0,60000.0,45600.0,67200.0,12000.0,65000.0,31200.0,40000.0,90000.0,26400.0,122000.0,158000.0,125000.0,4124.0,65442.5,21418.0,42836.0,21424.0,32544.5,104092.0,96000.0,12000.0,28537.0,55686.5,79246.0,60605.0,2320.0,18175.0,6626.0,3475.0,19276.0,46594.0,5044.0,12851.0,1717.0,32946.0,21775.0,90613.0,179917.5,38282.0,6473.0,37127.0,44467.0,91026.0,77807.0,28378.5,1342.0,143281.0,32593.0,28757.0,14102.0,48000.0,122897.0,105000.0,5871.0,138738.5,5099.0,7459.5,34893.0,60000.0,35444.0,16111.0,75800.0,38398.0,77332.0,11963.0,2208.0,127288.0,8086.0,75184.0,91570.0,6187.0,56239.0,25893.0,38674.0,167125.0,15257.0,54541.5,20000.0,65343.0,45859.5,132500.0],\"y0\":\" \",\"yaxis\":\"y\",\"type\":\"box\"}],                        {\"template\":{\"data\":{\"histogram2dcontour\":[{\"type\":\"histogram2dcontour\",\"colorbar\":{\"outlinewidth\":0,\"ticks\":\"\"},\"colorscale\":[[0.0,\"#0d0887\"],[0.1111111111111111,\"#46039f\"],[0.2222222222222222,\"#7201a8\"],[0.3333333333333333,\"#9c179e\"],[0.4444444444444444,\"#bd3786\"],[0.5555555555555556,\"#d8576b\"],[0.6666666666666666,\"#ed7953\"],[0.7777777777777778,\"#fb9f3a\"],[0.8888888888888888,\"#fdca26\"],[1.0,\"#f0f921\"]]}],\"choropleth\":[{\"type\":\"choropleth\",\"colorbar\":{\"outlinewidth\":0,\"ticks\":\"\"}}],\"histogram2d\":[{\"type\":\"histogram2d\",\"colorbar\":{\"outlinewidth\":0,\"ticks\":\"\"},\"colorscale\":[[0.0,\"#0d0887\"],[0.1111111111111111,\"#46039f\"],[0.2222222222222222,\"#7201a8\"],[0.3333333333333333,\"#9c179e\"],[0.4444444444444444,\"#bd3786\"],[0.5555555555555556,\"#d8576b\"],[0.6666666666666666,\"#ed7953\"],[0.7777777777777778,\"#fb9f3a\"],[0.8888888888888888,\"#fdca26\"],[1.0,\"#f0f921\"]]}],\"heatmap\":[{\"type\":\"heatmap\",\"colorbar\":{\"outlinewidth\":0,\"ticks\":\"\"},\"colorscale\":[[0.0,\"#0d0887\"],[0.1111111111111111,\"#46039f\"],[0.2222222222222222,\"#7201a8\"],[0.3333333333333333,\"#9c179e\"],[0.4444444444444444,\"#bd3786\"],[0.5555555555555556,\"#d8576b\"],[0.6666666666666666,\"#ed7953\"],[0.7777777777777778,\"#fb9f3a\"],[0.8888888888888888,\"#fdca26\"],[1.0,\"#f0f921\"]]}],\"heatmapgl\":[{\"type\":\"heatmapgl\",\"colorbar\":{\"outlinewidth\":0,\"ticks\":\"\"},\"colorscale\":[[0.0,\"#0d0887\"],[0.1111111111111111,\"#46039f\"],[0.2222222222222222,\"#7201a8\"],[0.3333333333333333,\"#9c179e\"],[0.4444444444444444,\"#bd3786\"],[0.5555555555555556,\"#d8576b\"],[0.6666666666666666,\"#ed7953\"],[0.7777777777777778,\"#fb9f3a\"],[0.8888888888888888,\"#fdca26\"],[1.0,\"#f0f921\"]]}],\"contourcarpet\":[{\"type\":\"contourcarpet\",\"colorbar\":{\"outlinewidth\":0,\"ticks\":\"\"}}],\"contour\":[{\"type\":\"contour\",\"colorbar\":{\"outlinewidth\":0,\"ticks\":\"\"},\"colorscale\":[[0.0,\"#0d0887\"],[0.1111111111111111,\"#46039f\"],[0.2222222222222222,\"#7201a8\"],[0.3333333333333333,\"#9c179e\"],[0.4444444444444444,\"#bd3786\"],[0.5555555555555556,\"#d8576b\"],[0.6666666666666666,\"#ed7953\"],[0.7777777777777778,\"#fb9f3a\"],[0.8888888888888888,\"#fdca26\"],[1.0,\"#f0f921\"]]}],\"surface\":[{\"type\":\"surface\",\"colorbar\":{\"outlinewidth\":0,\"ticks\":\"\"},\"colorscale\":[[0.0,\"#0d0887\"],[0.1111111111111111,\"#46039f\"],[0.2222222222222222,\"#7201a8\"],[0.3333333333333333,\"#9c179e\"],[0.4444444444444444,\"#bd3786\"],[0.5555555555555556,\"#d8576b\"],[0.6666666666666666,\"#ed7953\"],[0.7777777777777778,\"#fb9f3a\"],[0.8888888888888888,\"#fdca26\"],[1.0,\"#f0f921\"]]}],\"mesh3d\":[{\"type\":\"mesh3d\",\"colorbar\":{\"outlinewidth\":0,\"ticks\":\"\"}}],\"scatter\":[{\"fillpattern\":{\"fillmode\":\"overlay\",\"size\":10,\"solidity\":0.2},\"type\":\"scatter\"}],\"parcoords\":[{\"type\":\"parcoords\",\"line\":{\"colorbar\":{\"outlinewidth\":0,\"ticks\":\"\"}}}],\"scatterpolargl\":[{\"type\":\"scatterpolargl\",\"marker\":{\"colorbar\":{\"outlinewidth\":0,\"ticks\":\"\"}}}],\"bar\":[{\"error_x\":{\"color\":\"#2a3f5f\"},\"error_y\":{\"color\":\"#2a3f5f\"},\"marker\":{\"line\":{\"color\":\"#E5ECF6\",\"width\":0.5},\"pattern\":{\"fillmode\":\"overlay\",\"size\":10,\"solidity\":0.2}},\"type\":\"bar\"}],\"scattergeo\":[{\"type\":\"scattergeo\",\"marker\":{\"colorbar\":{\"outlinewidth\":0,\"ticks\":\"\"}}}],\"scatterpolar\":[{\"type\":\"scatterpolar\",\"marker\":{\"colorbar\":{\"outlinewidth\":0,\"ticks\":\"\"}}}],\"histogram\":[{\"marker\":{\"pattern\":{\"fillmode\":\"overlay\",\"size\":10,\"solidity\":0.2}},\"type\":\"histogram\"}],\"scattergl\":[{\"type\":\"scattergl\",\"marker\":{\"colorbar\":{\"outlinewidth\":0,\"ticks\":\"\"}}}],\"scatter3d\":[{\"type\":\"scatter3d\",\"line\":{\"colorbar\":{\"outlinewidth\":0,\"ticks\":\"\"}},\"marker\":{\"colorbar\":{\"outlinewidth\":0,\"ticks\":\"\"}}}],\"scattermapbox\":[{\"type\":\"scattermapbox\",\"marker\":{\"colorbar\":{\"outlinewidth\":0,\"ticks\":\"\"}}}],\"scatterternary\":[{\"type\":\"scatterternary\",\"marker\":{\"colorbar\":{\"outlinewidth\":0,\"ticks\":\"\"}}}],\"scattercarpet\":[{\"type\":\"scattercarpet\",\"marker\":{\"colorbar\":{\"outlinewidth\":0,\"ticks\":\"\"}}}],\"carpet\":[{\"aaxis\":{\"endlinecolor\":\"#2a3f5f\",\"gridcolor\":\"white\",\"linecolor\":\"white\",\"minorgridcolor\":\"white\",\"startlinecolor\":\"#2a3f5f\"},\"baxis\":{\"endlinecolor\":\"#2a3f5f\",\"gridcolor\":\"white\",\"linecolor\":\"white\",\"minorgridcolor\":\"white\",\"startlinecolor\":\"#2a3f5f\"},\"type\":\"carpet\"}],\"table\":[{\"cells\":{\"fill\":{\"color\":\"#EBF0F8\"},\"line\":{\"color\":\"white\"}},\"header\":{\"fill\":{\"color\":\"#C8D4E3\"},\"line\":{\"color\":\"white\"}},\"type\":\"table\"}],\"barpolar\":[{\"marker\":{\"line\":{\"color\":\"#E5ECF6\",\"width\":0.5},\"pattern\":{\"fillmode\":\"overlay\",\"size\":10,\"solidity\":0.2}},\"type\":\"barpolar\"}],\"pie\":[{\"automargin\":true,\"type\":\"pie\"}]},\"layout\":{\"autotypenumbers\":\"strict\",\"colorway\":[\"#636efa\",\"#EF553B\",\"#00cc96\",\"#ab63fa\",\"#FFA15A\",\"#19d3f3\",\"#FF6692\",\"#B6E880\",\"#FF97FF\",\"#FECB52\"],\"font\":{\"color\":\"#2a3f5f\"},\"hovermode\":\"closest\",\"hoverlabel\":{\"align\":\"left\"},\"paper_bgcolor\":\"white\",\"plot_bgcolor\":\"#E5ECF6\",\"polar\":{\"bgcolor\":\"#E5ECF6\",\"angularaxis\":{\"gridcolor\":\"white\",\"linecolor\":\"white\",\"ticks\":\"\"},\"radialaxis\":{\"gridcolor\":\"white\",\"linecolor\":\"white\",\"ticks\":\"\"}},\"ternary\":{\"bgcolor\":\"#E5ECF6\",\"aaxis\":{\"gridcolor\":\"white\",\"linecolor\":\"white\",\"ticks\":\"\"},\"baxis\":{\"gridcolor\":\"white\",\"linecolor\":\"white\",\"ticks\":\"\"},\"caxis\":{\"gridcolor\":\"white\",\"linecolor\":\"white\",\"ticks\":\"\"}},\"coloraxis\":{\"colorbar\":{\"outlinewidth\":0,\"ticks\":\"\"}},\"colorscale\":{\"sequential\":[[0.0,\"#0d0887\"],[0.1111111111111111,\"#46039f\"],[0.2222222222222222,\"#7201a8\"],[0.3333333333333333,\"#9c179e\"],[0.4444444444444444,\"#bd3786\"],[0.5555555555555556,\"#d8576b\"],[0.6666666666666666,\"#ed7953\"],[0.7777777777777778,\"#fb9f3a\"],[0.8888888888888888,\"#fdca26\"],[1.0,\"#f0f921\"]],\"sequentialminus\":[[0.0,\"#0d0887\"],[0.1111111111111111,\"#46039f\"],[0.2222222222222222,\"#7201a8\"],[0.3333333333333333,\"#9c179e\"],[0.4444444444444444,\"#bd3786\"],[0.5555555555555556,\"#d8576b\"],[0.6666666666666666,\"#ed7953\"],[0.7777777777777778,\"#fb9f3a\"],[0.8888888888888888,\"#fdca26\"],[1.0,\"#f0f921\"]],\"diverging\":[[0,\"#8e0152\"],[0.1,\"#c51b7d\"],[0.2,\"#de77ae\"],[0.3,\"#f1b6da\"],[0.4,\"#fde0ef\"],[0.5,\"#f7f7f7\"],[0.6,\"#e6f5d0\"],[0.7,\"#b8e186\"],[0.8,\"#7fbc41\"],[0.9,\"#4d9221\"],[1,\"#276419\"]]},\"xaxis\":{\"gridcolor\":\"white\",\"linecolor\":\"white\",\"ticks\":\"\",\"title\":{\"standoff\":15},\"zerolinecolor\":\"white\",\"automargin\":true,\"zerolinewidth\":2},\"yaxis\":{\"gridcolor\":\"white\",\"linecolor\":\"white\",\"ticks\":\"\",\"title\":{\"standoff\":15},\"zerolinecolor\":\"white\",\"automargin\":true,\"zerolinewidth\":2},\"scene\":{\"xaxis\":{\"backgroundcolor\":\"#E5ECF6\",\"gridcolor\":\"white\",\"linecolor\":\"white\",\"showbackground\":true,\"ticks\":\"\",\"zerolinecolor\":\"white\",\"gridwidth\":2},\"yaxis\":{\"backgroundcolor\":\"#E5ECF6\",\"gridcolor\":\"white\",\"linecolor\":\"white\",\"showbackground\":true,\"ticks\":\"\",\"zerolinecolor\":\"white\",\"gridwidth\":2},\"zaxis\":{\"backgroundcolor\":\"#E5ECF6\",\"gridcolor\":\"white\",\"linecolor\":\"white\",\"showbackground\":true,\"ticks\":\"\",\"zerolinecolor\":\"white\",\"gridwidth\":2}},\"shapedefaults\":{\"line\":{\"color\":\"#2a3f5f\"}},\"annotationdefaults\":{\"arrowcolor\":\"#2a3f5f\",\"arrowhead\":0,\"arrowwidth\":1},\"geo\":{\"bgcolor\":\"white\",\"landcolor\":\"#E5ECF6\",\"subunitcolor\":\"white\",\"showland\":true,\"showlakes\":true,\"lakecolor\":\"white\"},\"title\":{\"x\":0.05},\"mapbox\":{\"style\":\"light\"}}},\"xaxis\":{\"anchor\":\"y\",\"domain\":[0.0,1.0],\"title\":{\"text\":\"Year\"},\"showgrid\":false},\"yaxis\":{\"anchor\":\"x\",\"domain\":[0.0,1.0],\"title\":{\"text\":\"Median Annual Salary (USD)\"},\"tickformat\":\",\",\"showgrid\":false},\"legend\":{\"title\":{\"text\":\"OrgSize\"},\"tracegroupgap\":0},\"title\":{\"text\":\"Org Size Salary Trends by Year\"},\"boxmode\":\"group\",\"font\":{\"color\":\"white\"},\"plot_bgcolor\":\"rgba(0,0,0,0)\",\"paper_bgcolor\":\"rgba(0,0,0,0)\",\"height\":600,\"width\":1100},                        {\"responsive\": true}                    ).then(function(){\n",
       "                            \n",
       "var gd = document.getElementById('6e3ff9c8-8467-4979-90bf-c705f6fabbdc');\n",
       "var x = new MutationObserver(function (mutations, observer) {{\n",
       "        var display = window.getComputedStyle(gd).display;\n",
       "        if (!display || display === 'none') {{\n",
       "            console.log([gd, 'removed!']);\n",
       "            Plotly.purge(gd);\n",
       "            observer.disconnect();\n",
       "        }}\n",
       "}});\n",
       "\n",
       "// Listen for the removal of the full notebook cells\n",
       "var notebookContainer = gd.closest('#notebook-container');\n",
       "if (notebookContainer) {{\n",
       "    x.observe(notebookContainer, {childList: true});\n",
       "}}\n",
       "\n",
       "// Listen for the clearing of the current output cell\n",
       "var outputEl = gd.closest('.output');\n",
       "if (outputEl) {{\n",
       "    x.observe(outputEl, {childList: true});\n",
       "}}\n",
       "\n",
       "                        })                };                });            </script>        </div>"
      ]
     },
     "metadata": {},
     "output_type": "display_data"
    }
   ],
   "source": [
    "import plotly.express as px\n",
    "\n",
    "color_sequence = ['#FFD700', '#FBC02D', '#FF8C00', '#FFA500', '#FFDAB9', '#FA8072', '#FFA07A', '#E9967A']\n",
    "\n",
    "# Group by Year and OrgSize to count number of participants\n",
    "orgsize_counts = (\n",
    "    filtered_df.groupby(['Year', 'OrgSize']).size().reset_index(name='Count')\n",
    ")\n",
    "\n",
    "# Create bar chart\n",
    "fig = px.bar(\n",
    "    orgsize_counts,\n",
    "    x='Year',\n",
    "    y='Count',\n",
    "    color='OrgSize',\n",
    "    title='Org Size Distribution by Year',\n",
    "    color_discrete_sequence=color_sequence\n",
    ")\n",
    "\n",
    "fig.update_layout(\n",
    "    plot_bgcolor='rgba(0,0,0,0)',\n",
    "    paper_bgcolor='rgba(0,0,0,0)',\n",
    "    font=dict(color='white'),\n",
    "    height=600,\n",
    "    width=1100\n",
    ")\n",
    "\n",
    "fig.update_xaxes(showgrid=False)\n",
    "fig.update_yaxes(showgrid=False)\n",
    "\n",
    "fig.show()\n",
    "import plotly.express as px\n",
    "\n",
    "# Ensure you're using the cleaned combined_median DataFrame\n",
    "fig = px.box(\n",
    "    combined_median,\n",
    "    x='Year',\n",
    "    y='MedianSalary',\n",
    "    color='OrgSize',\n",
    "    title='Org Size Salary Trends by Year',\n",
    "    color_discrete_sequence=color_sequence  # use your defined colors\n",
    ")\n",
    "# Remove outliers using IQR method\n",
    "Q1 = combined_median['MedianSalary'].quantile(0.25)\n",
    "Q3 = combined_median['MedianSalary'].quantile(0.75)\n",
    "IQR = Q3 - Q1\n",
    "\n",
    "filtered_combined = combined_median[\n",
    "    (combined_median['MedianSalary'] >= Q1 - 1.5 * IQR) &\n",
    "    (combined_median['MedianSalary'] <= Q3 + 1.5 * IQR)\n",
    "]\n",
    "\n",
    "# Now plot without outliers in data\n",
    "fig = px.box(\n",
    "    filtered_combined,\n",
    "    x='Year',\n",
    "    y='MedianSalary',\n",
    "    color='OrgSize',\n",
    "    title='Org Size Salary Trends by Year',\n",
    "    color_discrete_sequence=color_sequence,\n",
    "    points=False\n",
    ")\n",
    "\n",
    "fig.update_layout(\n",
    "    plot_bgcolor='rgba(0,0,0,0)',\n",
    "    paper_bgcolor='rgba(0,0,0,0)',\n",
    "    font=dict(color='white'),\n",
    "    height=600,\n",
    "    width=1100,\n",
    "    yaxis=dict(\n",
    "        tickformat=',',  # Use comma-separated full numbers (e.g. 60000 not 0.6M)\n",
    "        title='Median Annual Salary (USD)'\n",
    "    ),\n",
    "    xaxis=dict(\n",
    "        showgrid=False\n",
    "    ),\n",
    "    yaxis_showgrid=False\n",
    ")\n",
    "\n",
    "fig.show()"
   ]
  },
  {
   "cell_type": "code",
   "execution_count": 879,
   "id": "0e314e69-8215-45ca-9023-d9afbd4cd425",
   "metadata": {},
   "outputs": [],
   "source": [
    "# Remove outliers using IQR method\n",
    "Q1 = combined_median['MedianSalary'].quantile(0.25)\n",
    "Q3 = combined_median['MedianSalary'].quantile(0.75)\n",
    "IQR = Q3 - Q1\n",
    "\n",
    "filtered_combined = combined_median[\n",
    "    (combined_median['MedianSalary'] >= Q1 - 1.5 * IQR) &\n",
    "    (combined_median['MedianSalary'] <= Q3 + 1.5 * IQR)\n",
    "]\n",
    "\n",
    "# Now plot without outliers in data\n",
    "fig = px.box(\n",
    "    filtered_combined,\n",
    "    x='Year',\n",
    "    y='MedianSalary',\n",
    "    color='OrgSize',\n",
    "    title='Org Size Salary Trends by Year (Outliers Removed)',\n",
    "    color_discrete_sequence=color_sequence,\n",
    "    points=False\n",
    ")\n"
   ]
  },
  {
   "cell_type": "code",
   "execution_count": 883,
   "id": "25ada134-399a-4fde-a9c1-13cb8579e2a7",
   "metadata": {},
   "outputs": [
    {
     "ename": "TypeError",
     "evalue": "incompatible index of inserted column with frame index",
     "output_type": "error",
     "traceback": [
      "\u001b[1;31m---------------------------------------------------------------------------\u001b[0m",
      "\u001b[1;31mValueError\u001b[0m                                Traceback (most recent call last)",
      "File \u001b[1;32m~\\anaconda3\\Lib\\site-packages\\pandas\\core\\frame.py:12687\u001b[0m, in \u001b[0;36m_reindex_for_setitem\u001b[1;34m(value, index)\u001b[0m\n\u001b[0;32m  12686\u001b[0m \u001b[38;5;28;01mtry\u001b[39;00m:\n\u001b[1;32m> 12687\u001b[0m     reindexed_value \u001b[38;5;241m=\u001b[39m value\u001b[38;5;241m.\u001b[39mreindex(index)\u001b[38;5;241m.\u001b[39m_values\n\u001b[0;32m  12688\u001b[0m \u001b[38;5;28;01mexcept\u001b[39;00m \u001b[38;5;167;01mValueError\u001b[39;00m \u001b[38;5;28;01mas\u001b[39;00m err:\n\u001b[0;32m  12689\u001b[0m     \u001b[38;5;66;03m# raised in MultiIndex.from_tuples, see test_insert_error_msmgs\u001b[39;00m\n",
      "File \u001b[1;32m~\\anaconda3\\Lib\\site-packages\\pandas\\core\\series.py:5153\u001b[0m, in \u001b[0;36mSeries.reindex\u001b[1;34m(self, index, axis, method, copy, level, fill_value, limit, tolerance)\u001b[0m\n\u001b[0;32m   5136\u001b[0m \u001b[38;5;129m@doc\u001b[39m(\n\u001b[0;32m   5137\u001b[0m     NDFrame\u001b[38;5;241m.\u001b[39mreindex,  \u001b[38;5;66;03m# type: ignore[has-type]\u001b[39;00m\n\u001b[0;32m   5138\u001b[0m     klass\u001b[38;5;241m=\u001b[39m_shared_doc_kwargs[\u001b[38;5;124m\"\u001b[39m\u001b[38;5;124mklass\u001b[39m\u001b[38;5;124m\"\u001b[39m],\n\u001b[1;32m   (...)\u001b[0m\n\u001b[0;32m   5151\u001b[0m     tolerance\u001b[38;5;241m=\u001b[39m\u001b[38;5;28;01mNone\u001b[39;00m,\n\u001b[0;32m   5152\u001b[0m ) \u001b[38;5;241m-\u001b[39m\u001b[38;5;241m>\u001b[39m Series:\n\u001b[1;32m-> 5153\u001b[0m     \u001b[38;5;28;01mreturn\u001b[39;00m \u001b[38;5;28msuper\u001b[39m()\u001b[38;5;241m.\u001b[39mreindex(\n\u001b[0;32m   5154\u001b[0m         index\u001b[38;5;241m=\u001b[39mindex,\n\u001b[0;32m   5155\u001b[0m         method\u001b[38;5;241m=\u001b[39mmethod,\n\u001b[0;32m   5156\u001b[0m         copy\u001b[38;5;241m=\u001b[39mcopy,\n\u001b[0;32m   5157\u001b[0m         level\u001b[38;5;241m=\u001b[39mlevel,\n\u001b[0;32m   5158\u001b[0m         fill_value\u001b[38;5;241m=\u001b[39mfill_value,\n\u001b[0;32m   5159\u001b[0m         limit\u001b[38;5;241m=\u001b[39mlimit,\n\u001b[0;32m   5160\u001b[0m         tolerance\u001b[38;5;241m=\u001b[39mtolerance,\n\u001b[0;32m   5161\u001b[0m     )\n",
      "File \u001b[1;32m~\\anaconda3\\Lib\\site-packages\\pandas\\core\\generic.py:5610\u001b[0m, in \u001b[0;36mNDFrame.reindex\u001b[1;34m(self, labels, index, columns, axis, method, copy, level, fill_value, limit, tolerance)\u001b[0m\n\u001b[0;32m   5609\u001b[0m \u001b[38;5;66;03m# perform the reindex on the axes\u001b[39;00m\n\u001b[1;32m-> 5610\u001b[0m \u001b[38;5;28;01mreturn\u001b[39;00m \u001b[38;5;28mself\u001b[39m\u001b[38;5;241m.\u001b[39m_reindex_axes(\n\u001b[0;32m   5611\u001b[0m     axes, level, limit, tolerance, method, fill_value, copy\n\u001b[0;32m   5612\u001b[0m )\u001b[38;5;241m.\u001b[39m__finalize__(\u001b[38;5;28mself\u001b[39m, method\u001b[38;5;241m=\u001b[39m\u001b[38;5;124m\"\u001b[39m\u001b[38;5;124mreindex\u001b[39m\u001b[38;5;124m\"\u001b[39m)\n",
      "File \u001b[1;32m~\\anaconda3\\Lib\\site-packages\\pandas\\core\\generic.py:5633\u001b[0m, in \u001b[0;36mNDFrame._reindex_axes\u001b[1;34m(self, axes, level, limit, tolerance, method, fill_value, copy)\u001b[0m\n\u001b[0;32m   5632\u001b[0m ax \u001b[38;5;241m=\u001b[39m \u001b[38;5;28mself\u001b[39m\u001b[38;5;241m.\u001b[39m_get_axis(a)\n\u001b[1;32m-> 5633\u001b[0m new_index, indexer \u001b[38;5;241m=\u001b[39m ax\u001b[38;5;241m.\u001b[39mreindex(\n\u001b[0;32m   5634\u001b[0m     labels, level\u001b[38;5;241m=\u001b[39mlevel, limit\u001b[38;5;241m=\u001b[39mlimit, tolerance\u001b[38;5;241m=\u001b[39mtolerance, method\u001b[38;5;241m=\u001b[39mmethod\n\u001b[0;32m   5635\u001b[0m )\n\u001b[0;32m   5637\u001b[0m axis \u001b[38;5;241m=\u001b[39m \u001b[38;5;28mself\u001b[39m\u001b[38;5;241m.\u001b[39m_get_axis_number(a)\n",
      "File \u001b[1;32m~\\anaconda3\\Lib\\site-packages\\pandas\\core\\indexes\\base.py:4433\u001b[0m, in \u001b[0;36mIndex.reindex\u001b[1;34m(self, target, method, level, limit, tolerance)\u001b[0m\n\u001b[0;32m   4431\u001b[0m             indexer, _ \u001b[38;5;241m=\u001b[39m \u001b[38;5;28mself\u001b[39m\u001b[38;5;241m.\u001b[39mget_indexer_non_unique(target)\n\u001b[1;32m-> 4433\u001b[0m target \u001b[38;5;241m=\u001b[39m \u001b[38;5;28mself\u001b[39m\u001b[38;5;241m.\u001b[39m_wrap_reindex_result(target, indexer, preserve_names)\n\u001b[0;32m   4434\u001b[0m \u001b[38;5;28;01mreturn\u001b[39;00m target, indexer\n",
      "File \u001b[1;32m~\\anaconda3\\Lib\\site-packages\\pandas\\core\\indexes\\multi.py:2717\u001b[0m, in \u001b[0;36mMultiIndex._wrap_reindex_result\u001b[1;34m(self, target, indexer, preserve_names)\u001b[0m\n\u001b[0;32m   2716\u001b[0m \u001b[38;5;28;01mtry\u001b[39;00m:\n\u001b[1;32m-> 2717\u001b[0m     target \u001b[38;5;241m=\u001b[39m MultiIndex\u001b[38;5;241m.\u001b[39mfrom_tuples(target)\n\u001b[0;32m   2718\u001b[0m \u001b[38;5;28;01mexcept\u001b[39;00m \u001b[38;5;167;01mTypeError\u001b[39;00m:\n\u001b[0;32m   2719\u001b[0m     \u001b[38;5;66;03m# not all tuples, see test_constructor_dict_multiindex_reindex_flat\u001b[39;00m\n",
      "File \u001b[1;32m~\\anaconda3\\Lib\\site-packages\\pandas\\core\\indexes\\multi.py:222\u001b[0m, in \u001b[0;36mnames_compat.<locals>.new_meth\u001b[1;34m(self_or_cls, *args, **kwargs)\u001b[0m\n\u001b[0;32m    220\u001b[0m     kwargs[\u001b[38;5;124m\"\u001b[39m\u001b[38;5;124mnames\u001b[39m\u001b[38;5;124m\"\u001b[39m] \u001b[38;5;241m=\u001b[39m kwargs\u001b[38;5;241m.\u001b[39mpop(\u001b[38;5;124m\"\u001b[39m\u001b[38;5;124mname\u001b[39m\u001b[38;5;124m\"\u001b[39m)\n\u001b[1;32m--> 222\u001b[0m \u001b[38;5;28;01mreturn\u001b[39;00m meth(self_or_cls, \u001b[38;5;241m*\u001b[39margs, \u001b[38;5;241m*\u001b[39m\u001b[38;5;241m*\u001b[39mkwargs)\n",
      "File \u001b[1;32m~\\anaconda3\\Lib\\site-packages\\pandas\\core\\indexes\\multi.py:617\u001b[0m, in \u001b[0;36mMultiIndex.from_tuples\u001b[1;34m(cls, tuples, sortorder, names)\u001b[0m\n\u001b[0;32m    615\u001b[0m         tuples \u001b[38;5;241m=\u001b[39m np\u001b[38;5;241m.\u001b[39masarray(tuples\u001b[38;5;241m.\u001b[39m_values)\n\u001b[1;32m--> 617\u001b[0m     arrays \u001b[38;5;241m=\u001b[39m \u001b[38;5;28mlist\u001b[39m(lib\u001b[38;5;241m.\u001b[39mtuples_to_object_array(tuples)\u001b[38;5;241m.\u001b[39mT)\n\u001b[0;32m    618\u001b[0m \u001b[38;5;28;01melif\u001b[39;00m \u001b[38;5;28misinstance\u001b[39m(tuples, \u001b[38;5;28mlist\u001b[39m):\n",
      "File \u001b[1;32mlib.pyx:3029\u001b[0m, in \u001b[0;36mpandas._libs.lib.tuples_to_object_array\u001b[1;34m()\u001b[0m\n",
      "\u001b[1;31mValueError\u001b[0m: Buffer dtype mismatch, expected 'Python object' but got 'long long'",
      "\nThe above exception was the direct cause of the following exception:\n",
      "\u001b[1;31mTypeError\u001b[0m                                 Traceback (most recent call last)",
      "\u001b[1;32m~\\AppData\\Local\\Temp\\ipykernel_5940\\230463687.py\u001b[0m in \u001b[0;36m?\u001b[1;34m()\u001b[0m\n\u001b[0;32m      2\u001b[0m     \u001b[0mfiltered_df\u001b[0m\u001b[1;33m.\u001b[0m\u001b[0mgroupby\u001b[0m\u001b[1;33m(\u001b[0m\u001b[1;33m[\u001b[0m\u001b[1;34m'Year'\u001b[0m\u001b[1;33m,\u001b[0m \u001b[1;34m'OrgSize'\u001b[0m\u001b[1;33m]\u001b[0m\u001b[1;33m)\u001b[0m\u001b[1;33m.\u001b[0m\u001b[0msize\u001b[0m\u001b[1;33m(\u001b[0m\u001b[1;33m)\u001b[0m\u001b[1;33m.\u001b[0m\u001b[0mreset_index\u001b[0m\u001b[1;33m(\u001b[0m\u001b[0mname\u001b[0m\u001b[1;33m=\u001b[0m\u001b[1;34m'Count'\u001b[0m\u001b[1;33m)\u001b[0m\u001b[1;33m\u001b[0m\u001b[1;33m\u001b[0m\u001b[0m\n\u001b[0;32m      3\u001b[0m \u001b[1;33m)\u001b[0m\u001b[1;33m\u001b[0m\u001b[1;33m\u001b[0m\u001b[0m\n\u001b[0;32m      4\u001b[0m \u001b[1;33m\u001b[0m\u001b[0m\n\u001b[0;32m      5\u001b[0m \u001b[1;31m# Calculate total per year to get percentages\u001b[0m\u001b[1;33m\u001b[0m\u001b[1;33m\u001b[0m\u001b[0m\n\u001b[1;32m----> 6\u001b[1;33m \u001b[0morgsize_counts\u001b[0m\u001b[1;33m[\u001b[0m\u001b[1;34m'Percent'\u001b[0m\u001b[1;33m]\u001b[0m \u001b[1;33m=\u001b[0m \u001b[0morgsize_counts\u001b[0m\u001b[1;33m.\u001b[0m\u001b[0mgroupby\u001b[0m\u001b[1;33m(\u001b[0m\u001b[1;34m'Year'\u001b[0m\u001b[1;33m)\u001b[0m\u001b[1;33m[\u001b[0m\u001b[1;34m'Count'\u001b[0m\u001b[1;33m]\u001b[0m\u001b[1;33m.\u001b[0m\u001b[0mapply\u001b[0m\u001b[1;33m(\u001b[0m\u001b[1;32mlambda\u001b[0m \u001b[0mx\u001b[0m\u001b[1;33m:\u001b[0m \u001b[0mx\u001b[0m \u001b[1;33m/\u001b[0m \u001b[0mx\u001b[0m\u001b[1;33m.\u001b[0m\u001b[0msum\u001b[0m\u001b[1;33m(\u001b[0m\u001b[1;33m)\u001b[0m \u001b[1;33m*\u001b[0m \u001b[1;36m100\u001b[0m\u001b[1;33m)\u001b[0m\u001b[1;33m\u001b[0m\u001b[1;33m\u001b[0m\u001b[0m\n\u001b[0m\u001b[0;32m      7\u001b[0m \u001b[1;33m\u001b[0m\u001b[0m\n\u001b[0;32m      8\u001b[0m \u001b[1;31m# Plot percentage instead\u001b[0m\u001b[1;33m\u001b[0m\u001b[1;33m\u001b[0m\u001b[0m\n\u001b[0;32m      9\u001b[0m fig = px.bar(\n",
      "\u001b[1;32m~\\anaconda3\\Lib\\site-packages\\pandas\\core\\frame.py\u001b[0m in \u001b[0;36m?\u001b[1;34m(self, key, value)\u001b[0m\n\u001b[0;32m   4307\u001b[0m             \u001b[1;31m# Column to set is duplicated\u001b[0m\u001b[1;33m\u001b[0m\u001b[1;33m\u001b[0m\u001b[0m\n\u001b[0;32m   4308\u001b[0m             \u001b[0mself\u001b[0m\u001b[1;33m.\u001b[0m\u001b[0m_setitem_array\u001b[0m\u001b[1;33m(\u001b[0m\u001b[1;33m[\u001b[0m\u001b[0mkey\u001b[0m\u001b[1;33m]\u001b[0m\u001b[1;33m,\u001b[0m \u001b[0mvalue\u001b[0m\u001b[1;33m)\u001b[0m\u001b[1;33m\u001b[0m\u001b[1;33m\u001b[0m\u001b[0m\n\u001b[0;32m   4309\u001b[0m         \u001b[1;32melse\u001b[0m\u001b[1;33m:\u001b[0m\u001b[1;33m\u001b[0m\u001b[1;33m\u001b[0m\u001b[0m\n\u001b[0;32m   4310\u001b[0m             \u001b[1;31m# set column\u001b[0m\u001b[1;33m\u001b[0m\u001b[1;33m\u001b[0m\u001b[0m\n\u001b[1;32m-> 4311\u001b[1;33m             \u001b[0mself\u001b[0m\u001b[1;33m.\u001b[0m\u001b[0m_set_item\u001b[0m\u001b[1;33m(\u001b[0m\u001b[0mkey\u001b[0m\u001b[1;33m,\u001b[0m \u001b[0mvalue\u001b[0m\u001b[1;33m)\u001b[0m\u001b[1;33m\u001b[0m\u001b[1;33m\u001b[0m\u001b[0m\n\u001b[0m",
      "\u001b[1;32m~\\anaconda3\\Lib\\site-packages\\pandas\\core\\frame.py\u001b[0m in \u001b[0;36m?\u001b[1;34m(self, key, value)\u001b[0m\n\u001b[0;32m   4520\u001b[0m \u001b[1;33m\u001b[0m\u001b[0m\n\u001b[0;32m   4521\u001b[0m         \u001b[0mSeries\u001b[0m\u001b[1;33m/\u001b[0m\u001b[0mTimeSeries\u001b[0m \u001b[0mwill\u001b[0m \u001b[0mbe\u001b[0m \u001b[0mconformed\u001b[0m \u001b[0mto\u001b[0m \u001b[0mthe\u001b[0m \u001b[0mDataFrames\u001b[0m \u001b[0mindex\u001b[0m \u001b[0mto\u001b[0m\u001b[1;33m\u001b[0m\u001b[1;33m\u001b[0m\u001b[0m\n\u001b[0;32m   4522\u001b[0m         \u001b[0mensure\u001b[0m \u001b[0mhomogeneity\u001b[0m\u001b[1;33m.\u001b[0m\u001b[1;33m\u001b[0m\u001b[1;33m\u001b[0m\u001b[0m\n\u001b[0;32m   4523\u001b[0m         \"\"\"\n\u001b[1;32m-> 4524\u001b[1;33m         \u001b[0mvalue\u001b[0m\u001b[1;33m,\u001b[0m \u001b[0mrefs\u001b[0m \u001b[1;33m=\u001b[0m \u001b[0mself\u001b[0m\u001b[1;33m.\u001b[0m\u001b[0m_sanitize_column\u001b[0m\u001b[1;33m(\u001b[0m\u001b[0mvalue\u001b[0m\u001b[1;33m)\u001b[0m\u001b[1;33m\u001b[0m\u001b[1;33m\u001b[0m\u001b[0m\n\u001b[0m\u001b[0;32m   4525\u001b[0m \u001b[1;33m\u001b[0m\u001b[0m\n\u001b[0;32m   4526\u001b[0m         if (\n\u001b[0;32m   4527\u001b[0m             \u001b[0mkey\u001b[0m \u001b[1;32min\u001b[0m \u001b[0mself\u001b[0m\u001b[1;33m.\u001b[0m\u001b[0mcolumns\u001b[0m\u001b[1;33m\u001b[0m\u001b[1;33m\u001b[0m\u001b[0m\n",
      "\u001b[1;32m~\\anaconda3\\Lib\\site-packages\\pandas\\core\\frame.py\u001b[0m in \u001b[0;36m?\u001b[1;34m(self, value)\u001b[0m\n\u001b[0;32m   5259\u001b[0m         \u001b[1;32massert\u001b[0m \u001b[1;32mnot\u001b[0m \u001b[0misinstance\u001b[0m\u001b[1;33m(\u001b[0m\u001b[0mvalue\u001b[0m\u001b[1;33m,\u001b[0m \u001b[0mDataFrame\u001b[0m\u001b[1;33m)\u001b[0m\u001b[1;33m\u001b[0m\u001b[1;33m\u001b[0m\u001b[0m\n\u001b[0;32m   5260\u001b[0m         \u001b[1;32mif\u001b[0m \u001b[0mis_dict_like\u001b[0m\u001b[1;33m(\u001b[0m\u001b[0mvalue\u001b[0m\u001b[1;33m)\u001b[0m\u001b[1;33m:\u001b[0m\u001b[1;33m\u001b[0m\u001b[1;33m\u001b[0m\u001b[0m\n\u001b[0;32m   5261\u001b[0m             \u001b[1;32mif\u001b[0m \u001b[1;32mnot\u001b[0m \u001b[0misinstance\u001b[0m\u001b[1;33m(\u001b[0m\u001b[0mvalue\u001b[0m\u001b[1;33m,\u001b[0m \u001b[0mSeries\u001b[0m\u001b[1;33m)\u001b[0m\u001b[1;33m:\u001b[0m\u001b[1;33m\u001b[0m\u001b[1;33m\u001b[0m\u001b[0m\n\u001b[0;32m   5262\u001b[0m                 \u001b[0mvalue\u001b[0m \u001b[1;33m=\u001b[0m \u001b[0mSeries\u001b[0m\u001b[1;33m(\u001b[0m\u001b[0mvalue\u001b[0m\u001b[1;33m)\u001b[0m\u001b[1;33m\u001b[0m\u001b[1;33m\u001b[0m\u001b[0m\n\u001b[1;32m-> 5263\u001b[1;33m             \u001b[1;32mreturn\u001b[0m \u001b[0m_reindex_for_setitem\u001b[0m\u001b[1;33m(\u001b[0m\u001b[0mvalue\u001b[0m\u001b[1;33m,\u001b[0m \u001b[0mself\u001b[0m\u001b[1;33m.\u001b[0m\u001b[0mindex\u001b[0m\u001b[1;33m)\u001b[0m\u001b[1;33m\u001b[0m\u001b[1;33m\u001b[0m\u001b[0m\n\u001b[0m\u001b[0;32m   5264\u001b[0m \u001b[1;33m\u001b[0m\u001b[0m\n\u001b[0;32m   5265\u001b[0m         \u001b[1;32mif\u001b[0m \u001b[0mis_list_like\u001b[0m\u001b[1;33m(\u001b[0m\u001b[0mvalue\u001b[0m\u001b[1;33m)\u001b[0m\u001b[1;33m:\u001b[0m\u001b[1;33m\u001b[0m\u001b[1;33m\u001b[0m\u001b[0m\n\u001b[0;32m   5266\u001b[0m             \u001b[0mcom\u001b[0m\u001b[1;33m.\u001b[0m\u001b[0mrequire_length_match\u001b[0m\u001b[1;33m(\u001b[0m\u001b[0mvalue\u001b[0m\u001b[1;33m,\u001b[0m \u001b[0mself\u001b[0m\u001b[1;33m.\u001b[0m\u001b[0mindex\u001b[0m\u001b[1;33m)\u001b[0m\u001b[1;33m\u001b[0m\u001b[1;33m\u001b[0m\u001b[0m\n",
      "\u001b[1;32m~\\anaconda3\\Lib\\site-packages\\pandas\\core\\frame.py\u001b[0m in \u001b[0;36m?\u001b[1;34m(value, index)\u001b[0m\n\u001b[0;32m  12690\u001b[0m         \u001b[1;32mif\u001b[0m \u001b[1;32mnot\u001b[0m \u001b[0mvalue\u001b[0m\u001b[1;33m.\u001b[0m\u001b[0mindex\u001b[0m\u001b[1;33m.\u001b[0m\u001b[0mis_unique\u001b[0m\u001b[1;33m:\u001b[0m\u001b[1;33m\u001b[0m\u001b[1;33m\u001b[0m\u001b[0m\n\u001b[0;32m  12691\u001b[0m             \u001b[1;31m# duplicate axis\u001b[0m\u001b[1;33m\u001b[0m\u001b[1;33m\u001b[0m\u001b[0m\n\u001b[0;32m  12692\u001b[0m             \u001b[1;32mraise\u001b[0m \u001b[0merr\u001b[0m\u001b[1;33m\u001b[0m\u001b[1;33m\u001b[0m\u001b[0m\n\u001b[0;32m  12693\u001b[0m \u001b[1;33m\u001b[0m\u001b[0m\n\u001b[1;32m> 12694\u001b[1;33m         raise TypeError(\n\u001b[0m\u001b[0;32m  12695\u001b[0m             \u001b[1;34m\"incompatible index of inserted column with frame index\"\u001b[0m\u001b[1;33m\u001b[0m\u001b[1;33m\u001b[0m\u001b[0m\n\u001b[0;32m  12696\u001b[0m         \u001b[1;33m)\u001b[0m \u001b[1;32mfrom\u001b[0m \u001b[0merr\u001b[0m\u001b[1;33m\u001b[0m\u001b[1;33m\u001b[0m\u001b[0m\n\u001b[0;32m  12697\u001b[0m     \u001b[1;32mreturn\u001b[0m \u001b[0mreindexed_value\u001b[0m\u001b[1;33m,\u001b[0m \u001b[1;32mNone\u001b[0m\u001b[1;33m\u001b[0m\u001b[1;33m\u001b[0m\u001b[0m\n",
      "\u001b[1;31mTypeError\u001b[0m: incompatible index of inserted column with frame index"
     ]
    }
   ],
   "source": [
    "orgsize_counts = (\n",
    "    filtered_df.groupby(['Year', 'OrgSize']).size().reset_index(name='Count')\n",
    ")\n",
    "\n",
    "# Calculate total per year to get percentages\n",
    "orgsize_counts['Percent'] = orgsize_counts.groupby('Year')['Count'].apply(lambda x: x / x.sum() * 100)\n",
    "\n",
    "# Plot percentage instead\n",
    "fig = px.bar(\n",
    "    orgsize_counts,\n",
    "    x='Year',\n",
    "    y='Percent',\n",
    "    color='OrgSize',\n",
    "    title='Org Size Distribution by Year (Percentage)',\n",
    "    color_discrete_sequence=color_sequence\n",
    ")"
   ]
  },
  {
   "cell_type": "code",
   "execution_count": null,
   "id": "17ce8214-11f9-4de2-adeb-2e5c8343752e",
   "metadata": {},
   "outputs": [],
   "source": []
  }
 ],
 "metadata": {
  "kernelspec": {
   "display_name": "Python [conda env:base] *",
   "language": "python",
   "name": "conda-base-py"
  },
  "language_info": {
   "codemirror_mode": {
    "name": "ipython",
    "version": 3
   },
   "file_extension": ".py",
   "mimetype": "text/x-python",
   "name": "python",
   "nbconvert_exporter": "python",
   "pygments_lexer": "ipython3",
   "version": "3.12.7"
  }
 },
 "nbformat": 4,
 "nbformat_minor": 5
}
